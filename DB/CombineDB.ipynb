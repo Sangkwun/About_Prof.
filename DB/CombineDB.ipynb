{
 "cells": [
  {
   "cell_type": "code",
   "execution_count": 1,
   "metadata": {},
   "outputs": [],
   "source": [
    "import requests\n",
    "import json\n",
    "from bs4 import BeautifulSoup\n",
    "import time\n",
    "import re\n",
    "import pandas as pd\n",
    "import numpy as np\n",
    "from pymongo import MongoClient"
   ]
  },
  {
   "cell_type": "code",
   "execution_count": 2,
   "metadata": {},
   "outputs": [],
   "source": [
    "client = MongoClient()\n",
    "db = client.aboutdepart"
   ]
  },
  {
   "cell_type": "code",
   "execution_count": 3,
   "metadata": {},
   "outputs": [
    {
     "name": "stderr",
     "output_type": "stream",
     "text": [
      "/Users/seungheondoh/anaconda3/envs/python3.6/lib/python3.6/site-packages/ipykernel_launcher.py:1: DeprecationWarning: collection_names is deprecated. Use list_collection_names instead.\n",
      "  \"\"\"Entry point for launching an IPython kernel.\n"
     ]
    },
    {
     "data": {
      "text/plain": [
       "['scholar',\n",
       " 'wordname',\n",
       " 'excel',\n",
       " 'ResearchInterest',\n",
       " 'professors',\n",
       " 'profname',\n",
       " 'vector',\n",
       " 'finaldb',\n",
       " 'scholarworksfront',\n",
       " 'professor',\n",
       " 'profdata',\n",
       " 'aboutdepart',\n",
       " 'test1',\n",
       " 'Docdb',\n",
       " 'keyword']"
      ]
     },
     "execution_count": 3,
     "metadata": {},
     "output_type": "execute_result"
    }
   ],
   "source": [
    "db.collection_names()"
   ]
  },
  {
   "cell_type": "code",
   "execution_count": 76,
   "metadata": {
    "scrolled": false
   },
   "outputs": [],
   "source": [
    "scholarworksfront = list(db.scholarworksfront.find())"
   ]
  },
  {
   "cell_type": "code",
   "execution_count": 77,
   "metadata": {},
   "outputs": [],
   "source": [
    "excel = list(db.excel.find())"
   ]
  },
  {
   "cell_type": "code",
   "execution_count": 78,
   "metadata": {},
   "outputs": [
    {
     "data": {
      "text/plain": [
       "(270, 312)"
      ]
     },
     "execution_count": 78,
     "metadata": {},
     "output_type": "execute_result"
    }
   ],
   "source": [
    "len(excel), len(scholarworksfront)"
   ]
  },
  {
   "cell_type": "code",
   "execution_count": 79,
   "metadata": {},
   "outputs": [
    {
     "data": {
      "text/plain": [
       "{'_id': ObjectId('5bf80fb720c66c09bf8e09a6'),\n",
       " 'id': '55614074100',\n",
       " 'Name': 'Ahn, Sangjoon(안상준)',\n",
       " 'department': 'School of Mechanical, Aerospace and Nuclear Engineering(기계항공및원자력공학부)',\n",
       " 'ResearchInterest': 'Nuclear Fuel Performance Experiments & Modeling, Radiation Interactions with Matter, Thermophysical Investigation of Nuclear Materials, Nuclear Non-Proliferation Technology',\n",
       " 'Lab': 'UNIST RAdioactive NUclear Materials (URANUM) Laboratory',\n",
       " 'Website': 'http://uranum.unist.ac.kr',\n",
       " 'imglink': 'http://114.70.1.191/rims/upload/image/201508/user_profile_6744732668032989265113746.jpg'}"
      ]
     },
     "execution_count": 79,
     "metadata": {},
     "output_type": "execute_result"
    }
   ],
   "source": [
    "scholarworksfront[0]"
   ]
  },
  {
   "cell_type": "code",
   "execution_count": 80,
   "metadata": {},
   "outputs": [
    {
     "data": {
      "text/plain": [
       "{'_id': ObjectId('5bf6cfb01920755368add420'),\n",
       " 'Authors': ['Choi Y.R., Shepherd D.A.',\n",
       "  'Choi Y.R., Zahra S.A., Yoshikawa T., Han B.H.',\n",
       "  'Choi Y.R., Shepherd D.A.',\n",
       "  'Choi Y.R., Lévesque M., Shepherd D.A.',\n",
       "  'Choi Y.R., Phan P.H.',\n",
       "  'Choi Y.R., Yoshikawa T., Zahra S.A., Han B.H.',\n",
       "  'Choi Y.R., Zahra S.A., Yoshikawa T., Han B.H.',\n",
       "  'Choi Y.R., Lévesque M., Shepherd D.A.',\n",
       "  'Choi Y.R., Phan P.H.',\n",
       "  'Choi Y.R., Shepherd D.A.',\n",
       "  'Choi Y.R., Phan P.H.',\n",
       "  'Choi Y.R., Shepherd D.A.',\n",
       "  'Kim Y., Choi Y.'],\n",
       " 'Author Ids': ['56090930900;7201684101;',\n",
       "  '56090930900;7003264340;7402718134;7401726363;',\n",
       "  '56090930900;7201684101;',\n",
       "  '56090930900;7102530743;7201684101;',\n",
       "  '56090930900;6603833294;',\n",
       "  '56090930900;7402718134;7003264340;7401726363;',\n",
       "  '56090930900;7003264340;7402718134;7401726363;',\n",
       "  '56090930900;7102530743;7201684101;',\n",
       "  '56090930900;6603833294;',\n",
       "  '56090930900;7201684101;',\n",
       "  '56090930900;6603833294;',\n",
       "  '56090930900;7201684101;',\n",
       "  '55699519300;56090930900;'],\n",
       " 'Title': [\"Entrepreneurs' decisions to exploit opportunities\",\n",
       "  'Family ownership and R&D investment: The role of growth opportunities and business group membership',\n",
       "  \"Entrepreneurs' Decisions to Exploit Opportunities\",\n",
       "  'When should entrepreneurs expedite or delay opportunity exploitation?',\n",
       "  'Exploration, exploitation, and growth through new product development: The moderating effects of firm age and environmental adversity',\n",
       "  'Market-oriented institutional change and R&D investments: Do business groups enhance advantage?',\n",
       "  'Ownership structure, business group affiliation and R&D investments',\n",
       "  'When should entrepreneurs expedite or delay opportunity exploitation?',\n",
       "  'The influences of economic and technology policy on the dynamics of new firm formation',\n",
       "  'Stakeholder perceptions of age and other dimensions of newness',\n",
       "  'Dynamics of new firm formation: Impacts of economic and technology policy',\n",
       "  \"Entrepreneurs' decisions to exploit opportunities\",\n",
       "  'Strategic Types and Performances of Small Firms in Korea'],\n",
       " 'Year': ['2016',\n",
       "  '2015',\n",
       "  '2014',\n",
       "  '2014',\n",
       "  '2014',\n",
       "  '2014',\n",
       "  '2012',\n",
       "  '2008',\n",
       "  '2006',\n",
       "  '2005',\n",
       "  '2004',\n",
       "  '2004',\n",
       "  '1994'],\n",
       " 'Source title': ['Decision Making in Entrepreneurship: Selected Joint Papers of Dean A. Shepherd',\n",
       "  'Journal of Business Research',\n",
       "  'A Psychological Approach to Entrepreneurship: Selected Essays of Dean A. Shepherd',\n",
       "  'A Psychological Approach to Entrepreneurship: Selected Essays of Dean A. Shepherd',\n",
       "  'IEEE Transactions on Engineering Management',\n",
       "  'Journal of World Business',\n",
       "  '2012 IEEE 6th International Conference on Management of Innovation and Technology, ICMIT 2012',\n",
       "  'Journal of Business Venturing',\n",
       "  'Small Business Economics',\n",
       "  'Journal of Management',\n",
       "  'IEEE International Engineering Management Conference',\n",
       "  'Journal of Management',\n",
       "  'International Small Business Journal'],\n",
       " 'Volume': ['nan',\n",
       "  '68.0',\n",
       "  'nan',\n",
       "  'nan',\n",
       "  '61.0',\n",
       "  '49.0',\n",
       "  'nan',\n",
       "  '23.0',\n",
       "  '26.0',\n",
       "  '31.0',\n",
       "  '2.0',\n",
       "  '30.0',\n",
       "  '13.0'],\n",
       " 'Issue': ['nan',\n",
       "  '5.0',\n",
       "  'nan',\n",
       "  'nan',\n",
       "  '3.0',\n",
       "  '4.0',\n",
       "  'nan',\n",
       "  '3.0',\n",
       "  '5.0',\n",
       "  '4.0',\n",
       "  'nan',\n",
       "  '3.0',\n",
       "  '1.0'],\n",
       " 'Art- No-': ['nan',\n",
       "  'nan',\n",
       "  'nan',\n",
       "  'nan',\n",
       "  '6782316.0',\n",
       "  'nan',\n",
       "  '6225784.0',\n",
       "  'nan',\n",
       "  'nan',\n",
       "  'nan',\n",
       "  'nan',\n",
       "  'nan',\n",
       "  'nan'],\n",
       " 'Page start': ['3',\n",
       "  '1053',\n",
       "  '72',\n",
       "  '91',\n",
       "  '428',\n",
       "  '466',\n",
       "  '82',\n",
       "  '333',\n",
       "  '493',\n",
       "  '573',\n",
       "  '703',\n",
       "  '377',\n",
       "  '13'],\n",
       " 'Page end': ['21',\n",
       "  '1061',\n",
       "  '90',\n",
       "  '113',\n",
       "  '437',\n",
       "  '475',\n",
       "  '87',\n",
       "  '355',\n",
       "  '503',\n",
       "  '596',\n",
       "  '707',\n",
       "  '395',\n",
       "  '25'],\n",
       " 'Page count': ['nan',\n",
       "  'nan',\n",
       "  'nan',\n",
       "  'nan',\n",
       "  'nan',\n",
       "  'nan',\n",
       "  'nan',\n",
       "  'nan',\n",
       "  'nan',\n",
       "  'nan',\n",
       "  'nan',\n",
       "  'nan',\n",
       "  'nan'],\n",
       " 'Cited by': ['nan',\n",
       "  '11.0',\n",
       "  'nan',\n",
       "  'nan',\n",
       "  '3.0',\n",
       "  '11.0',\n",
       "  '1.0',\n",
       "  '61.0',\n",
       "  '30.0',\n",
       "  '98.0',\n",
       "  'nan',\n",
       "  '257.0',\n",
       "  '14.0'],\n",
       " 'DOI': ['10.4337/9781784716042',\n",
       "  '10.1016/j.jbusres.2014.10.007',\n",
       "  '10.4337/9781783479801.00010',\n",
       "  '10.4337/9781783479801.00011',\n",
       "  '10.1109/TEM.2014.2310633',\n",
       "  '10.1016/j.jwb.2013.10.002',\n",
       "  '10.1109/ICMIT.2012.6225784',\n",
       "  '10.1016/j.jbusvent.2006.11.001',\n",
       "  '10.1007/s11187-005-5989-2',\n",
       "  '10.1177/0149206304272294',\n",
       "  'nan',\n",
       "  '10.1016/j.jm.2003.04.002',\n",
       "  '10.1177/0266242694131001'],\n",
       " 'Link': ['https://www.scopus.com/inward/record.uri?eid=2-s2.0-85017366690&doi=10.4337%2f9781784716042&partnerID=40&md5=83a5bd43ddaffbb7bdc97030d2e287fa',\n",
       "  'https://www.scopus.com/inward/record.uri?eid=2-s2.0-84924440720&doi=10.1016%2fj.jbusres.2014.10.007&partnerID=40&md5=e7f767ec35b88b3e07b25ba0238e7f1d',\n",
       "  'https://www.scopus.com/inward/record.uri?eid=2-s2.0-84959079307&doi=10.4337%2f9781783479801.00010&partnerID=40&md5=8b6677e8de93e01116bf2fa89985d114',\n",
       "  'https://www.scopus.com/inward/record.uri?eid=2-s2.0-84959081104&doi=10.4337%2f9781783479801.00011&partnerID=40&md5=f6ebfa0a15cd9b723f8fabcaf706b1d0',\n",
       "  'https://www.scopus.com/inward/record.uri?eid=2-s2.0-84904768834&doi=10.1109%2fTEM.2014.2310633&partnerID=40&md5=1f8a0164622d2b37e851cbd09583e356',\n",
       "  'https://www.scopus.com/inward/record.uri?eid=2-s2.0-84908048663&doi=10.1016%2fj.jwb.2013.10.002&partnerID=40&md5=772e7c15ba12b5e874a044d482888318',\n",
       "  'https://www.scopus.com/inward/record.uri?eid=2-s2.0-84864247025&doi=10.1109%2fICMIT.2012.6225784&partnerID=40&md5=b7453f8467acee089a85d48133d72e2f',\n",
       "  'https://www.scopus.com/inward/record.uri?eid=2-s2.0-39749086272&doi=10.1016%2fj.jbusvent.2006.11.001&partnerID=40&md5=3b05280b17e8df414df384132fdfb140',\n",
       "  'https://www.scopus.com/inward/record.uri?eid=2-s2.0-33746791542&doi=10.1007%2fs11187-005-5989-2&partnerID=40&md5=606b848b2526afc4e964d2e8b876a62e',\n",
       "  'https://www.scopus.com/inward/record.uri?eid=2-s2.0-23644448941&doi=10.1177%2f0149206304272294&partnerID=40&md5=8fffe77058d555a19055e95f2912744b',\n",
       "  'https://www.scopus.com/inward/record.uri?eid=2-s2.0-17644391442&partnerID=40&md5=5d1816770a26406a114fcd1a54970446',\n",
       "  'https://www.scopus.com/inward/record.uri?eid=2-s2.0-1842501974&doi=10.1016%2fj.jm.2003.04.002&partnerID=40&md5=b17110bf29d28be8a69ce833b74c18aa',\n",
       "  'https://www.scopus.com/inward/record.uri?eid=2-s2.0-84973818308&doi=10.1177%2f0266242694131001&partnerID=40&md5=c149b902fa9ffe6b8744e5fb6010b973'],\n",
       " 'Affiliations': ['School of Business, Singapore Management University, 469 Bukit Timah Road, Singapore, 259756, Singapore; Leeds School of Business, University of Colorado at Boulder, Boulder, CO  80309-0419, United States',\n",
       "  'Division of Engineering and Technology Management, Faculty of Engineering, National University of Singapore, 9 Engineering Drive 1, Singapore, 117576, Singapore; Carlson School of Management, University of Minnesota, 321 19th Ave. South, Minneapolis, MN  55455, United States; Lee Kong Chian School of Business, Singapore Management University, 50 Stamford Road, Singapore, 178899, Singapore; College of Business Administration, Ajou University, Suwon, 443-749, South Korea',\n",
       "  'School of Business, Singapore Management University, 469 Bukit Timah Road259756, Singapore; Leeds School of Business, University of Colorado at Boulder, Boulder, CO  S0309-0419, United States',\n",
       "  'Lee Kong Chian School of Business, Singapore Management University, 50 Stamford Road178899, Singapore; School of Engineering, University of Waterloo, 200 University Avenue West, Waterloo, ON  N2L 3G1, Canada; Ketley School of Business, Indiana University, 1309 East Tenth Street, Bloomington, IN  47405-1701, United States',\n",
       "  'Division of Engineering and Technology Management, Faculty of Engineering, National University of Singapore, Singapore 117576, Singapore; Carey Business School, Johns Hopkins University, Baltimore, MD 21201, United States',\n",
       "  'Division of Engineering and oTechnology Management, Faculty of Engineering, National University of Singapore, 9 Engineering Drive 1117576, Singapore; Lee Kong Chian School of Business, Singapore Management University, 50 Stamford Road178899, Singapore; Carlson School of Management, University of Minnesota, 321 19th Avenue South, Minneapolis, MN  55455, United States; College of Business Administration, Ajou University, Suwon, 443-749, South Korea',\n",
       "  'Division of Engineering Technology Management, National University of Singapore, Singapore, Singapore; Carlson School of Management, University of Minnesota, United States; Lee Kong Chian School of Business, Singapore Management University, Singapore, Singapore; College of Business Administration, Ajou University, South Korea',\n",
       "  'Lee Kong Chian School of Business, Singapore Management University, 50 Stamford Road, 178899, Singapore; School of Engineering, University of Waterloo, 200 University Avenue West, Waterloo, Ont. N2L 3G1, Canada; Kelley School of Business, Indiana University, 1309 East Tenth Street, Bloomington, IN 47405-1701, United States',\n",
       "  'Lee Kong Chian School of Business, Singapore Management University, 469 Bukit Timah Road, 259756 Singapore, Singapore; Lally School of Management and Technology, Rensselaer Polytechnic Institute, 110 8th Street, Troy, NY 12180-3590, United States',\n",
       "  'Lee Kong Chian School of Business, Singapore Management University, 50 Stamford Road, Singapore 178899, Singapore; Kelley School of Business, Indiana University, Bloomington, IN 47405-1701, United States',\n",
       "  'School of Business, Singapore Management University, Singapore, Singapore; Lally Sch. of Mgmt. and Technology, Rensselaer Polytechnic Institute, United States',\n",
       "  'School of Business, Singapore Management University, 469 Bukit Timah Road, Singapore 259756, Singapore; Leeds School of Business, University of Colorado at Boulder, Boulder, CO 80309-0419, United States',\n",
       "  'nan'],\n",
       " 'Authors with affiliations': ['Choi, Y.R., School of Business, Singapore Management University, 469 Bukit Timah Road, Singapore, 259756, Singapore; Shepherd, D.A., Leeds School of Business, University of Colorado at Boulder, Boulder, CO  80309-0419, United States',\n",
       "  'Choi, Y.R., Division of Engineering and Technology Management, Faculty of Engineering, National University of Singapore, 9 Engineering Drive 1, Singapore, 117576, Singapore; Zahra, S.A., Carlson School of Management, University of Minnesota, 321 19th Ave. South, Minneapolis, MN  55455, United States; Yoshikawa, T., Lee Kong Chian School of Business, Singapore Management University, 50 Stamford Road, Singapore, 178899, Singapore; Han, B.H., College of Business Administration, Ajou University, Suwon, 443-749, South Korea',\n",
       "  'Choi, Y.R., School of Business, Singapore Management University, 469 Bukit Timah Road259756, Singapore; Shepherd, D.A., Leeds School of Business, University of Colorado at Boulder, Boulder, CO  S0309-0419, United States',\n",
       "  'Choi, Y.R., Lee Kong Chian School of Business, Singapore Management University, 50 Stamford Road178899, Singapore; Lévesque, M., School of Engineering, University of Waterloo, 200 University Avenue West, Waterloo, ON  N2L 3G1, Canada; Shepherd, D.A., Ketley School of Business, Indiana University, 1309 East Tenth Street, Bloomington, IN  47405-1701, United States',\n",
       "  'Choi, Y.R., Division of Engineering and Technology Management, Faculty of Engineering, National University of Singapore, Singapore 117576, Singapore; Phan, P.H., Carey Business School, Johns Hopkins University, Baltimore, MD 21201, United States',\n",
       "  'Choi, Y.R., Division of Engineering and oTechnology Management, Faculty of Engineering, National University of Singapore, 9 Engineering Drive 1117576, Singapore; Yoshikawa, T., Lee Kong Chian School of Business, Singapore Management University, 50 Stamford Road178899, Singapore; Zahra, S.A., Carlson School of Management, University of Minnesota, 321 19th Avenue South, Minneapolis, MN  55455, United States; Han, B.H., College of Business Administration, Ajou University, Suwon, 443-749, South Korea',\n",
       "  'Choi, Y.R., Division of Engineering Technology Management, National University of Singapore, Singapore, Singapore; Zahra, S.A., Carlson School of Management, University of Minnesota, United States; Yoshikawa, T., Lee Kong Chian School of Business, Singapore Management University, Singapore, Singapore; Han, B.H., College of Business Administration, Ajou University, South Korea',\n",
       "  'Choi, Y.R., Lee Kong Chian School of Business, Singapore Management University, 50 Stamford Road, 178899, Singapore; Lévesque, M., School of Engineering, University of Waterloo, 200 University Avenue West, Waterloo, Ont. N2L 3G1, Canada; Shepherd, D.A., Kelley School of Business, Indiana University, 1309 East Tenth Street, Bloomington, IN 47405-1701, United States',\n",
       "  'Choi, Y.R., Lee Kong Chian School of Business, Singapore Management University, 469 Bukit Timah Road, 259756 Singapore, Singapore; Phan, P.H., Lally School of Management and Technology, Rensselaer Polytechnic Institute, 110 8th Street, Troy, NY 12180-3590, United States',\n",
       "  'Choi, Y.R., Lee Kong Chian School of Business, Singapore Management University, 50 Stamford Road, Singapore 178899, Singapore; Shepherd, D.A., Kelley School of Business, Indiana University, Bloomington, IN 47405-1701, United States',\n",
       "  'Choi, Y.R., School of Business, Singapore Management University, Singapore, Singapore; Phan, P.H., Lally Sch. of Mgmt. and Technology, Rensselaer Polytechnic Institute, United States',\n",
       "  'Choi, Y.R., School of Business, Singapore Management University, 469 Bukit Timah Road, Singapore 259756, Singapore; Shepherd, D.A., Leeds School of Business, University of Colorado at Boulder, Boulder, CO 80309-0419, United States',\n",
       "  'Kim, Y.; Choi, Y.'],\n",
       " 'Abstract': [\"Entrepreneurs' decisions to exploit opportunities\",\n",
       "  'This study examines whether the influence of family ownership on R&D investment varies depending on growth opportunities and business group membership. Using data on Korean firms over ten years (1998-2007), the study shows that family ownership is negatively related to R&D investment, but the relationship becomes positive when growth opportunities are present. The moderating effect, however, differs between independent family firms and family business groups. The positive influence that growth opportunities have on promoting R&D investment is diminished for affiliates of family business groups. These findings imply that family owners invest more in R&D when their family control goals are threatened by the loss of growth potential. The empirical results of this study and its behavioral decision-making model help to bridge the gap between the predictions of the family control perspective and agency theory in explaining R&D investment by family firms in an emerging economy. © 2014 Elsevier Inc.',\n",
       "  \"Opportunity exploitation is a necessary step in creating a successful business in the en- trepreneurial process, yet there has been little conceptual and empirical development of this issue in the literature. This study examines the decisions of entrepreneurs to begin exploiting business opportunities from a resource-based view. Our analysis of a sample of entrepreneurs whose businesses are located in incubators suggests that entrepreneurs are more likely to exploit opportunities when they perceive more knowledge of customer demand for the new product, more fully developed necessary technologies, greater managerial capability, and greater stakeholder support. Moreover, the findings of this study shed a light on a less empha- sized aspect of the resource-based view: the new product's anticipated lead time acts as an enhancing moderator in entrepreneurs' exploitation decision policies. Implications for future research on opportunity exploitation are discussed. © Dean A. Shepherd 2014. All rights reserved.\",\n",
       "  'We theorize on the performance implications of the timing at which entrepreneurs stop exploring their business opportunities and start exploiting them. Using an optimal-stopping approach, wc characterize the time when exploitation should begin based primarily on when an entrepreneur\\'s ignorance has been sufficiently reduced through knowledge accumulation. This \"ignorance threshold\" captures a tradeoff between the time needed to increase legitimacy and the necessity to act now to minimize competition. Changes in legitimacy and competition arc based on how entrepreneurs manage their knowledge (tacit versus explicit) under differing degrees of novelty for the business opportunity. These changes, in turn, impact the performance and timing of opportunity exploitation. © Dean A. Shepherd 2014. All rights reserved.',\n",
       "  'This study investigates how firm age and environmental adversity influence exploration and exploitation and whether the balance between them increases new product development. We also examine if new product development in new and mature firms leads to equivalent growth rates. Empirical results obtained from a survey of small- and medium-sized technology-based manufacturing firms in Korea show that while relative exploration generally remains lower in mature firms than in new firms, it more rapidly increases in mature firms when they operate in adverse environments. Interestingly, our results show that mature firms achieve lower growth rates through new product development than new firms in adverse environments. These empirical findings advance our understanding of the age-dependent antecedents and consequences of new product development. © 1988-2012 IEEE.',\n",
       "  \"Emerging market firms (EMFs) are increasingly relying on innovation to find their competitive advantage, but our understanding of how institutional change affects firm innovation has been limited. We analyzed Korean manufacturing firms from 1994 to 2006 to test the proposition that market-oriented institutional change in an emerging economy alleviates firms' financing constraints and monitoring problems and improves the effectiveness of their innovation activities. Institutional evolution in the economy was found to affect Korean business groups and independent firms differently. Institutional change reduced the financing constraints on independent firms more than for business group affiliates in R&D investment. Independent firms, however, appeared less capable than group affiliates of translating the benefits of improved institutional environments into efficient R&D investment. This asymmetry may lead to a wider gap in the efficiency of R&D investment between business group affiliates and independent firms. © 2013 Elsevier Inc.\",\n",
       "  \"Existing governance theories offer contrasting views on the potential effect that controlling owners have on a firm's innovation investment decisions: the stewardship perspective suggests a positive influence, whereas the principal-principal (PP) conflict perspective posits a negative influence. In this study, we attempt to reconcile these views. We propose that business group affiliation determines the extent to which the interests of controlling owners and affiliated firms are congruent, and may motivate controlling owners to behave opportunistically. Our analysis of Korean companies shows that controlling owners of independent firms significantly promote R&D investments, particularly when growth opportunities are plentiful. However, the relationship becomes much weaker for business group affiliates. © 2012 IEEE.\",\n",
       "  'We theorize on the performance implications of the timing at which entrepreneurs stop exploring their business opportunities and start exploiting them. Using an optimal-stopping approach, we characterize the time when exploitation should begin based primarily on when an entrepreneur\\'s ignorance has been sufficiently reduced through knowledge accumulation. This \"ignorance threshold\" captures a tradeoff between the time needed to increase legitimacy and the necessity to act now to minimize competition. Changes in legitimacy and competition are based on how entrepreneurs manage their knowledge (tacit versus explicit) under differing degrees of novelty for the business opportunity. These changes, in turn, impact the performance and timing of opportunity exploitation. © 2006 Elsevier Inc. All rights reserved.',\n",
       "  'This study attempts to reveal how macroeconomic and technology policies that encompass the opportunity and individual drivers of entrepreneurship explain the dynamics of new firm formation in a country. To do so we rely on the Schumpeterian, industrial organization, and labor economics traditions of entrepreneurship, and performed an exploratory test with longitudinal U.S. data from 1968 to 1993. The results of this study suggest that R&D investments, patents, economic concentration, pro-competition policy, and labor mobility are important areas in which government policy can influence the intensity of new firm formation. © Springer 2006.',\n",
       "  \"Using verbal protocol and conjoint analyses, this study examines how stakeholders assess an organization in deciding whether to provide their support to it. The authors find that stakeholders' support depends on their perceptions of an organization's age and other dimensions of newness related to addressing management challenges of adaptation - the entrepreneurial problem, the engineering problem, and the administrative problem. Stakeholder support is more likely for those organizations that are old, cognitively legitimate, affectively congruent, reliable, accountable, and strategically flexible. The authors conclude with theoretical implications for scholars and practical implications for resource acquisition in various contexts of entrepreneurship. © 2005 Southern Management Association. All rights reserved.\",\n",
       "  \"This study investigates how entrepreneurial policies that encompass opportunity, individual, and resource aspects of entrepreneurship explain dynamics of new firm formation in a country. We rely on the Schumpeterian, industrial organization economics, and organizational ecology traditions, and performed an exploratory test with a longitudinal U.S. data (1968-1993). The results of this study suggest that technological knowledge capital, economic opportunity structure, labor mobility, and a nation's carrying capacity for entrepreneurial activities are important areas in which government policy can positively influence the intensity of new firm formation. © 2004 IEEE.\",\n",
       "  \"Opportunity exploitation is a necessary step in creating a successful business in the entrepreneurial process, yet there has been little conceptual and empirical development of this issue in the literature. This study examines the decisions of entrepreneurs to begin exploiting business opportunities from a resource-based view. Our analysis of a sample of entrepreneurs whose businesses are located in incubators suggests that entrepreneurs are more likely to exploit opportunities when they perceive more knowledge of customer demand for the new product, more fully developed necessary technologies, greater managerial capability, and greater stakeholder support. Moreover, the findings of this study shed a light on a less emphasized aspect of the resource-based view: the new product's anticipated lead time acts as an enhancing moderator in entrepreneurs' exploitation decision policies. Implications for future research on opportunity exploitation are discussed. © 2003 Elsevier Inc. All rights reserved.\",\n",
       "  'YOUNGBAE KIM IS AN ASSISTANT professor of management and policy in the Korea Advanced Institute of Science and Technology, Taejon, South Korea and Youngrok Choi is a researcher in the nuclear policy division of the Korea Atomic Energy Research Institute, Taejon, Korea. This study attempts to identify the patterns of strategic behaviour of small firms in Korea in conjunction with their performance. Based on the data from 79 small firms across four industries, the results reveal that there appear to be four common strategic attributes cost efficiency, innovative differentiation, marketing differentiation, and asset parsimony and five strategic types of firms which have distinct combinations of these strategic attributes innovative, versatile, marginal, and reactive types. Each type of firm was also found to have different organisational characteristics and performance level. Finally, this study discusses the comparative management issue in the field of strategic management and offers some practical implications for managers of small firms. © 1994, Sage Publications. All rights reserved.'],\n",
       " 'Author Keywords': ['nan',\n",
       "  'Behavioral decision-making; Business groups; Family ownership; Growth opportunities; R&D investment',\n",
       "  'nan',\n",
       "  'Ignorance reduction; Knowledge management; Opportunity exploitation; Optimal stopping; Timing of exploitation',\n",
       "  'Adverse environments; exploitation; exploration; firm age; firm growth; new product development',\n",
       "  'Business groups; Financing constraints; Governance reforms; Institutional change; Research and development',\n",
       "  'business group; controlling ownership; R&D investments',\n",
       "  'Ignorance reduction; Knowledge management; Opportunity exploitation; Optimal stopping; Timing of exploitation',\n",
       "  'Entrepreneurial policy; Government; New firm formation',\n",
       "  'Asset of newness; Entrepreneurship; Liability of newness; Stakeholder theory',\n",
       "  'Entrepreneurship; New firm; Policy',\n",
       "  'nan',\n",
       "  'nan'],\n",
       " 'Document Type': ['Book Chapter',\n",
       "  'Article',\n",
       "  'Book Chapter',\n",
       "  'Book Chapter',\n",
       "  'Article',\n",
       "  'Article',\n",
       "  'Conference Paper',\n",
       "  'Article',\n",
       "  'Review',\n",
       "  'Article',\n",
       "  'Conference Paper',\n",
       "  'Article',\n",
       "  'Article'],\n",
       " 'Access Type': ['Open Access',\n",
       "  'nan',\n",
       "  'nan',\n",
       "  'nan',\n",
       "  'nan',\n",
       "  'nan',\n",
       "  'nan',\n",
       "  'nan',\n",
       "  'nan',\n",
       "  'nan',\n",
       "  'nan',\n",
       "  'nan',\n",
       "  'nan'],\n",
       " 'Source': ['Scopus',\n",
       "  'Scopus',\n",
       "  'Scopus',\n",
       "  'Scopus',\n",
       "  'Scopus',\n",
       "  'Scopus',\n",
       "  'Scopus',\n",
       "  'Scopus',\n",
       "  'Scopus',\n",
       "  'Scopus',\n",
       "  'Scopus',\n",
       "  'Scopus',\n",
       "  'Scopus'],\n",
       " 'EID': ['2-s2.0-85017366690',\n",
       "  '2-s2.0-84924440720',\n",
       "  '2-s2.0-84959079307',\n",
       "  '2-s2.0-84959081104',\n",
       "  '2-s2.0-84904768834',\n",
       "  '2-s2.0-84908048663',\n",
       "  '2-s2.0-84864247025',\n",
       "  '2-s2.0-39749086272',\n",
       "  '2-s2.0-33746791542',\n",
       "  '2-s2.0-23644448941',\n",
       "  '2-s2.0-17644391442',\n",
       "  '2-s2.0-1842501974',\n",
       "  '2-s2.0-84973818308'],\n",
       " 'filename': 'ChoiYoungRok'}"
      ]
     },
     "execution_count": 80,
     "metadata": {},
     "output_type": "execute_result"
    }
   ],
   "source": [
    "excel[0]"
   ]
  },
  {
   "cell_type": "code",
   "execution_count": 81,
   "metadata": {
    "scrolled": true
   },
   "outputs": [],
   "source": [
    "from collections import Counter\n",
    "excel_list = []\n",
    "error_dict = {}\n",
    "for idx, i in enumerate(excel):\n",
    "    test = []\n",
    "    try:\n",
    "        for t in i['Author Ids']:\n",
    "            j = t.split(\";\")\n",
    "            for k in j:\n",
    "                if len(k) > 1:\n",
    "                    test.append(k)\n",
    "                    count = Counter(test)\n",
    "        excel_list.append(count.most_common(1)[0][0])\n",
    "        count.clear()\n",
    "    except:\n",
    "        error_list.append(i)"
   ]
  },
  {
   "cell_type": "code",
   "execution_count": 82,
   "metadata": {},
   "outputs": [
    {
     "data": {
      "text/plain": [
       "{'_id': ObjectId('5bf6cfb01920755368add420'),\n",
       " 'Authors': ['Choi Y.R., Shepherd D.A.',\n",
       "  'Choi Y.R., Zahra S.A., Yoshikawa T., Han B.H.',\n",
       "  'Choi Y.R., Shepherd D.A.',\n",
       "  'Choi Y.R., Lévesque M., Shepherd D.A.',\n",
       "  'Choi Y.R., Phan P.H.',\n",
       "  'Choi Y.R., Yoshikawa T., Zahra S.A., Han B.H.',\n",
       "  'Choi Y.R., Zahra S.A., Yoshikawa T., Han B.H.',\n",
       "  'Choi Y.R., Lévesque M., Shepherd D.A.',\n",
       "  'Choi Y.R., Phan P.H.',\n",
       "  'Choi Y.R., Shepherd D.A.',\n",
       "  'Choi Y.R., Phan P.H.',\n",
       "  'Choi Y.R., Shepherd D.A.',\n",
       "  'Kim Y., Choi Y.'],\n",
       " 'Author Ids': ['56090930900;7201684101;',\n",
       "  '56090930900;7003264340;7402718134;7401726363;',\n",
       "  '56090930900;7201684101;',\n",
       "  '56090930900;7102530743;7201684101;',\n",
       "  '56090930900;6603833294;',\n",
       "  '56090930900;7402718134;7003264340;7401726363;',\n",
       "  '56090930900;7003264340;7402718134;7401726363;',\n",
       "  '56090930900;7102530743;7201684101;',\n",
       "  '56090930900;6603833294;',\n",
       "  '56090930900;7201684101;',\n",
       "  '56090930900;6603833294;',\n",
       "  '56090930900;7201684101;',\n",
       "  '55699519300;56090930900;'],\n",
       " 'Title': [\"Entrepreneurs' decisions to exploit opportunities\",\n",
       "  'Family ownership and R&D investment: The role of growth opportunities and business group membership',\n",
       "  \"Entrepreneurs' Decisions to Exploit Opportunities\",\n",
       "  'When should entrepreneurs expedite or delay opportunity exploitation?',\n",
       "  'Exploration, exploitation, and growth through new product development: The moderating effects of firm age and environmental adversity',\n",
       "  'Market-oriented institutional change and R&D investments: Do business groups enhance advantage?',\n",
       "  'Ownership structure, business group affiliation and R&D investments',\n",
       "  'When should entrepreneurs expedite or delay opportunity exploitation?',\n",
       "  'The influences of economic and technology policy on the dynamics of new firm formation',\n",
       "  'Stakeholder perceptions of age and other dimensions of newness',\n",
       "  'Dynamics of new firm formation: Impacts of economic and technology policy',\n",
       "  \"Entrepreneurs' decisions to exploit opportunities\",\n",
       "  'Strategic Types and Performances of Small Firms in Korea'],\n",
       " 'Year': ['2016',\n",
       "  '2015',\n",
       "  '2014',\n",
       "  '2014',\n",
       "  '2014',\n",
       "  '2014',\n",
       "  '2012',\n",
       "  '2008',\n",
       "  '2006',\n",
       "  '2005',\n",
       "  '2004',\n",
       "  '2004',\n",
       "  '1994'],\n",
       " 'Source title': ['Decision Making in Entrepreneurship: Selected Joint Papers of Dean A. Shepherd',\n",
       "  'Journal of Business Research',\n",
       "  'A Psychological Approach to Entrepreneurship: Selected Essays of Dean A. Shepherd',\n",
       "  'A Psychological Approach to Entrepreneurship: Selected Essays of Dean A. Shepherd',\n",
       "  'IEEE Transactions on Engineering Management',\n",
       "  'Journal of World Business',\n",
       "  '2012 IEEE 6th International Conference on Management of Innovation and Technology, ICMIT 2012',\n",
       "  'Journal of Business Venturing',\n",
       "  'Small Business Economics',\n",
       "  'Journal of Management',\n",
       "  'IEEE International Engineering Management Conference',\n",
       "  'Journal of Management',\n",
       "  'International Small Business Journal'],\n",
       " 'Volume': ['nan',\n",
       "  '68.0',\n",
       "  'nan',\n",
       "  'nan',\n",
       "  '61.0',\n",
       "  '49.0',\n",
       "  'nan',\n",
       "  '23.0',\n",
       "  '26.0',\n",
       "  '31.0',\n",
       "  '2.0',\n",
       "  '30.0',\n",
       "  '13.0'],\n",
       " 'Issue': ['nan',\n",
       "  '5.0',\n",
       "  'nan',\n",
       "  'nan',\n",
       "  '3.0',\n",
       "  '4.0',\n",
       "  'nan',\n",
       "  '3.0',\n",
       "  '5.0',\n",
       "  '4.0',\n",
       "  'nan',\n",
       "  '3.0',\n",
       "  '1.0'],\n",
       " 'Art- No-': ['nan',\n",
       "  'nan',\n",
       "  'nan',\n",
       "  'nan',\n",
       "  '6782316.0',\n",
       "  'nan',\n",
       "  '6225784.0',\n",
       "  'nan',\n",
       "  'nan',\n",
       "  'nan',\n",
       "  'nan',\n",
       "  'nan',\n",
       "  'nan'],\n",
       " 'Page start': ['3',\n",
       "  '1053',\n",
       "  '72',\n",
       "  '91',\n",
       "  '428',\n",
       "  '466',\n",
       "  '82',\n",
       "  '333',\n",
       "  '493',\n",
       "  '573',\n",
       "  '703',\n",
       "  '377',\n",
       "  '13'],\n",
       " 'Page end': ['21',\n",
       "  '1061',\n",
       "  '90',\n",
       "  '113',\n",
       "  '437',\n",
       "  '475',\n",
       "  '87',\n",
       "  '355',\n",
       "  '503',\n",
       "  '596',\n",
       "  '707',\n",
       "  '395',\n",
       "  '25'],\n",
       " 'Page count': ['nan',\n",
       "  'nan',\n",
       "  'nan',\n",
       "  'nan',\n",
       "  'nan',\n",
       "  'nan',\n",
       "  'nan',\n",
       "  'nan',\n",
       "  'nan',\n",
       "  'nan',\n",
       "  'nan',\n",
       "  'nan',\n",
       "  'nan'],\n",
       " 'Cited by': ['nan',\n",
       "  '11.0',\n",
       "  'nan',\n",
       "  'nan',\n",
       "  '3.0',\n",
       "  '11.0',\n",
       "  '1.0',\n",
       "  '61.0',\n",
       "  '30.0',\n",
       "  '98.0',\n",
       "  'nan',\n",
       "  '257.0',\n",
       "  '14.0'],\n",
       " 'DOI': ['10.4337/9781784716042',\n",
       "  '10.1016/j.jbusres.2014.10.007',\n",
       "  '10.4337/9781783479801.00010',\n",
       "  '10.4337/9781783479801.00011',\n",
       "  '10.1109/TEM.2014.2310633',\n",
       "  '10.1016/j.jwb.2013.10.002',\n",
       "  '10.1109/ICMIT.2012.6225784',\n",
       "  '10.1016/j.jbusvent.2006.11.001',\n",
       "  '10.1007/s11187-005-5989-2',\n",
       "  '10.1177/0149206304272294',\n",
       "  'nan',\n",
       "  '10.1016/j.jm.2003.04.002',\n",
       "  '10.1177/0266242694131001'],\n",
       " 'Link': ['https://www.scopus.com/inward/record.uri?eid=2-s2.0-85017366690&doi=10.4337%2f9781784716042&partnerID=40&md5=83a5bd43ddaffbb7bdc97030d2e287fa',\n",
       "  'https://www.scopus.com/inward/record.uri?eid=2-s2.0-84924440720&doi=10.1016%2fj.jbusres.2014.10.007&partnerID=40&md5=e7f767ec35b88b3e07b25ba0238e7f1d',\n",
       "  'https://www.scopus.com/inward/record.uri?eid=2-s2.0-84959079307&doi=10.4337%2f9781783479801.00010&partnerID=40&md5=8b6677e8de93e01116bf2fa89985d114',\n",
       "  'https://www.scopus.com/inward/record.uri?eid=2-s2.0-84959081104&doi=10.4337%2f9781783479801.00011&partnerID=40&md5=f6ebfa0a15cd9b723f8fabcaf706b1d0',\n",
       "  'https://www.scopus.com/inward/record.uri?eid=2-s2.0-84904768834&doi=10.1109%2fTEM.2014.2310633&partnerID=40&md5=1f8a0164622d2b37e851cbd09583e356',\n",
       "  'https://www.scopus.com/inward/record.uri?eid=2-s2.0-84908048663&doi=10.1016%2fj.jwb.2013.10.002&partnerID=40&md5=772e7c15ba12b5e874a044d482888318',\n",
       "  'https://www.scopus.com/inward/record.uri?eid=2-s2.0-84864247025&doi=10.1109%2fICMIT.2012.6225784&partnerID=40&md5=b7453f8467acee089a85d48133d72e2f',\n",
       "  'https://www.scopus.com/inward/record.uri?eid=2-s2.0-39749086272&doi=10.1016%2fj.jbusvent.2006.11.001&partnerID=40&md5=3b05280b17e8df414df384132fdfb140',\n",
       "  'https://www.scopus.com/inward/record.uri?eid=2-s2.0-33746791542&doi=10.1007%2fs11187-005-5989-2&partnerID=40&md5=606b848b2526afc4e964d2e8b876a62e',\n",
       "  'https://www.scopus.com/inward/record.uri?eid=2-s2.0-23644448941&doi=10.1177%2f0149206304272294&partnerID=40&md5=8fffe77058d555a19055e95f2912744b',\n",
       "  'https://www.scopus.com/inward/record.uri?eid=2-s2.0-17644391442&partnerID=40&md5=5d1816770a26406a114fcd1a54970446',\n",
       "  'https://www.scopus.com/inward/record.uri?eid=2-s2.0-1842501974&doi=10.1016%2fj.jm.2003.04.002&partnerID=40&md5=b17110bf29d28be8a69ce833b74c18aa',\n",
       "  'https://www.scopus.com/inward/record.uri?eid=2-s2.0-84973818308&doi=10.1177%2f0266242694131001&partnerID=40&md5=c149b902fa9ffe6b8744e5fb6010b973'],\n",
       " 'Affiliations': ['School of Business, Singapore Management University, 469 Bukit Timah Road, Singapore, 259756, Singapore; Leeds School of Business, University of Colorado at Boulder, Boulder, CO  80309-0419, United States',\n",
       "  'Division of Engineering and Technology Management, Faculty of Engineering, National University of Singapore, 9 Engineering Drive 1, Singapore, 117576, Singapore; Carlson School of Management, University of Minnesota, 321 19th Ave. South, Minneapolis, MN  55455, United States; Lee Kong Chian School of Business, Singapore Management University, 50 Stamford Road, Singapore, 178899, Singapore; College of Business Administration, Ajou University, Suwon, 443-749, South Korea',\n",
       "  'School of Business, Singapore Management University, 469 Bukit Timah Road259756, Singapore; Leeds School of Business, University of Colorado at Boulder, Boulder, CO  S0309-0419, United States',\n",
       "  'Lee Kong Chian School of Business, Singapore Management University, 50 Stamford Road178899, Singapore; School of Engineering, University of Waterloo, 200 University Avenue West, Waterloo, ON  N2L 3G1, Canada; Ketley School of Business, Indiana University, 1309 East Tenth Street, Bloomington, IN  47405-1701, United States',\n",
       "  'Division of Engineering and Technology Management, Faculty of Engineering, National University of Singapore, Singapore 117576, Singapore; Carey Business School, Johns Hopkins University, Baltimore, MD 21201, United States',\n",
       "  'Division of Engineering and oTechnology Management, Faculty of Engineering, National University of Singapore, 9 Engineering Drive 1117576, Singapore; Lee Kong Chian School of Business, Singapore Management University, 50 Stamford Road178899, Singapore; Carlson School of Management, University of Minnesota, 321 19th Avenue South, Minneapolis, MN  55455, United States; College of Business Administration, Ajou University, Suwon, 443-749, South Korea',\n",
       "  'Division of Engineering Technology Management, National University of Singapore, Singapore, Singapore; Carlson School of Management, University of Minnesota, United States; Lee Kong Chian School of Business, Singapore Management University, Singapore, Singapore; College of Business Administration, Ajou University, South Korea',\n",
       "  'Lee Kong Chian School of Business, Singapore Management University, 50 Stamford Road, 178899, Singapore; School of Engineering, University of Waterloo, 200 University Avenue West, Waterloo, Ont. N2L 3G1, Canada; Kelley School of Business, Indiana University, 1309 East Tenth Street, Bloomington, IN 47405-1701, United States',\n",
       "  'Lee Kong Chian School of Business, Singapore Management University, 469 Bukit Timah Road, 259756 Singapore, Singapore; Lally School of Management and Technology, Rensselaer Polytechnic Institute, 110 8th Street, Troy, NY 12180-3590, United States',\n",
       "  'Lee Kong Chian School of Business, Singapore Management University, 50 Stamford Road, Singapore 178899, Singapore; Kelley School of Business, Indiana University, Bloomington, IN 47405-1701, United States',\n",
       "  'School of Business, Singapore Management University, Singapore, Singapore; Lally Sch. of Mgmt. and Technology, Rensselaer Polytechnic Institute, United States',\n",
       "  'School of Business, Singapore Management University, 469 Bukit Timah Road, Singapore 259756, Singapore; Leeds School of Business, University of Colorado at Boulder, Boulder, CO 80309-0419, United States',\n",
       "  'nan'],\n",
       " 'Authors with affiliations': ['Choi, Y.R., School of Business, Singapore Management University, 469 Bukit Timah Road, Singapore, 259756, Singapore; Shepherd, D.A., Leeds School of Business, University of Colorado at Boulder, Boulder, CO  80309-0419, United States',\n",
       "  'Choi, Y.R., Division of Engineering and Technology Management, Faculty of Engineering, National University of Singapore, 9 Engineering Drive 1, Singapore, 117576, Singapore; Zahra, S.A., Carlson School of Management, University of Minnesota, 321 19th Ave. South, Minneapolis, MN  55455, United States; Yoshikawa, T., Lee Kong Chian School of Business, Singapore Management University, 50 Stamford Road, Singapore, 178899, Singapore; Han, B.H., College of Business Administration, Ajou University, Suwon, 443-749, South Korea',\n",
       "  'Choi, Y.R., School of Business, Singapore Management University, 469 Bukit Timah Road259756, Singapore; Shepherd, D.A., Leeds School of Business, University of Colorado at Boulder, Boulder, CO  S0309-0419, United States',\n",
       "  'Choi, Y.R., Lee Kong Chian School of Business, Singapore Management University, 50 Stamford Road178899, Singapore; Lévesque, M., School of Engineering, University of Waterloo, 200 University Avenue West, Waterloo, ON  N2L 3G1, Canada; Shepherd, D.A., Ketley School of Business, Indiana University, 1309 East Tenth Street, Bloomington, IN  47405-1701, United States',\n",
       "  'Choi, Y.R., Division of Engineering and Technology Management, Faculty of Engineering, National University of Singapore, Singapore 117576, Singapore; Phan, P.H., Carey Business School, Johns Hopkins University, Baltimore, MD 21201, United States',\n",
       "  'Choi, Y.R., Division of Engineering and oTechnology Management, Faculty of Engineering, National University of Singapore, 9 Engineering Drive 1117576, Singapore; Yoshikawa, T., Lee Kong Chian School of Business, Singapore Management University, 50 Stamford Road178899, Singapore; Zahra, S.A., Carlson School of Management, University of Minnesota, 321 19th Avenue South, Minneapolis, MN  55455, United States; Han, B.H., College of Business Administration, Ajou University, Suwon, 443-749, South Korea',\n",
       "  'Choi, Y.R., Division of Engineering Technology Management, National University of Singapore, Singapore, Singapore; Zahra, S.A., Carlson School of Management, University of Minnesota, United States; Yoshikawa, T., Lee Kong Chian School of Business, Singapore Management University, Singapore, Singapore; Han, B.H., College of Business Administration, Ajou University, South Korea',\n",
       "  'Choi, Y.R., Lee Kong Chian School of Business, Singapore Management University, 50 Stamford Road, 178899, Singapore; Lévesque, M., School of Engineering, University of Waterloo, 200 University Avenue West, Waterloo, Ont. N2L 3G1, Canada; Shepherd, D.A., Kelley School of Business, Indiana University, 1309 East Tenth Street, Bloomington, IN 47405-1701, United States',\n",
       "  'Choi, Y.R., Lee Kong Chian School of Business, Singapore Management University, 469 Bukit Timah Road, 259756 Singapore, Singapore; Phan, P.H., Lally School of Management and Technology, Rensselaer Polytechnic Institute, 110 8th Street, Troy, NY 12180-3590, United States',\n",
       "  'Choi, Y.R., Lee Kong Chian School of Business, Singapore Management University, 50 Stamford Road, Singapore 178899, Singapore; Shepherd, D.A., Kelley School of Business, Indiana University, Bloomington, IN 47405-1701, United States',\n",
       "  'Choi, Y.R., School of Business, Singapore Management University, Singapore, Singapore; Phan, P.H., Lally Sch. of Mgmt. and Technology, Rensselaer Polytechnic Institute, United States',\n",
       "  'Choi, Y.R., School of Business, Singapore Management University, 469 Bukit Timah Road, Singapore 259756, Singapore; Shepherd, D.A., Leeds School of Business, University of Colorado at Boulder, Boulder, CO 80309-0419, United States',\n",
       "  'Kim, Y.; Choi, Y.'],\n",
       " 'Abstract': [\"Entrepreneurs' decisions to exploit opportunities\",\n",
       "  'This study examines whether the influence of family ownership on R&D investment varies depending on growth opportunities and business group membership. Using data on Korean firms over ten years (1998-2007), the study shows that family ownership is negatively related to R&D investment, but the relationship becomes positive when growth opportunities are present. The moderating effect, however, differs between independent family firms and family business groups. The positive influence that growth opportunities have on promoting R&D investment is diminished for affiliates of family business groups. These findings imply that family owners invest more in R&D when their family control goals are threatened by the loss of growth potential. The empirical results of this study and its behavioral decision-making model help to bridge the gap between the predictions of the family control perspective and agency theory in explaining R&D investment by family firms in an emerging economy. © 2014 Elsevier Inc.',\n",
       "  \"Opportunity exploitation is a necessary step in creating a successful business in the en- trepreneurial process, yet there has been little conceptual and empirical development of this issue in the literature. This study examines the decisions of entrepreneurs to begin exploiting business opportunities from a resource-based view. Our analysis of a sample of entrepreneurs whose businesses are located in incubators suggests that entrepreneurs are more likely to exploit opportunities when they perceive more knowledge of customer demand for the new product, more fully developed necessary technologies, greater managerial capability, and greater stakeholder support. Moreover, the findings of this study shed a light on a less empha- sized aspect of the resource-based view: the new product's anticipated lead time acts as an enhancing moderator in entrepreneurs' exploitation decision policies. Implications for future research on opportunity exploitation are discussed. © Dean A. Shepherd 2014. All rights reserved.\",\n",
       "  'We theorize on the performance implications of the timing at which entrepreneurs stop exploring their business opportunities and start exploiting them. Using an optimal-stopping approach, wc characterize the time when exploitation should begin based primarily on when an entrepreneur\\'s ignorance has been sufficiently reduced through knowledge accumulation. This \"ignorance threshold\" captures a tradeoff between the time needed to increase legitimacy and the necessity to act now to minimize competition. Changes in legitimacy and competition arc based on how entrepreneurs manage their knowledge (tacit versus explicit) under differing degrees of novelty for the business opportunity. These changes, in turn, impact the performance and timing of opportunity exploitation. © Dean A. Shepherd 2014. All rights reserved.',\n",
       "  'This study investigates how firm age and environmental adversity influence exploration and exploitation and whether the balance between them increases new product development. We also examine if new product development in new and mature firms leads to equivalent growth rates. Empirical results obtained from a survey of small- and medium-sized technology-based manufacturing firms in Korea show that while relative exploration generally remains lower in mature firms than in new firms, it more rapidly increases in mature firms when they operate in adverse environments. Interestingly, our results show that mature firms achieve lower growth rates through new product development than new firms in adverse environments. These empirical findings advance our understanding of the age-dependent antecedents and consequences of new product development. © 1988-2012 IEEE.',\n",
       "  \"Emerging market firms (EMFs) are increasingly relying on innovation to find their competitive advantage, but our understanding of how institutional change affects firm innovation has been limited. We analyzed Korean manufacturing firms from 1994 to 2006 to test the proposition that market-oriented institutional change in an emerging economy alleviates firms' financing constraints and monitoring problems and improves the effectiveness of their innovation activities. Institutional evolution in the economy was found to affect Korean business groups and independent firms differently. Institutional change reduced the financing constraints on independent firms more than for business group affiliates in R&D investment. Independent firms, however, appeared less capable than group affiliates of translating the benefits of improved institutional environments into efficient R&D investment. This asymmetry may lead to a wider gap in the efficiency of R&D investment between business group affiliates and independent firms. © 2013 Elsevier Inc.\",\n",
       "  \"Existing governance theories offer contrasting views on the potential effect that controlling owners have on a firm's innovation investment decisions: the stewardship perspective suggests a positive influence, whereas the principal-principal (PP) conflict perspective posits a negative influence. In this study, we attempt to reconcile these views. We propose that business group affiliation determines the extent to which the interests of controlling owners and affiliated firms are congruent, and may motivate controlling owners to behave opportunistically. Our analysis of Korean companies shows that controlling owners of independent firms significantly promote R&D investments, particularly when growth opportunities are plentiful. However, the relationship becomes much weaker for business group affiliates. © 2012 IEEE.\",\n",
       "  'We theorize on the performance implications of the timing at which entrepreneurs stop exploring their business opportunities and start exploiting them. Using an optimal-stopping approach, we characterize the time when exploitation should begin based primarily on when an entrepreneur\\'s ignorance has been sufficiently reduced through knowledge accumulation. This \"ignorance threshold\" captures a tradeoff between the time needed to increase legitimacy and the necessity to act now to minimize competition. Changes in legitimacy and competition are based on how entrepreneurs manage their knowledge (tacit versus explicit) under differing degrees of novelty for the business opportunity. These changes, in turn, impact the performance and timing of opportunity exploitation. © 2006 Elsevier Inc. All rights reserved.',\n",
       "  'This study attempts to reveal how macroeconomic and technology policies that encompass the opportunity and individual drivers of entrepreneurship explain the dynamics of new firm formation in a country. To do so we rely on the Schumpeterian, industrial organization, and labor economics traditions of entrepreneurship, and performed an exploratory test with longitudinal U.S. data from 1968 to 1993. The results of this study suggest that R&D investments, patents, economic concentration, pro-competition policy, and labor mobility are important areas in which government policy can influence the intensity of new firm formation. © Springer 2006.',\n",
       "  \"Using verbal protocol and conjoint analyses, this study examines how stakeholders assess an organization in deciding whether to provide their support to it. The authors find that stakeholders' support depends on their perceptions of an organization's age and other dimensions of newness related to addressing management challenges of adaptation - the entrepreneurial problem, the engineering problem, and the administrative problem. Stakeholder support is more likely for those organizations that are old, cognitively legitimate, affectively congruent, reliable, accountable, and strategically flexible. The authors conclude with theoretical implications for scholars and practical implications for resource acquisition in various contexts of entrepreneurship. © 2005 Southern Management Association. All rights reserved.\",\n",
       "  \"This study investigates how entrepreneurial policies that encompass opportunity, individual, and resource aspects of entrepreneurship explain dynamics of new firm formation in a country. We rely on the Schumpeterian, industrial organization economics, and organizational ecology traditions, and performed an exploratory test with a longitudinal U.S. data (1968-1993). The results of this study suggest that technological knowledge capital, economic opportunity structure, labor mobility, and a nation's carrying capacity for entrepreneurial activities are important areas in which government policy can positively influence the intensity of new firm formation. © 2004 IEEE.\",\n",
       "  \"Opportunity exploitation is a necessary step in creating a successful business in the entrepreneurial process, yet there has been little conceptual and empirical development of this issue in the literature. This study examines the decisions of entrepreneurs to begin exploiting business opportunities from a resource-based view. Our analysis of a sample of entrepreneurs whose businesses are located in incubators suggests that entrepreneurs are more likely to exploit opportunities when they perceive more knowledge of customer demand for the new product, more fully developed necessary technologies, greater managerial capability, and greater stakeholder support. Moreover, the findings of this study shed a light on a less emphasized aspect of the resource-based view: the new product's anticipated lead time acts as an enhancing moderator in entrepreneurs' exploitation decision policies. Implications for future research on opportunity exploitation are discussed. © 2003 Elsevier Inc. All rights reserved.\",\n",
       "  'YOUNGBAE KIM IS AN ASSISTANT professor of management and policy in the Korea Advanced Institute of Science and Technology, Taejon, South Korea and Youngrok Choi is a researcher in the nuclear policy division of the Korea Atomic Energy Research Institute, Taejon, Korea. This study attempts to identify the patterns of strategic behaviour of small firms in Korea in conjunction with their performance. Based on the data from 79 small firms across four industries, the results reveal that there appear to be four common strategic attributes cost efficiency, innovative differentiation, marketing differentiation, and asset parsimony and five strategic types of firms which have distinct combinations of these strategic attributes innovative, versatile, marginal, and reactive types. Each type of firm was also found to have different organisational characteristics and performance level. Finally, this study discusses the comparative management issue in the field of strategic management and offers some practical implications for managers of small firms. © 1994, Sage Publications. All rights reserved.'],\n",
       " 'Author Keywords': ['nan',\n",
       "  'Behavioral decision-making; Business groups; Family ownership; Growth opportunities; R&D investment',\n",
       "  'nan',\n",
       "  'Ignorance reduction; Knowledge management; Opportunity exploitation; Optimal stopping; Timing of exploitation',\n",
       "  'Adverse environments; exploitation; exploration; firm age; firm growth; new product development',\n",
       "  'Business groups; Financing constraints; Governance reforms; Institutional change; Research and development',\n",
       "  'business group; controlling ownership; R&D investments',\n",
       "  'Ignorance reduction; Knowledge management; Opportunity exploitation; Optimal stopping; Timing of exploitation',\n",
       "  'Entrepreneurial policy; Government; New firm formation',\n",
       "  'Asset of newness; Entrepreneurship; Liability of newness; Stakeholder theory',\n",
       "  'Entrepreneurship; New firm; Policy',\n",
       "  'nan',\n",
       "  'nan'],\n",
       " 'Document Type': ['Book Chapter',\n",
       "  'Article',\n",
       "  'Book Chapter',\n",
       "  'Book Chapter',\n",
       "  'Article',\n",
       "  'Article',\n",
       "  'Conference Paper',\n",
       "  'Article',\n",
       "  'Review',\n",
       "  'Article',\n",
       "  'Conference Paper',\n",
       "  'Article',\n",
       "  'Article'],\n",
       " 'Access Type': ['Open Access',\n",
       "  'nan',\n",
       "  'nan',\n",
       "  'nan',\n",
       "  'nan',\n",
       "  'nan',\n",
       "  'nan',\n",
       "  'nan',\n",
       "  'nan',\n",
       "  'nan',\n",
       "  'nan',\n",
       "  'nan',\n",
       "  'nan'],\n",
       " 'Source': ['Scopus',\n",
       "  'Scopus',\n",
       "  'Scopus',\n",
       "  'Scopus',\n",
       "  'Scopus',\n",
       "  'Scopus',\n",
       "  'Scopus',\n",
       "  'Scopus',\n",
       "  'Scopus',\n",
       "  'Scopus',\n",
       "  'Scopus',\n",
       "  'Scopus',\n",
       "  'Scopus'],\n",
       " 'EID': ['2-s2.0-85017366690',\n",
       "  '2-s2.0-84924440720',\n",
       "  '2-s2.0-84959079307',\n",
       "  '2-s2.0-84959081104',\n",
       "  '2-s2.0-84904768834',\n",
       "  '2-s2.0-84908048663',\n",
       "  '2-s2.0-84864247025',\n",
       "  '2-s2.0-39749086272',\n",
       "  '2-s2.0-33746791542',\n",
       "  '2-s2.0-23644448941',\n",
       "  '2-s2.0-17644391442',\n",
       "  '2-s2.0-1842501974',\n",
       "  '2-s2.0-84973818308'],\n",
       " 'filename': 'ChoiYoungRok'}"
      ]
     },
     "execution_count": 82,
     "metadata": {},
     "output_type": "execute_result"
    }
   ],
   "source": [
    "excel[0]"
   ]
  },
  {
   "cell_type": "code",
   "execution_count": 83,
   "metadata": {},
   "outputs": [
    {
     "data": {
      "text/plain": [
       "list"
      ]
     },
     "execution_count": 83,
     "metadata": {},
     "output_type": "execute_result"
    }
   ],
   "source": [
    "type(excel)"
   ]
  },
  {
   "cell_type": "code",
   "execution_count": 84,
   "metadata": {},
   "outputs": [],
   "source": [
    "for i,j in zip(excel_list, excel):\n",
    "    j['id'] = i"
   ]
  },
  {
   "cell_type": "code",
   "execution_count": 85,
   "metadata": {},
   "outputs": [
    {
     "data": {
      "text/plain": [
       "('37666154100', '55614074100')"
      ]
     },
     "execution_count": 85,
     "metadata": {},
     "output_type": "execute_result"
    }
   ],
   "source": [
    "excel[269]['id'], scholarworksfront[0]['id']"
   ]
  },
  {
   "cell_type": "code",
   "execution_count": 86,
   "metadata": {},
   "outputs": [
    {
     "data": {
      "text/plain": [
       "270"
      ]
     },
     "execution_count": 86,
     "metadata": {},
     "output_type": "execute_result"
    }
   ],
   "source": [
    "temp = []\n",
    "for i in excel:\n",
    "    temp.append(i[\"id\"])\n",
    "len(temp)"
   ]
  },
  {
   "cell_type": "code",
   "execution_count": 87,
   "metadata": {},
   "outputs": [],
   "source": [
    "scholarid = []\n",
    "er = []\n",
    "for i in scholarworksfront:\n",
    "    try:\n",
    "        scholarid.append(i['id'])\n",
    "    except:\n",
    "        er.append(i)"
   ]
  },
  {
   "cell_type": "code",
   "execution_count": 88,
   "metadata": {},
   "outputs": [
    {
     "data": {
      "text/plain": [
       "(293, 270)"
      ]
     },
     "execution_count": 88,
     "metadata": {},
     "output_type": "execute_result"
    }
   ],
   "source": [
    "len(scholarid), len(excel_list)"
   ]
  },
  {
   "cell_type": "code",
   "execution_count": 89,
   "metadata": {},
   "outputs": [
    {
     "data": {
      "text/plain": [
       "19"
      ]
     },
     "execution_count": 89,
     "metadata": {},
     "output_type": "execute_result"
    }
   ],
   "source": [
    "len(er)"
   ]
  },
  {
   "cell_type": "code",
   "execution_count": 90,
   "metadata": {},
   "outputs": [],
   "source": [
    "notinlist = []\n",
    "for i in excel_list:\n",
    "    if i not in scholarid:\n",
    "        notinlist.append(i)"
   ]
  },
  {
   "cell_type": "code",
   "execution_count": 91,
   "metadata": {},
   "outputs": [],
   "source": [
    "excelmap = {}\n",
    "for i in excel:\n",
    "    excelmap[i['id']] = i['filename']"
   ]
  },
  {
   "cell_type": "code",
   "execution_count": 92,
   "metadata": {},
   "outputs": [],
   "source": [
    "errorfile = []\n",
    "for i in notinlist:\n",
    "    errorfile.append(excelmap[i])"
   ]
  },
  {
   "cell_type": "code",
   "execution_count": 93,
   "metadata": {},
   "outputs": [
    {
     "data": {
      "text/plain": [
       "['ChungKeunsuk',\n",
       " 'KohKanghyock',\n",
       " 'KimYoungsik',\n",
       " 'LeeHyunWook',\n",
       " 'RyuJungki',\n",
       " 'SeoByoungKi',\n",
       " 'leeseungjun',\n",
       " 'yoochunsang',\n",
       " 'KeeJungmin',\n",
       " 'KimJaeup',\n",
       " 'PakHyukkyu',\n",
       " 'ZhaoBumsuk']"
      ]
     },
     "execution_count": 93,
     "metadata": {},
     "output_type": "execute_result"
    }
   ],
   "source": [
    "errorfile"
   ]
  },
  {
   "cell_type": "code",
   "execution_count": 94,
   "metadata": {
    "scrolled": true
   },
   "outputs": [],
   "source": [
    "from bson.objectid import ObjectId\n",
    "why = []\n",
    "for i in errorfile:\n",
    "    for j in excel:\n",
    "        if j['filename'] == i:\n",
    "            why.append(j)"
   ]
  },
  {
   "cell_type": "code",
   "execution_count": 95,
   "metadata": {},
   "outputs": [
    {
     "name": "stdout",
     "output_type": "stream",
     "text": [
      "['56763409400;57194230176;', '57194230176;56246755400;', '36572006400;57194230176;', '56763409400;57194230176;', '56763409400;57194230176;', '57194230176;', '57194230176;7004308668;']\n",
      "====\n",
      "57194230176\n"
     ]
    }
   ],
   "source": [
    "print(why[0]['Author Ids'])\n",
    "print(\"====\")\n",
    "print(why[0]['id'])"
   ]
  },
  {
   "cell_type": "code",
   "execution_count": 96,
   "metadata": {},
   "outputs": [
    {
     "data": {
      "text/plain": [
       "'errorid = []\\nfor i in error_list:\\n    errorid.append(i[\\'_id\\'])\\n    \\nfrom bson.objectid import ObjectId\\nfor i in errorid:\\n    db.excel.update({\"_id\": i},{\"$rename\": { \\'Author(s) ID\\': \\'Author Ids\\'} })'"
      ]
     },
     "execution_count": 96,
     "metadata": {},
     "output_type": "execute_result"
    }
   ],
   "source": [
    "# id rename 코드\n",
    "\"\"\"errorid = []\n",
    "for i in error_list:\n",
    "    errorid.append(i['_id'])\n",
    "    \n",
    "from bson.objectid import ObjectId\n",
    "for i in errorid:\n",
    "    db.excel.update({\"_id\": i},{\"$rename\": { 'Author(s) ID': 'Author Ids'} })\"\"\""
   ]
  },
  {
   "cell_type": "code",
   "execution_count": 97,
   "metadata": {},
   "outputs": [
    {
     "data": {
      "text/plain": [
       "270"
      ]
     },
     "execution_count": 97,
     "metadata": {},
     "output_type": "execute_result"
    }
   ],
   "source": [
    "exceldf = pd.DataFrame(excel)\n",
    "len(exceldf)"
   ]
  },
  {
   "cell_type": "code",
   "execution_count": 98,
   "metadata": {},
   "outputs": [
    {
     "data": {
      "text/plain": [
       "312"
      ]
     },
     "execution_count": 98,
     "metadata": {},
     "output_type": "execute_result"
    }
   ],
   "source": [
    "scholardf = pd.DataFrame(scholarworksfront)\n",
    "len(scholardf)"
   ]
  },
  {
   "cell_type": "code",
   "execution_count": 99,
   "metadata": {},
   "outputs": [
    {
     "data": {
      "text/plain": [
       "Index(['Abstract', 'Access Type', 'Affiliations', 'Art- No-', 'Author Ids',\n",
       "       'Author Keywords', 'Authors', 'Authors with affiliations', 'Cited by',\n",
       "       'DOI', 'Document Type', 'EID', 'Issue', 'Link', 'Page count',\n",
       "       'Page end', 'Page start', 'Source', 'Source title', 'Title', 'Volume',\n",
       "       'Year', '_id', 'filename', 'id'],\n",
       "      dtype='object')"
      ]
     },
     "execution_count": 99,
     "metadata": {},
     "output_type": "execute_result"
    }
   ],
   "source": [
    "exceldf.columns"
   ]
  },
  {
   "cell_type": "code",
   "execution_count": 100,
   "metadata": {},
   "outputs": [],
   "source": [
    "finaldb = pd.merge(exceldf, scholardf, on=\"id\")"
   ]
  },
  {
   "cell_type": "code",
   "execution_count": 101,
   "metadata": {},
   "outputs": [
    {
     "data": {
      "text/plain": [
       "Index(['Abstract', 'Access Type', 'Affiliations', 'Art- No-', 'Author Ids',\n",
       "       'Author Keywords', 'Authors', 'Authors with affiliations', 'Cited by',\n",
       "       'DOI', 'Document Type', 'EID', 'Issue', 'Link', 'Page count',\n",
       "       'Page end', 'Page start', 'Source', 'Source title', 'Title', 'Volume',\n",
       "       'Year', '_id_x', 'filename', 'id', 'Lab', 'Name', 'ResearchInterest',\n",
       "       'Website', '_id_y', 'department', 'imglink'],\n",
       "      dtype='object')"
      ]
     },
     "execution_count": 101,
     "metadata": {},
     "output_type": "execute_result"
    }
   ],
   "source": [
    "finaldb.columns"
   ]
  },
  {
   "cell_type": "code",
   "execution_count": 111,
   "metadata": {},
   "outputs": [],
   "source": [
    "final = finaldb[['Abstract', 'Author Ids',\n",
    "       'Author Keywords', 'Authors','Cited by',\n",
    "       'Link','Title', 'Source title','Year', 'filename', 'id', 'Lab', 'Name', 'ResearchInterest', 'Website',\n",
    "       'department','imglink']]"
   ]
  },
  {
   "cell_type": "code",
   "execution_count": 112,
   "metadata": {},
   "outputs": [],
   "source": [
    "col = ['Abstract', 'Author Ids', 'Author Keywords', 'Authors', 'Cited by',\n",
    "       'Link', 'Title', 'Source title', 'Year', 'filename', 'id', 'Lab',\n",
    "       'Name', 'ResearchInterest', 'Website', 'department','imglink']"
   ]
  },
  {
   "cell_type": "code",
   "execution_count": 113,
   "metadata": {},
   "outputs": [
    {
     "data": {
      "text/plain": [
       "258"
      ]
     },
     "execution_count": 113,
     "metadata": {},
     "output_type": "execute_result"
    }
   ],
   "source": [
    "len(final)"
   ]
  },
  {
   "cell_type": "code",
   "execution_count": 115,
   "metadata": {},
   "outputs": [],
   "source": [
    "for i in range(len(final)):\n",
    "    documents = {}\n",
    "    for j in col:\n",
    "        documents[j] = final.iloc[i][j]\n",
    "    db.finaldb.insert_one(documents)"
   ]
  },
  {
   "cell_type": "code",
   "execution_count": 116,
   "metadata": {},
   "outputs": [
    {
     "name": "stderr",
     "output_type": "stream",
     "text": [
      "/Users/seungheondoh/anaconda3/envs/python3.6/lib/python3.6/site-packages/ipykernel_launcher.py:1: DeprecationWarning: count is deprecated. Use estimated_document_count or count_documents instead. Please note that $where must be replaced by $expr, $near must be replaced by $geoWithin with $center, and $nearSphere must be replaced by $geoWithin with $centerSphere\n",
      "  \"\"\"Entry point for launching an IPython kernel.\n"
     ]
    },
    {
     "data": {
      "text/plain": [
       "258"
      ]
     },
     "execution_count": 116,
     "metadata": {},
     "output_type": "execute_result"
    }
   ],
   "source": [
    "db.finaldb.count()"
   ]
  },
  {
   "cell_type": "code",
   "execution_count": 5,
   "metadata": {
    "scrolled": false
   },
   "outputs": [
    {
     "data": {
      "text/plain": [
       "dict_keys(['_id', 'Abstract', 'Author Ids', 'Author Keywords', 'Authors', 'Cited by', 'Link', 'Title', 'Source title', 'Year', 'filename', 'id', 'Lab', 'Name', 'ResearchInterest', 'Website', 'department', 'imglink'])"
      ]
     },
     "execution_count": 5,
     "metadata": {},
     "output_type": "execute_result"
    }
   ],
   "source": [
    "db.finaldb.find_one().keys()"
   ]
  },
  {
   "cell_type": "code",
   "execution_count": null,
   "metadata": {},
   "outputs": [],
   "source": []
  }
 ],
 "metadata": {
  "kernelspec": {
   "display_name": "Python 3",
   "language": "python",
   "name": "python3"
  },
  "language_info": {
   "codemirror_mode": {
    "name": "ipython",
    "version": 3
   },
   "file_extension": ".py",
   "mimetype": "text/x-python",
   "name": "python",
   "nbconvert_exporter": "python",
   "pygments_lexer": "ipython3",
   "version": "3.6.6"
  }
 },
 "nbformat": 4,
 "nbformat_minor": 2
}
