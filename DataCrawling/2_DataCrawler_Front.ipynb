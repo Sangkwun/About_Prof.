{
 "cells": [
  {
   "cell_type": "code",
   "execution_count": 1,
   "metadata": {},
   "outputs": [],
   "source": [
    "import requests\n",
    "import json\n",
    "from bs4 import BeautifulSoup\n",
    "import time\n",
    "import re\n",
    "import pandas as pd\n",
    "import numpy as np\n",
    "from pymongo import MongoClient"
   ]
  },
  {
   "cell_type": "code",
   "execution_count": 2,
   "metadata": {},
   "outputs": [],
   "source": [
    "url = \"http://scholarworks.unist.ac.kr/browse-researcher\"\n",
    "data = {\n",
    "    \"sortType\": \"English\",\n",
    "    \"page\": 1,\n",
    "    \"offset\": 0\n",
    "}"
   ]
  },
  {
   "cell_type": "code",
   "execution_count": 3,
   "metadata": {},
   "outputs": [],
   "source": [
    "## 데이터 정보를 보내지 않았다!\n",
    "r = requests.get(url, params=data)\n",
    "text = r.text\n",
    "soup = BeautifulSoup(text, 'lxml')"
   ]
  },
  {
   "cell_type": "code",
   "execution_count": 4,
   "metadata": {},
   "outputs": [
    {
     "data": {
      "text/plain": [
       "[<li>\n",
       " <a href=\"researcher-profile?ep=2741\">Ahn, Sangjoon\n",
       " \n",
       " \t\t\t\t\t\t</a>\n",
       " </li>, <li>\n",
       " <a href=\"researcher-profile?ep=2781\">Amblard, Francois\n",
       " \n",
       " \t\t\t\t\t\t</a>\n",
       " </li>, <li>\n",
       " <a href=\"researcher-profile?ep=2641\">An, Kwangjin\n",
       " \n",
       " \t\t\t\t\t\t</a>\n",
       " </li>, <li>\n",
       " <a href=\"researcher-profile?ep=1881\">Au, Tsz-Chiu\n",
       " \n",
       " \t\t\t\t\t\t</a>\n",
       " </li>, <li>\n",
       " <a href=\"researcher-profile?ep=2041\">Bae, Hantaek\n",
       " \n",
       " \t\t\t\t\t\t</a>\n",
       " </li>]"
      ]
     },
     "execution_count": 4,
     "metadata": {},
     "output_type": "execute_result"
    }
   ],
   "source": [
    "li = soup.findAll(\"li\")[16:76]\n",
    "li[0:5]"
   ]
  },
  {
   "cell_type": "code",
   "execution_count": 5,
   "metadata": {},
   "outputs": [],
   "source": [
    "link = []\n",
    "name = []\n",
    "\n",
    "def makelink(pg):\n",
    "    url = \"http://scholarworks.unist.ac.kr/browse-researcher\"\n",
    "    data = {\n",
    "        \"sortType\": \"English\",\n",
    "        \"page\": pg,\n",
    "        \"offset\": 0\n",
    "    }\n",
    "    r = requests.get(url, params=data)\n",
    "    text = r.text\n",
    "    soup = BeautifulSoup(text, 'lxml')\n",
    "    for i in soup.findAll(\"li\")[16:76]:\n",
    "        link.append(i.find(\"a\")['href'])\n",
    "        name.append(i.getText().replace(\"\\n\",\"\").replace(\"\\r\",\"\").replace(\"\\t\",\"\"))"
   ]
  },
  {
   "cell_type": "code",
   "execution_count": 6,
   "metadata": {},
   "outputs": [],
   "source": [
    "for i in range(5):\n",
    "    makelink(i+1)"
   ]
  },
  {
   "cell_type": "code",
   "execution_count": 7,
   "metadata": {},
   "outputs": [],
   "source": [
    "def makelink6():\n",
    "    url = \"http://scholarworks.unist.ac.kr/browse-researcher\"\n",
    "    data = {\n",
    "        \"sortType\": \"English\",\n",
    "        \"page\": 6,\n",
    "        \"offset\": 0\n",
    "    }\n",
    "    r = requests.get(url, params=data)\n",
    "    text = r.text\n",
    "    soup = BeautifulSoup(text, 'lxml')\n",
    "    for i in soup.findAll(\"li\")[16:28]:\n",
    "        link.append(i.find(\"a\")['href'])\n",
    "        name.append(i.getText().replace(\"\\n\",\"\").replace(\"\\r\",\"\").replace(\"\\t\",\"\"))"
   ]
  },
  {
   "cell_type": "code",
   "execution_count": 8,
   "metadata": {},
   "outputs": [],
   "source": [
    "makelink6()"
   ]
  },
  {
   "cell_type": "code",
   "execution_count": 9,
   "metadata": {},
   "outputs": [
    {
     "data": {
      "text/plain": [
       "('researcher-profile?ep=1299', 'Zhang, Lu')"
      ]
     },
     "execution_count": 9,
     "metadata": {},
     "output_type": "execute_result"
    }
   ],
   "source": [
    "link[311], name[311]"
   ]
  },
  {
   "cell_type": "code",
   "execution_count": 10,
   "metadata": {},
   "outputs": [
    {
     "data": {
      "text/plain": [
       "312"
      ]
     },
     "execution_count": 10,
     "metadata": {},
     "output_type": "execute_result"
    }
   ],
   "source": [
    "len(link)"
   ]
  },
  {
   "cell_type": "code",
   "execution_count": 11,
   "metadata": {},
   "outputs": [],
   "source": [
    "client = MongoClient()\n",
    "db = client.aboutdepart"
   ]
  },
  {
   "cell_type": "code",
   "execution_count": 12,
   "metadata": {},
   "outputs": [],
   "source": [
    "db.scholar.drop()"
   ]
  },
  {
   "cell_type": "code",
   "execution_count": 13,
   "metadata": {},
   "outputs": [],
   "source": [
    "for i, k in zip(link,name):    \n",
    "    document = {}\n",
    "    document[\"link\"] = i\n",
    "    document[\"name\"] = k\n",
    "    db.scholar.insert_one(document)"
   ]
  },
  {
   "cell_type": "code",
   "execution_count": 14,
   "metadata": {},
   "outputs": [
    {
     "name": "stderr",
     "output_type": "stream",
     "text": [
      "/Users/seungheondoh/anaconda3/envs/python3.6/lib/python3.6/site-packages/ipykernel_launcher.py:1: DeprecationWarning: count is deprecated. Use estimated_document_count or count_documents instead. Please note that $where must be replaced by $expr, $near must be replaced by $geoWithin with $center, and $nearSphere must be replaced by $geoWithin with $centerSphere\n",
      "  \"\"\"Entry point for launching an IPython kernel.\n"
     ]
    },
    {
     "data": {
      "text/plain": [
       "312"
      ]
     },
     "execution_count": 14,
     "metadata": {},
     "output_type": "execute_result"
    }
   ],
   "source": [
    "db.scholar.count()"
   ]
  },
  {
   "cell_type": "code",
   "execution_count": 15,
   "metadata": {},
   "outputs": [
    {
     "data": {
      "text/plain": [
       "{'_id': ObjectId('5bf8068320c66c09bf8e070e'),\n",
       " 'link': 'researcher-profile?ep=1249',\n",
       " 'name': 'Bae, Joonbum'}"
      ]
     },
     "execution_count": 15,
     "metadata": {},
     "output_type": "execute_result"
    }
   ],
   "source": [
    "Contents = db.scholar.find()\n",
    "Contents[5]"
   ]
  },
  {
   "cell_type": "markdown",
   "metadata": {},
   "source": [
    "-------------------------------------"
   ]
  },
  {
   "cell_type": "markdown",
   "metadata": {},
   "source": [
    "### db.scholar에서 저장한 link를 타고 url을 호출합니다."
   ]
  },
  {
   "cell_type": "code",
   "execution_count": 16,
   "metadata": {},
   "outputs": [],
   "source": [
    "url = \"http://scholarworks.unist.ac.kr/\"+str(link[1])\n",
    "r = requests.get(url)\n",
    "soup = BeautifulSoup(r.text, 'lxml')"
   ]
  },
  {
   "cell_type": "code",
   "execution_count": 30,
   "metadata": {},
   "outputs": [
    {
     "data": {
      "text/plain": [
       "'http://114.70.1.191/rims/upload/image/201508/user_profile_5929480789290965124100358.jpg'"
      ]
     },
     "execution_count": 30,
     "metadata": {},
     "output_type": "execute_result"
    }
   ],
   "source": [
    "soup.find(\"img\",{\"alt\":\"사진\"})['src']"
   ]
  },
  {
   "cell_type": "code",
   "execution_count": 18,
   "metadata": {
    "scrolled": true
   },
   "outputs": [
    {
     "data": {
      "text/plain": [
       "<div class=\"research_info_view\">\n",
       "<div class=\"researcher_idbox\">\n",
       "<ul>\n",
       "<li>\n",
       "<a href=\"http://www.researcherid.com/rid/F-4552-2015\" id=\"F-4552-2015\" target=\"_blank\"><img alt=\"ResearcherID\" class=\"tooltip\" src=\"/image/common/research_icon02.gif\" title=\"ResearcherID\"/></a>\n",
       "</li>\n",
       "<li>\n",
       "<a href=\"https://www.researchgate.net/profile/Francois_Amblard\" id=\"https://www.researchgate.net/profile/Francois_Amblard\" target=\"_blank\"><img alt=\"ResearchGate\" class=\"tooltip\" src=\"/image/common/research_icon03.gif\" title=\"ResearchGate\"/></a>\n",
       "</li>\n",
       "<li>\n",
       "<a href=\"http://orcid.org/0000-0002-7247-3873\" id=\"http://orcid.org/0000-0002-7247-3873\" target=\"_blank\"><img alt=\"ORCiD\" class=\"tooltip\" src=\"/image/common/research_icon01.gif\" title=\"ORCiD\"/></a>\n",
       "</li>\n",
       "<li>\n",
       "<a href=\"http://www.scopus.com/authid/detail.url?authorId=7004730960\" id=\"http://www.scopus.com/authid/detail.url?authorId=7004730960\" target=\"_blank\"><img alt=\"Scopus\" class=\"tooltip\" src=\"/image/common/SCPID_icon.png\" title=\"Scopus\" width=\"34\"/></a>\n",
       "</li>\n",
       "</ul>\n",
       "</div>\n",
       "<p class=\"neme_p\">\n",
       "\t\t\tAmblard, Francois (AmblardFrancois)\n",
       "\t\t\t\n",
       "\t\t</p>\n",
       "<dl>\n",
       "<dt>Department</dt>\n",
       "<dd>\n",
       "\t\t\tSchool of Life Sciences(생명과학부)\n",
       "\t\t\t</dd>\n",
       "</dl>\n",
       "<dl>\n",
       "<dt>Research Interests</dt>\n",
       "<dd>\n",
       "\t\t\tBiology, Cancer Biology\n",
       "       \t\t</dd>\n",
       "</dl>\n",
       "<dl>\n",
       "<dt>Lab</dt>\n",
       "<dd>School of Life Science</dd>\n",
       "</dl>\n",
       "<dl>\n",
       "<dt>Website</dt>\n",
       "<dd><a href=\"#\" target=\"_blank\"></a></dd>\n",
       "</dl>\n",
       "</div>"
      ]
     },
     "execution_count": 18,
     "metadata": {},
     "output_type": "execute_result"
    }
   ],
   "source": [
    "soup.find('div',{'class' : \"research_info_view\"})"
   ]
  },
  {
   "cell_type": "code",
   "execution_count": 22,
   "metadata": {},
   "outputs": [
    {
     "data": {
      "text/plain": [
       "'\\r\\n\\t\\t\\tAmblard, Francois\\xa0(AmblardFrancois)\\r\\n\\t\\t\\t\\r\\n\\t\\t'"
      ]
     },
     "execution_count": 22,
     "metadata": {},
     "output_type": "execute_result"
    }
   ],
   "source": [
    "soup.find('p',{'class':'neme_p'}).getText()"
   ]
  },
  {
   "cell_type": "code",
   "execution_count": 23,
   "metadata": {},
   "outputs": [
    {
     "data": {
      "text/plain": [
       "[<dl>\n",
       " <dt>Department</dt>\n",
       " <dd>\n",
       " \t\t\tSchool of Life Sciences(생명과학부)\n",
       " \t\t\t</dd>\n",
       " </dl>, <dl>\n",
       " <dt>Research Interests</dt>\n",
       " <dd>\n",
       " \t\t\tBiology, Cancer Biology\n",
       "        \t\t</dd>\n",
       " </dl>, <dl>\n",
       " <dt>Lab</dt>\n",
       " <dd>School of Life Science</dd>\n",
       " </dl>, <dl>\n",
       " <dt>Website</dt>\n",
       " <dd><a href=\"#\" target=\"_blank\"></a></dd>\n",
       " </dl>]"
      ]
     },
     "execution_count": 23,
     "metadata": {},
     "output_type": "execute_result"
    }
   ],
   "source": [
    "soup.find('div',{'class' : \"research_info_view\"}).findAll('dl')"
   ]
  },
  {
   "cell_type": "code",
   "execution_count": 24,
   "metadata": {},
   "outputs": [
    {
     "data": {
      "text/plain": [
       "'Amblard, Francois(AmblardFrancois)'"
      ]
     },
     "execution_count": 24,
     "metadata": {},
     "output_type": "execute_result"
    }
   ],
   "source": [
    "#name\n",
    "soup.find('p',{'class':'neme_p'}).getText().replace(\"\\xa0\",\"\").replace(\"\\r\",\"\").replace(\"\\t\",\"\").replace(\"\\n\",\"\")"
   ]
  },
  {
   "cell_type": "code",
   "execution_count": 25,
   "metadata": {},
   "outputs": [
    {
     "data": {
      "text/plain": [
       "'School of Life Sciences(생명과학부)'"
      ]
     },
     "execution_count": 25,
     "metadata": {},
     "output_type": "execute_result"
    }
   ],
   "source": [
    "#department\n",
    "soup.find('div',{'class' : \"research_info_view\"}).findAll('dl')[0].find('dd').getText().replace(\"\\r\",\"\").replace(\"\\t\",\"\").replace(\"\\n\",\"\")"
   ]
  },
  {
   "cell_type": "code",
   "execution_count": 26,
   "metadata": {},
   "outputs": [
    {
     "data": {
      "text/plain": [
       "'Biology, Cancer Biology'"
      ]
     },
     "execution_count": 26,
     "metadata": {},
     "output_type": "execute_result"
    }
   ],
   "source": [
    "#Research Interest\n",
    "soup.find('div',{'class' : \"research_info_view\"}).findAll('dl')[1].find('dd').getText().replace(\"\\r\",\"\").replace(\"\\t\",\"\").replace(\"\\n\",\"\").strip()"
   ]
  },
  {
   "cell_type": "code",
   "execution_count": 27,
   "metadata": {},
   "outputs": [
    {
     "data": {
      "text/plain": [
       "'School of Life Science'"
      ]
     },
     "execution_count": 27,
     "metadata": {},
     "output_type": "execute_result"
    }
   ],
   "source": [
    "#Lab\n",
    "soup.find('div',{'class' : \"research_info_view\"}).findAll('dl')[2].find('dd').getText()"
   ]
  },
  {
   "cell_type": "code",
   "execution_count": 28,
   "metadata": {},
   "outputs": [
    {
     "data": {
      "text/plain": [
       "''"
      ]
     },
     "execution_count": 28,
     "metadata": {},
     "output_type": "execute_result"
    }
   ],
   "source": [
    "#Website\n",
    "soup.find('div',{'class' : \"research_info_view\"}).findAll('dl')[3].find('dd').getText()"
   ]
  },
  {
   "cell_type": "markdown",
   "metadata": {},
   "source": [
    "### 학술지 정보"
   ]
  },
  {
   "cell_type": "code",
   "execution_count": 29,
   "metadata": {},
   "outputs": [
    {
     "data": {
      "text/plain": [
       "<div class=\"researcher_idbox\">\n",
       "<ul>\n",
       "<li>\n",
       "<a href=\"http://www.researcherid.com/rid/F-4552-2015\" id=\"F-4552-2015\" target=\"_blank\"><img alt=\"ResearcherID\" class=\"tooltip\" src=\"/image/common/research_icon02.gif\" title=\"ResearcherID\"/></a>\n",
       "</li>\n",
       "<li>\n",
       "<a href=\"https://www.researchgate.net/profile/Francois_Amblard\" id=\"https://www.researchgate.net/profile/Francois_Amblard\" target=\"_blank\"><img alt=\"ResearchGate\" class=\"tooltip\" src=\"/image/common/research_icon03.gif\" title=\"ResearchGate\"/></a>\n",
       "</li>\n",
       "<li>\n",
       "<a href=\"http://orcid.org/0000-0002-7247-3873\" id=\"http://orcid.org/0000-0002-7247-3873\" target=\"_blank\"><img alt=\"ORCiD\" class=\"tooltip\" src=\"/image/common/research_icon01.gif\" title=\"ORCiD\"/></a>\n",
       "</li>\n",
       "<li>\n",
       "<a href=\"http://www.scopus.com/authid/detail.url?authorId=7004730960\" id=\"http://www.scopus.com/authid/detail.url?authorId=7004730960\" target=\"_blank\"><img alt=\"Scopus\" class=\"tooltip\" src=\"/image/common/SCPID_icon.png\" title=\"Scopus\" width=\"34\"/></a>\n",
       "</li>\n",
       "</ul>\n",
       "</div>"
      ]
     },
     "execution_count": 29,
     "metadata": {},
     "output_type": "execute_result"
    }
   ],
   "source": [
    "soup.find('div',{'class' : \"researcher_idbox\"})"
   ]
  },
  {
   "cell_type": "code",
   "execution_count": 30,
   "metadata": {},
   "outputs": [
    {
     "name": "stdout",
     "output_type": "stream",
     "text": [
      "7004730960\n"
     ]
    }
   ],
   "source": [
    "for i in soup.find('div',{'class' : \"researcher_idbox\"}).findAll('a'):\n",
    "    if \"http://www.scopus.com/authid/detail.url?\" in i['href']:\n",
    "        print(i['href'].replace(\"http://www.scopus.com/authid/detail.url?authorId=\",\"\"))"
   ]
  },
  {
   "cell_type": "markdown",
   "metadata": {},
   "source": [
    "## Final\n",
    "db 스키마\n",
    "\n",
    "- id : 스코퍼스 고유 id\n",
    "- department : 소속학과\n",
    "- ResearchInterest : 관심단어\n",
    "- Lab : 연구실 명\n",
    "- Website : 웹사이트 페이지"
   ]
  },
  {
   "cell_type": "code",
   "execution_count": 56,
   "metadata": {},
   "outputs": [],
   "source": [
    "db.scholarworksfront.drop()"
   ]
  },
  {
   "cell_type": "code",
   "execution_count": 57,
   "metadata": {},
   "outputs": [
    {
     "data": {
      "text/plain": [
       "'researcher-profile?ep=2781'"
      ]
     },
     "execution_count": 57,
     "metadata": {},
     "output_type": "execute_result"
    }
   ],
   "source": [
    "link[1]"
   ]
  },
  {
   "cell_type": "code",
   "execution_count": 58,
   "metadata": {},
   "outputs": [],
   "source": [
    "def savedata(a): \n",
    "    s = a.strip()\n",
    "    url = \"http://scholarworks.unist.ac.kr/\"+s\n",
    "    r = requests.get(url)\n",
    "    soup = BeautifulSoup(r.text, 'lxml')\n",
    "    dl = soup.find('div',{'class' : \"research_info_view\"}).findAll('dl')\n",
    "    document ={}\n",
    "    try:\n",
    "        for i in soup.find('div',{'class' : \"researcher_idbox\"}).findAll('a'):\n",
    "            if \"http://www.scopus.com/authid/detail.url?\" in i['href']:\n",
    "                document['id']= i['href'].replace(\"http://www.scopus.com/authid/detail.url?authorId=\",\"\")\n",
    "    except:\n",
    "        document['id'] = \"\"\n",
    "    document['Name'] = soup.find('p',{'class':'neme_p'}).getText().replace(\"\\xa0\",\"\").replace(\"\\r\",\"\").replace(\"\\t\",\"\").replace(\"\\n\",\"\")\n",
    "    document['department']= dl[0].find('dd').getText().replace(\"\\r\",\"\").replace(\"\\t\",\"\").replace(\"\\n\",\"\")\n",
    "    document['ResearchInterest']=dl[1].find('dd').getText().replace(\"\\r\",\"\").replace(\"\\t\",\"\").replace(\"\\n\",\"\").strip()\n",
    "    document['Lab']=dl[2].find('dd').getText()\n",
    "    document['Website']=dl[3].find('dd').getText()\n",
    "    document['imglink']=soup.find(\"img\",{\"alt\":\"사진\"})['src']\n",
    "    db.scholarworksfront.insert_one(document)"
   ]
  },
  {
   "cell_type": "code",
   "execution_count": 59,
   "metadata": {},
   "outputs": [],
   "source": [
    "for i in link:\n",
    "    savedata(i)"
   ]
  },
  {
   "cell_type": "code",
   "execution_count": 60,
   "metadata": {},
   "outputs": [
    {
     "name": "stderr",
     "output_type": "stream",
     "text": [
      "/Users/seungheondoh/anaconda3/envs/python3.6/lib/python3.6/site-packages/ipykernel_launcher.py:1: DeprecationWarning: count is deprecated. Use estimated_document_count or count_documents instead. Please note that $where must be replaced by $expr, $near must be replaced by $geoWithin with $center, and $nearSphere must be replaced by $geoWithin with $centerSphere\n",
      "  \"\"\"Entry point for launching an IPython kernel.\n"
     ]
    },
    {
     "data": {
      "text/plain": [
       "312"
      ]
     },
     "execution_count": 60,
     "metadata": {},
     "output_type": "execute_result"
    }
   ],
   "source": [
    "db.scholarworksfront.count()"
   ]
  },
  {
   "cell_type": "code",
   "execution_count": null,
   "metadata": {},
   "outputs": [],
   "source": []
  }
 ],
 "metadata": {
  "kernelspec": {
   "display_name": "Python 3",
   "language": "python",
   "name": "python3"
  },
  "language_info": {
   "codemirror_mode": {
    "name": "ipython",
    "version": 3
   },
   "file_extension": ".py",
   "mimetype": "text/x-python",
   "name": "python",
   "nbconvert_exporter": "python",
   "pygments_lexer": "ipython3",
   "version": "3.7.0"
  }
 },
 "nbformat": 4,
 "nbformat_minor": 2
}
