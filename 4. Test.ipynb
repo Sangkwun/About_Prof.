{
 "cells": [
  {
   "cell_type": "code",
   "execution_count": 1,
   "metadata": {},
   "outputs": [],
   "source": [
    "import requests\n",
    "import json\n",
    "from bs4 import BeautifulSoup\n",
    "import time\n",
    "import re\n",
    "import pandas as pd\n",
    "import numpy as np\n",
    "from pymongo import MongoClient"
   ]
  },
  {
   "cell_type": "code",
   "execution_count": 2,
   "metadata": {},
   "outputs": [],
   "source": [
    "client = MongoClient()\n",
    "db = client.aboutdepart"
   ]
  },
  {
   "cell_type": "code",
   "execution_count": 3,
   "metadata": {},
   "outputs": [
    {
     "name": "stderr",
     "output_type": "stream",
     "text": [
      "/Users/seungheondoh/anaconda3/envs/python3.6/lib/python3.6/site-packages/ipykernel_launcher.py:1: DeprecationWarning: collection_names is deprecated. Use list_collection_names instead.\n",
      "  \"\"\"Entry point for launching an IPython kernel.\n"
     ]
    },
    {
     "data": {
      "text/plain": [
       "['finaldb',\n",
       " 'scholarworksfront',\n",
       " 'professor',\n",
       " 'profdata',\n",
       " 'excel',\n",
       " 'ResearchInterest',\n",
       " 'aboutdepart',\n",
       " 'professors',\n",
       " 'test1',\n",
       " 'Docdb',\n",
       " 'scholar']"
      ]
     },
     "execution_count": 3,
     "metadata": {},
     "output_type": "execute_result"
    }
   ],
   "source": [
    "db.collection_names()"
   ]
  },
  {
   "cell_type": "code",
   "execution_count": 4,
   "metadata": {},
   "outputs": [
    {
     "name": "stderr",
     "output_type": "stream",
     "text": [
      "/Users/seungheondoh/anaconda3/envs/python3.6/lib/python3.6/site-packages/ipykernel_launcher.py:2: DeprecationWarning: count is deprecated. Use estimated_document_count or count_documents instead. Please note that $where must be replaced by $expr, $near must be replaced by $geoWithin with $center, and $nearSphere must be replaced by $geoWithin with $centerSphere\n",
      "  \n"
     ]
    },
    {
     "data": {
      "text/plain": [
       "258"
      ]
     },
     "execution_count": 4,
     "metadata": {},
     "output_type": "execute_result"
    }
   ],
   "source": [
    "database = list(db.finaldb.find())\n",
    "db.finaldb.count()"
   ]
  },
  {
   "cell_type": "code",
   "execution_count": 27,
   "metadata": {},
   "outputs": [
    {
     "data": {
      "text/plain": [
       "Index(['Abstract', 'Author Ids', 'Author Keywords', 'Authors', 'Cited by',\n",
       "       'Lab', 'Link', 'Name', 'ResearchInterest', 'Source title', 'Title',\n",
       "       'Website', 'Year', '_id', 'department', 'filename', 'id'],\n",
       "      dtype='object')"
      ]
     },
     "execution_count": 27,
     "metadata": {},
     "output_type": "execute_result"
    }
   ],
   "source": [
    "dfs.columns"
   ]
  },
  {
   "cell_type": "code",
   "execution_count": 28,
   "metadata": {},
   "outputs": [
    {
     "data": {
      "text/html": [
       "<div>\n",
       "<style scoped>\n",
       "    .dataframe tbody tr th:only-of-type {\n",
       "        vertical-align: middle;\n",
       "    }\n",
       "\n",
       "    .dataframe tbody tr th {\n",
       "        vertical-align: top;\n",
       "    }\n",
       "\n",
       "    .dataframe thead th {\n",
       "        text-align: right;\n",
       "    }\n",
       "</style>\n",
       "<table border=\"1\" class=\"dataframe\">\n",
       "  <thead>\n",
       "    <tr style=\"text-align: right;\">\n",
       "      <th></th>\n",
       "      <th>Title</th>\n",
       "      <th>Abstract</th>\n",
       "      <th>Author Keywords</th>\n",
       "      <th>Name</th>\n",
       "      <th>ResearchInterest</th>\n",
       "      <th>department</th>\n",
       "    </tr>\n",
       "  </thead>\n",
       "  <tbody>\n",
       "    <tr>\n",
       "      <th>0</th>\n",
       "      <td>[Entrepreneurs' decisions to exploit opportuni...</td>\n",
       "      <td>[Entrepreneurs' decisions to exploit opportuni...</td>\n",
       "      <td>[nan, Behavioral decision-making; Business gro...</td>\n",
       "      <td>Choi, Young Rok(최영록)</td>\n",
       "      <td>Entrepreneurship, Innovation Strategy, Family ...</td>\n",
       "      <td>Graduate School of Technology and Innovation M...</td>\n",
       "    </tr>\n",
       "    <tr>\n",
       "      <th>1</th>\n",
       "      <td>[Explaining dyadic expertise use in knowledge ...</td>\n",
       "      <td>[Organizations use project teams to lower sear...</td>\n",
       "      <td>[expertise awareness; expertise use; knowledge...</td>\n",
       "      <td>Hong, Woonki(홍운기)</td>\n",
       "      <td>Expertise utilization, Transactive menory syst...</td>\n",
       "      <td>School of Business Administration(경영학부)</td>\n",
       "    </tr>\n",
       "    <tr>\n",
       "      <th>2</th>\n",
       "      <td>[Trading behavior prior to public release of a...</td>\n",
       "      <td>[This paper investigates information leakage f...</td>\n",
       "      <td>[nan, nan, Business group; Chaebol; Control-ca...</td>\n",
       "      <td>Jung, Kooyul(정구열)</td>\n",
       "      <td>Accounting Information and capital market, Ana...</td>\n",
       "      <td>Graduate School of Technology and Innovation M...</td>\n",
       "    </tr>\n",
       "    <tr>\n",
       "      <th>3</th>\n",
       "      <td>[CSR and Shareholder Value in the Restaurant I...</td>\n",
       "      <td>[Studies on the effects of corporate social re...</td>\n",
       "      <td>[annual reports; communication; corporate soci...</td>\n",
       "      <td>Kim, MinChung(김민중)</td>\n",
       "      <td>Marketing strategies and their impact on finan...</td>\n",
       "      <td>School of Business Administration(경영학부)</td>\n",
       "    </tr>\n",
       "    <tr>\n",
       "      <th>4</th>\n",
       "      <td>[Consumer Communities Do Well, But Will They D...</td>\n",
       "      <td>[Brand communities and corporate social respon...</td>\n",
       "      <td>[Brand community; Consumer communities; Corpor...</td>\n",
       "      <td>Kim, Molan(김모란)</td>\n",
       "      <td>Online Database Marketing, Social Media Market...</td>\n",
       "      <td>School of Business Administration(경영학부)</td>\n",
       "    </tr>\n",
       "  </tbody>\n",
       "</table>\n",
       "</div>"
      ],
      "text/plain": [
       "                                               Title  \\\n",
       "0  [Entrepreneurs' decisions to exploit opportuni...   \n",
       "1  [Explaining dyadic expertise use in knowledge ...   \n",
       "2  [Trading behavior prior to public release of a...   \n",
       "3  [CSR and Shareholder Value in the Restaurant I...   \n",
       "4  [Consumer Communities Do Well, But Will They D...   \n",
       "\n",
       "                                            Abstract  \\\n",
       "0  [Entrepreneurs' decisions to exploit opportuni...   \n",
       "1  [Organizations use project teams to lower sear...   \n",
       "2  [This paper investigates information leakage f...   \n",
       "3  [Studies on the effects of corporate social re...   \n",
       "4  [Brand communities and corporate social respon...   \n",
       "\n",
       "                                     Author Keywords                  Name  \\\n",
       "0  [nan, Behavioral decision-making; Business gro...  Choi, Young Rok(최영록)   \n",
       "1  [expertise awareness; expertise use; knowledge...     Hong, Woonki(홍운기)   \n",
       "2  [nan, nan, Business group; Chaebol; Control-ca...     Jung, Kooyul(정구열)   \n",
       "3  [annual reports; communication; corporate soci...    Kim, MinChung(김민중)   \n",
       "4  [Brand community; Consumer communities; Corpor...       Kim, Molan(김모란)   \n",
       "\n",
       "                                    ResearchInterest  \\\n",
       "0  Entrepreneurship, Innovation Strategy, Family ...   \n",
       "1  Expertise utilization, Transactive menory syst...   \n",
       "2  Accounting Information and capital market, Ana...   \n",
       "3  Marketing strategies and their impact on finan...   \n",
       "4  Online Database Marketing, Social Media Market...   \n",
       "\n",
       "                                          department  \n",
       "0  Graduate School of Technology and Innovation M...  \n",
       "1            School of Business Administration(경영학부)  \n",
       "2  Graduate School of Technology and Innovation M...  \n",
       "3            School of Business Administration(경영학부)  \n",
       "4            School of Business Administration(경영학부)  "
      ]
     },
     "execution_count": 28,
     "metadata": {},
     "output_type": "execute_result"
    }
   ],
   "source": [
    "dfs = pd.DataFrame(database)\n",
    "df = dfs[['Title','Abstract','Author Keywords','Name','ResearchInterest','department']]\n",
    "df.head()"
   ]
  },
  {
   "cell_type": "code",
   "execution_count": 51,
   "metadata": {},
   "outputs": [
    {
     "data": {
      "text/plain": [
       "['Choi, Young Rok(최영록)',\n",
       " 'Graduate School of Technology and Innovation Management(기술경영전문대학원)']"
      ]
     },
     "execution_count": 51,
     "metadata": {},
     "output_type": "execute_result"
    }
   ],
   "source": [
    "target = []\n",
    "for i in range(len(df)):\n",
    "    a = df.iloc[i]['Name']\n",
    "    b = df.iloc[i]['department']\n",
    "    target.append([a,b])\n",
    "target[0]"
   ]
  },
  {
   "cell_type": "code",
   "execution_count": 29,
   "metadata": {},
   "outputs": [],
   "source": [
    "docs = []\n",
    "for i in range(len(df)):\n",
    "    doc = []\n",
    "    a = df.iloc[i]['Title']\n",
    "    b = df.iloc[i]['Abstract']\n",
    "    c = df.iloc[i]['Author Keywords']\n",
    "    for x,y,z in zip(a,b,c):\n",
    "        temp = []\n",
    "        temp.append(x+\" \"+y+\" \"+z)\n",
    "        doc.append(temp)\n",
    "    docs.append(doc)"
   ]
  },
  {
   "cell_type": "code",
   "execution_count": 30,
   "metadata": {},
   "outputs": [
    {
     "name": "stderr",
     "output_type": "stream",
     "text": [
      "/Users/seungheondoh/anaconda3/envs/python3.6/lib/python3.6/site-packages/ipykernel_launcher.py:1: SettingWithCopyWarning: \n",
      "A value is trying to be set on a copy of a slice from a DataFrame.\n",
      "Try using .loc[row_indexer,col_indexer] = value instead\n",
      "\n",
      "See the caveats in the documentation: http://pandas.pydata.org/pandas-docs/stable/indexing.html#indexing-view-versus-copy\n",
      "  \"\"\"Entry point for launching an IPython kernel.\n"
     ]
    },
    {
     "data": {
      "text/html": [
       "<div>\n",
       "<style scoped>\n",
       "    .dataframe tbody tr th:only-of-type {\n",
       "        vertical-align: middle;\n",
       "    }\n",
       "\n",
       "    .dataframe tbody tr th {\n",
       "        vertical-align: top;\n",
       "    }\n",
       "\n",
       "    .dataframe thead th {\n",
       "        text-align: right;\n",
       "    }\n",
       "</style>\n",
       "<table border=\"1\" class=\"dataframe\">\n",
       "  <thead>\n",
       "    <tr style=\"text-align: right;\">\n",
       "      <th></th>\n",
       "      <th>Title</th>\n",
       "      <th>Abstract</th>\n",
       "      <th>Author Keywords</th>\n",
       "      <th>Name</th>\n",
       "      <th>ResearchInterest</th>\n",
       "      <th>department</th>\n",
       "      <th>docs</th>\n",
       "    </tr>\n",
       "  </thead>\n",
       "  <tbody>\n",
       "    <tr>\n",
       "      <th>0</th>\n",
       "      <td>[Entrepreneurs' decisions to exploit opportuni...</td>\n",
       "      <td>[Entrepreneurs' decisions to exploit opportuni...</td>\n",
       "      <td>[nan, Behavioral decision-making; Business gro...</td>\n",
       "      <td>Choi, Young Rok(최영록)</td>\n",
       "      <td>Entrepreneurship, Innovation Strategy, Family ...</td>\n",
       "      <td>Graduate School of Technology and Innovation M...</td>\n",
       "      <td>[[Entrepreneurs' decisions to exploit opportun...</td>\n",
       "    </tr>\n",
       "    <tr>\n",
       "      <th>1</th>\n",
       "      <td>[Explaining dyadic expertise use in knowledge ...</td>\n",
       "      <td>[Organizations use project teams to lower sear...</td>\n",
       "      <td>[expertise awareness; expertise use; knowledge...</td>\n",
       "      <td>Hong, Woonki(홍운기)</td>\n",
       "      <td>Expertise utilization, Transactive menory syst...</td>\n",
       "      <td>School of Business Administration(경영학부)</td>\n",
       "      <td>[[Explaining dyadic expertise use in knowledge...</td>\n",
       "    </tr>\n",
       "    <tr>\n",
       "      <th>2</th>\n",
       "      <td>[Trading behavior prior to public release of a...</td>\n",
       "      <td>[This paper investigates information leakage f...</td>\n",
       "      <td>[nan, nan, Business group; Chaebol; Control-ca...</td>\n",
       "      <td>Jung, Kooyul(정구열)</td>\n",
       "      <td>Accounting Information and capital market, Ana...</td>\n",
       "      <td>Graduate School of Technology and Innovation M...</td>\n",
       "      <td>[[Trading behavior prior to public release of ...</td>\n",
       "    </tr>\n",
       "    <tr>\n",
       "      <th>3</th>\n",
       "      <td>[CSR and Shareholder Value in the Restaurant I...</td>\n",
       "      <td>[Studies on the effects of corporate social re...</td>\n",
       "      <td>[annual reports; communication; corporate soci...</td>\n",
       "      <td>Kim, MinChung(김민중)</td>\n",
       "      <td>Marketing strategies and their impact on finan...</td>\n",
       "      <td>School of Business Administration(경영학부)</td>\n",
       "      <td>[[CSR and Shareholder Value in the Restaurant ...</td>\n",
       "    </tr>\n",
       "    <tr>\n",
       "      <th>4</th>\n",
       "      <td>[Consumer Communities Do Well, But Will They D...</td>\n",
       "      <td>[Brand communities and corporate social respon...</td>\n",
       "      <td>[Brand community; Consumer communities; Corpor...</td>\n",
       "      <td>Kim, Molan(김모란)</td>\n",
       "      <td>Online Database Marketing, Social Media Market...</td>\n",
       "      <td>School of Business Administration(경영학부)</td>\n",
       "      <td>[[Consumer Communities Do Well, But Will They ...</td>\n",
       "    </tr>\n",
       "  </tbody>\n",
       "</table>\n",
       "</div>"
      ],
      "text/plain": [
       "                                               Title  \\\n",
       "0  [Entrepreneurs' decisions to exploit opportuni...   \n",
       "1  [Explaining dyadic expertise use in knowledge ...   \n",
       "2  [Trading behavior prior to public release of a...   \n",
       "3  [CSR and Shareholder Value in the Restaurant I...   \n",
       "4  [Consumer Communities Do Well, But Will They D...   \n",
       "\n",
       "                                            Abstract  \\\n",
       "0  [Entrepreneurs' decisions to exploit opportuni...   \n",
       "1  [Organizations use project teams to lower sear...   \n",
       "2  [This paper investigates information leakage f...   \n",
       "3  [Studies on the effects of corporate social re...   \n",
       "4  [Brand communities and corporate social respon...   \n",
       "\n",
       "                                     Author Keywords                  Name  \\\n",
       "0  [nan, Behavioral decision-making; Business gro...  Choi, Young Rok(최영록)   \n",
       "1  [expertise awareness; expertise use; knowledge...     Hong, Woonki(홍운기)   \n",
       "2  [nan, nan, Business group; Chaebol; Control-ca...     Jung, Kooyul(정구열)   \n",
       "3  [annual reports; communication; corporate soci...    Kim, MinChung(김민중)   \n",
       "4  [Brand community; Consumer communities; Corpor...       Kim, Molan(김모란)   \n",
       "\n",
       "                                    ResearchInterest  \\\n",
       "0  Entrepreneurship, Innovation Strategy, Family ...   \n",
       "1  Expertise utilization, Transactive menory syst...   \n",
       "2  Accounting Information and capital market, Ana...   \n",
       "3  Marketing strategies and their impact on finan...   \n",
       "4  Online Database Marketing, Social Media Market...   \n",
       "\n",
       "                                          department  \\\n",
       "0  Graduate School of Technology and Innovation M...   \n",
       "1            School of Business Administration(경영학부)   \n",
       "2  Graduate School of Technology and Innovation M...   \n",
       "3            School of Business Administration(경영학부)   \n",
       "4            School of Business Administration(경영학부)   \n",
       "\n",
       "                                                docs  \n",
       "0  [[Entrepreneurs' decisions to exploit opportun...  \n",
       "1  [[Explaining dyadic expertise use in knowledge...  \n",
       "2  [[Trading behavior prior to public release of ...  \n",
       "3  [[CSR and Shareholder Value in the Restaurant ...  \n",
       "4  [[Consumer Communities Do Well, But Will They ...  "
      ]
     },
     "execution_count": 30,
     "metadata": {},
     "output_type": "execute_result"
    }
   ],
   "source": [
    "df['docs'] = docs\n",
    "df.head()"
   ]
  },
  {
   "cell_type": "code",
   "execution_count": 31,
   "metadata": {},
   "outputs": [
    {
     "data": {
      "text/plain": [
       "[[\"Entrepreneurs' decisions to exploit opportunities Entrepreneurs' decisions to exploit opportunities nan\"],\n",
       " ['Family ownership and R&D investment: The role of growth opportunities and business group membership This study examines whether the influence of family ownership on R&D investment varies depending on growth opportunities and business group membership. Using data on Korean firms over ten years (1998-2007), the study shows that family ownership is negatively related to R&D investment, but the relationship becomes positive when growth opportunities are present. The moderating effect, however, differs between independent family firms and family business groups. The positive influence that growth opportunities have on promoting R&D investment is diminished for affiliates of family business groups. These findings imply that family owners invest more in R&D when their family control goals are threatened by the loss of growth potential. The empirical results of this study and its behavioral decision-making model help to bridge the gap between the predictions of the family control perspective and agency theory in explaining R&D investment by family firms in an emerging economy. © 2014 Elsevier Inc. Behavioral decision-making; Business groups; Family ownership; Growth opportunities; R&D investment'],\n",
       " [\"Entrepreneurs' Decisions to Exploit Opportunities Opportunity exploitation is a necessary step in creating a successful business in the en- trepreneurial process, yet there has been little conceptual and empirical development of this issue in the literature. This study examines the decisions of entrepreneurs to begin exploiting business opportunities from a resource-based view. Our analysis of a sample of entrepreneurs whose businesses are located in incubators suggests that entrepreneurs are more likely to exploit opportunities when they perceive more knowledge of customer demand for the new product, more fully developed necessary technologies, greater managerial capability, and greater stakeholder support. Moreover, the findings of this study shed a light on a less empha- sized aspect of the resource-based view: the new product's anticipated lead time acts as an enhancing moderator in entrepreneurs' exploitation decision policies. Implications for future research on opportunity exploitation are discussed. © Dean A. Shepherd 2014. All rights reserved. nan\"],\n",
       " ['When should entrepreneurs expedite or delay opportunity exploitation? We theorize on the performance implications of the timing at which entrepreneurs stop exploring their business opportunities and start exploiting them. Using an optimal-stopping approach, wc characterize the time when exploitation should begin based primarily on when an entrepreneur\\'s ignorance has been sufficiently reduced through knowledge accumulation. This \"ignorance threshold\" captures a tradeoff between the time needed to increase legitimacy and the necessity to act now to minimize competition. Changes in legitimacy and competition arc based on how entrepreneurs manage their knowledge (tacit versus explicit) under differing degrees of novelty for the business opportunity. These changes, in turn, impact the performance and timing of opportunity exploitation. © Dean A. Shepherd 2014. All rights reserved. Ignorance reduction; Knowledge management; Opportunity exploitation; Optimal stopping; Timing of exploitation'],\n",
       " ['Exploration, exploitation, and growth through new product development: The moderating effects of firm age and environmental adversity This study investigates how firm age and environmental adversity influence exploration and exploitation and whether the balance between them increases new product development. We also examine if new product development in new and mature firms leads to equivalent growth rates. Empirical results obtained from a survey of small- and medium-sized technology-based manufacturing firms in Korea show that while relative exploration generally remains lower in mature firms than in new firms, it more rapidly increases in mature firms when they operate in adverse environments. Interestingly, our results show that mature firms achieve lower growth rates through new product development than new firms in adverse environments. These empirical findings advance our understanding of the age-dependent antecedents and consequences of new product development. © 1988-2012 IEEE. Adverse environments; exploitation; exploration; firm age; firm growth; new product development'],\n",
       " [\"Market-oriented institutional change and R&D investments: Do business groups enhance advantage? Emerging market firms (EMFs) are increasingly relying on innovation to find their competitive advantage, but our understanding of how institutional change affects firm innovation has been limited. We analyzed Korean manufacturing firms from 1994 to 2006 to test the proposition that market-oriented institutional change in an emerging economy alleviates firms' financing constraints and monitoring problems and improves the effectiveness of their innovation activities. Institutional evolution in the economy was found to affect Korean business groups and independent firms differently. Institutional change reduced the financing constraints on independent firms more than for business group affiliates in R&D investment. Independent firms, however, appeared less capable than group affiliates of translating the benefits of improved institutional environments into efficient R&D investment. This asymmetry may lead to a wider gap in the efficiency of R&D investment between business group affiliates and independent firms. © 2013 Elsevier Inc. Business groups; Financing constraints; Governance reforms; Institutional change; Research and development\"],\n",
       " [\"Ownership structure, business group affiliation and R&D investments Existing governance theories offer contrasting views on the potential effect that controlling owners have on a firm's innovation investment decisions: the stewardship perspective suggests a positive influence, whereas the principal-principal (PP) conflict perspective posits a negative influence. In this study, we attempt to reconcile these views. We propose that business group affiliation determines the extent to which the interests of controlling owners and affiliated firms are congruent, and may motivate controlling owners to behave opportunistically. Our analysis of Korean companies shows that controlling owners of independent firms significantly promote R&D investments, particularly when growth opportunities are plentiful. However, the relationship becomes much weaker for business group affiliates. © 2012 IEEE. business group; controlling ownership; R&D investments\"],\n",
       " ['When should entrepreneurs expedite or delay opportunity exploitation? We theorize on the performance implications of the timing at which entrepreneurs stop exploring their business opportunities and start exploiting them. Using an optimal-stopping approach, we characterize the time when exploitation should begin based primarily on when an entrepreneur\\'s ignorance has been sufficiently reduced through knowledge accumulation. This \"ignorance threshold\" captures a tradeoff between the time needed to increase legitimacy and the necessity to act now to minimize competition. Changes in legitimacy and competition are based on how entrepreneurs manage their knowledge (tacit versus explicit) under differing degrees of novelty for the business opportunity. These changes, in turn, impact the performance and timing of opportunity exploitation. © 2006 Elsevier Inc. All rights reserved. Ignorance reduction; Knowledge management; Opportunity exploitation; Optimal stopping; Timing of exploitation'],\n",
       " ['The influences of economic and technology policy on the dynamics of new firm formation This study attempts to reveal how macroeconomic and technology policies that encompass the opportunity and individual drivers of entrepreneurship explain the dynamics of new firm formation in a country. To do so we rely on the Schumpeterian, industrial organization, and labor economics traditions of entrepreneurship, and performed an exploratory test with longitudinal U.S. data from 1968 to 1993. The results of this study suggest that R&D investments, patents, economic concentration, pro-competition policy, and labor mobility are important areas in which government policy can influence the intensity of new firm formation. © Springer 2006. Entrepreneurial policy; Government; New firm formation'],\n",
       " [\"Stakeholder perceptions of age and other dimensions of newness Using verbal protocol and conjoint analyses, this study examines how stakeholders assess an organization in deciding whether to provide their support to it. The authors find that stakeholders' support depends on their perceptions of an organization's age and other dimensions of newness related to addressing management challenges of adaptation - the entrepreneurial problem, the engineering problem, and the administrative problem. Stakeholder support is more likely for those organizations that are old, cognitively legitimate, affectively congruent, reliable, accountable, and strategically flexible. The authors conclude with theoretical implications for scholars and practical implications for resource acquisition in various contexts of entrepreneurship. © 2005 Southern Management Association. All rights reserved. Asset of newness; Entrepreneurship; Liability of newness; Stakeholder theory\"],\n",
       " [\"Dynamics of new firm formation: Impacts of economic and technology policy This study investigates how entrepreneurial policies that encompass opportunity, individual, and resource aspects of entrepreneurship explain dynamics of new firm formation in a country. We rely on the Schumpeterian, industrial organization economics, and organizational ecology traditions, and performed an exploratory test with a longitudinal U.S. data (1968-1993). The results of this study suggest that technological knowledge capital, economic opportunity structure, labor mobility, and a nation's carrying capacity for entrepreneurial activities are important areas in which government policy can positively influence the intensity of new firm formation. © 2004 IEEE. Entrepreneurship; New firm; Policy\"],\n",
       " [\"Entrepreneurs' decisions to exploit opportunities Opportunity exploitation is a necessary step in creating a successful business in the entrepreneurial process, yet there has been little conceptual and empirical development of this issue in the literature. This study examines the decisions of entrepreneurs to begin exploiting business opportunities from a resource-based view. Our analysis of a sample of entrepreneurs whose businesses are located in incubators suggests that entrepreneurs are more likely to exploit opportunities when they perceive more knowledge of customer demand for the new product, more fully developed necessary technologies, greater managerial capability, and greater stakeholder support. Moreover, the findings of this study shed a light on a less emphasized aspect of the resource-based view: the new product's anticipated lead time acts as an enhancing moderator in entrepreneurs' exploitation decision policies. Implications for future research on opportunity exploitation are discussed. © 2003 Elsevier Inc. All rights reserved. nan\"],\n",
       " ['Strategic Types and Performances of Small Firms in Korea YOUNGBAE KIM IS AN ASSISTANT professor of management and policy in the Korea Advanced Institute of Science and Technology, Taejon, South Korea and Youngrok Choi is a researcher in the nuclear policy division of the Korea Atomic Energy Research Institute, Taejon, Korea. This study attempts to identify the patterns of strategic behaviour of small firms in Korea in conjunction with their performance. Based on the data from 79 small firms across four industries, the results reveal that there appear to be four common strategic attributes cost efficiency, innovative differentiation, marketing differentiation, and asset parsimony and five strategic types of firms which have distinct combinations of these strategic attributes innovative, versatile, marginal, and reactive types. Each type of firm was also found to have different organisational characteristics and performance level. Finally, this study discusses the comparative management issue in the field of strategic management and offers some practical implications for managers of small firms. © 1994, Sage Publications. All rights reserved. nan']]"
      ]
     },
     "execution_count": 31,
     "metadata": {},
     "output_type": "execute_result"
    }
   ],
   "source": [
    "df.iloc[0]['docs']"
   ]
  },
  {
   "cell_type": "code",
   "execution_count": 32,
   "metadata": {},
   "outputs": [],
   "source": [
    "def from_iterable(iterables):\n",
    "    # chain.from_iterable(['ABC', 'DEF']) --> ['A', 'B', 'C', 'D', 'E', 'F']\n",
    "    for it in iterables:\n",
    "        for element in it:\n",
    "            yield element"
   ]
  },
  {
   "cell_type": "code",
   "execution_count": 33,
   "metadata": {},
   "outputs": [],
   "source": [
    "text = []\n",
    "for idx, j in enumerate(df['docs']):\n",
    "    add = \"\"\n",
    "    for i in list(from_iterable(j)):\n",
    "        add = add + \" \" + i\n",
    "    text.append(add)"
   ]
  },
  {
   "cell_type": "code",
   "execution_count": 34,
   "metadata": {},
   "outputs": [
    {
     "data": {
      "text/plain": [
       "\" DXR: A Toolkit for Building Immersive Data Visualizations This paper presents DXR, a toolkit for building immersive data visualizations based on the Unity development platform. Over the past years, immersive data visualizations in augmented and virtual reality (AR, VR) have been emerging as a promising medium for data sense-making beyond the desktop. However, creating immersive visualizations remains challenging, and often require complex low-level programming and tedious manual encoding of data attributes to geometric and visual properties. These can hinder the iterative idea-to-prototype process, especially for developers without experience in 3D graphics, AR, and VR programming. With DXR, developers can efficiently specify visualization designs using a concise declarative visualization grammar inspired by Vega-Lite. DXR further provides a GUI for easy and quick edits and previews of visualization designs in-situ, i.e., while immersed in the virtual world. DXR also provides reusable templates and customizable graphical marks, enabling unique and engaging visualizations. We demonstrate the flexibility of DXR through several examples spanning a wide range of applications. IEEE Augmented Reality; Data visualization; Graphical user interfaces; Immersive Analytics; Immersive Visualization; Libraries; Programming; Three-dimensional displays; Tools; Virtual Reality; Visualization; Visualization Toolkit Compressed Sensing MRI Reconstruction Using a Generative Adversarial Network With a Cyclic Loss Compressed sensing magnetic resonance imaging (CS-MRI) has provided theoretical foundations upon which the time-consuming MRI acquisition process can be accelerated. However, it primarily relies on iterative numerical solvers, which still hinders their adaptation in time-critical applications. In addition, recent advances in deep neural networks have shown their potential in computer vision and image processing, but their adaptation to MRI reconstruction is still in an early stage. In this paper, we propose a novel deep learning-based generative adversarial model, RefineGAN, for fast and accurate CS-MRI reconstruction. The proposed model is a variant of fully-residual convolutional autoencoder and generative adversarial networks (GANs), specifically designed for CS-MRI formulation; it employs deeper generator and discriminator networks with cyclic data consistency loss for faithful interpolation in the given under-sampled k-space data. In addition, our solution leverages a chained network to further enhance the reconstruction quality. RefineGAN is fast and accurate - the reconstruction process is extremely rapid, as low as tens of milliseconds for reconstruction of a 256×256 image, because it is one-way deployment on a feed-forward network, and the image quality is superior even for extremely low sampling rate (as low as 10%) due to the data-driven nature of the method. We demonstrate that RefineGAN outperforms the state-of-the-art CS-MRI methods by a large margin in terms of both running time and image quality via evaluation using several open-source MRI databases. © 2018 IEEE. Compressed sensing; CycleGAN; DiscoGAN; GAN; MRI Compressed sensing dynamic MRI reconstruction using multi-scale 3D convolutional sparse coding with elastic net regularization In this paper, we introduce a fast alternating method to reconstruct highly undersampled dynamic MRI data by using multi-scale 3D convolutional sparse coding. The proposed method concurrently builds a multi-scale 3D dictionary as the MRI reconstruction proceeds by using a variant of the alternating direction method of multipliers algorithm. In addition, elastic net regularization is also applied to take the advantages of both lasso and ridge regularizations for promoting better sparse approximation to the measurement data. We demonstrate that the reconstruction quality of our method is higher than the state-of-the-art dictionary-based MRI reconstruction algorithms. © 2018 IEEE. Compressed Sensing; Elastic Net Regularization; GPU; MRI; Multi-scale 3D CSC An Intelligent System Approach for Probabilistic Volume Rendering Using Hierarchical 3D Convolutional Sparse Coding In this paper, we propose a novel machine learning-based voxel classification method for highly-accurate volume rendering. Unlike conventional voxel classification methods that incorporate intensity-based features, the proposed method employs dictionary based features learned directly from the input data using hierarchical multi-scale 3D convolutional sparse coding, a novel extension of the state-of-the-art learning-based sparse feature representation method. The proposed approach automatically generates high-dimensional feature vectors in up to 75 dimensions, which are then fed into an intelligent system built on a random forest classifier for accurately classifying voxels from only a handful of selection scribbles made directly on the input data by the user. We apply the probabilistic transfer function to further customize and refine the rendered result. The proposed method is more intuitive to use and more robust to noise in comparison with conventional intensity-based classification methods. We evaluate the proposed method using several synthetic and real-world volume datasets, and demonstrate the methods usability through a user study. © 1995-2012 IEEE. Hierarchically Convolutional Sparse Coding; Machine Learning; Volume Rendering GPU in-memory processing using spark for iterative computation Due to its simplicity and scalability, MapReduce has become a de facto standard computing model for big data processing. Since the original MapReduce model was only appropriate for embarrassingly parallel batch processing, many follow-up studies have focused on improving the efficiency and performance of the model. Spark follows one of these recent trends by providing in-memory processing capability to reduce slow disk I/O for iterative computing tasks. However, the acceleration of Spark's in-memory processing using graphics processing units (GPUs) is challenging due to its deep memory hierarchy and host-To-GPU communication overhead. In this paper, we introduce a novel GPU-Accelerated MapReduce framework that extends Spark's in-memory processing so that iterative computing is performed only in the GPU memory. Having discovered that the main bottleneck in the current Spark system for GPU computing is data communication on a Java virtual machine, we propose a modification of the current Spark implementation to bypass expensive data management for iterative task offloading to GPUs. We also propose a novel GPU in-memory processing and caching framework that minimizes host-To-GPU communication via lazy evaluation and reuses GPU memory over multiple mapper executions. The proposed system employs message-passing interface (MPI)-based data synchronization for inter-worker communication so that more complicated iterative computing tasks, such as iterative numerical solvers, can be efficiently handled. We demonstrate the performance of our system in terms of several iterative computing tasks in big data processing applications, including machine learning and scientific computing. We achieved up to 50 times speed up over conventional Spark and about 10 times speed up over GPU-Accelerated Spark. © 2017 IEEE. GPU; In-memory Computing; MapReduce; Spark Whole-brain serial-section electron microscopy in larval zebrafish High-resolution serial-section electron microscopy (ssEM) makes it possible to investigate the dense meshwork of axons, dendrites, synapses that form neuronal circuits. However, the imaging scale required to comprehensively reconstruct these structures is more than ten orders of magnitude smaller than the spatial extents occupied by networks of interconnected neurons, some of which span nearly the entire brain. Difficulties in generating and handling data for large volumes at nanoscale resolution have thus restricted vertebrate studies to fragments of circuits. These efforts were recently transformed by advances in computing, sample handling, imaging techniques, but high-resolution examination of entire brains remains a challenge. Here, we present ssEM data for the complete brain of a larval zebrafish (Danio rerio) at 5.5 days post-fertilization. Our approach utilizes multiple rounds of targeted imaging at different scales to reduce acquisition time and data management requirements. The resulting dataset can be analysed to reconstruct neuronal processes, permitting us to survey all myelinated axons (the projectome). These reconstructions enable precise investigations of neuronal morphology, which reveal remarkable bilateral symmetry in myelinated reticulospinal and lateral line afferent axons. We further set the stage for whole-brain structure-function comparisons by co-registering functional reference atlases and in vivo two-photon fluorescence microscopy data from the same specimen. All obtained images and reconstructions are provided as an open-access resource. © 2017 Macmillan Publishers Limited, part of Springer Nature. All rights reserved. nan A Group-Ordered Fast Iterative Method for Eikonal Equations In the past decade, many numerical algorithms for the Eikonal equation have been proposed. Recently, the research of Eikonal equation solver has focused more on developing efficient parallel algorithms in order to leverage the computing power of parallel systems, such as multi-core CPUs and GPUs (Graphics Processing Units). In this paper, we introduce an efficient parallel algorithm that extends Jeong et al.'s FIM (Fast Iterative Method, [1]), originally developed for the GPU, for multi-core shared memory systems. First, we propose a parallel implementation of FIM using a lock-free local queue approach and provide an in-depth analysis of the parallel performance of the method. Second, we propose a new parallel algorithm, Group-Ordered Fast Iterative Method (GO-FIM), that exploits causality of grid blocks to reduce redundant computations, which was the main drawback of the original FIM. In addition, the proposed GO-FIM method employs clustering of blocks based on the updating order where each cluster can be updated in parallel using multi-core parallel architectures. We discuss the performance of GO-FIM and compare with the state-of-the-art parallel Eikonal equation solvers. © 2016 IEEE. Eikonal equation; GPU; parallel computing ssEMnet: Serial-section electron microscopy image registration using a spatial transformer network with learned features The alignment of serial-section electron microscopy (ssEM) images is critical for efforts in neuroscience that seek to reconstruct neuronal circuits. However, each ssEM plane contains densely packed structures that vary from one section to the next, which makes matching features across images a challenge. Advances in deep learning has resulted in unprecedented performance in similar computer vision problems, but to our knowledge, they have not been successfully applied to ssEM image co-registration. In this paper, we introduce a novel deep network model that combines a spatial transformer for image deformation and a convolutional autoencoder for unsupervised feature learning for robust ssEM image alignment. This results in improved accuracy and robustness while requiring substantially less user intervention than conventional methods. We evaluate our method by comparing registration quality across several datasets. © Springer International Publishing AG 2017. nan A Fast Discrete Wavelet Transform Using Hybrid Parallelism on GPUs Wavelet transform has been widely used in many signal and image processing applications. Due to its wide adoption for time-critical applications, such as streaming and real-time signal processing, many acceleration techniques were developed during the past decade. Recently, the graphics processing unit (GPU) has gained much attention for accelerating computationally-intensive problems and many solutions of GPU-based discrete wavelet transform (DWT) have been introduced, but most of them did not fully leverage the potential of the GPU. In this paper, we present various state-of-the-art GPU optimization strategies in DWT implementation, such as leveraging shared memory, registers, warp shuffling instructions, and thread- and instruction-level parallelism (TLP, ILP), and finally elaborate our hybrid approach to further boost up its performance. In addition, we introduce a novel mixed-band memory layout for Haar DWT, where multi-level transform can be carried out in a single fused kernel launch. As a result, unlike recent GPU DWT methods that focus mainly on maximizing ILP, we show that the optimal GPU DWT performance can be achieved by hybrid parallelism combining both TLP and ILP together in a mixed-band approach. We demonstrate the performance of our proposed method by comparison with other CPU and GPU DWT methods. © 2016 IEEE. bit rotation; GPU computing; hybrid parallelism; lifting scheme; Wavelet transform Compressed sensing reconstruction of dynamic contrast enhanced MRI using GPU-accelerated convolutional sparse coding In this paper, we propose a data-driven image reconstruction algorithm that specifically aims to reconstruct undersampled dynamic contrast enhanced (DCE) MRI data. The proposed method is based on the convolutional sparse coding algorithm, which leverages the Fourier convolution theorem to accelerate the process of learning a collections of filters and iteratively refines the reconstruction result using the sparse codes found during the reconstruction process. We introduce a novel energy formation based on the learning over time-varing DCE-MRI images, and propose an extension of Alternating Direction Method of Multiplier (ADMM) method to solve the constrained optimization problem efficiently using the GPU. We assess the performance of the proposed method by comparing with the state-of-the-art dictionary-based compressed sensing (CS) MRI method. © 2016 IEEE. Compressed Sensing; Convolutional Sparse Coding; GPU; MRI A multi-GPU fast iterative method for eikonal equations using on-the-fly adaptive domain decomposition The recent research trend of Eikonal solver focuses on employing state-of-the-art parallel computing technology, such as GPUs. Even though there exists previous work on GPU-based parallel Eikonal solvers, only little research literature exists on the multi-GPU Eikonal solver due to its complication in data and work management. In this paper, we propose a novel on-the-y, adaptive domain decomposition method for e cient implementation of the Block-based Fast Iterative Method on a multi-GPU system. The proposed method is based on dynamic domain decomposition so that the region to be processed by each GPU is determined on-the-y when the solver is running. In addition, we propose an e cient domain assignment algorithm that minimizes communication overhead while maximizing load balancing between GPUs. The proposed method scales well, up to 6.17× for eight GPUs, and can handle large computing problems that do not t to limited GPU memory. We assess the parallel e ciency and runtime performance of the proposed method on various distance computation examples using up to eight GPUs. © The Authors. Published by Elsevier B.V. Domain decomposition; Eikonal equation; GPU; Parallel computing Compressed sensing dynamic MRI reconstruction using GPU-accelerated 3D convolutional sparse coding In this paper,we introduce a fast alternating method for reconstructing highly undersampled dynamic MRI data using 3D convolutional sparse coding. The proposed solution leverages Fourier Convolution Theorem to accelerate the process of learning a set of 3D filters and iteratively refine the MRI reconstruction based on the sparse codes found subsequently. In contrast to conventional CS methods which exploit the sparsity by applying universal transforms such as wavelet and total variation,our approach extracts and adapts the temporal information directly from the MRI data using compact shift-invariant 3D filters. We provide a highly parallel algorithm with GPU support for efficient computation,and therefore,the reconstruction outperforms CPU implementation of the state-of-the art dictionary learning-based approaches by up to two orders of magnitude. © Springer International Publishing AG 2016. nan Vispark: GPU-accelerated distributed visual computing using spark With the growing need of big-data processing in diverse application domains, MapReduce (e.g., Hadoop) has become one of the standard computing paradigms for large-scale computing on a cluster system. Despite its popularity, the current MapReduce framework suffers from inflexibility and inefficiency inherent to its programming model and system architecture. In order to address these problems, we propose Vispark, a novel extension of Spark for GPU-accelerated MapReduce processing on array-based scientific computing and image processing tasks. Vispark provides an easy-to-use, Python-like high-level language syntax and a novel data abstraction for MapReduce programming on a GPU cluster system. Vispark introduces a programming abstraction for accessing neighbor data in the mapper function, which greatly simplifies many image processing tasks using MapReduce by reducing memory footprints and bypassing the reduce stage. Vispark provides socket-based halo communication that synchronizes between data partitions transparently from the users, which is necessary for many scientific computing problems in distributed systems. Vispark also provides domain-specific functions and language supports specifically designed for high-performance computing and image processing applications. We demonstrate the performance of our prototype system on several visual computing tasks, such as image processing, volume rendering, K-means clustering, and heat transfer simulation. © 2016 Society for Industrial and Applied Mathematics. Distributed computing; Domain-specific language; GPU; MapReduce; Visualization Vispark: GPU-accelerated distributed visual computing using spark With the growing need of big data processing in diverse application domains, MapReduce (e.g., Hadoop) becomes one of the standard computing paradigms for large-scale computing on a cluster system. Despite of its popularity, the current MapReduce framework suffers from inflexibility and inefficiency inherent from its programming model and system architecture. In order to address these problems, we propose Vispark, a novel extension of Spark for GPU-accelerated MapReduce processing on array-based scientific computing and image processing tasks. Vispark provides an easy-to-use, Python-like high-level language syntax and a novel data abstraction for MapReduce programming on a GPU cluster system. Vispark introduces a programming abstraction for accessing neighbor data in the mapper function, which greatly simplifies many image processing tasks using MapReduce by reducing memory footprints and bypassing the reduce stage. We demonstrate the performance of our prototype system on several visual computing tasks, such as image processing, and K-means clustering. © 2015 IEEE. nan Exploiting Massive Parallelism for IndexingMulti-Dimensional Datasets on the GPU Inherently multi-dimensional n-ary indexing structures such as R-trees are not well suited for the GPU because of their irregular memory access patterns and recursive back-tracking function calls. It has been known that traversing hierarchical tree structures in an irregular manner makes it difficult to exploit parallelism and to maximize the utilization of GPU processing units. Moreover, the recursive tree search algorithms often fail with large indexes because of the GPU's tiny runtime stack size. In this paper, we propose a novel parallel tree traversal algorithm - massively parallel restart scanning (MPRS) for multi-dimensional range queries that avoids recursion and irregular memory access. The proposed MPRS algorithm traverses hierarchical tree structures with mostly contiguous memory access patterns without recursion, which offers more chances to optimize the parallel SIMD algorithm. We implemented the proposed MPRS range query processing algorithm on n-ary bounding volume hierarchies including R-trees and evaluated its performance using real scientific datasets on an NVIDIA Tesla M2090 GPU. Our experiments show braided parallel SIMD friendly MPRS range query algorithm achieves at least 80 percent warp execution efficiency while task parallel tree traversal algorithm shows only 9-15 percent efficiency. Moreover, braided parallel MPRS algorithm accesses 7-20 times less amount of global memory than task parallel parent link algorithm by virtue of minimal warp divergence. © 1990-2012 IEEE. GPGPU; multi-dimensional range query; Parallel multi-dimensional indexing Multi-GPU reconstruction of dynamic compressed sensing MRI Magnetic resonance imaging (MRI) is a widely used in-vivo imaging technique that is essential to the diagnosis of disease, but its longer acquisition time hinders its wide adaptation in time-critical applications, such as emergency diagnosis. Recent advances in compressed sensing (CS) research have provided promising theoretical insights to accelerate the MRI acquisition process, but CS reconstruction also poses computational challenges that make MRI less practical. In this paper, we introduce a fast, scalable parallel CS-MRI reconstruction method that runs on graphics processing unit (GPU) cluster systems for dynamic contrast-enhanced (DCE) MRI. We propose a modified Split-Bregman iteration using a variable splitting method for CS-based DCE-MRI. We also propose a parallel GPU Split-Bregman solver that scales well across multiple GPUs to handle large data size. We demonstrate the validity of the proposed method on several synthetic and real DCE-MRI datasets and compare with existing methods. © Springer International Publishing Switzerland 2015. nan Vivaldi: A domain-specific language for volume processing and visualization on distributed heterogeneous systems (Figure Presented) As the size of image data from microscopes and telescopes increases, the need for high-throughput processing and visualization of large volumetric data has become more pressing. At the same time, many-core processors and GPU accelerators are commonplace, making high-performance distributed heterogeneous computing systems affordable. However, effectively utilizing GPU clusters is difficult for novice programmers, and even experienced programmers often fail to fully leverage the computing power of new parallel architectures due to their steep learning curve and programming complexity. In this paper, we propose Vivaldi, a new domain-specific language for volume processing and visualization on distributed heterogeneous computing systems. Vivaldi's Python-like grammar and parallel processing abstractions provide flexible programming tools for non-experts to easily write high-performance parallel computing code. Vivaldi provides commonly used functions and numerical operators for customized visualization and high-throughput image processing applications. We demonstrate the performance and usability of Vivaldi on several examples ranging from volume rendering to image segmentation. © 2014 IEEE. Distributed heterogeneous systems; Domain-specific language; GPU computing; Volume rendering A fast mixed-band lifting wavelet transform on the GPU Discrete wavelet transform (DWT) has been widely used in many image compression applications, such as JPEG2000 and compressive sensing MRI. Even though a lifting scheme [1] has been widely adopted to accelerate DWT, only a handful of research has been done on its efficient implementation on many-core accelerators, such as graphics processing units (GPUs). Moreover, we observe that rearranging the spatial locations of wavelet coefficients at every level of DWT significantly impairs the performance of memory transaction on the GPU. To address these problems, we propose a mixed-band lifting wavelet transform that reduces uncoalesced global memory access on the GPU and maximizes on-chip memory bandwidth by implementing in-place operations using registers. We assess the performance of the proposed method by comparing with the state-of-the-art DWT libraries, and show its usability in a compressive sensing (CS) MRI application. © 2014 IEEE. Compressive Sensing; CUDA; Denoising; GPU; Mixed-band; MRI; Parallel Computing; Wavelet Exploring the connectome: Petascale volume visualization of microscopy data streams Recent advances in high-resolution microscopy let neuroscientists acquire neural-tissue volume data of extremely large sizes. However, the tremendous resolution and the high complexity of neural structures present big challenges to storage, processing, and visualization at interactive rates. A proposed system provides interactive exploration of petascale (petavoxel) volumes resulting from high-throughput electron microscopy data streams. The system can concurrently handle multiple volumes and can support the simultaneous visualization of high-resolution voxel segmentation data. Its visualization-driven design restricts most computations to a small subset of the data. It employs a multiresolution virtual-memory architecture for better scalability than previous approaches and for handling incomplete data. Researchers have employed it for a 1-teravoxel mouse cortex volume, of which several hundred axons and dendrites as well as synapses have been segmented and labeled. © 1981-2012 IEEE. computer graphics; high-resolution microscopy; high-throughput imaging; neuroscience; petascale-volume exploration; segmented volume data A collaborative digital pathology system for multi-touch mobile and desktop computing platforms Collaborative slide image viewing systems are becoming increasingly important in pathology applications such as telepathology and E-learning. Despite rapid advances in computing and imaging technology, current digital pathology systems have limited performance with respect to remote viewing of whole slide images on desktop or mobile computing devices. In this paper we present a novel digital pathology client-server system that supports collaborative viewing of multi-plane whole slide images over standard networks using multi-touch-enabled clients. Our system is built upon a standard HTTP web server and a MySQL database to allow multiple clients to exchange image and metadata concurrently. We introduce a domain-specific image-stack compression method that leverages real-time hardware decoding on mobile devices. It adaptively encodes image stacks in a decorrelated colour space to achieve extremely low bitrates (0.8 bpp) with very low loss of image quality. We evaluate the image quality of our compression method and the performance of our system for diagnosis with an in-depth user study. Collaborative slide image viewing systems are becoming increasingly important in pathology applications such as telepathology and E-learning. Despite rapid advances in computing and imaging technology, current digital pathology systems have limited performance with respect to remote viewing of whole slide images on desktop or mobile computing devices. In this paper we present a novel digital pathology client-server systems that supports collaborative viewing of multi-plane whole slide images over standard networks using multi-touch enabled clients. Our system is built upon a standard HTTP web server and a MySQL database to allow multiple clients to exchange image and metadata concurrently. © 2013 The Eurographics Association and John Wiley & Sons Ltd. biomedical image visualization; collaborative visualization; digital pathology; GPU; image compression Interactive volume exploration of petascale microscopy data streams using a visualization-driven virtual memory approach This paper presents the first volume visualization system that scales to petascale volumes imaged as a continuous stream of high-resolution electron microscopy images. Our architecture scales to dense, anisotropic petascale volumes because it: (1) decouples construction of the 3D multi-resolution representation required for visualization from data acquisition, and (2) decouples sample access time during ray-casting from the size of the multi-resolution hierarchy. Our system is designed around a scalable multi-resolution virtual memory architecture that handles missing data naturally, does not pre-compute any 3D multi-resolution representation such as an octree, and can accept a constant stream of 2D image tiles from the microscopes. A novelty of our system design is that it is visualization-driven: we restrict most computations to the visible volume data. Leveraging the virtual memory architecture, missing data are detected during volume ray-casting as cache misses, which are propagated backwards for on-demand out-of-core processing. 3D blocks of volume data are only constructed from 2D microscope image tiles when they have actually been accessed during ray-casting. We extensively evaluate our system design choices with respect to scalability and performance, compare to previous best-of-breed systems, and illustrate the effectiveness of our system for real microscopy data from neuroscience. © 1995-2012 IEEE. high-resolution microscopy; high-throughput imaging; neuroscience; Petascale volume exploration Distributed terascale volume visualization using distributed shared virtual memory Table 1 illustrates the impact of different distribution unit sizes, different screen resolutions, and numbers of GPU nodes. We use two and four GPUs (NVIDIA Quadro 5000 with 2.5 GB memory) and a mouse cortex EM dataset (see Figure 2) of resolution 21,494 x 25,790 x 1,850 = 955GB. The size of the virtual distribution units significantly influences the data distribution between nodes. Small distribution units result in a high depth complexity for compositing. Large distribution units lead to a low utilization of GPUs, because in the worst case only a single distribution unit will be in view, which is rendered by only a single node. The choice of an optimal distribution unit size depends on three major factors: the output screen resolution, the block cache size on each node, and the number of nodes. Currently, we are working on optimizing the compositing step and network communication between nodes. © 2011 IEEE. nan Medical image processing using GPU-accelerated ITK image filters This chapter introduces GPU acceleration techniques for medical image processing using the insight segmentation and registration toolkit (ITK). ITK is one of the most widely used open-source software toolkits for segmentation and registration of medical images from CT and MRI scanners. It consists of a collection of state-of-the-art image processing and analysis algorithms that often require a lot of computational resources. Because many ITK image filters are parallel and do not require interthread communication, one can exploit the fine-grain data parallelism of the GPU. To validate these ideas several low-level ITK image processing algorithms implemented, such as convolution, statistical, and PDE-based de-noising filters, using NVIDIA's CUDA. There two main goals in this work: outlining a simple and easy approach to integrate CUDA code into ITK with only minimal modification of existing ITK code, and demonstrating efficient GPU implementations of spatial-domain image processing algorithms. It has been demonstrated that GPU computing can greatly boost the performance of existing ITK image filters. In addition, a simple approach to integrate CUDA code has been introduced into the existing ITK code by modifying the entry point of each filter. Using only a single GPU easily beats eight CPU cores for all tests that were performed, thus confirming the great potential of GPUs for highly parallel computing tasks. © 2011 Copyright © 2011 NVIDIA Corporation and Wen-mei W. Hwu Published by Elsevier Inc. All rights reserved.. nan Interactive large-scale image editing using operator reduction With advent of advances in digital imaging technology, large-scale high-resolution images become commonplace these days. Automated digital cameras or scientific instruments can produce tens of millions pixel images at interactive rates, and modern photo editing software can stitch such high-resolution images to create much larger-scale panoramic images with minimal user efforts. Those large-scale images convey rich information of objects and scenes by providing both large field-of-view when zoomed out and extremely fine details when zoomed in, which is not available in normal-sized images. In addition, such high-resolution imaging is becoming an important research tool for scientific discoveries [Jeong et al. 2009]. nan GPU-accelerated brain connectivity reconstruction and visualization in large-scale electron micrographs This chapter introduces a GPU-accelerated interactive, semiautomatic axon segmentation and visualization system. Two challenging problems have been addressed: the interactive 3D axon segmentation and the interactive 3D image filtering and rendering of implicit surfaces. The reconstruction of neural connections to understand the function of the brain is an emerging and active research area in neuroscience. With the advent of high-resolution scanning technologies, such as 3D light microscopy and electron microscopy (EM), reconstruction of complex 3D neural circuits from large volumes of neural tissues has become feasible. Among them, only EM data can provide sufficient resolution to identify synapses and to resolve extremely narrow neural processes. These high-resolution, large-scale datasets pose challenging problems, for example, how to process and manipulate large datasets to extract scientifically meaningful information using a compact representation in a reasonable processing time. The running time of the multiphase level set segmentation method has been measured on the CPU and GPU. The CPU version is implemented using the ITK image class and the ITK distance transform filter. The numerical part of the CPU implementation is similar to the GPU implementation for fair comparison. The main focus of this chapter is introducing the GPU algorithms and their implementation details, which are the core components of the interactive segmentation and visualization system. © 2011 Copyright © 2011 NVIDIA Corporation and Wen-mei W. Hwu Published by Elsevier Inc. All rights reserved.. nan Neural process reconstruction from sparse user scribbles. We present a novel semi-automatic method for segmenting neural processes in large, highly anisotropic EM (electron microscopy) image stacks. Our method takes advantage of sparse scribble annotations provided by the user to guide a 3D variational segmentation model, thereby allowing our method to globally optimally enforce 3D geometric constraints on the segmentation. Moreover, we leverage a novel algorithm for propagating segmentation constraints through the image stack via optimal volumetric pathways, thereby allowing our method to compute highly accurate 3D segmentations from very sparse user input. We evaluate our method by reconstructing 16 neural processes in a 1024 x 1024 x 50 nanometer-scale EM image stack of a mouse hippocampus. We demonstrate that, on average, our method is 68% more accurate than previous state-of-the-art semi-automatic methods. nan A fast iterative method for solving the eikonal equation on triangulated surfaces This paper presents an efficient, fine-grained parallel algorithm for solving the Eikonal equation on triangular meshes. The Eikonal equation, and the broader class of Hamilton-Jacobi equations to which it belongs, have a wide range of applications from geometric optics and seismology to biological modeling and analysis of geometry and images. The ability to solve such equations accurately and efficiently provides new capabilities for exploring and visualizing parameter spaces and for solving inverse problems that rely on such equations in the forward model. Efficient solvers on state-of-the-art, parallel architectures require new algorithms that are not, in many cases, optimal, but are better suited to synchronous updates of the solution. In previous work [W. K. Jeong and R. T. Whitaker, SIAM J. Sci. Comput., 30 (2008), pp. 2512-2534], the authors proposed the fast iterative method (FIM) to efficiently solve the Eikonal equation on regular grids. In this paper we extend the fast iterative method to solve Eikonal equations efficiently on triangulated domains on the CPU and on parallel architectures, including graphics processors. We propose a new local update scheme that provides solutions of first-order accuracy for both architectures. We also propose a novel triangle-based update scheme and its corresponding data structure for efficient irregular data mapping to parallel single-instruction multiple-data (SIMD) processors. We provide detailed descriptions of the implementations on a single CPU, a multicore CPU with shared memory, and SIMD architectures with comparative results against state-of-the-art Eikonal solvers. © 2011 Society for Industrial and Applied Mathematics. Eikonal equation; Graphics processing unit; Hamilton-Jacobi equation; Parallel algorithm; Shared memory multiple-processor computer system; Triangular mesh Demand-driven volume rendering of terascale EM data Demand-driven volume rendering of terascale EM data nan Neural process reconstruction from sparse user scribbles We present a novel semi-automatic method for segmenting neural processes in large, highly anisotropic EM (electron microscopy) image stacks. Our method takes advantage of sparse scribble annotations provided by the user to guide a 3D variational segmentation model, thereby allowing our method to globally optimally enforce 3D geometric constraints on the segmentation. Moreover, we leverage a novel algorithm for propagating segmentation constraints through the image stack via optimal volumetric pathways, thereby allowing our method to compute highly accurate 3D segmentations from very sparse user input. We evaluate our method by reconstructing 16 neural processes in a 1024×1024×50 nanometer-scale EM image stack of a mouse hippocampus. We demonstrate that, on average, our method is 68% more accurate than previous state-of-the-art semi-automatic methods. © 2011 Springer-Verlag. nan Markov surfaces: A probabilistic framework for user-assisted three-dimensional image segmentation This paper presents Markov surfaces, a probabilistic algorithm for user-assisted segmentation of elongated structures in 3D images. The 3D segmentation problem is formulated as a path-finding problem, where path probabilities are described by Markov chains. Users define points, curves, or regions on 2D image slices, and the algorithm connects these user-defined features in a way that respects the underlying elongated structure in data. Transition probabilities in the Markov model are derived from intensity matches and interslice correspondences, which are generated from a slice-to-slice registration algorithm. Bézier interpolations between paths are applied to generate smooth surfaces. Subgrid accuracy is achieved by linear interpolations of image intensities and the interslice correspondences. Experimental results on synthetic and real data demonstrate that Markov surfaces can segment regions that are defined by texture, nearby context, and motion. A parallel implementation on a streaming parallel computer architecture, a graphics processor, makes the method interactive for 3D data. © 2011 Elsevier Inc. All rights reserved. GPU; Image segmentation; Markov chain; Probabilistic framework Display-aware image editing We describe a set of image editing and viewing tools that explicitly take into account the resolution of the display on which the image is viewed. Our approach is twofold. First, we design editing tools that process only the visible data, which is useful for images larger than the display. This encompasses cases such as multi-image panoramas and high-resolution medical data. Second, we propose an adaptive way to set viewing parameters such brightness and contrast. Because we deal with very large images, different locations and scales often require different viewing parameters. We let users set these parameters at a few places and interpolate satisfying values everywhere else. We demonstrate the efficiency of our approach on different display and image sizes. Since the computational complexity to render a view depends on the display resolution and not the actual input image resolution, we achieve interactive image editing even on a 16 gigapixel image. © 2011 IEEE. nan Interactive Histology of large-scale biomedical image stacks Histology is the study of the structure of biological tissue using microscopy techniques. As digital imaging technology advances, high resolution microscopy of large tissue volumes is becoming feasible; however, new interactive tools are needed to explore and analyze the enormous datasets. In this paper we present a visualization framework that specifically targets interactive examination of arbitrarily large image stacks. Our framework is built upon two core techniques: display-aware processing and GPU-accelerated texture compression. With display-aware processing, only the currently visible image tiles are fetched and aligned on-the-fly, reducing memory bandwidth and minimizing the need for time-consuming global pre-processing. Our novel texture compression scheme for GPUs is tailored for quick browsing of image stacks. We evaluate the usability of our viewer for two histology applications: digital pathology and visualization of neural structure at nanoscale-resolution in serial electron micrographs. © 2006 IEEE. biomedical image processing; Gigapixel viewer; GPU; texture compression Ssecrett and neuroTrace: Interactive visualization and analysis tools for large-scale neuroscience data sets Recent advances in optical and electron microscopy let scientists acquire extremely high-resolution images for neuroscience research. Data sets imaged with modern electron microscopes can range between tens of terabytes to about one petabyte. These large data sizes and the high complexity of the underlying neural structures make it very challenging to handle the data at reasonably interactive rates. To provide neuroscientists flexible, interactive tools, the authors introduce Ssecrett and NeuroTrace, two tools they designed for interactive exploration and analysis of large-scale optical- and electron-microscopy images to reconstruct complex neural circuits of the mammalian nervous system. © 2010 IEEE. Computer graphics; Connectome; Graphics and multimedia; Graphics hardware; Implicit surface rendering; Neuroscience; Segmentation; Volume rendering Scalable and interactive segmentation and visualization of neural processes in em datasets Recent advances in scanning technology provide high resolution EM (Electron Microscopy) datasets that allow neuroscientists to reconstruct complex neural connections in a nervous system. However, due to the enormous size and complexity of the resulting data, segmentation and visualization of neural processes in EM data is usually a difficult and very time-consuming task. In this paper, we present NeuroTrace, a novel EM volume segmentation and visualization system that consists of two parts: a semi-automatic multiphase level set segmentation with 3D tracking for reconstruction of neural processes, and a specialized volume rendering approach for visualization of EM volumes. It employs view-dependent on-demand filtering and evaluation of a local histogram edge metric, as well as on-the-fly interpolation and ray-casting of implicit surfaces for segmented neural structures. Both methods are implemented on the GPU for interactive performance. NeuroTrace is designed to be scalable to large datasets and data-parallel hardware architectures. A comparison of NeuroTrace with a commonly used manual EM segmentation tool shows that our interactive workflow is faster and easier to use for the reconstruction of complex neural processes. © 2009 IEEE. connectome; graphics hardware; implicit surface rendering; neuroscience; Segmentation; volume rendering Curvature-based anisotropic geodesic distance computation for parametric and implicit surfaces Distribution of geometric features varies with direction, including, for example, normal curvature. In this paper, this characteristic of shape is used to define a new anisotropic geodesic (AG) distance for both parametric and implicit surfaces. Local distance (LD) from a point is defined as a function of both the point and a unit tangent plane directions, and a total distance is defined as an integral of that local distance. The AG distance between points on the surface is the minimum total distance between them. The path between the points that attains the minimum is called the anisotropic geodesic path. Minimization of total distance to attain the AG distance is performed by associating the LD function with a tensor speed function that controls wave propagation in the convex Hamilton-Jacobi (H-J) equation solver. We present new distance metrics for both parametric and implicit surfaces based on the curvature tensor. In order to solve for the implicit AG, a bounded 3D H-J equation solver was developed. We present a second metric for the AG distance, a difference curvature tensor, for parametric surfaces. Some properties of both new AG distances are presented, including parameterization invariance. This AG path differs from the usual geodesic in that minimal path, i.e., lowest cost path, roughly speaking, minimizes an integral of curvature along the curve. Then, the effectiveness of the proposed AG distances as shape discriminators is demonstrated in several applications, including surface segmentation and partial shape matching. © 2009 Springer-Verlag. Anisotropy; Geodesic; H-J equation; Normal curvature; Parametric and implicit surface; Tensor Anisotropic geodesic distance computation for parametric surfaces The distribution of geometric features is anisotropic by its nature. Intrinsic properties of surfaces such as normal curvatures, for example, varies with direction. In this paper this characteristic of a shape is used to create a new anisotropic geodesic (AG) distance map on parametric surfaces. We first define local distance (LD) from a point as a function of both the surface point and a unit direction in its tangent plane and then define a total distance as an integral of that local distance. The AG distance between points on the surface is then defined as their minimum total distance. The path between the points that attains the minimum is called the anisotropic geodesic path. This differs from the usual geodesic in ways that enable it to better reveal geometric features. Minimizing total distances to attain AG distance is performed by associating the LD function with the tensor speed function that controls wave propagation of the convex Hamilton-Jacobi (H-J) equation solver. We present two different, but related metrics for the local distance function, a curvature tensor and a difference curvature tensor. Each creates a different AG distance. Some properties of both new AG distance maps are presented, including parametrization invariance. We then demonstrate the effectiveness of the proposed geodesic map as a shape discriminator in several applications, including surface segmentation and partial shape matching. ©2008 IEEE. nan A fast iterative method for Eikonal equations In this paper we propose a novel computational technique to solve the Eikonal equation efficiently on parallel architectures. The proposed method manages the list of active nodes and iteratively updates the solutions on those nodes until they converge. Nodes are added to or removed from the list based on a convergence measure, but the management of this list does not entail an extra burden of expensive ordered data structures or special updating sequences. The proposed method has suboptimal worst-case performance but, in practice, on real and synthetic datasets, runs faster than guaranteed-optimal alternatives. Furthermore, the proposed method uses only local, synchronous updates and therefore has better cache coherency, is simple to implement, and scales efficiently on parallel architectures. This paper describes the method, proves its consistency, gives a performance analysis that compares the proposed method against the state-of-the-art Eikonal solvers, and describes the implementation on a single instruction multiple datastream (SIMD) parallel architecture. © 2008 Society for Industrial and Applied Mathematics. Eikonal equation; Graphics processing unit (GPU); Hamilton-jacobi equation; Label-correcting method; Parallel algorithm; Viscosity solution A volumetric approach to quantifying region-to-region white matter connectivity in diffusion tensor MRI In this paper we present a volumetric approach for quantitatively studying white matter connectivity from diffusion tensor magnetic resonance imaging (DT-MRI). The proposed method is based on a minimization of path cost between two regions, defined as the integral of local costs that are derived from the full tensor data along the path. We solve the minimal path problem using a Hamilton-Jacobi formulation of the problem and a new, fast iterative method that computes updates on the propagating front of the cost function at every point. The solutions for the fronts emanating from the two initial regions are combined, giving a voxel-wise connectivity measurement of the optimal paths between the regions that pass through those voxels. The resulting high-connectivity voxels provide a volumetric representation of the white matter pathway between the terminal regions. We quantify the tensor data along these pathways using nonparametric regression of the tensors and of derived measures as a function of path length. In this way we can obtain volumetric measures on white-matter tracts between regions without any explicit integration of tracts. We demonstrate the proposed method on several fiber tracts from DT-MRI data of the normal human brain. © Springer-Verlag Berlin Heidelberg 2007. nan Interactive visualization of volumetric white matter connectivity in DT-MRI using a parallel-hardware Hamilton-Jacobi solver In this paper we present a method to compute and visualize volumetric white matter connectivity in diffusion tensor magnetic resonance imaging (DT-MRI) using a Hamilton-Jacobi (H-J) solver on the GPU (Graphics Processing Unit). Paths through the volume are assigned costs that are lower if they are consistent with the preferred diffusion directions. The proposed method finds a set of voxels in the DTI volume that contain paths between two regions whose costs are within a threshold of the optimal path. The result is a volumetric optimal path analysis, which is driven by clinical and scientific questions relating to the connectivity between various known anatomical regions of the brain. To solve the minimal path problem quickly, we introduce a novel numerical algorithm for solving H-J equations, which we call the Fast Iterative Method (FIM). This algorithm is well-adapted to parallel architectures, and we present a GPU-based implementation, which runs roughly 50-100 times faster than traditional CPU-based solvers for anisotropic H-J equations. The proposed system allows users to freely change the endpoints of interesting pathways and to visualize the optimal volumetric path between them at an interactive rate. We demonstrate the proposed method on some synthetic and real DT-MRI datasets and compare the performance with existing methods. © 2007 IEEE. Diffusion tensor visualization; Graphics hardware; Interactivity A volumetric approach to quantifying region-to-region white matter connectivity in diffusion tensor MRI. In this paper we present a volumetric approach for quantitatively studying white matter connectivity from diffusion tensor magnetic resonance imaging (DT-MRI). The proposed method is based on a minimization of path cost between two regions, defined as the integral of local costs that are derived from the full tensor data along the path. We solve the minimal path problem using a Hamilton-Jacobi formulation of the problem and a new, fast iterative method that computes updates on the propagating front of the cost function at every point. The solutions for the fronts emanating from the two initial regions are combined, giving a voxel-wise connectivity measurement of the optimal paths between the regions that pass through those voxels. The resulting high-connectivity voxels provide a volumetric representation of the white matter pathway between the terminal regions. We quantify the tensor data along these pathways using nonparametric regression of the tensors and of derived measures as a function of path length. In this way we can obtain volumetric measures on white-matter tracts between regions without any explicit integration of tracts. We demonstrate the proposed method on several fiber tracts from DT-MRI data of the normal human brain. nan Neural mesh ensembles This paper proposes the use of neural network ensembles to boost the performance of a neural network based surface reconstruction algorithm. Ensemble is a very popular and powerful statistical technique based on the idea of averaging several outputs of a probabilistic algorithm. In the context of surface reconstruction, two main problems arise. The first is finding an efficient way to average meshes with different connectivity, and the second is tuning the parameters for surface reconstruction to maximize the performance of the ensemble. We solve the first problem by voxelizing all the meshes on the same regular grid and taking majority vote on each voxel. We tune the parameters experimentally, borrowing ideas from weak learning methods. © 2004 IEEE. nan Using growing cell structures for surface reconstruction We study the use of neural network algorithms in surface reconstruction from an unorganized point cloud, and meshing of an implicit surface. We found that for such applications, the most suitable type of neural networks is a modified version of the Growing Cell Structure we propose here. The algorithm works by sampling randomly a target space, usually a point cloud or an implicit surface, and adjusting accordingly the neural network. The adjustment includes the connectivity of the network. Doing several experiments we found that the algorithm gives satisfactory results in some challenging situations involving sharp features and concavities. Another attractive feature of the algorithm is that its speed is virtually independent from the size of the input data, making it particularly suitable for the reconstruction of a surface from a very large point set. © 2003 IEEE. Growing cell structures; Mesh generation; Neural networks; Shape modeling; Surface reconstruction Neural meshes: Statistical learning based on normals We present a method for the adaptive reconstruction of a surface directly from an unorganized point cloud. The algorithm is based on an incrementally expanding neural network and the statistical analysis of its learning process. In particular, we make use of the simple observation that during the learning process the normal of a vertex near a sharp edge or a high curvature area of the target space, statistically, will vary more than the normal of a vertex near a flat area. We use the information obtained from the study of these normal variations to steer the learning process in an adaptive meshing application, producing meshes with more triangles near the high curvature areas. The same information is used in a feature detection application. © 2003 IEEE. Application software; Clouds; Computer graphics; Computer vision; Geometry; Neural networks; Reconstruction algorithms; Statistical analysis; Statistical learning; Surface reconstruction Direct reconstruction of a displaced subdivision surface from unorganized points In this paper we describe the generation of a displaced subdivision surface directly from a set of unorganized points. The displaced subdivision surface is an efficient mesh representation that defines a detailed mesh with a displacement map over a smooth domain surface and has many benefits including compression, rendering, and animation, which overcome limitations of an irregular mesh produced by an ordinary mesh reconstruction scheme. Unlike previous displaced subdivision surface reconstruction methods, our method does not rely on a highly detailed reconstructed mesh. Instead, we efficiently create a coarse base mesh, which is used to sample displacements directly from unorganized points, and this results in a simple process and fast calculation. We suggest a shrink-wrapping-like shape approximation and a point-based mesh simplification method that uses the distance between a set of points and a mesh as an error metric to generate a domain surface that optimally approximates the given points. We avoid time-consuming energy minimization by employing a local subdivision surface fitting scheme. Finally, we show several reconstruction results that demonstrate the usability of our algorithm. © 2002 Elsevier Science (USA). Displaced subdivision surface; Surface fitting; Surface reconstruction Automatic generation of subdivision surface head models from point cloud data An automatic procedure is presented to generate a multiresolution head model from sampled surface data. A generic control mesh serves as the starting point for a fitting algorithm that approximates the points in an unstructured set of surface samples, e.g. a point cloud obtained directly from range scans of an individual. A hierarchical representation of the model is generated by repeated refinement using subdivision rules and measuring displacements to the input data. Key features of our method are the fully automated construction process, the ability to deal with noisy and incomplete input data, and no requirement for further processing of the scan data after registering the range images into a single point cloud. Facial animation; Point cloud fitting; Range scans; Subdivision surface Subdivision surface simplification A modified quadric error metric (QEM) for simplification of Loop subdivision surfaces is presented The suggested error metric not only measures the geometric difference but also controls the smoothness and well-shapedness of the triangles that result from the decimation process. Minimizing the error with respect to the original limit surface, our method allows for drastic simplification of Loop control meshes with convenient control over the reproduction of sharp features. © 2002 IEEE. Application software; Bridges; Computer graphics; Control systems; Displays; Error correction; Mesh generation; Surface fitting; Surface reconstruction; Tensile stress Direct reconstruction of displaced subdivision surface from unorganized points In this paper we propose a new mesh reconstruction algorithm that produces a displaced subdivision mesh directly from unorganized points. The displaced subdivision surface is a new mesh representation that defines a detailed mesh with a displacement map over a smooth domain surface. This mesh representation has several benefits - compact mesh size, piecewise regular connectivity - to overcome limitations of irregular mesh produced by ordinary mesh reconstruction scheme, but the original displaced subdivision surface generation algorithm needs an explicit polygonal mesh to be converted. Our approach is producing displaced subdivision surface directly from input points during the mesh reconstruction process. The main ideas of our algorithm are building initial coarse control mesh by the shrink-wrapping like projection and sampling fine surface detail from unorganized points along the each limit vertex normal without any connectivity information of given points. We employ an existing subdivision surface fitting scheme to generate a parametric domain surface, and suggest a surface detail sampling scheme that determines a valid sampling triangle which can be made with combinations of input points. We show several reconstruction examples and applications to show the validity of suggested sampling technique and benefits of the result like multiresolution modeling. © 2001 IEEE. nan\""
      ]
     },
     "execution_count": 34,
     "metadata": {},
     "output_type": "execute_result"
    }
   ],
   "source": [
    "text[21]"
   ]
  },
  {
   "cell_type": "code",
   "execution_count": 35,
   "metadata": {},
   "outputs": [
    {
     "name": "stderr",
     "output_type": "stream",
     "text": [
      "/Users/seungheondoh/anaconda3/envs/python3.6/lib/python3.6/site-packages/ipykernel_launcher.py:1: SettingWithCopyWarning: \n",
      "A value is trying to be set on a copy of a slice from a DataFrame.\n",
      "Try using .loc[row_indexer,col_indexer] = value instead\n",
      "\n",
      "See the caveats in the documentation: http://pandas.pydata.org/pandas-docs/stable/indexing.html#indexing-view-versus-copy\n",
      "  \"\"\"Entry point for launching an IPython kernel.\n"
     ]
    },
    {
     "data": {
      "text/html": [
       "<div>\n",
       "<style scoped>\n",
       "    .dataframe tbody tr th:only-of-type {\n",
       "        vertical-align: middle;\n",
       "    }\n",
       "\n",
       "    .dataframe tbody tr th {\n",
       "        vertical-align: top;\n",
       "    }\n",
       "\n",
       "    .dataframe thead th {\n",
       "        text-align: right;\n",
       "    }\n",
       "</style>\n",
       "<table border=\"1\" class=\"dataframe\">\n",
       "  <thead>\n",
       "    <tr style=\"text-align: right;\">\n",
       "      <th></th>\n",
       "      <th>Title</th>\n",
       "      <th>Abstract</th>\n",
       "      <th>Author Keywords</th>\n",
       "      <th>Name</th>\n",
       "      <th>ResearchInterest</th>\n",
       "      <th>department</th>\n",
       "      <th>docs</th>\n",
       "      <th>text</th>\n",
       "    </tr>\n",
       "  </thead>\n",
       "  <tbody>\n",
       "    <tr>\n",
       "      <th>0</th>\n",
       "      <td>[Entrepreneurs' decisions to exploit opportuni...</td>\n",
       "      <td>[Entrepreneurs' decisions to exploit opportuni...</td>\n",
       "      <td>[nan, Behavioral decision-making; Business gro...</td>\n",
       "      <td>Choi, Young Rok(최영록)</td>\n",
       "      <td>Entrepreneurship, Innovation Strategy, Family ...</td>\n",
       "      <td>Graduate School of Technology and Innovation M...</td>\n",
       "      <td>[[Entrepreneurs' decisions to exploit opportun...</td>\n",
       "      <td>Entrepreneurs' decisions to exploit opportuni...</td>\n",
       "    </tr>\n",
       "    <tr>\n",
       "      <th>1</th>\n",
       "      <td>[Explaining dyadic expertise use in knowledge ...</td>\n",
       "      <td>[Organizations use project teams to lower sear...</td>\n",
       "      <td>[expertise awareness; expertise use; knowledge...</td>\n",
       "      <td>Hong, Woonki(홍운기)</td>\n",
       "      <td>Expertise utilization, Transactive menory syst...</td>\n",
       "      <td>School of Business Administration(경영학부)</td>\n",
       "      <td>[[Explaining dyadic expertise use in knowledge...</td>\n",
       "      <td>Explaining dyadic expertise use in knowledge ...</td>\n",
       "    </tr>\n",
       "    <tr>\n",
       "      <th>2</th>\n",
       "      <td>[Trading behavior prior to public release of a...</td>\n",
       "      <td>[This paper investigates information leakage f...</td>\n",
       "      <td>[nan, nan, Business group; Chaebol; Control-ca...</td>\n",
       "      <td>Jung, Kooyul(정구열)</td>\n",
       "      <td>Accounting Information and capital market, Ana...</td>\n",
       "      <td>Graduate School of Technology and Innovation M...</td>\n",
       "      <td>[[Trading behavior prior to public release of ...</td>\n",
       "      <td>Trading behavior prior to public release of a...</td>\n",
       "    </tr>\n",
       "    <tr>\n",
       "      <th>3</th>\n",
       "      <td>[CSR and Shareholder Value in the Restaurant I...</td>\n",
       "      <td>[Studies on the effects of corporate social re...</td>\n",
       "      <td>[annual reports; communication; corporate soci...</td>\n",
       "      <td>Kim, MinChung(김민중)</td>\n",
       "      <td>Marketing strategies and their impact on finan...</td>\n",
       "      <td>School of Business Administration(경영학부)</td>\n",
       "      <td>[[CSR and Shareholder Value in the Restaurant ...</td>\n",
       "      <td>CSR and Shareholder Value in the Restaurant I...</td>\n",
       "    </tr>\n",
       "    <tr>\n",
       "      <th>4</th>\n",
       "      <td>[Consumer Communities Do Well, But Will They D...</td>\n",
       "      <td>[Brand communities and corporate social respon...</td>\n",
       "      <td>[Brand community; Consumer communities; Corpor...</td>\n",
       "      <td>Kim, Molan(김모란)</td>\n",
       "      <td>Online Database Marketing, Social Media Market...</td>\n",
       "      <td>School of Business Administration(경영학부)</td>\n",
       "      <td>[[Consumer Communities Do Well, But Will They ...</td>\n",
       "      <td>Consumer Communities Do Well, But Will They D...</td>\n",
       "    </tr>\n",
       "  </tbody>\n",
       "</table>\n",
       "</div>"
      ],
      "text/plain": [
       "                                               Title  \\\n",
       "0  [Entrepreneurs' decisions to exploit opportuni...   \n",
       "1  [Explaining dyadic expertise use in knowledge ...   \n",
       "2  [Trading behavior prior to public release of a...   \n",
       "3  [CSR and Shareholder Value in the Restaurant I...   \n",
       "4  [Consumer Communities Do Well, But Will They D...   \n",
       "\n",
       "                                            Abstract  \\\n",
       "0  [Entrepreneurs' decisions to exploit opportuni...   \n",
       "1  [Organizations use project teams to lower sear...   \n",
       "2  [This paper investigates information leakage f...   \n",
       "3  [Studies on the effects of corporate social re...   \n",
       "4  [Brand communities and corporate social respon...   \n",
       "\n",
       "                                     Author Keywords                  Name  \\\n",
       "0  [nan, Behavioral decision-making; Business gro...  Choi, Young Rok(최영록)   \n",
       "1  [expertise awareness; expertise use; knowledge...     Hong, Woonki(홍운기)   \n",
       "2  [nan, nan, Business group; Chaebol; Control-ca...     Jung, Kooyul(정구열)   \n",
       "3  [annual reports; communication; corporate soci...    Kim, MinChung(김민중)   \n",
       "4  [Brand community; Consumer communities; Corpor...       Kim, Molan(김모란)   \n",
       "\n",
       "                                    ResearchInterest  \\\n",
       "0  Entrepreneurship, Innovation Strategy, Family ...   \n",
       "1  Expertise utilization, Transactive menory syst...   \n",
       "2  Accounting Information and capital market, Ana...   \n",
       "3  Marketing strategies and their impact on finan...   \n",
       "4  Online Database Marketing, Social Media Market...   \n",
       "\n",
       "                                          department  \\\n",
       "0  Graduate School of Technology and Innovation M...   \n",
       "1            School of Business Administration(경영학부)   \n",
       "2  Graduate School of Technology and Innovation M...   \n",
       "3            School of Business Administration(경영학부)   \n",
       "4            School of Business Administration(경영학부)   \n",
       "\n",
       "                                                docs  \\\n",
       "0  [[Entrepreneurs' decisions to exploit opportun...   \n",
       "1  [[Explaining dyadic expertise use in knowledge...   \n",
       "2  [[Trading behavior prior to public release of ...   \n",
       "3  [[CSR and Shareholder Value in the Restaurant ...   \n",
       "4  [[Consumer Communities Do Well, But Will They ...   \n",
       "\n",
       "                                                text  \n",
       "0   Entrepreneurs' decisions to exploit opportuni...  \n",
       "1   Explaining dyadic expertise use in knowledge ...  \n",
       "2   Trading behavior prior to public release of a...  \n",
       "3   CSR and Shareholder Value in the Restaurant I...  \n",
       "4   Consumer Communities Do Well, But Will They D...  "
      ]
     },
     "execution_count": 35,
     "metadata": {},
     "output_type": "execute_result"
    }
   ],
   "source": [
    "df['text'] = text\n",
    "df.head()"
   ]
  },
  {
   "cell_type": "markdown",
   "metadata": {},
   "source": [
    "--------"
   ]
  },
  {
   "cell_type": "code",
   "execution_count": 36,
   "metadata": {},
   "outputs": [
    {
     "name": "stdout",
     "output_type": "stream",
     "text": [
      "[nltk_data] Downloading package punkt to\n",
      "[nltk_data]     /Users/seungheondoh/nltk_data...\n",
      "[nltk_data]   Package punkt is already up-to-date!\n"
     ]
    },
    {
     "data": {
      "text/plain": [
       "True"
      ]
     },
     "execution_count": 36,
     "metadata": {},
     "output_type": "execute_result"
    }
   ],
   "source": [
    "#Import all the dependencies\n",
    "from gensim.models.doc2vec import Doc2Vec, TaggedDocument\n",
    "from nltk.tokenize import word_tokenize\n",
    "import nltk\n",
    "nltk.download('punkt')"
   ]
  },
  {
   "cell_type": "code",
   "execution_count": 37,
   "metadata": {},
   "outputs": [],
   "source": [
    "col = list(df.columns)"
   ]
  },
  {
   "cell_type": "code",
   "execution_count": 39,
   "metadata": {},
   "outputs": [],
   "source": [
    "for i in range(len(df)):\n",
    "    documents = {}\n",
    "    for j in col:\n",
    "        documents[j] = df.iloc[i][j]\n",
    "    db.Docdb.insert_one(documents)"
   ]
  },
  {
   "cell_type": "code",
   "execution_count": 40,
   "metadata": {},
   "outputs": [],
   "source": [
    "zipdata = zip(df['Name'],df['text'])"
   ]
  },
  {
   "cell_type": "code",
   "execution_count": 41,
   "metadata": {},
   "outputs": [],
   "source": [
    "tagged_data = [TaggedDocument(words=word_tokenize(_d.lower()), tags=[str(i)]) for i, _d in zipdata]"
   ]
  },
  {
   "cell_type": "code",
   "execution_count": 42,
   "metadata": {},
   "outputs": [
    {
     "data": {
      "text/plain": [
       "TaggedDocument(words=['entrepreneurs', \"'\", 'decisions', 'to', 'exploit', 'opportunities', 'entrepreneurs', \"'\", 'decisions', 'to', 'exploit', 'opportunities', 'nan', 'family', 'ownership', 'and', 'r', '&', 'd', 'investment', ':', 'the', 'role', 'of', 'growth', 'opportunities', 'and', 'business', 'group', 'membership', 'this', 'study', 'examines', 'whether', 'the', 'influence', 'of', 'family', 'ownership', 'on', 'r', '&', 'd', 'investment', 'varies', 'depending', 'on', 'growth', 'opportunities', 'and', 'business', 'group', 'membership', '.', 'using', 'data', 'on', 'korean', 'firms', 'over', 'ten', 'years', '(', '1998-2007', ')', ',', 'the', 'study', 'shows', 'that', 'family', 'ownership', 'is', 'negatively', 'related', 'to', 'r', '&', 'd', 'investment', ',', 'but', 'the', 'relationship', 'becomes', 'positive', 'when', 'growth', 'opportunities', 'are', 'present', '.', 'the', 'moderating', 'effect', ',', 'however', ',', 'differs', 'between', 'independent', 'family', 'firms', 'and', 'family', 'business', 'groups', '.', 'the', 'positive', 'influence', 'that', 'growth', 'opportunities', 'have', 'on', 'promoting', 'r', '&', 'd', 'investment', 'is', 'diminished', 'for', 'affiliates', 'of', 'family', 'business', 'groups', '.', 'these', 'findings', 'imply', 'that', 'family', 'owners', 'invest', 'more', 'in', 'r', '&', 'd', 'when', 'their', 'family', 'control', 'goals', 'are', 'threatened', 'by', 'the', 'loss', 'of', 'growth', 'potential', '.', 'the', 'empirical', 'results', 'of', 'this', 'study', 'and', 'its', 'behavioral', 'decision-making', 'model', 'help', 'to', 'bridge', 'the', 'gap', 'between', 'the', 'predictions', 'of', 'the', 'family', 'control', 'perspective', 'and', 'agency', 'theory', 'in', 'explaining', 'r', '&', 'd', 'investment', 'by', 'family', 'firms', 'in', 'an', 'emerging', 'economy', '.', '©', '2014', 'elsevier', 'inc.', 'behavioral', 'decision-making', ';', 'business', 'groups', ';', 'family', 'ownership', ';', 'growth', 'opportunities', ';', 'r', '&', 'd', 'investment', 'entrepreneurs', \"'\", 'decisions', 'to', 'exploit', 'opportunities', 'opportunity', 'exploitation', 'is', 'a', 'necessary', 'step', 'in', 'creating', 'a', 'successful', 'business', 'in', 'the', 'en-', 'trepreneurial', 'process', ',', 'yet', 'there', 'has', 'been', 'little', 'conceptual', 'and', 'empirical', 'development', 'of', 'this', 'issue', 'in', 'the', 'literature', '.', 'this', 'study', 'examines', 'the', 'decisions', 'of', 'entrepreneurs', 'to', 'begin', 'exploiting', 'business', 'opportunities', 'from', 'a', 'resource-based', 'view', '.', 'our', 'analysis', 'of', 'a', 'sample', 'of', 'entrepreneurs', 'whose', 'businesses', 'are', 'located', 'in', 'incubators', 'suggests', 'that', 'entrepreneurs', 'are', 'more', 'likely', 'to', 'exploit', 'opportunities', 'when', 'they', 'perceive', 'more', 'knowledge', 'of', 'customer', 'demand', 'for', 'the', 'new', 'product', ',', 'more', 'fully', 'developed', 'necessary', 'technologies', ',', 'greater', 'managerial', 'capability', ',', 'and', 'greater', 'stakeholder', 'support', '.', 'moreover', ',', 'the', 'findings', 'of', 'this', 'study', 'shed', 'a', 'light', 'on', 'a', 'less', 'empha-', 'sized', 'aspect', 'of', 'the', 'resource-based', 'view', ':', 'the', 'new', 'product', \"'s\", 'anticipated', 'lead', 'time', 'acts', 'as', 'an', 'enhancing', 'moderator', 'in', 'entrepreneurs', \"'\", 'exploitation', 'decision', 'policies', '.', 'implications', 'for', 'future', 'research', 'on', 'opportunity', 'exploitation', 'are', 'discussed', '.', '©', 'dean', 'a.', 'shepherd', '2014.', 'all', 'rights', 'reserved', '.', 'nan', 'when', 'should', 'entrepreneurs', 'expedite', 'or', 'delay', 'opportunity', 'exploitation', '?', 'we', 'theorize', 'on', 'the', 'performance', 'implications', 'of', 'the', 'timing', 'at', 'which', 'entrepreneurs', 'stop', 'exploring', 'their', 'business', 'opportunities', 'and', 'start', 'exploiting', 'them', '.', 'using', 'an', 'optimal-stopping', 'approach', ',', 'wc', 'characterize', 'the', 'time', 'when', 'exploitation', 'should', 'begin', 'based', 'primarily', 'on', 'when', 'an', 'entrepreneur', \"'s\", 'ignorance', 'has', 'been', 'sufficiently', 'reduced', 'through', 'knowledge', 'accumulation', '.', 'this', '``', 'ignorance', 'threshold', \"''\", 'captures', 'a', 'tradeoff', 'between', 'the', 'time', 'needed', 'to', 'increase', 'legitimacy', 'and', 'the', 'necessity', 'to', 'act', 'now', 'to', 'minimize', 'competition', '.', 'changes', 'in', 'legitimacy', 'and', 'competition', 'arc', 'based', 'on', 'how', 'entrepreneurs', 'manage', 'their', 'knowledge', '(', 'tacit', 'versus', 'explicit', ')', 'under', 'differing', 'degrees', 'of', 'novelty', 'for', 'the', 'business', 'opportunity', '.', 'these', 'changes', ',', 'in', 'turn', ',', 'impact', 'the', 'performance', 'and', 'timing', 'of', 'opportunity', 'exploitation', '.', '©', 'dean', 'a.', 'shepherd', '2014.', 'all', 'rights', 'reserved', '.', 'ignorance', 'reduction', ';', 'knowledge', 'management', ';', 'opportunity', 'exploitation', ';', 'optimal', 'stopping', ';', 'timing', 'of', 'exploitation', 'exploration', ',', 'exploitation', ',', 'and', 'growth', 'through', 'new', 'product', 'development', ':', 'the', 'moderating', 'effects', 'of', 'firm', 'age', 'and', 'environmental', 'adversity', 'this', 'study', 'investigates', 'how', 'firm', 'age', 'and', 'environmental', 'adversity', 'influence', 'exploration', 'and', 'exploitation', 'and', 'whether', 'the', 'balance', 'between', 'them', 'increases', 'new', 'product', 'development', '.', 'we', 'also', 'examine', 'if', 'new', 'product', 'development', 'in', 'new', 'and', 'mature', 'firms', 'leads', 'to', 'equivalent', 'growth', 'rates', '.', 'empirical', 'results', 'obtained', 'from', 'a', 'survey', 'of', 'small-', 'and', 'medium-sized', 'technology-based', 'manufacturing', 'firms', 'in', 'korea', 'show', 'that', 'while', 'relative', 'exploration', 'generally', 'remains', 'lower', 'in', 'mature', 'firms', 'than', 'in', 'new', 'firms', ',', 'it', 'more', 'rapidly', 'increases', 'in', 'mature', 'firms', 'when', 'they', 'operate', 'in', 'adverse', 'environments', '.', 'interestingly', ',', 'our', 'results', 'show', 'that', 'mature', 'firms', 'achieve', 'lower', 'growth', 'rates', 'through', 'new', 'product', 'development', 'than', 'new', 'firms', 'in', 'adverse', 'environments', '.', 'these', 'empirical', 'findings', 'advance', 'our', 'understanding', 'of', 'the', 'age-dependent', 'antecedents', 'and', 'consequences', 'of', 'new', 'product', 'development', '.', '©', '1988-2012', 'ieee', '.', 'adverse', 'environments', ';', 'exploitation', ';', 'exploration', ';', 'firm', 'age', ';', 'firm', 'growth', ';', 'new', 'product', 'development', 'market-oriented', 'institutional', 'change', 'and', 'r', '&', 'd', 'investments', ':', 'do', 'business', 'groups', 'enhance', 'advantage', '?', 'emerging', 'market', 'firms', '(', 'emfs', ')', 'are', 'increasingly', 'relying', 'on', 'innovation', 'to', 'find', 'their', 'competitive', 'advantage', ',', 'but', 'our', 'understanding', 'of', 'how', 'institutional', 'change', 'affects', 'firm', 'innovation', 'has', 'been', 'limited', '.', 'we', 'analyzed', 'korean', 'manufacturing', 'firms', 'from', '1994', 'to', '2006', 'to', 'test', 'the', 'proposition', 'that', 'market-oriented', 'institutional', 'change', 'in', 'an', 'emerging', 'economy', 'alleviates', 'firms', \"'\", 'financing', 'constraints', 'and', 'monitoring', 'problems', 'and', 'improves', 'the', 'effectiveness', 'of', 'their', 'innovation', 'activities', '.', 'institutional', 'evolution', 'in', 'the', 'economy', 'was', 'found', 'to', 'affect', 'korean', 'business', 'groups', 'and', 'independent', 'firms', 'differently', '.', 'institutional', 'change', 'reduced', 'the', 'financing', 'constraints', 'on', 'independent', 'firms', 'more', 'than', 'for', 'business', 'group', 'affiliates', 'in', 'r', '&', 'd', 'investment', '.', 'independent', 'firms', ',', 'however', ',', 'appeared', 'less', 'capable', 'than', 'group', 'affiliates', 'of', 'translating', 'the', 'benefits', 'of', 'improved', 'institutional', 'environments', 'into', 'efficient', 'r', '&', 'd', 'investment', '.', 'this', 'asymmetry', 'may', 'lead', 'to', 'a', 'wider', 'gap', 'in', 'the', 'efficiency', 'of', 'r', '&', 'd', 'investment', 'between', 'business', 'group', 'affiliates', 'and', 'independent', 'firms', '.', '©', '2013', 'elsevier', 'inc.', 'business', 'groups', ';', 'financing', 'constraints', ';', 'governance', 'reforms', ';', 'institutional', 'change', ';', 'research', 'and', 'development', 'ownership', 'structure', ',', 'business', 'group', 'affiliation', 'and', 'r', '&', 'd', 'investments', 'existing', 'governance', 'theories', 'offer', 'contrasting', 'views', 'on', 'the', 'potential', 'effect', 'that', 'controlling', 'owners', 'have', 'on', 'a', 'firm', \"'s\", 'innovation', 'investment', 'decisions', ':', 'the', 'stewardship', 'perspective', 'suggests', 'a', 'positive', 'influence', ',', 'whereas', 'the', 'principal-principal', '(', 'pp', ')', 'conflict', 'perspective', 'posits', 'a', 'negative', 'influence', '.', 'in', 'this', 'study', ',', 'we', 'attempt', 'to', 'reconcile', 'these', 'views', '.', 'we', 'propose', 'that', 'business', 'group', 'affiliation', 'determines', 'the', 'extent', 'to', 'which', 'the', 'interests', 'of', 'controlling', 'owners', 'and', 'affiliated', 'firms', 'are', 'congruent', ',', 'and', 'may', 'motivate', 'controlling', 'owners', 'to', 'behave', 'opportunistically', '.', 'our', 'analysis', 'of', 'korean', 'companies', 'shows', 'that', 'controlling', 'owners', 'of', 'independent', 'firms', 'significantly', 'promote', 'r', '&', 'd', 'investments', ',', 'particularly', 'when', 'growth', 'opportunities', 'are', 'plentiful', '.', 'however', ',', 'the', 'relationship', 'becomes', 'much', 'weaker', 'for', 'business', 'group', 'affiliates', '.', '©', '2012', 'ieee', '.', 'business', 'group', ';', 'controlling', 'ownership', ';', 'r', '&', 'd', 'investments', 'when', 'should', 'entrepreneurs', 'expedite', 'or', 'delay', 'opportunity', 'exploitation', '?', 'we', 'theorize', 'on', 'the', 'performance', 'implications', 'of', 'the', 'timing', 'at', 'which', 'entrepreneurs', 'stop', 'exploring', 'their', 'business', 'opportunities', 'and', 'start', 'exploiting', 'them', '.', 'using', 'an', 'optimal-stopping', 'approach', ',', 'we', 'characterize', 'the', 'time', 'when', 'exploitation', 'should', 'begin', 'based', 'primarily', 'on', 'when', 'an', 'entrepreneur', \"'s\", 'ignorance', 'has', 'been', 'sufficiently', 'reduced', 'through', 'knowledge', 'accumulation', '.', 'this', '``', 'ignorance', 'threshold', \"''\", 'captures', 'a', 'tradeoff', 'between', 'the', 'time', 'needed', 'to', 'increase', 'legitimacy', 'and', 'the', 'necessity', 'to', 'act', 'now', 'to', 'minimize', 'competition', '.', 'changes', 'in', 'legitimacy', 'and', 'competition', 'are', 'based', 'on', 'how', 'entrepreneurs', 'manage', 'their', 'knowledge', '(', 'tacit', 'versus', 'explicit', ')', 'under', 'differing', 'degrees', 'of', 'novelty', 'for', 'the', 'business', 'opportunity', '.', 'these', 'changes', ',', 'in', 'turn', ',', 'impact', 'the', 'performance', 'and', 'timing', 'of', 'opportunity', 'exploitation', '.', '©', '2006', 'elsevier', 'inc.', 'all', 'rights', 'reserved', '.', 'ignorance', 'reduction', ';', 'knowledge', 'management', ';', 'opportunity', 'exploitation', ';', 'optimal', 'stopping', ';', 'timing', 'of', 'exploitation', 'the', 'influences', 'of', 'economic', 'and', 'technology', 'policy', 'on', 'the', 'dynamics', 'of', 'new', 'firm', 'formation', 'this', 'study', 'attempts', 'to', 'reveal', 'how', 'macroeconomic', 'and', 'technology', 'policies', 'that', 'encompass', 'the', 'opportunity', 'and', 'individual', 'drivers', 'of', 'entrepreneurship', 'explain', 'the', 'dynamics', 'of', 'new', 'firm', 'formation', 'in', 'a', 'country', '.', 'to', 'do', 'so', 'we', 'rely', 'on', 'the', 'schumpeterian', ',', 'industrial', 'organization', ',', 'and', 'labor', 'economics', 'traditions', 'of', 'entrepreneurship', ',', 'and', 'performed', 'an', 'exploratory', 'test', 'with', 'longitudinal', 'u.s.', 'data', 'from', '1968', 'to', '1993.', 'the', 'results', 'of', 'this', 'study', 'suggest', 'that', 'r', '&', 'd', 'investments', ',', 'patents', ',', 'economic', 'concentration', ',', 'pro-competition', 'policy', ',', 'and', 'labor', 'mobility', 'are', 'important', 'areas', 'in', 'which', 'government', 'policy', 'can', 'influence', 'the', 'intensity', 'of', 'new', 'firm', 'formation', '.', '©', 'springer', '2006.', 'entrepreneurial', 'policy', ';', 'government', ';', 'new', 'firm', 'formation', 'stakeholder', 'perceptions', 'of', 'age', 'and', 'other', 'dimensions', 'of', 'newness', 'using', 'verbal', 'protocol', 'and', 'conjoint', 'analyses', ',', 'this', 'study', 'examines', 'how', 'stakeholders', 'assess', 'an', 'organization', 'in', 'deciding', 'whether', 'to', 'provide', 'their', 'support', 'to', 'it', '.', 'the', 'authors', 'find', 'that', 'stakeholders', \"'\", 'support', 'depends', 'on', 'their', 'perceptions', 'of', 'an', 'organization', \"'s\", 'age', 'and', 'other', 'dimensions', 'of', 'newness', 'related', 'to', 'addressing', 'management', 'challenges', 'of', 'adaptation', '-', 'the', 'entrepreneurial', 'problem', ',', 'the', 'engineering', 'problem', ',', 'and', 'the', 'administrative', 'problem', '.', 'stakeholder', 'support', 'is', 'more', 'likely', 'for', 'those', 'organizations', 'that', 'are', 'old', ',', 'cognitively', 'legitimate', ',', 'affectively', 'congruent', ',', 'reliable', ',', 'accountable', ',', 'and', 'strategically', 'flexible', '.', 'the', 'authors', 'conclude', 'with', 'theoretical', 'implications', 'for', 'scholars', 'and', 'practical', 'implications', 'for', 'resource', 'acquisition', 'in', 'various', 'contexts', 'of', 'entrepreneurship', '.', '©', '2005', 'southern', 'management', 'association', '.', 'all', 'rights', 'reserved', '.', 'asset', 'of', 'newness', ';', 'entrepreneurship', ';', 'liability', 'of', 'newness', ';', 'stakeholder', 'theory', 'dynamics', 'of', 'new', 'firm', 'formation', ':', 'impacts', 'of', 'economic', 'and', 'technology', 'policy', 'this', 'study', 'investigates', 'how', 'entrepreneurial', 'policies', 'that', 'encompass', 'opportunity', ',', 'individual', ',', 'and', 'resource', 'aspects', 'of', 'entrepreneurship', 'explain', 'dynamics', 'of', 'new', 'firm', 'formation', 'in', 'a', 'country', '.', 'we', 'rely', 'on', 'the', 'schumpeterian', ',', 'industrial', 'organization', 'economics', ',', 'and', 'organizational', 'ecology', 'traditions', ',', 'and', 'performed', 'an', 'exploratory', 'test', 'with', 'a', 'longitudinal', 'u.s.', 'data', '(', '1968-1993', ')', '.', 'the', 'results', 'of', 'this', 'study', 'suggest', 'that', 'technological', 'knowledge', 'capital', ',', 'economic', 'opportunity', 'structure', ',', 'labor', 'mobility', ',', 'and', 'a', 'nation', \"'s\", 'carrying', 'capacity', 'for', 'entrepreneurial', 'activities', 'are', 'important', 'areas', 'in', 'which', 'government', 'policy', 'can', 'positively', 'influence', 'the', 'intensity', 'of', 'new', 'firm', 'formation', '.', '©', '2004', 'ieee', '.', 'entrepreneurship', ';', 'new', 'firm', ';', 'policy', 'entrepreneurs', \"'\", 'decisions', 'to', 'exploit', 'opportunities', 'opportunity', 'exploitation', 'is', 'a', 'necessary', 'step', 'in', 'creating', 'a', 'successful', 'business', 'in', 'the', 'entrepreneurial', 'process', ',', 'yet', 'there', 'has', 'been', 'little', 'conceptual', 'and', 'empirical', 'development', 'of', 'this', 'issue', 'in', 'the', 'literature', '.', 'this', 'study', 'examines', 'the', 'decisions', 'of', 'entrepreneurs', 'to', 'begin', 'exploiting', 'business', 'opportunities', 'from', 'a', 'resource-based', 'view', '.', 'our', 'analysis', 'of', 'a', 'sample', 'of', 'entrepreneurs', 'whose', 'businesses', 'are', 'located', 'in', 'incubators', 'suggests', 'that', 'entrepreneurs', 'are', 'more', 'likely', 'to', 'exploit', 'opportunities', 'when', 'they', 'perceive', 'more', 'knowledge', 'of', 'customer', 'demand', 'for', 'the', 'new', 'product', ',', 'more', 'fully', 'developed', 'necessary', 'technologies', ',', 'greater', 'managerial', 'capability', ',', 'and', 'greater', 'stakeholder', 'support', '.', 'moreover', ',', 'the', 'findings', 'of', 'this', 'study', 'shed', 'a', 'light', 'on', 'a', 'less', 'emphasized', 'aspect', 'of', 'the', 'resource-based', 'view', ':', 'the', 'new', 'product', \"'s\", 'anticipated', 'lead', 'time', 'acts', 'as', 'an', 'enhancing', 'moderator', 'in', 'entrepreneurs', \"'\", 'exploitation', 'decision', 'policies', '.', 'implications', 'for', 'future', 'research', 'on', 'opportunity', 'exploitation', 'are', 'discussed', '.', '©', '2003', 'elsevier', 'inc.', 'all', 'rights', 'reserved', '.', 'nan', 'strategic', 'types', 'and', 'performances', 'of', 'small', 'firms', 'in', 'korea', 'youngbae', 'kim', 'is', 'an', 'assistant', 'professor', 'of', 'management', 'and', 'policy', 'in', 'the', 'korea', 'advanced', 'institute', 'of', 'science', 'and', 'technology', ',', 'taejon', ',', 'south', 'korea', 'and', 'youngrok', 'choi', 'is', 'a', 'researcher', 'in', 'the', 'nuclear', 'policy', 'division', 'of', 'the', 'korea', 'atomic', 'energy', 'research', 'institute', ',', 'taejon', ',', 'korea', '.', 'this', 'study', 'attempts', 'to', 'identify', 'the', 'patterns', 'of', 'strategic', 'behaviour', 'of', 'small', 'firms', 'in', 'korea', 'in', 'conjunction', 'with', 'their', 'performance', '.', 'based', 'on', 'the', 'data', 'from', '79', 'small', 'firms', 'across', 'four', 'industries', ',', 'the', 'results', 'reveal', 'that', 'there', 'appear', 'to', 'be', 'four', 'common', 'strategic', 'attributes', 'cost', 'efficiency', ',', 'innovative', 'differentiation', ',', 'marketing', 'differentiation', ',', 'and', 'asset', 'parsimony', 'and', 'five', 'strategic', 'types', 'of', 'firms', 'which', 'have', 'distinct', 'combinations', 'of', 'these', 'strategic', 'attributes', 'innovative', ',', 'versatile', ',', 'marginal', ',', 'and', 'reactive', 'types', '.', 'each', 'type', 'of', 'firm', 'was', 'also', 'found', 'to', 'have', 'different', 'organisational', 'characteristics', 'and', 'performance', 'level', '.', 'finally', ',', 'this', 'study', 'discusses', 'the', 'comparative', 'management', 'issue', 'in', 'the', 'field', 'of', 'strategic', 'management', 'and', 'offers', 'some', 'practical', 'implications', 'for', 'managers', 'of', 'small', 'firms', '.', '©', '1994', ',', 'sage', 'publications', '.', 'all', 'rights', 'reserved', '.', 'nan'], tags=['Choi, Young Rok(최영록)'])"
      ]
     },
     "execution_count": 42,
     "metadata": {},
     "output_type": "execute_result"
    }
   ],
   "source": [
    "tagged_data[0]"
   ]
  },
  {
   "cell_type": "code",
   "execution_count": 43,
   "metadata": {},
   "outputs": [
    {
     "name": "stderr",
     "output_type": "stream",
     "text": [
      "/Users/seungheondoh/anaconda3/envs/python3.6/lib/python3.6/site-packages/gensim/models/doc2vec.py:570: UserWarning: The parameter `size` is deprecated, will be removed in 4.0.0, use `vector_size` instead.\n",
      "  warnings.warn(\"The parameter `size` is deprecated, will be removed in 4.0.0, use `vector_size` instead.\")\n"
     ]
    }
   ],
   "source": [
    "max_epochs = 100\n",
    "vec_size = 5\n",
    "alpha = 0.025\n",
    "\n",
    "model = Doc2Vec(size=vec_size,\n",
    "                alpha=alpha, \n",
    "                min_alpha=0.00025,\n",
    "                min_count=1,\n",
    "                dm =1)\n",
    "  \n",
    "model.build_vocab(tagged_data)"
   ]
  },
  {
   "cell_type": "code",
   "execution_count": 52,
   "metadata": {},
   "outputs": [
    {
     "data": {
      "text/plain": [
       "['An, Kwangjin(안광진)',\n",
       " 'Baek, Jong-Beom(백종범)',\n",
       " 'Baig, Chunggi(백충기)',\n",
       " 'Choi, Nam-Soon(최남순)',\n",
       " 'Cho, Jaephil(조재필)',\n",
       " 'Hong, Sung You(홍성유)',\n",
       " 'Jang, Ji-Hyun(장지현)',\n",
       " 'Jang, Ji-Wook(장지욱)',\n",
       " 'Jeong, Kyeong-Min(정경민)',\n",
       " 'Joo, Sang Hoon(주상훈)',\n",
       " 'Kang, Seok Ju(강석주)',\n",
       " 'Kim, Donghyuk(김동혁)',\n",
       " 'Kim, Guntae(김건태)',\n",
       " 'Kim, Jin Young(김진영)',\n",
       " 'Kim, So Youn(김소연)',\n",
       " 'Kim, Yong Hwan(김용환)',\n",
       " 'Ko, Hyunhyub(고현협)',\n",
       " 'Kwak, Ja Hun(곽자훈)',\n",
       " 'Kwak, Sang Kyu(곽상규)',\n",
       " 'Lee, Chang Young(이창영)',\n",
       " 'Lee, Dong Woog(이동욱)',\n",
       " 'Lee, Jae Sung(이재성)',\n",
       " 'Lee, Jiseok(이지석)',\n",
       " 'Lee, Jun Hee(이준희)',\n",
       " 'Lee, Sang-Young(이상영)',\n",
       " 'Lee, Sung Kuk(이성국)',\n",
       " 'Lim, Hankwon(임한권)',\n",
       " 'Park, Hyesung(박혜성)',\n",
       " 'Park, Jongnam(박종남)',\n",
       " 'Seok, Sang Il(석상일)',\n",
       " 'Seo, Kwanyong(서관용)',\n",
       " 'Song, Hyun-Kon(송현곤)',\n",
       " 'Yang, Changduk(양창덕)']"
      ]
     },
     "execution_count": 52,
     "metadata": {},
     "output_type": "execute_result"
    }
   ],
   "source": [
    "target = list(df[df['department']=='School of Energy and Chemical Engineering(에너지및화학공학부)']['Name'])\n",
    "target"
   ]
  },
  {
   "cell_type": "code",
   "execution_count": 65,
   "metadata": {},
   "outputs": [
    {
     "name": "stdout",
     "output_type": "stream",
     "text": [
      "['School of Materials Science and Engineering(신소재공학부)']\n",
      "['School of Mechanical, Aerospace and Nuclear Engineering(기계항공및원자력공학부)']\n",
      "['School of Natural Science(자연과학부)']\n",
      "['School of Electrical and Computer Engineering(전기전자컴퓨터공학부)']\n",
      "['School of Natural Science(자연과학부)']\n",
      "['School of Mechanical, Aerospace and Nuclear Engineering(기계항공및원자력공학부)']\n",
      "['School of Business Administration(경영학부)']\n",
      "['School of Electrical and Computer Engineering(전기전자컴퓨터공학부)']\n",
      "['School of Mechanical, Aerospace and Nuclear Engineering(기계항공및원자력공학부)']\n",
      "['School of Natural Science(자연과학부)']\n"
     ]
    },
    {
     "name": "stderr",
     "output_type": "stream",
     "text": [
      "/Users/seungheondoh/anaconda3/envs/python3.6/lib/python3.6/site-packages/gensim/matutils.py:737: FutureWarning: Conversion of the second argument of issubdtype from `int` to `np.signedinteger` is deprecated. In future, it will be treated as `np.int64 == np.dtype(int).type`.\n",
      "  if np.issubdtype(vec.dtype, np.int):\n"
     ]
    }
   ],
   "source": [
    "a = model.docvecs.most_similar('An, Kwangjin(안광진)')\n",
    "for i in a:\n",
    "    print(list(df[df['Name'] == i[0]]['department']))"
   ]
  },
  {
   "cell_type": "code",
   "execution_count": 54,
   "metadata": {},
   "outputs": [
    {
     "name": "stdout",
     "output_type": "stream",
     "text": [
      "[('Park, Sung Soo(박성수)', 0.9281320571899414), ('Ahn, Sangjoon(안상준)', 0.8955965042114258), ('Park, Young S.(박영석)', 0.8669921159744263), ('Moon, Hyungon(문현곤)', 0.8584030866622925), ('Kim, Pilwon(김필원)', 0.8323549032211304), ('Kim, Sung Youb(김성엽)', 0.8294697999954224), ('Zhang, Lu(ZhangLu)', 0.8073378205299377), ('Chung, Jin-Ho(정진호)', 0.8026716709136963), ('Oh, Joo Hwan(오주환)', 0.7875319719314575), ('Kim, Yung Sam(김영삼)', 0.7849025726318359)]\n"
     ]
    },
    {
     "name": "stderr",
     "output_type": "stream",
     "text": [
      "/Users/seungheondoh/anaconda3/envs/python3.6/lib/python3.6/site-packages/gensim/matutils.py:737: FutureWarning: Conversion of the second argument of issubdtype from `int` to `np.signedinteger` is deprecated. In future, it will be treated as `np.int64 == np.dtype(int).type`.\n",
      "  if np.issubdtype(vec.dtype, np.int):\n"
     ]
    }
   ],
   "source": [
    "for i in target:\n",
    "    a = model.docvecs.most_similar(i)\n",
    "    print(a)\n",
    "    break"
   ]
  },
  {
   "cell_type": "markdown",
   "metadata": {},
   "source": [
    "### 앞으로 할것\n",
    "\n",
    "- 단어 전처리  => 승헌\n",
    "- 모형 이해 및 파라미터 튜닝 => 승헌, 지훈\n",
    "---------\n",
    "- Keyword -> Professor 기능구현\n",
    "---------\n",
    "- word2vec, doc2vec, Evaluation을 어떻게 할것인가. = 지훈"
   ]
  },
  {
   "cell_type": "code",
   "execution_count": null,
   "metadata": {},
   "outputs": [],
   "source": []
  }
 ],
 "metadata": {
  "kernelspec": {
   "display_name": "Python 3",
   "language": "python",
   "name": "python3"
  },
  "language_info": {
   "codemirror_mode": {
    "name": "ipython",
    "version": 3
   },
   "file_extension": ".py",
   "mimetype": "text/x-python",
   "name": "python",
   "nbconvert_exporter": "python",
   "pygments_lexer": "ipython3",
   "version": "3.6.6"
  }
 },
 "nbformat": 4,
 "nbformat_minor": 2
}
