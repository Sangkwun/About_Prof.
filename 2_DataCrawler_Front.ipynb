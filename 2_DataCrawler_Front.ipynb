{
 "cells": [
  {
   "cell_type": "code",
   "execution_count": 1,
   "metadata": {},
   "outputs": [],
   "source": [
    "import requests\n",
    "import json\n",
    "from bs4 import BeautifulSoup\n",
    "import time\n",
    "import re\n",
    "import pandas as pd\n",
    "import numpy as np\n",
    "from pymongo import MongoClient"
   ]
  },
  {
   "cell_type": "code",
   "execution_count": 2,
   "metadata": {},
   "outputs": [],
   "source": [
    "url = \"http://scholarworks.unist.ac.kr/browse-researcher\"\n",
    "data = {\n",
    "    \"sortType\": \"English\",\n",
    "    \"page\": 1,\n",
    "    \"offset\": 0\n",
    "}"
   ]
  },
  {
   "cell_type": "code",
   "execution_count": 3,
   "metadata": {},
   "outputs": [],
   "source": [
    "## 데이터 정보를 보내지 않았다!\n",
    "r = requests.get(url, params=data)\n",
    "text = r.text\n",
    "soup = BeautifulSoup(text, 'lxml')"
   ]
  },
  {
   "cell_type": "code",
   "execution_count": 4,
   "metadata": {},
   "outputs": [
    {
     "data": {
      "text/plain": [
       "[<li>\n",
       " <a href=\"researcher-profile?ep=2741\">Ahn, Sangjoon\n",
       " \n",
       " \t\t\t\t\t\t</a>\n",
       " </li>, <li>\n",
       " <a href=\"researcher-profile?ep=2781\">Amblard, Francois\n",
       " \n",
       " \t\t\t\t\t\t</a>\n",
       " </li>, <li>\n",
       " <a href=\"researcher-profile?ep=2641\">An, Kwangjin\n",
       " \n",
       " \t\t\t\t\t\t</a>\n",
       " </li>, <li>\n",
       " <a href=\"researcher-profile?ep=1881\">Au, Tsz-Chiu\n",
       " \n",
       " \t\t\t\t\t\t</a>\n",
       " </li>, <li>\n",
       " <a href=\"researcher-profile?ep=2041\">Bae, Hantaek\n",
       " \n",
       " \t\t\t\t\t\t</a>\n",
       " </li>]"
      ]
     },
     "execution_count": 4,
     "metadata": {},
     "output_type": "execute_result"
    }
   ],
   "source": [
    "li = soup.findAll(\"li\")[16:76]\n",
    "li[0:5]"
   ]
  },
  {
   "cell_type": "code",
   "execution_count": 5,
   "metadata": {},
   "outputs": [],
   "source": [
    "link = []\n",
    "name = []\n",
    "\n",
    "def makelink(pg):\n",
    "    url = \"http://scholarworks.unist.ac.kr/browse-researcher\"\n",
    "    data = {\n",
    "        \"sortType\": \"English\",\n",
    "        \"page\": pg,\n",
    "        \"offset\": 0\n",
    "    }\n",
    "    r = requests.get(url, params=data)\n",
    "    text = r.text\n",
    "    soup = BeautifulSoup(text, 'lxml')\n",
    "    for i in soup.findAll(\"li\")[16:76]:\n",
    "        link.append(i.find(\"a\")['href'])\n",
    "        name.append(i.getText().replace(\"\\n\",\"\").replace(\"\\r\",\"\").replace(\"\\t\",\"\"))"
   ]
  },
  {
   "cell_type": "code",
   "execution_count": 6,
   "metadata": {},
   "outputs": [],
   "source": [
    "for i in range(5):\n",
    "    makelink(i+1)"
   ]
  },
  {
   "cell_type": "code",
   "execution_count": 7,
   "metadata": {},
   "outputs": [],
   "source": [
    "def makelink6():\n",
    "    url = \"http://scholarworks.unist.ac.kr/browse-researcher\"\n",
    "    data = {\n",
    "        \"sortType\": \"English\",\n",
    "        \"page\": 6,\n",
    "        \"offset\": 0\n",
    "    }\n",
    "    r = requests.get(url, params=data)\n",
    "    text = r.text\n",
    "    soup = BeautifulSoup(text, 'lxml')\n",
    "    for i in soup.findAll(\"li\")[16:28]:\n",
    "        link.append(i.find(\"a\")['href'])\n",
    "        name.append(i.getText().replace(\"\\n\",\"\").replace(\"\\r\",\"\").replace(\"\\t\",\"\"))"
   ]
  },
  {
   "cell_type": "code",
   "execution_count": 8,
   "metadata": {},
   "outputs": [],
   "source": [
    "makelink6()"
   ]
  },
  {
   "cell_type": "code",
   "execution_count": 9,
   "metadata": {},
   "outputs": [
    {
     "data": {
      "text/plain": [
       "('researcher-profile?ep=1302', 'Zhao, Bum Suk')"
      ]
     },
     "execution_count": 9,
     "metadata": {},
     "output_type": "execute_result"
    }
   ],
   "source": [
    "link[311], name[311]"
   ]
  },
  {
   "cell_type": "code",
   "execution_count": 10,
   "metadata": {},
   "outputs": [],
   "source": [
    "client = MongoClient()\n",
    "db = client.aboutdepart"
   ]
  },
  {
   "cell_type": "code",
   "execution_count": 11,
   "metadata": {},
   "outputs": [],
   "source": [
    "for i, k in zip(link,name):    \n",
    "    document = {}\n",
    "    document[\"link\"] = i\n",
    "    document[\"name\"] = k\n",
    "    db.scholar.insert_one(document)"
   ]
  },
  {
   "cell_type": "code",
   "execution_count": 12,
   "metadata": {},
   "outputs": [
    {
     "name": "stderr",
     "output_type": "stream",
     "text": [
      "/Users/seungheondoh/anaconda3/envs/python3.6/lib/python3.6/site-packages/ipykernel_launcher.py:1: DeprecationWarning: count is deprecated. Use estimated_document_count or count_documents instead. Please note that $where must be replaced by $expr, $near must be replaced by $geoWithin with $center, and $nearSphere must be replaced by $geoWithin with $centerSphere\n",
      "  \"\"\"Entry point for launching an IPython kernel.\n"
     ]
    },
    {
     "data": {
      "text/plain": [
       "312"
      ]
     },
     "execution_count": 12,
     "metadata": {},
     "output_type": "execute_result"
    }
   ],
   "source": [
    "db.scholar.count()"
   ]
  },
  {
   "cell_type": "code",
   "execution_count": 14,
   "metadata": {},
   "outputs": [
    {
     "data": {
      "text/plain": [
       "{'_id': ObjectId('5be8188b20c66c2c9ea60082'),\n",
       " 'link': 'researcher-profile?ep=1249',\n",
       " 'name': 'Bae, Joonbum'}"
      ]
     },
     "execution_count": 14,
     "metadata": {},
     "output_type": "execute_result"
    }
   ],
   "source": [
    "Contents = db.scholar.find()\n",
    "Contents[5]"
   ]
  },
  {
   "cell_type": "markdown",
   "metadata": {},
   "source": [
    "-------------------------------------"
   ]
  },
  {
   "cell_type": "markdown",
   "metadata": {},
   "source": [
    "### db.scholar에서 저장한 link를 타고 url을 호출합니다."
   ]
  },
  {
   "cell_type": "code",
   "execution_count": 87,
   "metadata": {},
   "outputs": [],
   "source": [
    "url = \"http://scholarworks.unist.ac.kr/\"+str(link[100])\n",
    "r = requests.get(url)\n",
    "soup = BeautifulSoup(r.text, 'lxml')"
   ]
  },
  {
   "cell_type": "code",
   "execution_count": 88,
   "metadata": {
    "scrolled": true
   },
   "outputs": [
    {
     "data": {
      "text/plain": [
       "<!DOCTYPE html>\n",
       "<html>\n",
       "<head>\n",
       "<title>ScholarWorks: Researcher Page</title>\n",
       "<meta content=\"text/html; charset=utf-8\" http-equiv=\"Content-Type\"/>\n",
       "<meta content=\"DSpace 4.3\" name=\"Generator\"/>\n",
       "<meta content=\"true\" name=\"HandheldFriendly\"/>\n",
       "<meta content=\"IE=Edge, chrome=1\" http-equiv=\"X-UA-Compatible\"/>\n",
       "<meta content=\"width=device-width, initial-scale=1.0, maximum-scale=1.0, user-scalable=no\" name=\"viewport\"/>\n",
       "<!-- Facebook 공유 Thumbnail -->\n",
       "<meta content=\"http://scholarworks.unist.ac.kr:80/image/background/facebook-thumb800.jpg\" property=\"og:image\"/>\n",
       "<link href=\"http://scholarworks.unist.ac.kr:80/image/background/facebook-thumb800.jpg\" rel=\"image_src\"/>\n",
       "<link href=\"/favicon.ico\" rel=\"shortcut icon\" type=\"image/x-icon\"/>\n",
       "<link href=\"/css/common.css\" media=\"screen\" rel=\"stylesheet\" title=\"web2.0\" type=\"text/css\"/>\n",
       "<script src=\"/static/js/jquery/jquery-1.10.2.min.js\" type=\"text/javascript\"></script>\n",
       "<script src=\"/js/utils.js\" type=\"text/javascript\"></script>\n",
       "<script src=\"/js/koasas.js\" type=\"text/javascript\"></script>\n",
       "<!-- Owl Carousel Assets -->\n",
       "<link href=\"/css/owl.carousel.css\" rel=\"stylesheet\"/>\n",
       "<link href=\"/css/owl.theme.css\" rel=\"stylesheet\"/>\n",
       "<script src=\"/js/jquery.scroll.pack.js\" type=\"text/javascript\"></script>\n",
       "<script src=\"/js/jquery.easing.js\" type=\"text/javascript\"></script>\n",
       "<!-- Slidebars CSS -->\n",
       "<link href=\"/css/slidebars.css\" rel=\"stylesheet\"/>\n",
       "<link href=\"/open-search/description.xml\" rel=\"search\" title=\"DSpace\" type=\"application/opensearchdescription+xml\"/>\n",
       "<script src=\"/static/js/jquery/jquery-1.10.2.min.js\" type=\"text/javascript\"></script>\n",
       "<script src=\"/static/js/jquery/jquery-ui-1.10.3.custom.min.js\" type=\"text/javascript\"></script>\n",
       "<!-- HTML5 shim and Respond.js IE8 support of HTML5 elements and media queries -->\n",
       "<!--[if lt IE 9]>\n",
       "  <script src=\"/static/js/html5shiv.js\"></script>\n",
       "  <script src=\"/static/js/respond.min.js\"></script>\n",
       "<![endif]-->\n",
       "<!-- Slidebars -->\n",
       "<script src=\"/js/slidebars.js\"></script>\n",
       "<script>\n",
       "\t\t\t(function($) {\n",
       "\t\t\t\t$(document).ready(function() {\n",
       "\t\t\t\t\t$.slidebars();\n",
       "\t\t\t\t});\n",
       "\t\t\t}) (jQuery);\n",
       "\t\t</script>\n",
       "<!-- 메인 슬라이드 소스 -->\n",
       "<script src=\"/js/owl.carousel.js\"></script>\n",
       "</head>\n",
       "<body>\n",
       "<div class=\"sub_layout\" id=\"sb-site\">\n",
       "<!-- \t<header> -->\n",
       "<div id=\"header\">\n",
       "<div class=\"header_wrap\">\n",
       "<div class=\"header_box\">\n",
       "<div class=\"header_inner\">\n",
       "<h1>\n",
       "<a href=\"/\"><img alt=\"Scholarworks@UNIST\" src=\"/image/common/logo.png\"/></a>\n",
       "</h1>\n",
       "<div class=\"tablet_nav sb-toggle-right\"><a class=\"tablet_nav_bt\" href=\"#\"><span>menu</span></a></div>\n",
       "<a class=\"library_link\" href=\"http://library.unist.ac.kr\" target=\"_blank\">LIBRARY</a>\n",
       "<div class=\"sub_header_search\">\n",
       "<form action=\"/simple-search\" class=\"navbar-form navbar-right\" method=\"get\" name=\"sub_search_form\">\n",
       "<dl>\n",
       "<dt>검색</dt>\n",
       "<dd class=\"advanced_dd\"><a href=\"/advanced-search\"><em>Advanced Search</em></a></dd>\n",
       "<dd class=\"int_dd\">\n",
       "<input class=\"inttype\" id=\"tequery\" name=\"query\" placeholder=\"Search for...\" title=\"Search for\" type=\"text\"/>\n",
       "<a class=\"search\" href=\"javascript:document.sub_search_form.submit();\"><span>검색</span></a>\n",
       "</dd>\n",
       "<dd class=\"sub_search_bt\">\n",
       "<a href=\"#\"><span>검색바로가기</span></a>\n",
       "</dd>\n",
       "</dl>\n",
       "</form>\n",
       "</div>\n",
       "</div>\n",
       "</div><!--header_box :e -->\n",
       "</div><!-- \theader_wrap :e -->\n",
       "</div><!-- \theader :e -->\n",
       "<!-- \t<main> -->\n",
       "<div class=\"m_container\">\n",
       "<div class=\"con_inner\">\n",
       "<div class=\"sub_left_wrap\">\n",
       "<h3 class=\"sub_left_title\">BROWSE</h3>\n",
       "<ul>\n",
       "<li><a href=\"/community-list\">Communities &amp; Collections</a></li>\n",
       "<li><a href=\"/browse-researcher\">Researchers</a></li>\n",
       "<li><a href=\"/browse?type=title&amp;sort_by=2&amp;order=DESC&amp;rpp=10&amp;etal=3\">Titles</a></li>\n",
       "</ul>\n",
       "<div class=\"left_conbox\">\n",
       "<script src=\"https://www.google.com/jsapi\" type=\"text/javascript\"></script>\n",
       "<script type=\"text/javascript\">\n",
       "\tgoogle.load(\"visualization\", \"1\", {packages:[\"corechart\"]});\n",
       "\tgoogle.setOnLoadCallback(drawChart);\n",
       "\tfunction drawChart() {\n",
       "\t\tvar data = google.visualization.arrayToDataTable([\n",
       "\t\t    ['í­ëª©', 'Count'],\n",
       "\t       \t['View', 0],\n",
       "\t       \t['Download', 0]\n",
       "       ]);\n",
       "\n",
       "       var options = {\n",
       "  \t       pieHole: 0.3,\n",
       "  \t       legend: {position: 'bottom'}\n",
       "       };\n",
       "\n",
       "       var chart = new google.visualization.PieChart(document.getElementById('count_view'));\n",
       "       chart.draw(data, options);\n",
       "    };\n",
       "    \n",
       "</script>\n",
       "</div>\n",
       "</div>\n",
       "<!-- sub_left_wrap :: e -->\n",
       "<!-- \t\t\t<a id=\"toTop\" href=\"#\" class=\"core_skip_top\">상단으로 이동</a> -->\n",
       "<script type=\"text/javascript\">\n",
       "// \t\t\t$(function() {\n",
       "// \t\t\t\t$(\"#toTop\").scrollToTop({\n",
       "// \t\t\t\t\tspeed : 500,\n",
       "// \t\t\t\t\tease : \"easeOutBack\",\n",
       "// \t\t\t\t\tstart : 200\n",
       "// \t\t\t\t});\n",
       "// \t\t\t});\n",
       "\t\t\t// start 스크롤 300px 내려오면 top버튼 나타남 0이면 항상 나타남\n",
       "\t\t\t</script>\n",
       "<script src=\"//d39af2mgp1pqhg.cloudfront.net/widget-popup.js\" type=\"text/javascript\"></script>\n",
       "<script type=\"text/javascript\">\n",
       "var jQ = jQuery.noConflict();\n",
       "// 탭 선택 시 동작\n",
       "function selectType(type){\n",
       "\tjQ(location).attr('href', '/researcher-profile?ep='+2181+'&type='+type);\n",
       "}\n",
       "\n",
       "jQ(function(){\n",
       "\n",
       "\t\n",
       "\tjQ(\".researcher_idbox ul li\").eq(0).addClass(\"first_icon\");\n",
       "\t\n",
       "\t// 760px 이하에서는 타이틀 외의 항목이 보이지 않음.\n",
       "\tjQ(\"div.researcher_itemlist .list_tbl th\").eq(2).addClass(\"m_none\");\t// Author(s)\n",
       "\tjQ(\"div.researcher_itemlist .list_tbl th\").eq(3).addClass(\"m_none\");\t// Type\n",
       "\tjQ(\"div.researcher_itemlist .list_tbl th\").eq(4).addClass(\"m_none\"); // View\n",
       "\tjQ(\"div.researcher_itemlist .list_tbl tr\").each(function(i){\n",
       "// \t\tjQ(this).children().eq(0).addClass(\"m_none\");\t// Issue Date\n",
       "\t\tjQ(this).children().eq(2).addClass(\"m_none\");\t// Author(s)\n",
       "\t\tjQ(this).children().eq(3).addClass(\"m_none\");\t// Type\n",
       "\t\tjQ(this).children().eq(4).addClass(\"m_none\");\t// View\n",
       "\t});\n",
       "});\n",
       "</script>\n",
       "<div class=\"sub_right_wrap\">\n",
       "<div class=\"page_nav\">\n",
       "<a class=\"home_link\" href=\"/\"></a><a href=\"\">ScholarWorks</a>\n",
       "</div>\n",
       "<div class=\"sub_right_con\">\n",
       "<h3 class=\"menu_icon02\">Researcher Page</h3>\n",
       "<div class=\"research_info_box\">\n",
       "<form action=\"/profile\" method=\"post\">\n",
       "<link href=\"//code.jquery.com/ui/1.11.4/themes/smoothness/jquery-ui.css\" rel=\"stylesheet\"/>\n",
       "<script src=\"http://code.jquery.com/ui/1.11.4/jquery-ui.js\"></script>\n",
       "<script type=\"text/javascript\">\n",
       "\t\t\n",
       "\tjQ(function() {\n",
       "\t    jQ(document).not('.PlumX-Popup').tooltip();\n",
       "\t});\n",
       "\t</script>\n",
       "<p class=\"img_box\">\n",
       "<img alt=\"사진\" height=\"146\" src=\"http://114.70.1.191/rims/upload/image/201607/user_profile_8340913336296356114172613.jpg\" width=\"135\"/>\n",
       "</p>\n",
       "<div class=\"research_info_view\">\n",
       "<div class=\"researcher_idbox\">\n",
       "<ul>\n",
       "<li>\n",
       "<a href=\"http://www.researcherid.com/rid/H-4798-2016\" id=\"H-4798-2016\" target=\"_blank\"><img alt=\"ResearcherID\" class=\"tooltip\" src=\"/image/common/research_icon02.gif\" title=\"ResearcherID\"/></a>\n",
       "</li>\n",
       "<li>\n",
       "<a href=\"http://www.scopus.com/authid/detail.url?authorId=15123900700\" id=\"http://www.scopus.com/authid/detail.url?authorId=15123900700\" target=\"_blank\"><img alt=\"Scopus\" class=\"tooltip\" src=\"/image/common/SCPID_icon.png\" title=\"Scopus\" width=\"34\"/></a>\n",
       "</li>\n",
       "</ul>\n",
       "</div>\n",
       "<p class=\"neme_p\">\n",
       "\t\t\tKee, Jung-Min (기정민)\n",
       "\t\t\t\n",
       "\t\t</p>\n",
       "<dl>\n",
       "<dt>Department</dt>\n",
       "<dd>\n",
       "\t\t\tSchool of Natural Science(자연과학부)\n",
       "\t\t\t</dd>\n",
       "</dl>\n",
       "<dl>\n",
       "<dt>Research Interests</dt>\n",
       "<dd>\n",
       "\t\t\tChemical biology, organic synthesis, peptide chemistry, synthetic protein chemistry\n",
       "       \t\t</dd>\n",
       "</dl>\n",
       "<dl>\n",
       "<dt>Lab</dt>\n",
       "<dd>Bioorganic and Chembio Lab</dd>\n",
       "</dl>\n",
       "<dl>\n",
       "<dt>Website</dt>\n",
       "<dd><a href=\"http://kee-lab.org\" target=\"_blank\">http://kee-lab.org</a></dd>\n",
       "</dl>\n",
       "</div>\n",
       "</form>\n",
       "</div><!-- research_info_box : e -->\n",
       "<div class=\"researcher_tbl\">\n",
       "<div class=\"tab_wrap tab_33\">\n",
       "<ul>\n",
       "<li><a class=\"on\" href=\"javascript:selectType('Article');\" id=\"tab1_btn\">Article</a></li>\n",
       "<li><a href=\"javascript:selectType('Proceeding');\" id=\"tab2_btn\">Proceeding</a></li>\n",
       "<li><a href=\"javascript:selectType('Patent');\" id=\"tab3_btn\">Patent</a></li>\n",
       "</ul>\n",
       "</div>\n",
       "<div class=\"researcher_itemlist\" id=\"researcher_articlelist\" style=\"display:block; float:center;\">\n",
       "<form action=\"/simpleSearch-author\" id=\"uriAuthorArticleRemove\" method=\"post\" name=\"uriAuthorItemRemove\" onsubmit=\"return removeCheck('item_id');\">\n",
       "<table class=\"list_tbl mgb_10\" summary=\"This table browses all dspace content\">\n",
       "<caption>This table browses all dspace content</caption>\n",
       "<colgroup><col style=\"width:10%;\"/><col style=\"width:50%;\"/><col style=\"width:15%;\"/><col style=\"width:10%;\"/><col style=\"width: 10%\"/></colgroup>\n",
       "<thead>\n",
       "<tr>\n",
       "<th>Issue Date</th><th>Title</th><th>Author(s)</th><th>Type</th><th>View</th><th>Altmetrics</th></tr></thead>\n",
       "<tbody>\n",
       "<tr><td>201810</td><td class=\"alleft_td\"><a href=\"/handle/201301/24543\">Sequence-dependent DNA condensation as a driving force of DNA phase separation</a></td><td class=\"alleft_td\"><em><a href=\"/browse?type=author&amp;value=Kang%2C+Hyunju&amp;value_lang=ko\">Kang, Hyunju</a>; <a href=\"/browse?type=author&amp;value=Yoo%2C+Jejoong&amp;value_lang=ko\">Yoo, Jejoong</a>; <a href=\"/browse?type=author&amp;value=Sohn%2C+Byeong-Kwon&amp;value_lang=ko\">Sohn, Byeong-Kwon</a>, et al</em></td><td><em>ARTICLE</em></td><td>114</td>\n",
       "<td>\n",
       "<a class=\"plumx-plum-print-popup\" data-badge=\"false\" data-hide-when-empty=\"true\" data-popup=\"right\" data-site=\"unist-kr\" href=\"https://plu.mx/unist-kr/a/?doi=http://dx.doi.org/10.1093/nar/gky639\">Sequence-dependent DNA condensation as a driving force of DNA phase separation</a>\n",
       "</td>\n",
       "</tr>\n",
       "<tr><td>201710</td><td class=\"alleft_td\"><a href=\"/handle/201301/22472\">Bisphosphoglycerate mutase controls serine pathway flux via 3-phosphoglycerate</a></td><td class=\"alleft_td\"><em><a href=\"/browse?type=author&amp;value=Oslund%2C+Rob+C&amp;value_lang=ko\">Oslund, Rob C</a>; <a href=\"/browse?type=author&amp;value=Su%2C+Xiaoyang&amp;value_lang=ko\">Su, Xiaoyang</a>; <a href=\"/browse?type=author&amp;value=Haugbro%2C+Michael&amp;value_lang=ko\">Haugbro, Michael</a>, et al</em></td><td><em>ARTICLE</em></td><td>829</td>\n",
       "<td>\n",
       "<a class=\"plumx-plum-print-popup\" data-badge=\"false\" data-hide-when-empty=\"true\" data-popup=\"right\" data-site=\"unist-kr\" href=\"https://plu.mx/unist-kr/a/?doi=http://dx.doi.org/10.1038/nchembio.2453\">Bisphosphoglycerate mutase controls serine pathway flux via 3-phosphoglycerate</a>\n",
       "</td>\n",
       "</tr>\n",
       "<tr><td>201709</td><td class=\"alleft_td\"><a href=\"/handle/201301/22474\">Nickel-Catalyzed Azide-Alkyne Cycloaddition to Access 1,5-Disubstituted 1,2,3-Triazoles in Air and Water</a></td><td class=\"alleft_td\"><em><a href=\"/browse?type=author&amp;value=Kim%2C+Woo+Gyum&amp;value_lang=ko\">Kim, Woo Gyum</a>; <a href=\"/browse?type=author&amp;value=Kang%2C+Mi+Eun&amp;value_lang=ko\">Kang, Mi Eun</a>; <a href=\"/browse?type=author&amp;value=Lee%2C+Jae+Bin&amp;value_lang=ko\">Lee, Jae Bin</a>, et al</em></td><td><em>ARTICLE</em></td><td>388</td>\n",
       "<td>\n",
       "<a class=\"plumx-plum-print-popup\" data-badge=\"false\" data-hide-when-empty=\"true\" data-popup=\"right\" data-site=\"unist-kr\" href=\"https://plu.mx/unist-kr/a/?doi=http://dx.doi.org/10.1021/jacs.7b06338\">Nickel-Catalyzed Azide-Alkyne Cycloaddition to Access 1,5-Disubstituted 1,2,3-Triazoles in Air and Water</a>\n",
       "</td>\n",
       "</tr>\n",
       "<tr><td>201709</td><td class=\"alleft_td\"><a href=\"/handle/201301/22859\">Direct diversification of unmasked quinazolin-4(3: H)-ones through orthogonal reactivity modulation</a></td><td class=\"alleft_td\"><em><a href=\"/browse?type=author&amp;value=Lee%2C+Jae+Bin&amp;value_lang=ko\">Lee, Jae Bin</a>; <a href=\"/browse?type=author&amp;value=Kang%2C+Mi+Eun&amp;value_lang=ko\">Kang, Mi Eun</a>; <a href=\"/browse?type=author&amp;value=Kim%2C+Joohee&amp;value_lang=ko\">Kim, Joohee</a>, et al</em></td><td><em>ARTICLE</em></td><td>230</td>\n",
       "<td>\n",
       "<a class=\"plumx-plum-print-popup\" data-badge=\"false\" data-hide-when-empty=\"true\" data-popup=\"right\" data-site=\"unist-kr\" href=\"https://plu.mx/unist-kr/a/?doi=http://dx.doi.org/10.1039/c7cc05794f\">Direct diversification of unmasked quinazolin-4(3: H)-ones through orthogonal reactivity modulation</a>\n",
       "</td>\n",
       "</tr>\n",
       "<tr><td>201501</td><td class=\"alleft_td\"><a href=\"/handle/201301/10401\">A second-generation phosphohistidine analog for production of phosphohistidine antibodies</a></td><td class=\"alleft_td\"><em><a href=\"/browse?type=author&amp;value=Kee%2C+Jung-Min&amp;value_lang=ko\">Kee, Jung-Min</a>; <a href=\"/browse?type=author&amp;value=Oslund%2C+Rob+C.&amp;value_lang=ko\">Oslund, Rob C.</a>; <a href=\"/browse?type=author&amp;value=Couvillon%2C+Anthony+D.&amp;value_lang=ko\">Couvillon, Anthony D.</a>, et al</em></td><td><em>ARTICLE</em></td><td>364</td>\n",
       "<td>\n",
       "<a class=\"plumx-plum-print-popup\" data-badge=\"false\" data-hide-when-empty=\"true\" data-popup=\"right\" data-site=\"unist-kr\" href=\"https://plu.mx/unist-kr/a/?doi=http://dx.doi.org/10.1021/ol503320p\">A second-generation phosphohistidine analog for production of phosphohistidine antibodies</a>\n",
       "</td>\n",
       "</tr>\n",
       "<tr><td>201412</td><td class=\"alleft_td\"><a href=\"/handle/201301/10810\">Function through bio-inspired, synthesis-informed design: step-economical syntheses of designed kinase inhibitors</a></td><td class=\"alleft_td\"><em><a href=\"/browse?type=author&amp;value=Wender%2C+Paul+A.&amp;value_lang=ko\">Wender, Paul A.</a>; <a href=\"/browse?type=author&amp;value=Axtman%2C+Alison+D.&amp;value_lang=ko\">Axtman, Alison D.</a>; <a href=\"/browse?type=author&amp;value=Golden%2C+Jennifer+E.&amp;value_lang=ko\">Golden, Jennifer E.</a>, et al</em></td><td><em>ARTICLE</em></td><td>344</td>\n",
       "<td>\n",
       "<a class=\"plumx-plum-print-popup\" data-badge=\"false\" data-hide-when-empty=\"true\" data-popup=\"right\" data-site=\"unist-kr\" href=\"https://plu.mx/unist-kr/a/?doi=http://dx.doi.org/10.1039/c4qo00228h\">Function through bio-inspired, synthesis-informed design: step-economical syntheses of designed kinase inhibitors</a>\n",
       "</td>\n",
       "</tr>\n",
       "<tr><td>201409</td><td class=\"alleft_td\"><a href=\"/handle/201301/10463\">A Phosphohistidine Proteomics Strategy Based on Elucidation of a Unique Gas-Phase Phosphopeptide Fragmentation Mechanism</a></td><td class=\"alleft_td\"><em><a href=\"/browse?type=author&amp;value=Oslund%2C+Rob+C.&amp;value_lang=ko\">Oslund, Rob C.</a>; <a href=\"/browse?type=author&amp;value=Kee%2C+Jung-Min&amp;value_lang=ko\">Kee, Jung-Min</a>; <a href=\"/browse?type=author&amp;value=Couvillon%2C+Anthony+D.&amp;value_lang=ko\">Couvillon, Anthony D.</a>, et al</em></td><td><em>ARTICLE</em></td><td>363</td>\n",
       "<td>\n",
       "<a class=\"plumx-plum-print-popup\" data-badge=\"false\" data-hide-when-empty=\"true\" data-popup=\"right\" data-site=\"unist-kr\" href=\"https://plu.mx/unist-kr/a/?doi=http://dx.doi.org/10.1021/ja507614f\">A Phosphohistidine Proteomics Strategy Based on Elucidation of a Unique Gas-Phase Phosphopeptide Fragmentation Mechanism</a>\n",
       "</td>\n",
       "</tr>\n",
       "<tr><td>201307</td><td class=\"alleft_td\"><a href=\"/handle/201301/13396\">A pan-specific antibody for direct detection of protein histidine phosphorylation</a></td><td class=\"alleft_td\"><em><a href=\"/browse?type=author&amp;value=Kee%2C+Jung-Min&amp;value_lang=ko\">Kee, Jung-Min</a>; <a href=\"/browse?type=author&amp;value=Oslund%2C+Rob+C.&amp;value_lang=ko\">Oslund, Rob C.</a>; <a href=\"/browse?type=author&amp;value=Perlman%2C+David+H.&amp;value_lang=ko\">Perlman, David H.</a>, et al</em></td><td><em>ARTICLE</em></td><td>357</td>\n",
       "<td>\n",
       "<a class=\"plumx-plum-print-popup\" data-badge=\"false\" data-hide-when-empty=\"true\" data-popup=\"right\" data-site=\"unist-kr\" href=\"https://plu.mx/unist-kr/a/?doi=http://dx.doi.org/10.1038/NCHEMBIO.1259\">A pan-specific antibody for direct detection of protein histidine phosphorylation</a>\n",
       "</td>\n",
       "</tr>\n",
       "<tr><td>201201</td><td class=\"alleft_td\"><a href=\"/handle/201301/13328\">Chasing Phosphohistidine, an Elusive Sibling in the Phosphoamino Acid Family</a></td><td class=\"alleft_td\"><em><a href=\"/browse?type=author&amp;value=Kee%2C+Jung-Min&amp;value_lang=ko\">Kee, Jung-Min</a>; <a href=\"/browse?type=author&amp;value=Muir%2C+Tom+W.&amp;value_lang=ko\">Muir, Tom W.</a></em></td><td><em>ARTICLE</em></td><td>307</td>\n",
       "<td>\n",
       "<a class=\"plumx-plum-print-popup\" data-badge=\"false\" data-hide-when-empty=\"true\" data-popup=\"right\" data-site=\"unist-kr\" href=\"https://plu.mx/unist-kr/a/?doi=http://dx.doi.org/10.1021/cb200445w\">Chasing Phosphohistidine, an Elusive Sibling in the Phosphoamino Acid Family</a>\n",
       "</td>\n",
       "</tr>\n",
       "<tr><td>201108</td><td class=\"alleft_td\"><a href=\"/handle/201301/13399\">Gateway synthesis of daphnane congeners and their protein kinase C affinities and cell-growth activities</a></td><td class=\"alleft_td\"><em><a href=\"/browse?type=author&amp;value=Wender%2C+Paul+A.&amp;value_lang=ko\">Wender, Paul A.</a>; <a href=\"/browse?type=author&amp;value=Buschmann%2C+Nicole&amp;value_lang=ko\">Buschmann, Nicole</a>; <a href=\"/browse?type=author&amp;value=Cardin%2C+Nate+B.&amp;value_lang=ko\">Cardin, Nate B.</a>, et al</em></td><td><em>ARTICLE</em></td><td>345</td>\n",
       "<td>\n",
       "<a class=\"plumx-plum-print-popup\" data-badge=\"false\" data-hide-when-empty=\"true\" data-popup=\"right\" data-site=\"unist-kr\" href=\"https://plu.mx/unist-kr/a/?doi=http://dx.doi.org/10.1038/nchem.1074\">Gateway synthesis of daphnane congeners and their protein kinase C affinities and cell-growth activities</a>\n",
       "</td>\n",
       "</tr>\n",
       "<tr><td>201009</td><td class=\"alleft_td\"><a href=\"/handle/201301/13333\">Development of stable phosphohistidine analogues</a></td><td class=\"alleft_td\"><em><a href=\"/browse?type=author&amp;value=Kee%2C+Jung-Min&amp;value_lang=ko\">Kee, Jung-Min</a>; <a href=\"/browse?type=author&amp;value=Villani%2C+Bryeanna&amp;value_lang=ko\">Villani, Bryeanna</a>; <a href=\"/browse?type=author&amp;value=Carpenter%2C+Laura%2C+R.&amp;value_lang=ko\">Carpenter, Laura, R.</a>, et al</em></td><td><em>ARTICLE</em></td><td>285</td>\n",
       "<td>\n",
       "<a class=\"plumx-plum-print-popup\" data-badge=\"false\" data-hide-when-empty=\"true\" data-popup=\"right\" data-site=\"unist-kr\" href=\"https://plu.mx/unist-kr/a/?doi=http://dx.doi.org/10.1021/ja104393t\">Development of stable phosphohistidine analogues</a>\n",
       "</td>\n",
       "</tr>\n",
       "<tr><td>200805</td><td class=\"alleft_td\"><a href=\"/handle/201301/13344\">Practical synthesis of prostratin, DPP, and their analogs, adjuvant leads against latent HIV</a></td><td class=\"alleft_td\"><em><a href=\"/browse?type=author&amp;value=Wender%2C+Paul+A.&amp;value_lang=ko\">Wender, Paul A.</a>; <a href=\"/browse?type=author&amp;value=Kee%2C+Jung-Min&amp;value_lang=ko\">Kee, Jung-Min</a>; <a href=\"/browse?type=author&amp;value=Warrington%2C+Jeffrey+M.&amp;value_lang=ko\">Warrington, Jeffrey M.</a></em></td><td><em>ARTICLE</em></td><td>351</td>\n",
       "<td>\n",
       "<a class=\"plumx-plum-print-popup\" data-badge=\"false\" data-hide-when-empty=\"true\" data-popup=\"right\" data-site=\"unist-kr\" href=\"https://plu.mx/unist-kr/a/?doi=http://dx.doi.org/10.1126/science.1154690\">Practical synthesis of prostratin, DPP, and their analogs, adjuvant leads against latent HIV</a>\n",
       "</td>\n",
       "</tr>\n",
       "<tr><td>200707</td><td class=\"alleft_td\"><a href=\"/handle/201301/13347\">The stereoselective dimerization reaction of oxidopyrylium ions</a></td><td class=\"alleft_td\"><em><a href=\"/browse?type=author&amp;value=Lee%2C+Hee-Yoon&amp;value_lang=ko\">Lee, Hee-Yoon</a>; <a href=\"/browse?type=author&amp;value=Kim%2C+Hyoun+Young&amp;value_lang=ko\">Kim, Hyoun Young</a>; <a href=\"/browse?type=author&amp;value=Kim%2C+Byung+Gyu&amp;value_lang=ko\">Kim, Byung Gyu</a>, et al</em></td><td><em>ARTICLE</em></td><td>330</td>\n",
       "<td>\n",
       "<a class=\"plumx-plum-print-popup\" data-badge=\"false\" data-hide-when-empty=\"true\" data-popup=\"right\" data-site=\"unist-kr\" href=\"https://plu.mx/unist-kr/a/?doi=http://dx.doi.org/10.1055/s-2007-983770\">The stereoselective dimerization reaction of oxidopyrylium ions</a>\n",
       "</td>\n",
       "</tr>\n",
       "<tr><td>200611</td><td class=\"alleft_td\"><a href=\"/handle/201301/13351\">Studies on oxidopyrylium [5+2] cycloadditions: Toward a general synthetic route to the C12-hydroxy daphnetoxins</a></td><td class=\"alleft_td\"><em><a href=\"/browse?type=author&amp;value=Wender%2C+Paul+A.&amp;value_lang=ko\">Wender, Paul A.</a>; <a href=\"/browse?type=author&amp;value=Bi%2C+F.+Christopher&amp;value_lang=ko\">Bi, F. Christopher</a>; <a href=\"/browse?type=author&amp;value=Buschmann%2C+Nicole&amp;value_lang=ko\">Buschmann, Nicole</a>, et al</em></td><td><em>ARTICLE</em></td><td>383</td>\n",
       "<td>\n",
       "<a class=\"plumx-plum-print-popup\" data-badge=\"false\" data-hide-when-empty=\"true\" data-popup=\"right\" data-site=\"unist-kr\" href=\"https://plu.mx/unist-kr/a/?doi=http://dx.doi.org/10.1021/ol062234e\">Studies on oxidopyrylium [5+2] cycloadditions: Toward a general synthetic route to the C12-hydroxy daphnetoxins</a>\n",
       "</td>\n",
       "</tr>\n",
       "</tbody>\n",
       "</table>\n",
       "</form>\n",
       "</div>\n",
       "<div class=\"pagination_box\"><a class=\"pageLink pageCurrent\" href=\"/researcher-profile?ep=2181&amp;page=1&amp;type=Article&amp;offset=0\">1</a></div>\n",
       "<br/>\n",
       "<script type=\"text/javascript\">\n",
       "\t\t\tfunction typeChange(type, handle) {\n",
       "\t\t\t\tlocation.href = 'researcher-profile?type='+type+'&ep=2181';\n",
       "\t\t\t}\n",
       "\t\t\t</script>\n",
       "</div>\n",
       "</div>\n",
       "</div>\n",
       "</div>\n",
       "</div>\n",
       "<!-- m_container :: e -->\n",
       "<div class=\"footer_banner\">\n",
       "<ul>\n",
       "<li>\n",
       "<a href=\"http://www.opendoar.org\" target=\"_blank\">\n",
       "<img alt=\"openDOAR\" src=\"/image/common/footer_banner01.gif\"/>\n",
       "</a>\n",
       "</li>\n",
       "<li>\n",
       "<a href=\"http://doaj.org\" target=\"_blank\">\n",
       "<img alt=\"DOAJ\" src=\"/image/common/footer_banner02.gif\"/>\n",
       "</a>\n",
       "</li>\n",
       "<li class=\"row_line\">\n",
       "<a href=\"http://www.ncbi.nlm.nih.gov/pubmed\" target=\"_blank\">\n",
       "<img alt=\"pubmed\" src=\"/image/common/footer_banner03.png\"/>\n",
       "</a>\n",
       "</li>\n",
       "<li class=\"last_banner row_line\">\n",
       "<a href=\"http://arxiv.org\" target=\"_blank\">\n",
       "<img alt=\"arXiv\" src=\"/image/common/footer_banner04.png\"/>\n",
       "</a>\n",
       "</li>\n",
       "</ul>\n",
       "</div>\n",
       "<div class=\"footer_wrap\">\n",
       "<div class=\"footer_inner\">\n",
       "<div class=\"homepage_info\">\n",
       "<dl class=\"mb_none\">\n",
       "<dt>STATISTICS</dt>\n",
       "<dd>\n",
       "\t\t\t\t\tTotal View :<span>5,302,417</span>\n",
       "</dd>\n",
       "<dd>\n",
       "\t\t\t\t\tTotal Download :<span>1,088,135</span>\n",
       "</dd>\n",
       "<dd>\n",
       "\t\t\t\t\tToday View :<span>315</span>\n",
       "</dd>\n",
       "</dl>\n",
       "<div class=\"footer_r_box\">\n",
       "<p>\n",
       "<a class=\"rss_line\" href=\"/feed/rss_1.0/site\" target=\"_self\">RSS 1.0</a><a href=\"/feed/rss_2.0/site\" target=\"_self\">RSS 2.0</a>\n",
       "</p>\n",
       "<a class=\"contact_bt\" href=\"/feedback\">CONTACT US</a>\n",
       "</div>\n",
       "</div>\n",
       "<div class=\"footer_address\">\n",
       "<h2>\n",
       "<a href=\"http://library.unist.ac.kr/\" target=\"_blank\"><img alt=\"UNIST\" src=\"/image/common/footer_logo.png\"/></a>\n",
       "</h2>\n",
       "<p><b>Tel :</b> 052-217-1405 / <b>Email :</b> <a href=\"mailto:scholarworks@unist.ac.kr\">scholarworks@unist.ac.kr</a><br/>Copyright (c) 2015 by UNIST LIBRARY. All rights reserved<a href=\"/mydspace\" style=\"text-decoration:none;\">.</a><br/>ScholarWorks@UNIST는 국립중앙도서관 OAK 보급사업으로 구축되었습니다.</p>\n",
       "</div>\n",
       "</div>\n",
       "<!-- inner : e -->\n",
       "</div>\n",
       "<!-- footer_wrap :: e -->\n",
       "</div>\n",
       "<!-- sb-site : e -->\n",
       "<!-- 태블릿, 모바일 시 네비게이션 -->\n",
       "<div class=\"sb-slidebar sb-right\">\n",
       "<div class=\"right_nav_box\">\n",
       "<h3>MENU</h3>\n",
       "<ul>\n",
       "<li><a href=\"/community-list\">Communities &amp; Collections</a></li>\n",
       "<li><a href=\"/browse-researcher\">Researchers</a></li>\n",
       "<li><a href=\"/browse?type=title&amp;sort_by=2&amp;order=DESC&amp;rpp=10&amp;etal=3\">Titles</a></li>\n",
       "</ul>\n",
       "</div>\n",
       "</div>\n",
       "<!-- sb-slidebar : e -->\n",
       "<script>\n",
       "  (function(i,s,o,g,r,a,m){i['GoogleAnalyticsObject']=r;i[r]=i[r]||function(){\n",
       "  (i[r].q=i[r].q||[]).push(arguments)},i[r].l=1*new Date();a=s.createElement(o),\n",
       "  m=s.getElementsByTagName(o)[0];a.async=1;a.src=g;m.parentNode.insertBefore(a,m)\n",
       "  })(window,document,'script','//www.google-analytics.com/analytics.js','ga');\n",
       "\n",
       "  ga('create', 'UA-3019526-29', 'unist.ac.kr');\n",
       "  ga('send', 'pageview');\n",
       "\n",
       "</script>\n",
       "</body>\n",
       "</html>"
      ]
     },
     "execution_count": 88,
     "metadata": {},
     "output_type": "execute_result"
    }
   ],
   "source": [
    "soup"
   ]
  },
  {
   "cell_type": "code",
   "execution_count": 89,
   "metadata": {
    "scrolled": true
   },
   "outputs": [
    {
     "data": {
      "text/plain": [
       "<div class=\"research_info_view\">\n",
       "<div class=\"researcher_idbox\">\n",
       "<ul>\n",
       "<li>\n",
       "<a href=\"http://www.researcherid.com/rid/H-4798-2016\" id=\"H-4798-2016\" target=\"_blank\"><img alt=\"ResearcherID\" class=\"tooltip\" src=\"/image/common/research_icon02.gif\" title=\"ResearcherID\"/></a>\n",
       "</li>\n",
       "<li>\n",
       "<a href=\"http://www.scopus.com/authid/detail.url?authorId=15123900700\" id=\"http://www.scopus.com/authid/detail.url?authorId=15123900700\" target=\"_blank\"><img alt=\"Scopus\" class=\"tooltip\" src=\"/image/common/SCPID_icon.png\" title=\"Scopus\" width=\"34\"/></a>\n",
       "</li>\n",
       "</ul>\n",
       "</div>\n",
       "<p class=\"neme_p\">\n",
       "\t\t\tKee, Jung-Min (기정민)\n",
       "\t\t\t\n",
       "\t\t</p>\n",
       "<dl>\n",
       "<dt>Department</dt>\n",
       "<dd>\n",
       "\t\t\tSchool of Natural Science(자연과학부)\n",
       "\t\t\t</dd>\n",
       "</dl>\n",
       "<dl>\n",
       "<dt>Research Interests</dt>\n",
       "<dd>\n",
       "\t\t\tChemical biology, organic synthesis, peptide chemistry, synthetic protein chemistry\n",
       "       \t\t</dd>\n",
       "</dl>\n",
       "<dl>\n",
       "<dt>Lab</dt>\n",
       "<dd>Bioorganic and Chembio Lab</dd>\n",
       "</dl>\n",
       "<dl>\n",
       "<dt>Website</dt>\n",
       "<dd><a href=\"http://kee-lab.org\" target=\"_blank\">http://kee-lab.org</a></dd>\n",
       "</dl>\n",
       "</div>"
      ]
     },
     "execution_count": 89,
     "metadata": {},
     "output_type": "execute_result"
    }
   ],
   "source": [
    "soup.find('div',{'class' : \"research_info_view\"})"
   ]
  },
  {
   "cell_type": "code",
   "execution_count": 90,
   "metadata": {},
   "outputs": [
    {
     "data": {
      "text/plain": [
       "[<dl>\n",
       " <dt>Department</dt>\n",
       " <dd>\n",
       " \t\t\tSchool of Natural Science(자연과학부)\n",
       " \t\t\t</dd>\n",
       " </dl>, <dl>\n",
       " <dt>Research Interests</dt>\n",
       " <dd>\n",
       " \t\t\tChemical biology, organic synthesis, peptide chemistry, synthetic protein chemistry\n",
       "        \t\t</dd>\n",
       " </dl>, <dl>\n",
       " <dt>Lab</dt>\n",
       " <dd>Bioorganic and Chembio Lab</dd>\n",
       " </dl>, <dl>\n",
       " <dt>Website</dt>\n",
       " <dd><a href=\"http://kee-lab.org\" target=\"_blank\">http://kee-lab.org</a></dd>\n",
       " </dl>]"
      ]
     },
     "execution_count": 90,
     "metadata": {},
     "output_type": "execute_result"
    }
   ],
   "source": [
    "soup.find('div',{'class' : \"research_info_view\"}).findAll('dl')"
   ]
  },
  {
   "cell_type": "code",
   "execution_count": 91,
   "metadata": {},
   "outputs": [
    {
     "data": {
      "text/plain": [
       "'School of Natural Science(자연과학부)'"
      ]
     },
     "execution_count": 91,
     "metadata": {},
     "output_type": "execute_result"
    }
   ],
   "source": [
    "#department\n",
    "soup.find('div',{'class' : \"research_info_view\"}).findAll('dl')[0].find('dd').getText().replace(\"\\r\",\"\").replace(\"\\t\",\"\").replace(\"\\n\",\"\")"
   ]
  },
  {
   "cell_type": "code",
   "execution_count": 92,
   "metadata": {},
   "outputs": [
    {
     "data": {
      "text/plain": [
       "'Chemical biology, organic synthesis, peptide chemistry, synthetic protein chemistry       '"
      ]
     },
     "execution_count": 92,
     "metadata": {},
     "output_type": "execute_result"
    }
   ],
   "source": [
    "#Research Interest\n",
    "soup.find('div',{'class' : \"research_info_view\"}).findAll('dl')[1].find('dd').getText().replace(\"\\r\",\"\").replace(\"\\t\",\"\").replace(\"\\n\",\"\")"
   ]
  },
  {
   "cell_type": "code",
   "execution_count": 93,
   "metadata": {},
   "outputs": [
    {
     "data": {
      "text/plain": [
       "'Bioorganic and Chembio Lab'"
      ]
     },
     "execution_count": 93,
     "metadata": {},
     "output_type": "execute_result"
    }
   ],
   "source": [
    "#Lab\n",
    "soup.find('div',{'class' : \"research_info_view\"}).findAll('dl')[2].find('dd').getText()"
   ]
  },
  {
   "cell_type": "code",
   "execution_count": 94,
   "metadata": {},
   "outputs": [
    {
     "data": {
      "text/plain": [
       "'http://kee-lab.org'"
      ]
     },
     "execution_count": 94,
     "metadata": {},
     "output_type": "execute_result"
    }
   ],
   "source": [
    "#Website\n",
    "soup.find('div',{'class' : \"research_info_view\"}).findAll('dl')[3].find('dd').getText()"
   ]
  },
  {
   "cell_type": "markdown",
   "metadata": {},
   "source": [
    "### 학술지 정보"
   ]
  },
  {
   "cell_type": "code",
   "execution_count": 95,
   "metadata": {},
   "outputs": [
    {
     "data": {
      "text/plain": [
       "<div class=\"researcher_idbox\">\n",
       "<ul>\n",
       "<li>\n",
       "<a href=\"http://www.researcherid.com/rid/H-4798-2016\" id=\"H-4798-2016\" target=\"_blank\"><img alt=\"ResearcherID\" class=\"tooltip\" src=\"/image/common/research_icon02.gif\" title=\"ResearcherID\"/></a>\n",
       "</li>\n",
       "<li>\n",
       "<a href=\"http://www.scopus.com/authid/detail.url?authorId=15123900700\" id=\"http://www.scopus.com/authid/detail.url?authorId=15123900700\" target=\"_blank\"><img alt=\"Scopus\" class=\"tooltip\" src=\"/image/common/SCPID_icon.png\" title=\"Scopus\" width=\"34\"/></a>\n",
       "</li>\n",
       "</ul>\n",
       "</div>"
      ]
     },
     "execution_count": 95,
     "metadata": {},
     "output_type": "execute_result"
    }
   ],
   "source": [
    "soup.find('div',{'class' : \"researcher_idbox\"})"
   ]
  },
  {
   "cell_type": "code",
   "execution_count": 96,
   "metadata": {},
   "outputs": [
    {
     "name": "stdout",
     "output_type": "stream",
     "text": [
      "15123900700\n"
     ]
    }
   ],
   "source": [
    "for i in soup.find('div',{'class' : \"researcher_idbox\"}).findAll('a'):\n",
    "    if \"http://www.scopus.com/authid/detail.url?\" in i['href']:\n",
    "        print(i['href'].replace(\"http://www.scopus.com/authid/detail.url?authorId=\",\"\"))"
   ]
  },
  {
   "cell_type": "markdown",
   "metadata": {},
   "source": [
    "## Final\n",
    "db 스키마\n",
    "\n",
    "- id : 스코퍼스 고유 id\n",
    "- department : 소속학과\n",
    "- ResearchInterest : 관심단어\n",
    "- Lab : 연구실 명\n",
    "- Website : 웹사이트 페이지"
   ]
  },
  {
   "cell_type": "code",
   "execution_count": 100,
   "metadata": {},
   "outputs": [],
   "source": [
    "def savedata(a):\n",
    "    url = \"http://scholarworks.unist.ac.kr/\"+str(a)\n",
    "    r = requests.get(url)\n",
    "    soup = BeautifulSoup(r.text, 'lxml')\n",
    "    dl = soup.find('div',{'class' : \"research_info_view\"}).findAll('dl')\n",
    "    document ={}\n",
    "    try:\n",
    "        for i in soup.find('div',{'class' : \"researcher_idbox\"}).findAll('a'):\n",
    "            if \"http://www.scopus.com/authid/detail.url?\" in i['href']:\n",
    "                document['id']= i['href'].replace(\"http://www.scopus.com/authid/detail.url?authorId=\",\"\")\n",
    "    except:\n",
    "        document['id'] = \"\"\n",
    "    document['department']= dl[0].find('dd').getText().replace(\"\\r\",\"\").replace(\"\\t\",\"\").replace(\"\\n\",\"\")\n",
    "    document['ResearchInterest']=dl[1].find('dd').getText().replace(\"\\r\",\"\").replace(\"\\t\",\"\").replace(\"\\n\",\"\")\n",
    "    document['Lab']=dl[2].find('dd').getText()\n",
    "    document['Website']=dl[3].find('dd').getText()\n",
    "    db.profdata.insert_one(document)"
   ]
  },
  {
   "cell_type": "code",
   "execution_count": 101,
   "metadata": {},
   "outputs": [],
   "source": [
    "for i in link:\n",
    "    savedata(i)"
   ]
  },
  {
   "cell_type": "code",
   "execution_count": 103,
   "metadata": {
    "scrolled": false
   },
   "outputs": [
    {
     "name": "stdout",
     "output_type": "stream",
     "text": [
      "{'_id': ObjectId('5be82c2d20c66c2c9ea604b3'), 'id': '15123900700', 'department': 'School of Natural Science(자연과학부)', 'ResearchInterest': 'Chemical biology, organic synthesis, peptide chemistry, synthetic protein chemistry       ', 'Lab': 'Bioorganic and Chembio Lab', 'Website': 'http://kee-lab.org'}\n",
      "{'_id': ObjectId('5be82c2f20c66c2c9ea604b4'), 'id': '7003629876', 'department': 'School of Mechanical, Aerospace and Nuclear Engineering(기계항공및원자력공학부)', 'ResearchInterest': 'Laser materials processing, Laser material interaction       ', 'Lab': 'Laser Processing & Multiphysics Systems Laboratory', 'Website': 'http://ptlresearch.com/'}\n",
      "{'_id': ObjectId('5be82c3120c66c2c9ea604b5'), 'department': 'School of Natural Science(자연과학부)', 'ResearchInterest': '', 'Lab': '', 'Website': ''}\n",
      "{'_id': ObjectId('5be82c3320c66c2c9ea604b6'), 'id': '35264258100', 'department': 'School of Natural Science(자연과학부)', 'ResearchInterest': 'Carbon materials, polymer, Layer-by-Layer (LbL) assembly, hyperbranched polymer, polyglycerol (PG), bio-applications       ', 'Lab': 'Soft and Hybrid Nanomaterials Lab', 'Website': ''}\n",
      "{'_id': ObjectId('5be82c3420c66c2c9ea604b7'), 'id': '55726495200', 'department': 'School of Urban and Environmental Engineering(도시환경공학부)', 'ResearchInterest': 'Seismic Site Response Analysis, Seismic Hazard Analysis, Slope Stability Analysis, Geospatial Analysis, Soil-Structure Interaction Analysis       ', 'Lab': 'School of Urban and Environmental Engineering', 'Website': ''}\n",
      "{'_id': ObjectId('5be82c3520c66c2c9ea604b8'), 'id': '56156833800', 'department': 'School of Natural Science(자연과학부)', 'ResearchInterest': 'X-ray Science, biophysical science, biomedical science       ', 'Lab': 'High Pressure X-ray Science Lab (HiPreX)', 'Website': 'http://hiprex.unist.ac.kr'}\n",
      "{'_id': ObjectId('5be82c3620c66c2c9ea604b9'), 'id': '43261241100', 'department': 'Graduate School of Creative Design Engineering(디자인-공학 융합전문대학원)', 'ResearchInterest': 'User experience, Human-product interaction, Cognition in design, Cultural differences       ', 'Lab': 'Atelab (Atelier + Laboratory)', 'Website': 'http://atelab.unist.ac.kr/'}\n",
      "{'_id': ObjectId('5be82c3720c66c2c9ea604ba'), 'department': 'School of Business Administration(경영학부)', 'ResearchInterest': 'Market Microstructure, Derivatives, Investments, Mutual Funds, Hedge Funds,, Exchange-Traded Products, Empirical Asset Pricing, Corporate Governance, Mergers&Acqiusitions       ', 'Lab': 'School of Business Administration', 'Website': ''}\n",
      "{'_id': ObjectId('5be82c3920c66c2c9ea604bb'), 'id': '55759502300', 'department': 'School of Energy and Chemical Engineering(에너지및화학공학부)', 'ResearchInterest': 'Systems Biology, Computational Biology, Bacterial Pathogens, Host-Pathogen Interaction, Anti-Microbial Resistance       ', 'Lab': 'Systems Biology Lab', 'Website': 'https://sites.google.com/view/systemskimlab'}\n",
      "{'_id': ObjectId('5be82c3a20c66c2c9ea604bc'), 'id': '56678101800', 'department': 'School of Mechanical, Aerospace and Nuclear Engineering(기계항공및원자력공학부)', 'ResearchInterest': 'Smart factory, Smart control, Failure analysis, Simulation       ', 'Lab': 'Smart Factory Lab (SF)', 'Website': 'http://sf.unist.ac.kr/'}\n"
     ]
    }
   ],
   "source": [
    "k = db.profdata.find()\n",
    "for i in k[100:110]:\n",
    "    print(i)"
   ]
  },
  {
   "cell_type": "code",
   "execution_count": null,
   "metadata": {},
   "outputs": [],
   "source": []
  }
 ],
 "metadata": {
  "kernelspec": {
   "display_name": "Python 3",
   "language": "python",
   "name": "python3"
  },
  "language_info": {
   "codemirror_mode": {
    "name": "ipython",
    "version": 3
   },
   "file_extension": ".py",
   "mimetype": "text/x-python",
   "name": "python",
   "nbconvert_exporter": "python",
   "pygments_lexer": "ipython3",
   "version": "3.6.6"
  }
 },
 "nbformat": 4,
 "nbformat_minor": 2
}
