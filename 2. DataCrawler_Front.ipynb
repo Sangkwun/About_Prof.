{
 "cells": [
  {
   "cell_type": "code",
   "execution_count": 1,
   "metadata": {},
   "outputs": [],
   "source": [
    "import requests\n",
    "import json\n",
    "from bs4 import BeautifulSoup\n",
    "import time\n",
    "import re\n",
    "import pandas as pd\n",
    "import numpy as np\n",
    "from pymongo import MongoClient"
   ]
  },
  {
   "cell_type": "code",
   "execution_count": 69,
   "metadata": {},
   "outputs": [],
   "source": [
    "url = \"http://scholarworks.unist.ac.kr/browse-researcher\"\n",
    "data = {\n",
    "    \"sortType\": \"English\",\n",
    "    \"page\": 1,\n",
    "    \"offset\": 0\n",
    "}"
   ]
  },
  {
   "cell_type": "code",
   "execution_count": 70,
   "metadata": {},
   "outputs": [],
   "source": [
    "## 데이터 정보를 보내지 않았다!\n",
    "r = requests.get(url, params=data)\n",
    "text = r.text\n",
    "soup = BeautifulSoup(text, 'lxml')"
   ]
  },
  {
   "cell_type": "code",
   "execution_count": 100,
   "metadata": {},
   "outputs": [
    {
     "data": {
      "text/plain": [
       "[<li>\n",
       " <a href=\"researcher-profile?ep=2741\">Ahn, Sangjoon\n",
       " \n",
       " \t\t\t\t\t\t</a>\n",
       " </li>, <li>\n",
       " <a href=\"researcher-profile?ep=2781\">Amblard, Francois\n",
       " \n",
       " \t\t\t\t\t\t</a>\n",
       " </li>, <li>\n",
       " <a href=\"researcher-profile?ep=2641\">An, Kwangjin\n",
       " \n",
       " \t\t\t\t\t\t</a>\n",
       " </li>, <li>\n",
       " <a href=\"researcher-profile?ep=1881\">Au, Tsz-Chiu\n",
       " \n",
       " \t\t\t\t\t\t</a>\n",
       " </li>, <li>\n",
       " <a href=\"researcher-profile?ep=2041\">Bae, Hantaek\n",
       " \n",
       " \t\t\t\t\t\t</a>\n",
       " </li>]"
      ]
     },
     "execution_count": 100,
     "metadata": {},
     "output_type": "execute_result"
    }
   ],
   "source": [
    "li = soup.findAll(\"li\")[16:76]\n",
    "li[0:5]"
   ]
  },
  {
   "cell_type": "code",
   "execution_count": 79,
   "metadata": {},
   "outputs": [],
   "source": [
    "link = []\n",
    "name = []\n",
    "\n",
    "def makelink(pg):\n",
    "    url = \"http://scholarworks.unist.ac.kr/browse-researcher\"\n",
    "    data = {\n",
    "        \"sortType\": \"English\",\n",
    "        \"page\": pg,\n",
    "        \"offset\": 0\n",
    "    }\n",
    "    r = requests.get(url, params=data)\n",
    "    text = r.text\n",
    "    soup = BeautifulSoup(text, 'lxml')\n",
    "    for i in soup.findAll(\"li\")[16:76]:\n",
    "        link.append(i.find(\"a\")['href'])\n",
    "        name.append(i.getText().replace(\"\\n\",\"\").replace(\"\\r\",\"\").replace(\"\\t\",\"\"))"
   ]
  },
  {
   "cell_type": "code",
   "execution_count": 80,
   "metadata": {},
   "outputs": [],
   "source": [
    "for i in range(5):\n",
    "    makelink(i+1)"
   ]
  },
  {
   "cell_type": "code",
   "execution_count": 88,
   "metadata": {},
   "outputs": [],
   "source": [
    "def makelink6():\n",
    "    url = \"http://scholarworks.unist.ac.kr/browse-researcher\"\n",
    "    data = {\n",
    "        \"sortType\": \"English\",\n",
    "        \"page\": 6,\n",
    "        \"offset\": 0\n",
    "    }\n",
    "    r = requests.get(url, params=data)\n",
    "    text = r.text\n",
    "    soup = BeautifulSoup(text, 'lxml')\n",
    "    for i in soup.findAll(\"li\")[16:28]:\n",
    "        link.append(i.find(\"a\")['href'])\n",
    "        name.append(i.getText().replace(\"\\n\",\"\").replace(\"\\r\",\"\").replace(\"\\t\",\"\"))"
   ]
  },
  {
   "cell_type": "code",
   "execution_count": 89,
   "metadata": {},
   "outputs": [],
   "source": [
    "makelink6()"
   ]
  },
  {
   "cell_type": "code",
   "execution_count": 93,
   "metadata": {},
   "outputs": [
    {
     "data": {
      "text/plain": [
       "('researcher-profile?ep=1302', 'Zhao, Bum Suk')"
      ]
     },
     "execution_count": 93,
     "metadata": {},
     "output_type": "execute_result"
    }
   ],
   "source": [
    "link[311], name[311]"
   ]
  },
  {
   "cell_type": "code",
   "execution_count": 94,
   "metadata": {},
   "outputs": [],
   "source": [
    "client = MongoClient()\n",
    "db = client.aboutdepart"
   ]
  },
  {
   "cell_type": "code",
   "execution_count": 96,
   "metadata": {},
   "outputs": [],
   "source": [
    "for i, k in zip(link,name):    \n",
    "    document = {}\n",
    "    document[\"link\"] = i\n",
    "    document[\"name\"] = k\n",
    "    db.scholar.insert_one(document)"
   ]
  },
  {
   "cell_type": "code",
   "execution_count": 97,
   "metadata": {},
   "outputs": [
    {
     "name": "stderr",
     "output_type": "stream",
     "text": [
      "/anaconda3/envs/myenv/lib/python3.6/site-packages/ipykernel_launcher.py:1: DeprecationWarning: count is deprecated. Use estimated_document_count or count_documents instead. Please note that $where must be replaced by $expr, $near must be replaced by $geoWithin with $center, and $nearSphere must be replaced by $geoWithin with $centerSphere\n",
      "  \"\"\"Entry point for launching an IPython kernel.\n"
     ]
    },
    {
     "data": {
      "text/plain": [
       "312"
      ]
     },
     "execution_count": 97,
     "metadata": {},
     "output_type": "execute_result"
    }
   ],
   "source": [
    "db.scholar.count()"
   ]
  },
  {
   "cell_type": "code",
   "execution_count": 98,
   "metadata": {},
   "outputs": [
    {
     "data": {
      "text/plain": [
       "{'_id': ObjectId('5bdfed2e99ba9f810182fd37'),\n",
       " 'link': 'researcher-profile?ep=1249',\n",
       " 'name': 'Bae, Joonbum'}"
      ]
     },
     "execution_count": 98,
     "metadata": {},
     "output_type": "execute_result"
    }
   ],
   "source": [
    "Contents = db.scholar.find()\n",
    "Contents[5]"
   ]
  },
  {
   "cell_type": "markdown",
   "metadata": {},
   "source": [
    "-------------------------------------"
   ]
  },
  {
   "cell_type": "markdown",
   "metadata": {},
   "source": [
    "### db.scholar에서 저장한 link를 타고 url을 호출합니다."
   ]
  },
  {
   "cell_type": "code",
   "execution_count": 101,
   "metadata": {},
   "outputs": [],
   "source": [
    "url = \"http://scholarworks.unist.ac.kr/\"+str(link[0])\n",
    "r = requests.get(url)\n",
    "soup = BeautifulSoup(r.text, 'lxml')"
   ]
  },
  {
   "cell_type": "code",
   "execution_count": 102,
   "metadata": {
    "scrolled": false
   },
   "outputs": [
    {
     "data": {
      "text/plain": [
       "<!DOCTYPE html>\n",
       "<html>\n",
       "<head>\n",
       "<title>ScholarWorks: Researcher Page</title>\n",
       "<meta content=\"text/html; charset=utf-8\" http-equiv=\"Content-Type\"/>\n",
       "<meta content=\"DSpace 4.3\" name=\"Generator\"/>\n",
       "<meta content=\"true\" name=\"HandheldFriendly\"/>\n",
       "<meta content=\"IE=Edge, chrome=1\" http-equiv=\"X-UA-Compatible\"/>\n",
       "<meta content=\"width=device-width, initial-scale=1.0, maximum-scale=1.0, user-scalable=no\" name=\"viewport\"/>\n",
       "<!-- Facebook 공유 Thumbnail -->\n",
       "<meta content=\"http://scholarworks.unist.ac.kr:80/image/background/facebook-thumb800.jpg\" property=\"og:image\"/>\n",
       "<link href=\"http://scholarworks.unist.ac.kr:80/image/background/facebook-thumb800.jpg\" rel=\"image_src\"/>\n",
       "<link href=\"/favicon.ico\" rel=\"shortcut icon\" type=\"image/x-icon\"/>\n",
       "<link href=\"/css/common.css\" media=\"screen\" rel=\"stylesheet\" title=\"web2.0\" type=\"text/css\"/>\n",
       "<script src=\"/static/js/jquery/jquery-1.10.2.min.js\" type=\"text/javascript\"></script>\n",
       "<script src=\"/js/utils.js\" type=\"text/javascript\"></script>\n",
       "<script src=\"/js/koasas.js\" type=\"text/javascript\"></script>\n",
       "<!-- Owl Carousel Assets -->\n",
       "<link href=\"/css/owl.carousel.css\" rel=\"stylesheet\"/>\n",
       "<link href=\"/css/owl.theme.css\" rel=\"stylesheet\"/>\n",
       "<script src=\"/js/jquery.scroll.pack.js\" type=\"text/javascript\"></script>\n",
       "<script src=\"/js/jquery.easing.js\" type=\"text/javascript\"></script>\n",
       "<!-- Slidebars CSS -->\n",
       "<link href=\"/css/slidebars.css\" rel=\"stylesheet\"/>\n",
       "<link href=\"/open-search/description.xml\" rel=\"search\" title=\"DSpace\" type=\"application/opensearchdescription+xml\"/>\n",
       "<script src=\"/static/js/jquery/jquery-1.10.2.min.js\" type=\"text/javascript\"></script>\n",
       "<script src=\"/static/js/jquery/jquery-ui-1.10.3.custom.min.js\" type=\"text/javascript\"></script>\n",
       "<!-- HTML5 shim and Respond.js IE8 support of HTML5 elements and media queries -->\n",
       "<!--[if lt IE 9]>\n",
       "  <script src=\"/static/js/html5shiv.js\"></script>\n",
       "  <script src=\"/static/js/respond.min.js\"></script>\n",
       "<![endif]-->\n",
       "<!-- Slidebars -->\n",
       "<script src=\"/js/slidebars.js\"></script>\n",
       "<script>\n",
       "\t\t\t(function($) {\n",
       "\t\t\t\t$(document).ready(function() {\n",
       "\t\t\t\t\t$.slidebars();\n",
       "\t\t\t\t});\n",
       "\t\t\t}) (jQuery);\n",
       "\t\t</script>\n",
       "<!-- 메인 슬라이드 소스 -->\n",
       "<script src=\"/js/owl.carousel.js\"></script>\n",
       "</head>\n",
       "<body>\n",
       "<div class=\"sub_layout\" id=\"sb-site\">\n",
       "<!-- \t<header> -->\n",
       "<div id=\"header\">\n",
       "<div class=\"header_wrap\">\n",
       "<div class=\"header_box\">\n",
       "<div class=\"header_inner\">\n",
       "<h1>\n",
       "<a href=\"/\"><img alt=\"Scholarworks@UNIST\" src=\"/image/common/logo.png\"/></a>\n",
       "</h1>\n",
       "<div class=\"tablet_nav sb-toggle-right\"><a class=\"tablet_nav_bt\" href=\"#\"><span>menu</span></a></div>\n",
       "<a class=\"library_link\" href=\"http://library.unist.ac.kr\" target=\"_blank\">LIBRARY</a>\n",
       "<div class=\"sub_header_search\">\n",
       "<form action=\"/simple-search\" class=\"navbar-form navbar-right\" method=\"get\" name=\"sub_search_form\">\n",
       "<dl>\n",
       "<dt>검색</dt>\n",
       "<dd class=\"advanced_dd\"><a href=\"/advanced-search\"><em>Advanced Search</em></a></dd>\n",
       "<dd class=\"int_dd\">\n",
       "<input class=\"inttype\" id=\"tequery\" name=\"query\" placeholder=\"Search for...\" title=\"Search for\" type=\"text\"/>\n",
       "<a class=\"search\" href=\"javascript:document.sub_search_form.submit();\"><span>검색</span></a>\n",
       "</dd>\n",
       "<dd class=\"sub_search_bt\">\n",
       "<a href=\"#\"><span>검색바로가기</span></a>\n",
       "</dd>\n",
       "</dl>\n",
       "</form>\n",
       "</div>\n",
       "</div>\n",
       "</div><!--header_box :e -->\n",
       "</div><!-- \theader_wrap :e -->\n",
       "</div><!-- \theader :e -->\n",
       "<!-- \t<main> -->\n",
       "<div class=\"m_container\">\n",
       "<div class=\"con_inner\">\n",
       "<div class=\"sub_left_wrap\">\n",
       "<h3 class=\"sub_left_title\">BROWSE</h3>\n",
       "<ul>\n",
       "<li><a href=\"/community-list\">Communities &amp; Collections</a></li>\n",
       "<li><a href=\"/browse-researcher\">Researchers</a></li>\n",
       "<li><a href=\"/browse?type=title&amp;sort_by=2&amp;order=DESC&amp;rpp=10&amp;etal=3\">Titles</a></li>\n",
       "</ul>\n",
       "<div class=\"left_conbox\">\n",
       "<script src=\"https://www.google.com/jsapi\" type=\"text/javascript\"></script>\n",
       "<script type=\"text/javascript\">\n",
       "\tgoogle.load(\"visualization\", \"1\", {packages:[\"corechart\"]});\n",
       "\tgoogle.setOnLoadCallback(drawChart);\n",
       "\tfunction drawChart() {\n",
       "\t\tvar data = google.visualization.arrayToDataTable([\n",
       "\t\t    ['í­ëª©', 'Count'],\n",
       "\t       \t['View', 0],\n",
       "\t       \t['Download', 0]\n",
       "       ]);\n",
       "\n",
       "       var options = {\n",
       "  \t       pieHole: 0.3,\n",
       "  \t       legend: {position: 'bottom'}\n",
       "       };\n",
       "\n",
       "       var chart = new google.visualization.PieChart(document.getElementById('count_view'));\n",
       "       chart.draw(data, options);\n",
       "    };\n",
       "    \n",
       "</script>\n",
       "</div>\n",
       "</div>\n",
       "<!-- sub_left_wrap :: e -->\n",
       "<!-- \t\t\t<a id=\"toTop\" href=\"#\" class=\"core_skip_top\">상단으로 이동</a> -->\n",
       "<script type=\"text/javascript\">\n",
       "// \t\t\t$(function() {\n",
       "// \t\t\t\t$(\"#toTop\").scrollToTop({\n",
       "// \t\t\t\t\tspeed : 500,\n",
       "// \t\t\t\t\tease : \"easeOutBack\",\n",
       "// \t\t\t\t\tstart : 200\n",
       "// \t\t\t\t});\n",
       "// \t\t\t});\n",
       "\t\t\t// start 스크롤 300px 내려오면 top버튼 나타남 0이면 항상 나타남\n",
       "\t\t\t</script>\n",
       "<script src=\"//d39af2mgp1pqhg.cloudfront.net/widget-popup.js\" type=\"text/javascript\"></script>\n",
       "<script type=\"text/javascript\">\n",
       "var jQ = jQuery.noConflict();\n",
       "// 탭 선택 시 동작\n",
       "function selectType(type){\n",
       "\tjQ(location).attr('href', '/researcher-profile?ep='+2741+'&type='+type);\n",
       "}\n",
       "\n",
       "jQ(function(){\n",
       "\n",
       "\t\n",
       "\tjQ(\".researcher_idbox ul li\").eq(0).addClass(\"first_icon\");\n",
       "\t\n",
       "\t// 760px 이하에서는 타이틀 외의 항목이 보이지 않음.\n",
       "\tjQ(\"div.researcher_itemlist .list_tbl th\").eq(2).addClass(\"m_none\");\t// Author(s)\n",
       "\tjQ(\"div.researcher_itemlist .list_tbl th\").eq(3).addClass(\"m_none\");\t// Type\n",
       "\tjQ(\"div.researcher_itemlist .list_tbl th\").eq(4).addClass(\"m_none\"); // View\n",
       "\tjQ(\"div.researcher_itemlist .list_tbl tr\").each(function(i){\n",
       "// \t\tjQ(this).children().eq(0).addClass(\"m_none\");\t// Issue Date\n",
       "\t\tjQ(this).children().eq(2).addClass(\"m_none\");\t// Author(s)\n",
       "\t\tjQ(this).children().eq(3).addClass(\"m_none\");\t// Type\n",
       "\t\tjQ(this).children().eq(4).addClass(\"m_none\");\t// View\n",
       "\t});\n",
       "});\n",
       "</script>\n",
       "<div class=\"sub_right_wrap\">\n",
       "<div class=\"page_nav\">\n",
       "<a class=\"home_link\" href=\"/\"></a><a href=\"\">ScholarWorks</a>\n",
       "</div>\n",
       "<div class=\"sub_right_con\">\n",
       "<h3 class=\"menu_icon02\">Researcher Page</h3>\n",
       "<div class=\"research_info_box\">\n",
       "<form action=\"/profile\" method=\"post\">\n",
       "<link href=\"//code.jquery.com/ui/1.11.4/themes/smoothness/jquery-ui.css\" rel=\"stylesheet\"/>\n",
       "<script src=\"http://code.jquery.com/ui/1.11.4/jquery-ui.js\"></script>\n",
       "<script type=\"text/javascript\">\n",
       "\t\t\n",
       "\tjQ(function() {\n",
       "\t    jQ(document).not('.PlumX-Popup').tooltip();\n",
       "\t});\n",
       "\t</script>\n",
       "<p class=\"img_box\">\n",
       "<img alt=\"사진\" height=\"146\" src=\"http://114.70.1.191/rims/upload/image/201508/user_profile_6744732668032989265113746.jpg\" width=\"135\"/>\n",
       "</p>\n",
       "<div class=\"research_info_view\">\n",
       "<div class=\"researcher_idbox\">\n",
       "<ul>\n",
       "<li>\n",
       "<a href=\"http://www.researcherid.com/rid/R-2161-2016\" id=\"R-2161-2016\" target=\"_blank\"><img alt=\"ResearcherID\" class=\"tooltip\" src=\"/image/common/research_icon02.gif\" title=\"ResearcherID\"/></a>\n",
       "</li>\n",
       "<li>\n",
       "<a href=\"https://www.researchgate.net/profile/Sangjoon_Ahn2\" id=\"https://www.researchgate.net/profile/Sangjoon_Ahn2\" target=\"_blank\"><img alt=\"ResearchGate\" class=\"tooltip\" src=\"/image/common/research_icon03.gif\" title=\"ResearchGate\"/></a>\n",
       "</li>\n",
       "<li>\n",
       "<a href=\"http://orcid.org/0000-0003-1853-6439 \" id=\"http://orcid.org/0000-0003-1853-6439 \" target=\"_blank\"><img alt=\"ORCiD\" class=\"tooltip\" src=\"/image/common/research_icon01.gif\" title=\"ORCiD\"/></a>\n",
       "</li>\n",
       "<li>\n",
       "<a href=\"http://www.scopus.com/authid/detail.url?authorId=55614074100\" id=\"http://www.scopus.com/authid/detail.url?authorId=55614074100\" target=\"_blank\"><img alt=\"Scopus\" class=\"tooltip\" src=\"/image/common/SCPID_icon.png\" title=\"Scopus\" width=\"34\"/></a>\n",
       "</li>\n",
       "</ul>\n",
       "</div>\n",
       "<p class=\"neme_p\">\n",
       "\t\t\tAhn, Sangjoon (안상준)\n",
       "\t\t\t\n",
       "\t\t</p>\n",
       "<dl>\n",
       "<dt>Department</dt>\n",
       "<dd>\n",
       "\t\t\tSchool of Mechanical, Aerospace and Nuclear Engineering(기계항공및원자력공학부)\n",
       "\t\t\t</dd>\n",
       "</dl>\n",
       "<dl>\n",
       "<dt>Research Interests</dt>\n",
       "<dd>\n",
       "\t\t\tNuclear Fuel Performance Experiments &amp; Modeling, Radiation Interactions with Matter, Thermophysical Investigation of Nuclear Materials, Nuclear Non-Proliferation Technology\n",
       "       \t\t</dd>\n",
       "</dl>\n",
       "<dl>\n",
       "<dt>Lab</dt>\n",
       "<dd>UNIST RAdioactive NUclear Materials (URANUM) Laboratory</dd>\n",
       "</dl>\n",
       "<dl>\n",
       "<dt>Website</dt>\n",
       "<dd><a href=\"http://uranum.unist.ac.kr\" target=\"_blank\">http://uranum.unist.ac.kr</a></dd>\n",
       "</dl>\n",
       "</div>\n",
       "</form>\n",
       "</div><!-- research_info_box : e -->\n",
       "<div class=\"researcher_tbl\">\n",
       "<div class=\"tab_wrap tab_33\">\n",
       "<ul>\n",
       "<li><a class=\"on\" href=\"javascript:selectType('Article');\" id=\"tab1_btn\">Article</a></li>\n",
       "<li><a href=\"javascript:selectType('Proceeding');\" id=\"tab2_btn\">Proceeding</a></li>\n",
       "<li><a href=\"javascript:selectType('Patent');\" id=\"tab3_btn\">Patent</a></li>\n",
       "</ul>\n",
       "</div>\n",
       "<div class=\"researcher_itemlist\" id=\"researcher_articlelist\" style=\"display:block; float:center;\">\n",
       "<form action=\"/simpleSearch-author\" id=\"uriAuthorArticleRemove\" method=\"post\" name=\"uriAuthorItemRemove\" onsubmit=\"return removeCheck('item_id');\">\n",
       "<table class=\"list_tbl mgb_10\" summary=\"This table browses all dspace content\">\n",
       "<caption>This table browses all dspace content</caption>\n",
       "<colgroup><col style=\"width:10%;\"/><col style=\"width:50%;\"/><col style=\"width:15%;\"/><col style=\"width:10%;\"/><col style=\"width: 10%\"/></colgroup>\n",
       "<thead>\n",
       "<tr>\n",
       "<th>Issue Date</th><th>Title</th><th>Author(s)</th><th>Type</th><th>View</th><th>Altmetrics</th></tr></thead>\n",
       "<tbody>\n",
       "<tr><td>201712</td><td class=\"alleft_td\"><a href=\"/handle/201301/23068\">Texture evolution during annealing of hot extruded U-10wt%Zr alloy by in situ neutron diffraction</a></td><td class=\"alleft_td\"><em><a href=\"/browse?type=author&amp;value=Irukuvarghula%2C+S.&amp;value_lang=null\">Irukuvarghula, S.</a>; <a href=\"/browse?type=author&amp;value=Blamer%2C+B.&amp;value_lang=null\">Blamer, B.</a>; <a href=\"/browse?type=author&amp;value=Ahn%2C+Sangjoon&amp;value_lang=null\">Ahn, Sangjoon</a>, et al</em></td><td><em>ARTICLE</em></td><td>142</td>\n",
       "<td>\n",
       "<a class=\"plumx-plum-print-popup\" data-badge=\"false\" data-hide-when-empty=\"true\" data-popup=\"right\" data-site=\"unist-kr\" href=\"https://plu.mx/unist-kr/a/?doi=10.1016/j.jnucmat.2017.09.008\">Texture evolution during annealing of hot extruded U-10wt%Zr alloy by in situ neutron diffraction</a>\n",
       "</td>\n",
       "</tr>\n",
       "<tr><td>201610</td><td class=\"alleft_td\"><a href=\"/handle/201301/19177\">Microstructure of alpha-U and delta-UZr2 phase uranium-zirconium alloys irradiated with 140-keV He+ ion-beam</a></td><td class=\"alleft_td\"><em><a href=\"/browse?type=author&amp;value=Ahn%2C+Sangjoon&amp;value_lang=ko\">Ahn, Sangjoon</a>; <a href=\"/browse?type=author&amp;value=Irukuvarghula%2C+Sandeep&amp;value_lang=ko\">Irukuvarghula, Sandeep</a>; <a href=\"/browse?type=author&amp;value=McDeavitt%2C+Sean+M.&amp;value_lang=ko\">McDeavitt, Sean M.</a></em></td><td><em>ARTICLE</em></td><td>492</td>\n",
       "<td>\n",
       "<a class=\"plumx-plum-print-popup\" data-badge=\"false\" data-hide-when-empty=\"true\" data-popup=\"right\" data-site=\"unist-kr\" href=\"https://plu.mx/unist-kr/a/?doi=http://dx.doi.org/10.1016/j.jallcom.2016.04.219\">Microstructure of alpha-U and delta-UZr2 phase uranium-zirconium alloys irradiated with 140-keV He+ ion-beam</a>\n",
       "</td>\n",
       "</tr>\n",
       "<tr><td>201605</td><td class=\"alleft_td\"><a href=\"/handle/201301/18844\">Decomposition of the γ phase in as-cast and quenched U-Zr alloys</a></td><td class=\"alleft_td\"><em><a href=\"/browse?type=author&amp;value=Irukuvarghula%2C+S.&amp;value_lang=ko\">Irukuvarghula, S.</a>; <a href=\"/browse?type=author&amp;value=Ahn%2C+Sangjoon&amp;value_lang=ko\">Ahn, Sangjoon</a>; <a href=\"/browse?type=author&amp;value=McDeavitt%2C+S.M.&amp;value_lang=ko\">McDeavitt, S.M.</a></em></td><td><em>ARTICLE</em></td><td>351</td>\n",
       "<td>\n",
       "<a class=\"plumx-plum-print-popup\" data-badge=\"false\" data-hide-when-empty=\"true\" data-popup=\"right\" data-site=\"unist-kr\" href=\"https://plu.mx/unist-kr/a/?doi=http://dx.doi.org/10.1016/j.jnucmat.2016.02.028\">Decomposition of the γ phase in as-cast and quenched U-Zr alloys</a>\n",
       "</td>\n",
       "</tr>\n",
       "<tr><td>201504</td><td class=\"alleft_td\"><a href=\"/handle/201301/13432\">DESIGN OPTIMIZATION OF RADIATION SHIELDING STRUCTURE FOR LEAD SLOWING-DOWN SPECTROMETER SYSTEM</a></td><td class=\"alleft_td\"><em><a href=\"/browse?type=author&amp;value=Kim%2C+Jeongdong&amp;value_lang=ko\">Kim, Jeongdong</a>; <a href=\"/browse?type=author&amp;value=Ahn%2C+Sangjoon&amp;value_lang=ko\">Ahn, Sangjoon</a>; <a href=\"/browse?type=author&amp;value=Lee%2C+Yongdeok&amp;value_lang=ko\">Lee, Yongdeok</a>, et al</em></td><td><em>ARTICLE</em></td><td>473</td>\n",
       "<td>\n",
       "<a class=\"plumx-plum-print-popup\" data-badge=\"false\" data-hide-when-empty=\"true\" data-popup=\"right\" data-site=\"unist-kr\" href=\"https://plu.mx/unist-kr/a/?doi=http://dx.doi.org/10.1016/j.net.2015.01.004\">DESIGN OPTIMIZATION OF RADIATION SHIELDING STRUCTURE FOR LEAD SLOWING-DOWN SPECTROMETER SYSTEM</a>\n",
       "</td>\n",
       "</tr>\n",
       "<tr><td>201412</td><td class=\"alleft_td\"><a href=\"/handle/201301/13433\">DEVELOPMENT OF LEAD SLOWING DOWN SPECTROMETER FOR ISOTOPIC FISSILE ASSAY</a></td><td class=\"alleft_td\"><em><a href=\"/browse?type=author&amp;value=Lee%2C+Yongdeok&amp;value_lang=ko\">Lee, Yongdeok</a>; <a href=\"/browse?type=author&amp;value=Park%2C+Changje&amp;value_lang=ko\">Park, Changje</a>; <a href=\"/browse?type=author&amp;value=Ahn%2C+Sangjoon&amp;value_lang=ko\">Ahn, Sangjoon</a>, et al</em></td><td><em>ARTICLE</em></td><td>428</td>\n",
       "<td>\n",
       "<a class=\"plumx-plum-print-popup\" data-badge=\"false\" data-hide-when-empty=\"true\" data-popup=\"right\" data-site=\"unist-kr\" href=\"https://plu.mx/unist-kr/a/?doi=http://dx.doi.org/10.5516/NET.06.2014.069\">DEVELOPMENT OF LEAD SLOWING DOWN SPECTROMETER FOR ISOTOPIC FISSILE ASSAY</a>\n",
       "</td>\n",
       "</tr>\n",
       "<tr><td>201410</td><td class=\"alleft_td\"><a href=\"/handle/201301/13426\">Thermophysical investigations of the uranium-zirconium alloy system</a></td><td class=\"alleft_td\"><em><a href=\"/browse?type=author&amp;value=Ahn%2C+Sangjoon&amp;value_lang=ko\">Ahn, Sangjoon</a>; <a href=\"/browse?type=author&amp;value=Irukuvarghula%2C+Sandeep&amp;value_lang=ko\">Irukuvarghula, Sandeep</a>; <a href=\"/browse?type=author&amp;value=McDeavitt%2C+Sean+M.&amp;value_lang=ko\">McDeavitt, Sean M.</a></em></td><td><em>ARTICLE</em></td><td>518</td>\n",
       "<td>\n",
       "<a class=\"plumx-plum-print-popup\" data-badge=\"false\" data-hide-when-empty=\"true\" data-popup=\"right\" data-site=\"unist-kr\" href=\"https://plu.mx/unist-kr/a/?doi=http://dx.doi.org/10.1016/j.jallcom.2014.05.126\">Thermophysical investigations of the uranium-zirconium alloy system</a>\n",
       "</td>\n",
       "</tr>\n",
       "<tr><td>201305</td><td class=\"alleft_td\"><a href=\"/handle/201301/13434\">Coexistence of the α and δ phases in an as-cast uranium-rich U–Zr alloy</a></td><td class=\"alleft_td\"><em><a href=\"/browse?type=author&amp;value=Mckeown%2C+Joseph+T.&amp;value_lang=ko\">Mckeown, Joseph T.</a>; <a href=\"/browse?type=author&amp;value=Irukuvarghula%2C+Sandeep&amp;value_lang=ko\">Irukuvarghula, Sandeep</a>; <a href=\"/browse?type=author&amp;value=Ahn%2C+Sangjoon&amp;value_lang=ko\">Ahn, Sangjoon</a>, et al</em></td><td><em>ARTICLE</em></td><td>453</td>\n",
       "<td>\n",
       "<a class=\"plumx-plum-print-popup\" data-badge=\"false\" data-hide-when-empty=\"true\" data-popup=\"right\" data-site=\"unist-kr\" href=\"https://plu.mx/unist-kr/a/?doi=http://dx.doi.org/10.1016/j.jnucmat.2013.01.313\">Coexistence of the α and δ phases in an as-cast uranium-rich U–Zr alloy</a>\n",
       "</td>\n",
       "</tr>\n",
       "</tbody>\n",
       "</table>\n",
       "</form>\n",
       "</div>\n",
       "<div class=\"pagination_box\"><a class=\"pageLink pageCurrent\" href=\"/researcher-profile?ep=2741&amp;page=1&amp;type=Article&amp;offset=0\">1</a></div>\n",
       "<br/>\n",
       "<script type=\"text/javascript\">\n",
       "\t\t\tfunction typeChange(type, handle) {\n",
       "\t\t\t\tlocation.href = 'researcher-profile?type='+type+'&ep=2741';\n",
       "\t\t\t}\n",
       "\t\t\t</script>\n",
       "</div>\n",
       "</div>\n",
       "</div>\n",
       "</div>\n",
       "</div>\n",
       "<!-- m_container :: e -->\n",
       "<div class=\"footer_banner\">\n",
       "<ul>\n",
       "<li>\n",
       "<a href=\"http://www.opendoar.org\" target=\"_blank\">\n",
       "<img alt=\"openDOAR\" src=\"/image/common/footer_banner01.gif\"/>\n",
       "</a>\n",
       "</li>\n",
       "<li>\n",
       "<a href=\"http://doaj.org\" target=\"_blank\">\n",
       "<img alt=\"DOAJ\" src=\"/image/common/footer_banner02.gif\"/>\n",
       "</a>\n",
       "</li>\n",
       "<li class=\"row_line\">\n",
       "<a href=\"http://www.ncbi.nlm.nih.gov/pubmed\" target=\"_blank\">\n",
       "<img alt=\"pubmed\" src=\"/image/common/footer_banner03.png\"/>\n",
       "</a>\n",
       "</li>\n",
       "<li class=\"last_banner row_line\">\n",
       "<a href=\"http://arxiv.org\" target=\"_blank\">\n",
       "<img alt=\"arXiv\" src=\"/image/common/footer_banner04.png\"/>\n",
       "</a>\n",
       "</li>\n",
       "</ul>\n",
       "</div>\n",
       "<div class=\"footer_wrap\">\n",
       "<div class=\"footer_inner\">\n",
       "<div class=\"homepage_info\">\n",
       "<dl class=\"mb_none\">\n",
       "<dt>STATISTICS</dt>\n",
       "<dd>\n",
       "\t\t\t\t\tTotal View :<span>5,267,420</span>\n",
       "</dd>\n",
       "<dd>\n",
       "\t\t\t\t\tTotal Download :<span>1,081,855</span>\n",
       "</dd>\n",
       "<dd>\n",
       "\t\t\t\t\tToday View :<span>482</span>\n",
       "</dd>\n",
       "</dl>\n",
       "<div class=\"footer_r_box\">\n",
       "<p>\n",
       "<a class=\"rss_line\" href=\"/feed/rss_1.0/site\" target=\"_self\">RSS 1.0</a><a href=\"/feed/rss_2.0/site\" target=\"_self\">RSS 2.0</a>\n",
       "</p>\n",
       "<a class=\"contact_bt\" href=\"/feedback\">CONTACT US</a>\n",
       "</div>\n",
       "</div>\n",
       "<div class=\"footer_address\">\n",
       "<h2>\n",
       "<a href=\"http://library.unist.ac.kr/\" target=\"_blank\"><img alt=\"UNIST\" src=\"/image/common/footer_logo.png\"/></a>\n",
       "</h2>\n",
       "<p><b>Tel :</b> 052-217-1405 / <b>Email :</b> <a href=\"mailto:scholarworks@unist.ac.kr\">scholarworks@unist.ac.kr</a><br/>Copyright (c) 2015 by UNIST LIBRARY. All rights reserved<a href=\"/mydspace\" style=\"text-decoration:none;\">.</a><br/>ScholarWorks@UNIST는 국립중앙도서관 OAK 보급사업으로 구축되었습니다.</p>\n",
       "</div>\n",
       "</div>\n",
       "<!-- inner : e -->\n",
       "</div>\n",
       "<!-- footer_wrap :: e -->\n",
       "</div>\n",
       "<!-- sb-site : e -->\n",
       "<!-- 태블릿, 모바일 시 네비게이션 -->\n",
       "<div class=\"sb-slidebar sb-right\">\n",
       "<div class=\"right_nav_box\">\n",
       "<h3>MENU</h3>\n",
       "<ul>\n",
       "<li><a href=\"/community-list\">Communities &amp; Collections</a></li>\n",
       "<li><a href=\"/browse-researcher\">Researchers</a></li>\n",
       "<li><a href=\"/browse?type=title&amp;sort_by=2&amp;order=DESC&amp;rpp=10&amp;etal=3\">Titles</a></li>\n",
       "</ul>\n",
       "</div>\n",
       "</div>\n",
       "<!-- sb-slidebar : e -->\n",
       "<script>\n",
       "  (function(i,s,o,g,r,a,m){i['GoogleAnalyticsObject']=r;i[r]=i[r]||function(){\n",
       "  (i[r].q=i[r].q||[]).push(arguments)},i[r].l=1*new Date();a=s.createElement(o),\n",
       "  m=s.getElementsByTagName(o)[0];a.async=1;a.src=g;m.parentNode.insertBefore(a,m)\n",
       "  })(window,document,'script','//www.google-analytics.com/analytics.js','ga');\n",
       "\n",
       "  ga('create', 'UA-3019526-29', 'unist.ac.kr');\n",
       "  ga('send', 'pageview');\n",
       "\n",
       "</script>\n",
       "</body>\n",
       "</html>"
      ]
     },
     "execution_count": 102,
     "metadata": {},
     "output_type": "execute_result"
    }
   ],
   "source": [
    "soup"
   ]
  },
  {
   "cell_type": "code",
   "execution_count": 169,
   "metadata": {},
   "outputs": [
    {
     "data": {
      "text/plain": [
       "<div class=\"research_info_view\">\n",
       "<div class=\"researcher_idbox\">\n",
       "<ul>\n",
       "<li>\n",
       "<a href=\"http://www.researcherid.com/rid/R-2161-2016\" id=\"R-2161-2016\" target=\"_blank\"><img alt=\"ResearcherID\" class=\"tooltip\" src=\"/image/common/research_icon02.gif\" title=\"ResearcherID\"/></a>\n",
       "</li>\n",
       "<li>\n",
       "<a href=\"https://www.researchgate.net/profile/Sangjoon_Ahn2\" id=\"https://www.researchgate.net/profile/Sangjoon_Ahn2\" target=\"_blank\"><img alt=\"ResearchGate\" class=\"tooltip\" src=\"/image/common/research_icon03.gif\" title=\"ResearchGate\"/></a>\n",
       "</li>\n",
       "<li>\n",
       "<a href=\"http://orcid.org/0000-0003-1853-6439 \" id=\"http://orcid.org/0000-0003-1853-6439 \" target=\"_blank\"><img alt=\"ORCiD\" class=\"tooltip\" src=\"/image/common/research_icon01.gif\" title=\"ORCiD\"/></a>\n",
       "</li>\n",
       "<li>\n",
       "<a href=\"http://www.scopus.com/authid/detail.url?authorId=55614074100\" id=\"http://www.scopus.com/authid/detail.url?authorId=55614074100\" target=\"_blank\"><img alt=\"Scopus\" class=\"tooltip\" src=\"/image/common/SCPID_icon.png\" title=\"Scopus\" width=\"34\"/></a>\n",
       "</li>\n",
       "</ul>\n",
       "</div>\n",
       "<p class=\"neme_p\">\n",
       "\t\t\tAhn, Sangjoon (안상준)\n",
       "\t\t\t\n",
       "\t\t</p>\n",
       "<dl>\n",
       "<dt>Department</dt>\n",
       "<dd>\n",
       "\t\t\tSchool of Mechanical, Aerospace and Nuclear Engineering(기계항공및원자력공학부)\n",
       "\t\t\t</dd>\n",
       "</dl>\n",
       "<dl>\n",
       "<dt>Research Interests</dt>\n",
       "<dd>\n",
       "\t\t\tNuclear Fuel Performance Experiments &amp; Modeling, Radiation Interactions with Matter, Thermophysical Investigation of Nuclear Materials, Nuclear Non-Proliferation Technology\n",
       "       \t\t</dd>\n",
       "</dl>\n",
       "<dl>\n",
       "<dt>Lab</dt>\n",
       "<dd>UNIST RAdioactive NUclear Materials (URANUM) Laboratory</dd>\n",
       "</dl>\n",
       "<dl>\n",
       "<dt>Website</dt>\n",
       "<dd><a href=\"http://uranum.unist.ac.kr\" target=\"_blank\">http://uranum.unist.ac.kr</a></dd>\n",
       "</dl>\n",
       "</div>"
      ]
     },
     "execution_count": 169,
     "metadata": {},
     "output_type": "execute_result"
    }
   ],
   "source": [
    "soup.find('div',{'class' : \"research_info_view\"})"
   ]
  },
  {
   "cell_type": "code",
   "execution_count": 128,
   "metadata": {},
   "outputs": [
    {
     "data": {
      "text/plain": [
       "[<dl>\n",
       " <dt>Department</dt>\n",
       " <dd>\n",
       " \t\t\tSchool of Mechanical, Aerospace and Nuclear Engineering(기계항공및원자력공학부)\n",
       " \t\t\t</dd>\n",
       " </dl>, <dl>\n",
       " <dt>Research Interests</dt>\n",
       " <dd>\n",
       " \t\t\tNuclear Fuel Performance Experiments &amp; Modeling, Radiation Interactions with Matter, Thermophysical Investigation of Nuclear Materials, Nuclear Non-Proliferation Technology\n",
       "        \t\t</dd>\n",
       " </dl>, <dl>\n",
       " <dt>Lab</dt>\n",
       " <dd>UNIST RAdioactive NUclear Materials (URANUM) Laboratory</dd>\n",
       " </dl>, <dl>\n",
       " <dt>Website</dt>\n",
       " <dd><a href=\"http://uranum.unist.ac.kr\" target=\"_blank\">http://uranum.unist.ac.kr</a></dd>\n",
       " </dl>]"
      ]
     },
     "execution_count": 128,
     "metadata": {},
     "output_type": "execute_result"
    }
   ],
   "source": [
    "soup.find('div',{'class' : \"research_info_view\"}).findAll('dl')"
   ]
  },
  {
   "cell_type": "code",
   "execution_count": 131,
   "metadata": {},
   "outputs": [
    {
     "data": {
      "text/plain": [
       "'\\r\\n\\t\\t\\tSchool of Mechanical, Aerospace and Nuclear Engineering(기계항공및원자력공학부)\\r\\n\\t\\t\\t'"
      ]
     },
     "execution_count": 131,
     "metadata": {},
     "output_type": "execute_result"
    }
   ],
   "source": [
    "#department\n",
    "soup.find('div',{'class' : \"research_info_view\"}).findAll('dl')[0].find('dd').getText()"
   ]
  },
  {
   "cell_type": "code",
   "execution_count": 133,
   "metadata": {},
   "outputs": [
    {
     "data": {
      "text/plain": [
       "'\\r\\n\\t\\t\\tNuclear Fuel Performance Experiments & Modeling, Radiation Interactions with Matter, Thermophysical Investigation of Nuclear Materials, Nuclear Non-Proliferation Technology\\r\\n       \\t\\t'"
      ]
     },
     "execution_count": 133,
     "metadata": {},
     "output_type": "execute_result"
    }
   ],
   "source": [
    "#Research Interest\n",
    "soup.find('div',{'class' : \"research_info_view\"}).findAll('dl')[1].find('dd').getText()"
   ]
  },
  {
   "cell_type": "code",
   "execution_count": 135,
   "metadata": {},
   "outputs": [
    {
     "data": {
      "text/plain": [
       "'UNIST RAdioactive NUclear Materials (URANUM) Laboratory'"
      ]
     },
     "execution_count": 135,
     "metadata": {},
     "output_type": "execute_result"
    }
   ],
   "source": [
    "#Lab\n",
    "soup.find('div',{'class' : \"research_info_view\"}).findAll('dl')[2].find('dd').getText()"
   ]
  },
  {
   "cell_type": "code",
   "execution_count": 136,
   "metadata": {},
   "outputs": [
    {
     "data": {
      "text/plain": [
       "'http://uranum.unist.ac.kr'"
      ]
     },
     "execution_count": 136,
     "metadata": {},
     "output_type": "execute_result"
    }
   ],
   "source": [
    "#Website\n",
    "soup.find('div',{'class' : \"research_info_view\"}).findAll('dl')[3].find('dd').getText()"
   ]
  },
  {
   "cell_type": "markdown",
   "metadata": {},
   "source": [
    "### 학술지 정보"
   ]
  },
  {
   "cell_type": "code",
   "execution_count": 118,
   "metadata": {},
   "outputs": [
    {
     "data": {
      "text/plain": [
       "<div class=\"researcher_idbox\">\n",
       "<ul>\n",
       "<li>\n",
       "<a href=\"http://www.researcherid.com/rid/R-2161-2016\" id=\"R-2161-2016\" target=\"_blank\"><img alt=\"ResearcherID\" class=\"tooltip\" src=\"/image/common/research_icon02.gif\" title=\"ResearcherID\"/></a>\n",
       "</li>\n",
       "<li>\n",
       "<a href=\"https://www.researchgate.net/profile/Sangjoon_Ahn2\" id=\"https://www.researchgate.net/profile/Sangjoon_Ahn2\" target=\"_blank\"><img alt=\"ResearchGate\" class=\"tooltip\" src=\"/image/common/research_icon03.gif\" title=\"ResearchGate\"/></a>\n",
       "</li>\n",
       "<li>\n",
       "<a href=\"http://orcid.org/0000-0003-1853-6439 \" id=\"http://orcid.org/0000-0003-1853-6439 \" target=\"_blank\"><img alt=\"ORCiD\" class=\"tooltip\" src=\"/image/common/research_icon01.gif\" title=\"ORCiD\"/></a>\n",
       "</li>\n",
       "<li>\n",
       "<a href=\"http://www.scopus.com/authid/detail.url?authorId=55614074100\" id=\"http://www.scopus.com/authid/detail.url?authorId=55614074100\" target=\"_blank\"><img alt=\"Scopus\" class=\"tooltip\" src=\"/image/common/SCPID_icon.png\" title=\"Scopus\" width=\"34\"/></a>\n",
       "</li>\n",
       "</ul>\n",
       "</div>"
      ]
     },
     "execution_count": 118,
     "metadata": {},
     "output_type": "execute_result"
    }
   ],
   "source": [
    "soup.find('div',{'class' : \"researcher_idbox\"})"
   ]
  },
  {
   "cell_type": "code",
   "execution_count": 163,
   "metadata": {},
   "outputs": [
    {
     "name": "stdout",
     "output_type": "stream",
     "text": [
      "http://www.researcherid.com/rid/R-2161-2016\n",
      "https://www.researchgate.net/profile/Sangjoon_Ahn2\n",
      "http://orcid.org/0000-0003-1853-6439 \n",
      "http://www.scopus.com/authid/detail.url?authorId=55614074100\n"
     ]
    }
   ],
   "source": [
    "for i in soup.find('div',{'class' : \"researcher_idbox\"}).findAll('a'):\n",
    "    print(i['href'])"
   ]
  },
  {
   "cell_type": "code",
   "execution_count": 168,
   "metadata": {},
   "outputs": [
    {
     "data": {
      "text/plain": [
       "'55614074100'"
      ]
     },
     "execution_count": 168,
     "metadata": {},
     "output_type": "execute_result"
    }
   ],
   "source": [
    "soup.find('div',{'class' : \"researcher_idbox\"}).findAll('a')[-1]['href'].replace(\"http://www.scopus.com/authid/detail.url?authorId=\",\"\")"
   ]
  },
  {
   "cell_type": "markdown",
   "metadata": {},
   "source": [
    "## Final"
   ]
  },
  {
   "cell_type": "code",
   "execution_count": null,
   "metadata": {},
   "outputs": [],
   "source": []
  }
 ],
 "metadata": {
  "kernelspec": {
   "display_name": "Python(myenv)",
   "language": "python",
   "name": "myenv"
  },
  "language_info": {
   "codemirror_mode": {
    "name": "ipython",
    "version": 3
   },
   "file_extension": ".py",
   "mimetype": "text/x-python",
   "name": "python",
   "nbconvert_exporter": "python",
   "pygments_lexer": "ipython3",
   "version": "3.6.7"
  }
 },
 "nbformat": 4,
 "nbformat_minor": 2
}
