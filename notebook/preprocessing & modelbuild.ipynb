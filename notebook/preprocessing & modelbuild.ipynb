{
 "cells": [
  {
   "cell_type": "code",
   "execution_count": 1,
   "metadata": {},
   "outputs": [],
   "source": [
    "import requests\n",
    "import json\n",
    "from bs4 import BeautifulSoup\n",
    "import time\n",
    "import re\n",
    "import pandas as pd\n",
    "import numpy as np\n",
    "from pymongo import MongoClient"
   ]
  },
  {
   "cell_type": "code",
   "execution_count": 2,
   "metadata": {},
   "outputs": [
    {
     "name": "stdout",
     "output_type": "stream",
     "text": [
      "[nltk_data] Downloading package stopwords to\n",
      "[nltk_data]     /Users/seungheondoh/nltk_data...\n",
      "[nltk_data]   Package stopwords is already up-to-date!\n"
     ]
    },
    {
     "data": {
      "text/plain": [
       "True"
      ]
     },
     "execution_count": 2,
     "metadata": {},
     "output_type": "execute_result"
    }
   ],
   "source": [
    "import nltk\n",
    "nltk.download('stopwords')"
   ]
  },
  {
   "cell_type": "code",
   "execution_count": 3,
   "metadata": {},
   "outputs": [
    {
     "data": {
      "text/html": [
       "<div>\n",
       "<style scoped>\n",
       "    .dataframe tbody tr th:only-of-type {\n",
       "        vertical-align: middle;\n",
       "    }\n",
       "\n",
       "    .dataframe tbody tr th {\n",
       "        vertical-align: top;\n",
       "    }\n",
       "\n",
       "    .dataframe thead th {\n",
       "        text-align: right;\n",
       "    }\n",
       "</style>\n",
       "<table border=\"1\" class=\"dataframe\">\n",
       "  <thead>\n",
       "    <tr style=\"text-align: right;\">\n",
       "      <th></th>\n",
       "      <th>Abstract</th>\n",
       "      <th>Author Keywords</th>\n",
       "      <th>Name</th>\n",
       "      <th>ResearchInterest</th>\n",
       "      <th>Title</th>\n",
       "      <th>_id</th>\n",
       "      <th>department</th>\n",
       "      <th>docs</th>\n",
       "      <th>text</th>\n",
       "    </tr>\n",
       "  </thead>\n",
       "  <tbody>\n",
       "    <tr>\n",
       "      <th>0</th>\n",
       "      <td>[Entrepreneurs' decisions to exploit opportuni...</td>\n",
       "      <td>[nan, Behavioral decision-making; Business gro...</td>\n",
       "      <td>Choi, Young Rok(최영록)</td>\n",
       "      <td>Entrepreneurship, Innovation Strategy, Family ...</td>\n",
       "      <td>[Entrepreneurs' decisions to exploit opportuni...</td>\n",
       "      <td>5bf7bdc420c66c03397b5abd</td>\n",
       "      <td>Graduate School of Technology and Innovation M...</td>\n",
       "      <td>[[Entrepreneurs' decisions to exploit opportun...</td>\n",
       "      <td>Entrepreneurs' decisions to exploit opportuni...</td>\n",
       "    </tr>\n",
       "    <tr>\n",
       "      <th>1</th>\n",
       "      <td>[Organizations use project teams to lower sear...</td>\n",
       "      <td>[expertise awareness; expertise use; knowledge...</td>\n",
       "      <td>Hong, Woonki(홍운기)</td>\n",
       "      <td>Expertise utilization, Transactive menory syst...</td>\n",
       "      <td>[Explaining dyadic expertise use in knowledge ...</td>\n",
       "      <td>5bf7bdc520c66c03397b5abe</td>\n",
       "      <td>School of Business Administration(경영학부)</td>\n",
       "      <td>[[Explaining dyadic expertise use in knowledge...</td>\n",
       "      <td>Explaining dyadic expertise use in knowledge ...</td>\n",
       "    </tr>\n",
       "    <tr>\n",
       "      <th>2</th>\n",
       "      <td>[This paper investigates information leakage f...</td>\n",
       "      <td>[nan, nan, Business group; Chaebol; Control-ca...</td>\n",
       "      <td>Jung, Kooyul(정구열)</td>\n",
       "      <td>Accounting Information and capital market, Ana...</td>\n",
       "      <td>[Trading behavior prior to public release of a...</td>\n",
       "      <td>5bf7bdc520c66c03397b5abf</td>\n",
       "      <td>Graduate School of Technology and Innovation M...</td>\n",
       "      <td>[[Trading behavior prior to public release of ...</td>\n",
       "      <td>Trading behavior prior to public release of a...</td>\n",
       "    </tr>\n",
       "    <tr>\n",
       "      <th>3</th>\n",
       "      <td>[Studies on the effects of corporate social re...</td>\n",
       "      <td>[annual reports; communication; corporate soci...</td>\n",
       "      <td>Kim, MinChung(김민중)</td>\n",
       "      <td>Marketing strategies and their impact on finan...</td>\n",
       "      <td>[CSR and Shareholder Value in the Restaurant I...</td>\n",
       "      <td>5bf7bdc520c66c03397b5ac0</td>\n",
       "      <td>School of Business Administration(경영학부)</td>\n",
       "      <td>[[CSR and Shareholder Value in the Restaurant ...</td>\n",
       "      <td>CSR and Shareholder Value in the Restaurant I...</td>\n",
       "    </tr>\n",
       "    <tr>\n",
       "      <th>4</th>\n",
       "      <td>[Brand communities and corporate social respon...</td>\n",
       "      <td>[Brand community; Consumer communities; Corpor...</td>\n",
       "      <td>Kim, Molan(김모란)</td>\n",
       "      <td>Online Database Marketing, Social Media Market...</td>\n",
       "      <td>[Consumer Communities Do Well, But Will They D...</td>\n",
       "      <td>5bf7bdc520c66c03397b5ac1</td>\n",
       "      <td>School of Business Administration(경영학부)</td>\n",
       "      <td>[[Consumer Communities Do Well, But Will They ...</td>\n",
       "      <td>Consumer Communities Do Well, But Will They D...</td>\n",
       "    </tr>\n",
       "  </tbody>\n",
       "</table>\n",
       "</div>"
      ],
      "text/plain": [
       "                                            Abstract  \\\n",
       "0  [Entrepreneurs' decisions to exploit opportuni...   \n",
       "1  [Organizations use project teams to lower sear...   \n",
       "2  [This paper investigates information leakage f...   \n",
       "3  [Studies on the effects of corporate social re...   \n",
       "4  [Brand communities and corporate social respon...   \n",
       "\n",
       "                                     Author Keywords                  Name  \\\n",
       "0  [nan, Behavioral decision-making; Business gro...  Choi, Young Rok(최영록)   \n",
       "1  [expertise awareness; expertise use; knowledge...     Hong, Woonki(홍운기)   \n",
       "2  [nan, nan, Business group; Chaebol; Control-ca...     Jung, Kooyul(정구열)   \n",
       "3  [annual reports; communication; corporate soci...    Kim, MinChung(김민중)   \n",
       "4  [Brand community; Consumer communities; Corpor...       Kim, Molan(김모란)   \n",
       "\n",
       "                                    ResearchInterest  \\\n",
       "0  Entrepreneurship, Innovation Strategy, Family ...   \n",
       "1  Expertise utilization, Transactive menory syst...   \n",
       "2  Accounting Information and capital market, Ana...   \n",
       "3  Marketing strategies and their impact on finan...   \n",
       "4  Online Database Marketing, Social Media Market...   \n",
       "\n",
       "                                               Title  \\\n",
       "0  [Entrepreneurs' decisions to exploit opportuni...   \n",
       "1  [Explaining dyadic expertise use in knowledge ...   \n",
       "2  [Trading behavior prior to public release of a...   \n",
       "3  [CSR and Shareholder Value in the Restaurant I...   \n",
       "4  [Consumer Communities Do Well, But Will They D...   \n",
       "\n",
       "                        _id  \\\n",
       "0  5bf7bdc420c66c03397b5abd   \n",
       "1  5bf7bdc520c66c03397b5abe   \n",
       "2  5bf7bdc520c66c03397b5abf   \n",
       "3  5bf7bdc520c66c03397b5ac0   \n",
       "4  5bf7bdc520c66c03397b5ac1   \n",
       "\n",
       "                                          department  \\\n",
       "0  Graduate School of Technology and Innovation M...   \n",
       "1            School of Business Administration(경영학부)   \n",
       "2  Graduate School of Technology and Innovation M...   \n",
       "3            School of Business Administration(경영학부)   \n",
       "4            School of Business Administration(경영학부)   \n",
       "\n",
       "                                                docs  \\\n",
       "0  [[Entrepreneurs' decisions to exploit opportun...   \n",
       "1  [[Explaining dyadic expertise use in knowledge...   \n",
       "2  [[Trading behavior prior to public release of ...   \n",
       "3  [[CSR and Shareholder Value in the Restaurant ...   \n",
       "4  [[Consumer Communities Do Well, But Will They ...   \n",
       "\n",
       "                                                text  \n",
       "0   Entrepreneurs' decisions to exploit opportuni...  \n",
       "1   Explaining dyadic expertise use in knowledge ...  \n",
       "2   Trading behavior prior to public release of a...  \n",
       "3   CSR and Shareholder Value in the Restaurant I...  \n",
       "4   Consumer Communities Do Well, But Will They D...  "
      ]
     },
     "execution_count": 3,
     "metadata": {},
     "output_type": "execute_result"
    }
   ],
   "source": [
    "client = MongoClient()\n",
    "db = client.aboutdepart\n",
    "database = list(db.Docdb.find())\n",
    "testdf = pd.DataFrame(database)\n",
    "testdf.head()"
   ]
  },
  {
   "cell_type": "code",
   "execution_count": 4,
   "metadata": {},
   "outputs": [],
   "source": [
    "from nltk.stem.wordnet import WordNetLemmatizer\n",
    "from nltk.tokenize import RegexpTokenizer\n",
    "from nltk.corpus import stopwords\n",
    "\n",
    "\n",
    "def docs_preprocessor(docs):\n",
    "    tokenizer = RegexpTokenizer(r'\\w+')\n",
    "    \n",
    "    docs = docs.lower()  # Convert to lowercase.\n",
    "    docs = tokenizer.tokenize(docs)  # Split into words.\n",
    "    docs = [w for w in docs if not w in stopwords.words('english')]\n",
    "    \n",
    "    # Remove numbers, but not words that contain numbers.\n",
    "    docs = [token for token in docs if not token.isdigit()]\n",
    "    \n",
    "    # Remove words that are only one character.\n",
    "    docs = [token for token in docs if len(token) > 1]\n",
    "    \n",
    "    # Lemmatize all words in documents.\n",
    "    lemmatizer = WordNetLemmatizer()\n",
    "    docs = [lemmatizer.lemmatize(token) for token in docs]\n",
    "  \n",
    "    return docs"
   ]
  },
  {
   "cell_type": "code",
   "execution_count": 5,
   "metadata": {},
   "outputs": [],
   "source": [
    "for idx, i in enumerate(testdf['text']):\n",
    "    add = docs_preprocessor(i)\n",
    "    testdf.iloc[idx]['text'] = add"
   ]
  },
  {
   "cell_type": "code",
   "execution_count": 6,
   "metadata": {},
   "outputs": [],
   "source": [
    "#Import all the dependencies\n",
    "from gensim.models.doc2vec import Doc2Vec, TaggedDocument\n",
    "from nltk.tokenize import word_tokenize"
   ]
  },
  {
   "cell_type": "code",
   "execution_count": 7,
   "metadata": {},
   "outputs": [],
   "source": [
    "zipdata = zip(testdf['Name'],testdf['text'])"
   ]
  },
  {
   "cell_type": "code",
   "execution_count": 8,
   "metadata": {},
   "outputs": [],
   "source": [
    "tagged_data = [TaggedDocument(words=_d, tags=[str(i)]) for i, _d in zipdata]"
   ]
  },
  {
   "cell_type": "code",
   "execution_count": 9,
   "metadata": {
    "scrolled": true
   },
   "outputs": [
    {
     "data": {
      "text/plain": [
       "TaggedDocument(words=['csr', 'shareholder', 'value', 'restaurant', 'industry', 'role', 'csr', 'communication', 'annual', 'report', 'study', 'effect', 'corporate', 'social', 'responsibility', 'csr', 'shareholder', 'value', 'identified', 'csr', 'communication', 'marketing', 'channel', 'key', 'mechanism', 'necessary', 'translate', 'csr', 'shareholder', 'value', 'study', 'annual', 'report', 'considered', 'primary', 'information', 'source', 'used', 'firm', 'financial', 'stakeholder', 'investor', 'analyst', 'valuation', 'firm', 'specifically', 'study', 'examined', 'whether', 'extent', 'restaurant', 'firm', 'communicate', 'csr', 'annual', 'report', 'influence', 'effect', 'csr', 'shareholder', 'value', 'return', 'tobin', 'risk', 'equity', 'holder', 'risk', 'csr', 'disaggregated', 'two', 'distinct', 'type', 'primary', 'nonprimary', 'stakeholder', 'result', 'corroborate', 'communicating', 'csr', 'nonprimary', 'stakeholder', 'annual', 'report', 'help', 'nonprimary', 'stakeholder', 'csr', 'increase', 'shareholder', 'value', 'reducing', 'equity', 'holder', 'risk', 'whereas', 'communicating', 'csr', 'primary', 'stakeholder', 'affect', 'value', 'relevance', 'primary', 'stakeholder', 'csr', 'change', 'either', 'tobin', 'equity', 'holder', 'risk', 'author', 'annual', 'report', 'communication', 'corporate', 'social', 'responsibility', 'csr', 'equity', 'holder', 'risk', 'tobin', 'effect', 'corporate', 'social', 'responsibility', 'corporate', 'financial', 'performance', 'competitive', 'action', 'perspective', 'attempt', 'provide', 'nuanced', 'view', 'relationship', 'corporate', 'social', 'responsibility', 'csr', 'firm', 'financial', 'performance', 'using', 'competitive', 'action', 'perspective', 'argue', 'competitive', 'action', 'considered', 'important', 'contingency', 'determines', 'effect', 'csr', 'activity', 'firm', 'financial', 'performance', 'using', 'data', 'publicly', 'listed', 'firm', 'software', 'industry', 'found', 'socially', 'responsible', 'activity', 'positive', 'csr', 'enhance', 'firm', 'financial', 'performance', 'firm', 'competitive', 'action', 'level', 'high', 'whereas', 'socially', 'irresponsible', 'activity', 'negative', 'csr', 'actually', 'improve', 'firm', 'financial', 'performance', 'competitive', 'action', 'level', 'low', 'introducing', 'competitive', 'action', 'important', 'contingency', 'study', 'contributes', 'literature', 'csr', 'strategic', 'management', 'author', 'competitive', 'action', 'financial', 'performance', 'negative', 'csr', 'positive', 'csr', 'pride', 'lead', 'corporate', 'managerial', 'hubris', 'strategic', 'emphasis', 'firm', 'strategic', 'emphasis', 'value', 'creation', 'versus', 'appropriation', 'typically', 'reflected', 'resource', 'allocation', 'advertising', 'central', 'corporate', 'decision', 'significantly', 'influence', 'financial', 'performance', 'however', 'driver', 'decision', 'remain', 'underexplored', 'study', 'identifies', 'significant', 'predictor', 'strategic', 'emphasis', 'namely', 'corporate', 'managerial', 'hubris', 'reveals', 'boundary', 'condition', 'leveraging', 'unique', 'dataset', 'based', 'text', 'mining', 'press', 'release', 'issued', 'firm', 'across', 'year', 'author', 'demonstrate', 'high', 'corporate', 'managerial', 'hubris', 'predicts', 'low', 'strategic', 'emphasis', 'advertising', 'relative', 'however', 'effect', 'mitigated', 'significantly', 'firm', 'maturity', 'corporate', 'governance', 'industry', 'level', 'strategic', 'emphasis', 'result', 'provide', 'novel', 'insight', 'effect', 'hubris', 'firm', 'spending', 'situation', 'wherein', 'marketing', 'decision', 'tend', 'subject', 'manager', 'psychological', 'bias', 'mean', 'preventing', 'investment', 'marketing', 'strategy', 'recruitment', 'training', 'manager', 'academy', 'marketing', 'science', 'advertising', 'corporate', 'managerial', 'hubris', 'strategic', 'emphasis', 'corporate', 'social', 'responsibility', 'equity', 'holder', 'risk', 'hospitality', 'industry', 'study', 'examined', 'whether', 'corporate', 'social', 'responsibility', 'csr', 'enhances', 'firm', 'value', 'shareholder', 'ultimately', 'fund', 'firm', 'csr', 'initiative', 'specifically', 'investigated', 'relationship', 'csr', 'activity', 'hospitality', 'firm', 'risk', 'associated', 'equity', 'holding', 'firm', 'using', 'msci', 'environmental', 'social', 'governance', 'rating', 'measured', 'extent', 'csr', 'effort', 'firm', 'tested', 'effect', 'csr', 'two', 'different', 'type', 'equity', 'holder', 'risk', 'systematic', 'unsystematic', 'risk', 'across', 'four', 'segment', 'hospitality', 'industry', 'airline', 'hotel', 'casino', 'restaurant', 'csr', 'found', 'reduce', 'systematic', 'risk', 'restaurant', 'casino', 'firm', 'significantly', 'whereas', 'significant', 'influence', 'unsystematic', 'risk', 'segment', 'result', 'study', 'important', 'theoretical', 'practical', 'implication', 'academia', 'hospitality', 'industry', 'author', 'airline', 'casino', 'corporate', 'social', 'responsibility', 'csr', 'equity', 'risk', 'hotel', 'restaurant', 'tourism', 'cmo', 'equity', 'incentive', 'shareholder', 'value', 'moderating', 'role', 'cmo', 'managerial', 'discretion', 'chief', 'marketing', 'officer', 'cmos', 'marketing', 'leader', 'respective', 'firm', 'responsible', 'creating', 'shareholder', 'value', 'incentivize', 'cmos', 'focus', 'shareholder', 'interest', 'increasing', 'number', 'firm', 'compensating', 'cmos', 'equity', 'study', 'examines', 'impact', 'cmo', 'equity', 'incentive', 'shareholder', 'value', 'introduces', 'three', 'different', 'form', 'managerial', 'discretion', 'given', 'cmos', 'contingency', 'determining', 'impact', 'cmo', 'equity', 'incentive', 'le', 'result', 'based', 'cmo', 'compensation', 'data', 'confirm', 'value', 'relevance', 'cmo', 'equity', 'incentive', 'beyond', 'equity', 'incentive', 'allocated', 'tmt', 'member', 'furthermore', 'result', 'reveal', 'support', 'moderating', 'effect', 'financial', 'strategic', 'operational', 'form', 'cmo', 'managerial', 'discretion', 'theoretically', 'finding', 'identify', 'hitherto', 'unrecognized', 'boundary', 'condition', 'determining', 'impact', 'cmo', 'equity', 'shareholder', 'value', 'higher', 'lower', 'address', 'several', 'limitation', 'characterizing', 'past', 'research', 'topic', 'managerially', 'result', 'guide', 'firm', 'structuring', 'cmo', 'compensation', 'discretion', 'way', 'optimize', 'effect', 'cmos', 'shareholder', 'value', 'elsevier', 'agency', 'problem', 'chief', 'marketing', 'officer', 'cmo', 'equity', 'incentive', 'equity', 'based', 'compensation', 'firm', 'value', 'managerial', 'discretion', 'corporate', 'social', 'responsibility', 'shareholder', 'value', 'restaurant', 'firm', 'response', 'recent', 'call', 'understanding', 'corporate', 'social', 'responsibility', 'csr', 'influence', 'shareholder', 'value', 'study', 'examined', 'effect', 'csr', 'strengthening', 'strengthening', 'firm', 'csr', 'reputation', 'concerning', 'potentially', 'diminishing', 'reputation', 'activity', 'publicly', 'listed', 'restaurant', 'firm', 'shareholder', 'value', 'unlike', 'previous', 'study', 'csr', 'hospitality', 'literature', 'focused', 'level', 'stock', 'return', 'study', 'considered', 'systematic', 'risk', 'another', 'important', 'determinant', 'shareholder', 'value', 'study', 'tested', 'whether', 'csr', 'strengthening', 'csr', 'concerning', 'action', 'restaurant', 'firm', 'associated', 'shareholder', 'value', 'based', 'systematic', 'risk', 'tobin', 'csr', 'strengthening', 'action', 'found', 'enhance', 'shareholder', 'value', 'increasing', 'tobin', 'whereas', 'csr', 'weakening', 'action', 'reduce', 'shareholder', 'value', 'increasing', 'systematic', 'risk', 'firm', 'analyzing', 'different', 'effect', 'csr', 'strengthening', 'csr', 'concerning', 'action', 'study', 'provides', 'interesting', 'important', 'implication', 'hospitality', 'literature', 'practitioner', 'restaurant', 'firm', 'elsevier', 'ltd', 'corporate', 'social', 'responsibility', 'hospitality', 'restaurant', 'shareholder', 'value', 'stock', 'return', 'systematic', 'risk', 'advertising', 'firm', 'risk', 'study', 'restaurant', 'industry', 'incorporating', 'recent', 'call', 'understanding', 'firm', 'equity', 'risk', 'relation', 'firm', 'marketing', 'effort', 'study', 'examined', 'impact', 'firm', 'level', 'advertising', 'spending', 'firm', 'equity', 'risk', 'publicly', 'listed', 'firm', 'restaurant', 'industry', 'key', 'hospitality', 'industry', 'study', 'hypothesized', 'tested', 'effect', 'firm', 'level', 'advertising', 'expenditure', 'different', 'type', 'firm', 'equity', 'risk', 'total', 'systematic', 'unsystematic', 'risk', 'unlike', 'previous', 'empirical', 'finding', 'found', 'increase', 'advertising', 'expenditure', 'significantly', 'increased', 'total', 'unsystematic', 'risk', 'sampled', 'restaurant', 'firm', 'finding', 'provide', 'new', 'insight', 'effect', 'advertising', 'firm', 'equity', 'risk', 'literature', 'important', 'theoretical', 'managerial', 'implication', 'restaurant', 'firm', 'copyright', 'taylor', 'francis', 'group', 'llc', 'advertising', 'equity', 'risk', 'hospitality', 'restaurant', 'systematic', 'risk', 'total', 'risk', 'unsystematic', 'risk', 'stock', 'market', 'reaction', 'unexpected', 'growth', 'marketing', 'expenditure', 'negative', 'sale', 'force', 'contingent', 'spending', 'level', 'advertising', 'firm', 'publicly', 'report', 'marketing', 'expenditure', 'study', 'link', 'firm', 'value', 'marketing', 'consider', 'advertising', 'publicly', 'reported', 'many', 'firm', 'proxy', 'marketing', 'author', 'extend', 'study', 'two', 'way', 'first', 'broaden', 'proxy', 'marketing', 'considering', 'advertising', 'sale', 'force', 'second', 'offer', 'explanation', 'fact', 'study', 'linking', 'advertising', 'firm', 'value', 'find', 'positive', 'relationship', 'whereas', 'others', 'find', 'negative', 'relationship', 'accounting', 'literature', 'suggests', 'link', 'firm', 'value', 'unexpected', 'growth', 'sale', 'force', 'expenditure', 'unexpected', 'growth', 'advertising', 'expenditure', 'negative', 'author', 'confirm', 'hypothesized', 'accounting', 'relationship', 'sale', 'force', 'expenditure', 'find', 'contingent', 'relationship', 'advertising', 'expenditure', 'firm', 'value', 'unexpected', 'growth', 'advertising', 'expenditure', 'negatively', 'related', 'firm', 'advertise', 'advertising', 'response', 'threshold', 'positively', 'related', 'firm', 'advertise', 'threshold', 'perhaps', 'contingent', 'relationship', 'difficult', 'analyst', 'learn', 'observation', 'stock', 'market', 'analyst', 'ignore', 'value', 'relevant', 'advertising', 'expenditure', 'information', 'forecast', 'firm', 'value', 'american', 'marketing', 'association', 'advertising', 'analyst', 'forecast', 'cumulative', 'abnormal', 'stock', 'return', 'firm', 'value', 'fundamental', 'signal', 'sale', 'force', 'advertising', 'research', 'development', 'systematic', 'risk', 'firm', 'marketing', 'executive', 'urged', 'speak', 'language', 'finance', 'gain', 'internal', 'support', 'marketing', 'initiative', 'responding', 'call', 'author', 'examine', 'impact', 'firm', 'advertising', 'research', 'development', 'systematic', 'risk', 'stock', 'key', 'metric', 'publicly', 'listed', 'firm', 'hypothesize', 'firm', 'advertising', 'expenditure', 'create', 'intangible', 'asset', 'insulate', 'stock', 'market', 'change', 'lowering', 'systematic', 'risk', 'test', 'hypothesis', 'using', 'panel', 'data', 'publicly', 'listed', 'firm', 'consisting', 'five', 'year', 'moving', 'window', 'scale', 'firm', 'advertising', 'expenditure', 'sale', 'controlling', 'factor', 'accounting', 'finance', 'researcher', 'shown', 'associated', 'systematic', 'risk', 'author', 'find', 'advertising', 'sale', 'sale', 'lower', 'firm', 'systematic', 'risk', 'article', 'finding', 'extend', 'prior', 'research', 'focused', 'primarily', 'effect', 'marketing', 'initiative', 'performance', 'metric', 'without', 'consideration', 'systematic', 'risk', 'practice', 'ability', 'advertising', 'reduce', 'systematic', 'risk', 'highlight', 'multifaceted', 'implication', 'advertising', 'research', 'program', 'article', 'finding', 'may', 'surprise', 'senior', 'management', 'skeptical', 'financial', 'accountability', 'advertising', 'program', 'american', 'marketing', 'association', 'nan'], tags=['Kim, MinChung(김민중)'])"
      ]
     },
     "execution_count": 9,
     "metadata": {},
     "output_type": "execute_result"
    }
   ],
   "source": [
    "tagged_data[3]"
   ]
  },
  {
   "cell_type": "code",
   "execution_count": 10,
   "metadata": {},
   "outputs": [],
   "source": [
    "import re \n",
    "import gensim\n",
    "from gensim.models import doc2vec\n",
    "from collections import namedtuple\n",
    "from random import shuffle"
   ]
  },
  {
   "cell_type": "code",
   "execution_count": 33,
   "metadata": {},
   "outputs": [],
   "source": [
    "model = gensim.models.Doc2Vec(vector_size=100, window=10, min_count=1, workers=8, alpha=0.025, min_alpha=0.015, \n",
    "                              epochs=20)\n",
    "\n",
    "#sample=1e-4, negative=5,\n",
    "\n",
    "#shuffling is better (ot needed at each trianing epoch\n",
    "shuffle(tagged_data)\n",
    "#Build vocabulary from a sequence of sentences \n",
    "model.build_vocab(tagged_data)\n",
    "#Update the model’s neural weights from a sequence of sentences\n",
    "model.train(tagged_data, epochs=model.epochs, total_examples=model.corpus_count)"
   ]
  },
  {
   "cell_type": "code",
   "execution_count": 12,
   "metadata": {},
   "outputs": [],
   "source": [
    "model.save(\"finalmodel\")"
   ]
  },
  {
   "cell_type": "code",
   "execution_count": 13,
   "metadata": {
    "scrolled": true
   },
   "outputs": [
    {
     "name": "stderr",
     "output_type": "stream",
     "text": [
      "/Users/seungheondoh/anaconda3/envs/python3.6/lib/python3.6/site-packages/gensim/matutils.py:737: FutureWarning: Conversion of the second argument of issubdtype from `int` to `np.signedinteger` is deprecated. In future, it will be treated as `np.int64 == np.dtype(int).type`.\n",
      "  if np.issubdtype(vec.dtype, np.int):\n"
     ]
    },
    {
     "data": {
      "text/plain": [
       "[('fluorothieno', 0.9116326570510864),\n",
       " ('bithiophen', 0.8954272270202637),\n",
       " ('jsp', 0.8918386697769165),\n",
       " ('ferraro', 0.8901904821395874),\n",
       " ('thien', 0.8828878402709961),\n",
       " ('suppl', 0.8823558688163757),\n",
       " ('chls', 0.8801031112670898),\n",
       " ('germolo', 0.8791412115097046),\n",
       " ('kist', 0.8783347606658936),\n",
       " ('y1030', 0.8767693638801575),\n",
       " ('discov', 0.8756805658340454),\n",
       " ('5c6h6', 0.8748934268951416),\n",
       " ('butanolamine', 0.8729902505874634),\n",
       " ('ono', 0.8710193634033203),\n",
       " ('sytematic', 0.8679637908935547),\n",
       " ('τnπ', 0.8669286966323853),\n",
       " ('gaiii6l26', 0.8654748201370239),\n",
       " ('yoo', 0.8637548685073853),\n",
       " ('τππ', 0.860684335231781),\n",
       " ('cleansgin', 0.859939694404602)]"
      ]
     },
     "execution_count": 13,
     "metadata": {},
     "output_type": "execute_result"
    }
   ],
   "source": [
    "model.wv.most_similar('pzk', topn=20)"
   ]
  },
  {
   "cell_type": "code",
   "execution_count": 14,
   "metadata": {
    "scrolled": true
   },
   "outputs": [
    {
     "name": "stderr",
     "output_type": "stream",
     "text": [
      "/Users/seungheondoh/anaconda3/envs/python3.6/lib/python3.6/site-packages/gensim/matutils.py:737: FutureWarning: Conversion of the second argument of issubdtype from `int` to `np.signedinteger` is deprecated. In future, it will be treated as `np.int64 == np.dtype(int).type`.\n",
      "  if np.issubdtype(vec.dtype, np.int):\n"
     ]
    },
    {
     "data": {
      "text/plain": [
       "[('Self, James(SelfJames Andrew)', 0.7231125831604004),\n",
       " ('Baek, Joon Sang(백준상)(2011-07~2018-03)', 0.7183336615562439),\n",
       " ('Kim, KwanMyung(김관명)', 0.7142677903175354),\n",
       " ('Lee, Jacob C.(이채호)', 0.676101565361023),\n",
       " ('Kim, Molan(김모란)', 0.6481330394744873),\n",
       " ('Kyung, Gyouhyung(경규형)', 0.6373521089553833),\n",
       " ('Zhang, Lu(ZhangLu)', 0.6351935863494873),\n",
       " ('Kim, Yeolib(김여립)', 0.6206967830657959),\n",
       " ('Lim, Sunghoon(임성훈)', 0.6205252408981323),\n",
       " ('Jung, Dooyoung(정두영)', 0.6108125448226929),\n",
       " ('Lim, Chiehyeon(임치현)', 0.6104732155799866),\n",
       " ('Hong, Hwajung(홍화정)(2015-08~2018-03)', 0.6029444932937622),\n",
       " ('Kim, Duck Young(김덕영)', 0.5923179984092712),\n",
       " ('Kim, Young Choon(김영춘)', 0.5784534811973572),\n",
       " ('Kim, Jeongseob(김정섭)', 0.5741623640060425),\n",
       " ('Hong, Woonki(홍운기)', 0.5714349150657654),\n",
       " ('Park, Young-Woo(박영우)', 0.5601038932800293),\n",
       " ('Woo, Hangyun(우한균)', 0.5564560294151306),\n",
       " ('Chung, Jibum(정지범)', 0.5489473342895508),\n",
       " ('Hwang, Sung Ju(황성주)(2014-08~2018-01)', 0.5392651557922363),\n",
       " ('Lee, Changyong(이창용)', 0.5365312695503235),\n",
       " ('Oakley, Ian(OakleyIan)', 0.5312891006469727),\n",
       " ('Kim, MinChung(김민중)', 0.5253097414970398),\n",
       " ('Choi, Young Rok(최영록)', 0.5174028873443604),\n",
       " ('Chung, Dongil(정동일)', 0.514203667640686),\n",
       " ('Lee, Yongjae(이용재)', 0.51374351978302),\n",
       " ('Ko, Sungahn(고성안)', 0.5041712522506714),\n",
       " ('Comuzzi, Marco(ComuzziMarco)', 0.4960324764251709),\n",
       " ('Sun, Hae-sang(선해상)', 0.4958580434322357),\n",
       " ('Jung, Kooyul(정구열)', 0.49448058009147644),\n",
       " ('Kim, Namhun(김남훈)', 0.4906899631023407),\n",
       " ('Kwak, Youngshin(곽영신)', 0.4887795150279999),\n",
       " ('Jun, Yubin(전유빈)', 0.48607757687568665),\n",
       " ('Kim, Sung-Phil(김성필)', 0.4817225933074951),\n",
       " ('Cho, Gi-Hyoug(조기혁)', 0.47394806146621704),\n",
       " ('Kwon, Oh-Sang(권오상)', 0.46932360529899597),\n",
       " ('Jang, Bongsoo(장봉수)', 0.46136045455932617),\n",
       " ('Lee, Junghye(이정혜)', 0.45778173208236694),\n",
       " ('Jang, Hyunjin(장현진)', 0.45666784048080444),\n",
       " ('Oh, Jae Eun(오재은)', 0.45570555329322815),\n",
       " ('Shin, GwanSeob(신관섭)', 0.45042353868484497),\n",
       " ('Kwon, Daeil(권대일)', 0.44426286220550537),\n",
       " ('Vigneron, Antoine(VigneronAntoine)', 0.44108274579048157),\n",
       " ('Cho, Perter J.(조재현)', 0.43681836128234863),\n",
       " ('Lee, Myunghee(이명희)', 0.4366658329963684),\n",
       " ('Park, Lee Soon(박이순)', 0.43611940741539),\n",
       " ('Choi, Jin Hyuk(최진혁)', 0.42693719267845154),\n",
       " ('Kim, Yunho(김윤호)', 0.4102570414543152),\n",
       " ('Jung, Chang-Yeol(정창렬)', 0.404349684715271),\n",
       " ('Park, Sung Soo(박성수)', 0.3999413251876831)]"
      ]
     },
     "execution_count": 14,
     "metadata": {},
     "output_type": "execute_result"
    }
   ],
   "source": [
    "model.docvecs.most_similar('Kim, Chajoong(김차중)', topn=50)"
   ]
  },
  {
   "cell_type": "code",
   "execution_count": 49,
   "metadata": {},
   "outputs": [
    {
     "data": {
      "text/plain": [
       "(258, 100)"
      ]
     },
     "execution_count": 49,
     "metadata": {},
     "output_type": "execute_result"
    }
   ],
   "source": [
    "docvec = model.docvecs.vectors_docs\n",
    "docvec.shape"
   ]
  },
  {
   "cell_type": "code",
   "execution_count": 54,
   "metadata": {},
   "outputs": [
    {
     "data": {
      "text/plain": [
       "numpy.ndarray"
      ]
     },
     "execution_count": 54,
     "metadata": {},
     "output_type": "execute_result"
    }
   ],
   "source": [
    "wordvector = model.wv.vectors\n",
    "type(wordvector)"
   ]
  },
  {
   "cell_type": "code",
   "execution_count": 57,
   "metadata": {},
   "outputs": [],
   "source": [
    "totalvector = np.vstack((docvec,wordvector))"
   ]
  },
  {
   "cell_type": "code",
   "execution_count": null,
   "metadata": {},
   "outputs": [],
   "source": []
  }
 ],
 "metadata": {
  "kernelspec": {
   "display_name": "python3.6",
   "language": "python",
   "name": "python3.6"
  },
  "language_info": {
   "codemirror_mode": {
    "name": "ipython",
    "version": 3
   },
   "file_extension": ".py",
   "mimetype": "text/x-python",
   "name": "python",
   "nbconvert_exporter": "python",
   "pygments_lexer": "ipython3",
   "version": "3.6.6"
  }
 },
 "nbformat": 4,
 "nbformat_minor": 2
}
