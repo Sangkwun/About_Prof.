{
 "cells": [
  {
   "cell_type": "code",
   "execution_count": 68,
   "metadata": {},
   "outputs": [],
   "source": [
    "import requests\n",
    "import json\n",
    "from bs4 import BeautifulSoup\n",
    "import time\n",
    "import re\n",
    "import pandas as pd\n",
    "import numpy as np\n",
    "from pymongo import MongoClient"
   ]
  },
  {
   "cell_type": "code",
   "execution_count": 69,
   "metadata": {},
   "outputs": [
    {
     "name": "stdout",
     "output_type": "stream",
     "text": [
      "[nltk_data] Downloading package wordnet to\n",
      "[nltk_data]     /Users/seungheondoh/nltk_data...\n",
      "[nltk_data]   Package wordnet is already up-to-date!\n"
     ]
    },
    {
     "data": {
      "text/plain": [
       "True"
      ]
     },
     "execution_count": 69,
     "metadata": {},
     "output_type": "execute_result"
    }
   ],
   "source": [
    "import nltk\n",
    "nltk.download('wordnet')\n",
    "nltk.download('punkt')"
   ]
  },
  {
   "cell_type": "code",
   "execution_count": 70,
   "metadata": {},
   "outputs": [],
   "source": [
    "client = MongoClient()\n",
    "db = client.aboutdepart"
   ]
  },
  {
   "cell_type": "code",
   "execution_count": 71,
   "metadata": {},
   "outputs": [
    {
     "name": "stderr",
     "output_type": "stream",
     "text": [
      "/Users/seungheondoh/anaconda3/envs/python3.6/lib/python3.6/site-packages/ipykernel_launcher.py:2: DeprecationWarning: count is deprecated. Use estimated_document_count or count_documents instead. Please note that $where must be replaced by $expr, $near must be replaced by $geoWithin with $center, and $nearSphere must be replaced by $geoWithin with $centerSphere\n",
      "  \n"
     ]
    },
    {
     "data": {
      "text/plain": [
       "270"
      ]
     },
     "execution_count": 71,
     "metadata": {},
     "output_type": "execute_result"
    }
   ],
   "source": [
    "database = db.professors.find()\n",
    "db.professors.count()"
   ]
  },
  {
   "cell_type": "code",
   "execution_count": 72,
   "metadata": {},
   "outputs": [
    {
     "data": {
      "text/plain": [
       "{'_id': ObjectId('5be84ed71920751280b98ead'),\n",
       " 'Authors': ['Zhang L., Seo J.',\n",
       "  'Morand D., Zhang L.',\n",
       "  'Zhang L., Morand D.',\n",
       "  'Zhang L., Goldberg C.',\n",
       "  'Zhang L., Gowan M.A., Treviño M.',\n",
       "  'Zhang L.',\n",
       "  'Zhang L., Gowan M.A.',\n",
       "  'Zhang L., Gowan M.',\n",
       "  'Goldberg C., Riordan C.M., Zhang L.',\n",
       "  'Goldberg C., Zhang L.'],\n",
       " 'Author Ids': ['55428148200;57189989008;',\n",
       "  '6701727964;55428148200;',\n",
       "  '55428148200;6701727964;',\n",
       "  '55428148200;7102041095;',\n",
       "  '55428148200;7004672859;6701485782;',\n",
       "  '55428148200;',\n",
       "  '55428148200;7004672859;',\n",
       "  '55428148200;7004672859;',\n",
       "  '7102041095;7004493181;55428148200;',\n",
       "  '7102041095;55428148200;'],\n",
       " 'Title': ['Held captive in the office: an investigation into long working hours among Korean employees',\n",
       "  'The impact of status-leveling symbols on employee attitudes: a moderated mediational analysis',\n",
       "  'The linkage between status-leveling symbols and work attitudes',\n",
       "  'Sensitivity-to-diversity: A moderator of diversity affective outcomes relationships',\n",
       "  'Cross-cultural correlates of career and parental role commitment',\n",
       "  'Board demographic diversity, independence, and corporate social performance',\n",
       "  \"Corporate Social Responsibility, Applicants' Individual Traits, and Organizational Attraction: A Person-Organization Fit Perspective\",\n",
       "  \"Corporate social responsibility, applicants' ethical predispositions and organization attraction\",\n",
       "  \"Employees' perceptions of their leaders: Is being similar always better?\",\n",
       "  'Simple and joint effects of gender and self-esteem on responses to same-sex sexual harassment'],\n",
       " 'Year': ['2018',\n",
       "  '2018',\n",
       "  '2014',\n",
       "  '2014',\n",
       "  '2014',\n",
       "  '2012',\n",
       "  '2012',\n",
       "  '2008',\n",
       "  '2008',\n",
       "  '2004'],\n",
       " 'Source title': ['International Journal of Human Resource Management',\n",
       "  'International Journal of Human Resource Management',\n",
       "  'Journal of Managerial Psychology',\n",
       "  'Equality, Diversity and Inclusion',\n",
       "  'Journal of Managerial Psychology',\n",
       "  'Corporate Governance (Bingley)',\n",
       "  'Journal of Business and Psychology',\n",
       "  'Academy of Management 2008 Annual Meeting: The Questions We Ask, AOM 2008',\n",
       "  'Group and Organization Management',\n",
       "  'Sex Roles'],\n",
       " 'Volume': ['29.0',\n",
       "  'nan',\n",
       "  '29.0',\n",
       "  '33.0',\n",
       "  '29.0',\n",
       "  '12.0',\n",
       "  '27.0',\n",
       "  'nan',\n",
       "  '33.0',\n",
       "  '50.0'],\n",
       " 'Issue': ['7', 'nan', '8', '6', '6', '5', '3', 'nan', '3', '11-12'],\n",
       " 'Art- No-': ['nan',\n",
       "  'nan',\n",
       "  'nan',\n",
       "  'nan',\n",
       "  'nan',\n",
       "  'nan',\n",
       "  'nan',\n",
       "  'nan',\n",
       "  'nan',\n",
       "  'nan'],\n",
       " 'Page start': ['1231.0',\n",
       "  '1.0',\n",
       "  '973.0',\n",
       "  '494.0',\n",
       "  '736.0',\n",
       "  '686.0',\n",
       "  '345.0',\n",
       "  'nan',\n",
       "  '330.0',\n",
       "  '823.0'],\n",
       " 'Page end': ['1256.0',\n",
       "  '26.0',\n",
       "  '993.0',\n",
       "  '509.0',\n",
       "  '754.0',\n",
       "  '700.0',\n",
       "  '362.0',\n",
       "  'nan',\n",
       "  '355.0',\n",
       "  '833.0'],\n",
       " 'Page count': ['nan',\n",
       "  'nan',\n",
       "  'nan',\n",
       "  'nan',\n",
       "  'nan',\n",
       "  'nan',\n",
       "  'nan',\n",
       "  '6.0',\n",
       "  'nan',\n",
       "  'nan'],\n",
       " 'Cited by': ['nan',\n",
       "  'nan',\n",
       "  'nan',\n",
       "  'nan',\n",
       "  '3.0',\n",
       "  '21.0',\n",
       "  '28.0',\n",
       "  'nan',\n",
       "  '20.0',\n",
       "  '10.0'],\n",
       " 'DOI': ['10.1080/09585192.2016.1192053',\n",
       "  '10.1080/09585192.2018.1454488',\n",
       "  '10.1108/JMP-12-2012-0413',\n",
       "  '10.1108/EDI-05-2013-0028',\n",
       "  '10.1108/JMP-11-2012-0336',\n",
       "  '10.1108/14720701211275604',\n",
       "  '10.1007/s10869-011-9250-5',\n",
       "  'nan',\n",
       "  '10.1177/1059601108318232',\n",
       "  'nan'],\n",
       " 'Link': ['https://www.scopus.com/inward/record.uri?eid=2-s2.0-84976330164&doi=10.1080%2f09585192.2016.1192053&partnerID=40&md5=889aba92351b9a3ca3cd346155c50276',\n",
       "  'https://www.scopus.com/inward/record.uri?eid=2-s2.0-85044327934&doi=10.1080%2f09585192.2018.1454488&partnerID=40&md5=a9a37cd0a5a6fae0d57e29aa3f85abd5',\n",
       "  'https://www.scopus.com/inward/record.uri?eid=2-s2.0-84914151176&doi=10.1108%2fJMP-12-2012-0413&partnerID=40&md5=916dde8eb0474753c8e89243a895c30e',\n",
       "  'https://www.scopus.com/inward/record.uri?eid=2-s2.0-84938262134&doi=10.1108%2fEDI-05-2013-0028&partnerID=40&md5=a8087730271158c1d26490984f3dfe7e',\n",
       "  'https://www.scopus.com/inward/record.uri?eid=2-s2.0-84927512246&doi=10.1108%2fJMP-11-2012-0336&partnerID=40&md5=726ed75de455af7b2184fcb40050fa89',\n",
       "  'https://www.scopus.com/inward/record.uri?eid=2-s2.0-84867777363&doi=10.1108%2f14720701211275604&partnerID=40&md5=5470c41d3cec8de8d647bee38fa852d2',\n",
       "  'https://www.scopus.com/inward/record.uri?eid=2-s2.0-84865441494&doi=10.1007%2fs10869-011-9250-5&partnerID=40&md5=95a252df0b052c761261ed186f352846',\n",
       "  'https://www.scopus.com/inward/record.uri?eid=2-s2.0-84863373088&partnerID=40&md5=ddaefd5a844b4a4816ea25f76554ae60',\n",
       "  'https://www.scopus.com/inward/record.uri?eid=2-s2.0-43949135205&doi=10.1177%2f1059601108318232&partnerID=40&md5=e4c732c08c7bf20e6b99ca6caafe639c',\n",
       "  'https://www.scopus.com/inward/record.uri?eid=2-s2.0-3843109921&partnerID=40&md5=8035acacf3a2bf9230cdb8733bf65592'],\n",
       " 'Affiliations': ['School of Business Administration, Ulsan National Institute of Science and Technology (UNIST), Ulsan, South Korea; Carlson School of Management, University of Minnesota, Minneapolis, MN, United States',\n",
       "  'School of Business, Pennsylvania State University, Middletown, PA, USA; School of Business Administration, Ulsan National Institute of Science and Technology, Ulsan, Republic of Korea',\n",
       "  'School of Technology Management, Ulsan National Institute of Science and Technology, Ulju-gun, South Korea; School of Business Administration, Pennsylvania State University – Harrisburg, Middletown, PA, United States',\n",
       "  'School of Technology Management, Ulsan National Institute of Science and Technology, Ulsan, South Korea; Kogod School of Business, American University, Washington, DC, United States; Departament of Management, Ulsan National Institute of Science and Technology, Ulsan, South Korea',\n",
       "  'School of Technology Management, Ulsan National Institute of Science and Technology, Ulsan, South Korea; Department of Management, James Madison University, Harrisonburg, VA, United States; University of Texas El Paso, El Paso, TX, United States',\n",
       "  'School of Technology Management, Ulsan National Institute of Science and Technology, Ulsan, South Korea',\n",
       "  'School of Business Administration, Penn State-Harrisburg, Middletown, PA 17057, United States; Love School of Business, Elon University, Elon, NC 27244, United States',\n",
       "  'School of Business Administration Penn State - Harrisburg, Middletown, PA 17057, United States; Elon University, United States',\n",
       "  'American University, Washington, DC, United States; Texas Christian University, Fort Worth, United States; George Washington University, Washington, DC, United States',\n",
       "  'Department of Management Science, George Washington University, Washington, DC 20052, United States'],\n",
       " 'Authors with affiliations': ['Zhang, L., School of Business Administration, Ulsan National Institute of Science and Technology (UNIST), Ulsan, South Korea; Seo, J., Carlson School of Management, University of Minnesota, Minneapolis, MN, United States',\n",
       "  'Morand, D., School of Business, Pennsylvania State University, Middletown, PA, USA; Zhang, L., School of Business Administration, Ulsan National Institute of Science and Technology, Ulsan, Republic of Korea',\n",
       "  'Zhang, L., School of Technology Management, Ulsan National Institute of Science and Technology, Ulju-gun, South Korea; Morand, D., School of Business Administration, Pennsylvania State University – Harrisburg, Middletown, PA, United States',\n",
       "  'Zhang, L., School of Technology Management, Ulsan National Institute of Science and Technology, Ulsan, South Korea, Departament of Management, Ulsan National Institute of Science and Technology, Ulsan, South Korea; Goldberg, C., Kogod School of Business, American University, Washington, DC, United States',\n",
       "  'Zhang, L., School of Technology Management, Ulsan National Institute of Science and Technology, Ulsan, South Korea; Gowan, M.A., Department of Management, James Madison University, Harrisonburg, VA, United States; Treviño, M., University of Texas El Paso, El Paso, TX, United States',\n",
       "  'Zhang, L., School of Technology Management, Ulsan National Institute of Science and Technology, Ulsan, South Korea',\n",
       "  'Zhang, L., School of Business Administration, Penn State-Harrisburg, Middletown, PA 17057, United States; Gowan, M.A., Love School of Business, Elon University, Elon, NC 27244, United States',\n",
       "  'Zhang, L., School of Business Administration Penn State - Harrisburg, Middletown, PA 17057, United States; Gowan, M., Elon University, United States',\n",
       "  'Goldberg, C., American University, Washington, DC, United States; Riordan, C.M., Texas Christian University, Fort Worth, United States; Zhang, L., George Washington University, Washington, DC, United States',\n",
       "  'Goldberg, C., Department of Management Science, George Washington University, Washington, DC 20052, United States; Zhang, L., Department of Management Science, George Washington University, Washington, DC 20052, United States'],\n",
       " 'Abstract': ['Although working long hours is a common practice, scholars still know little about what really causes employees to work long hours. Drawing on social information processing and social learning theory, this study examines the role of social contextual antecedents (i.e. supervisor working hours and the perceived overtime climate of one’s workgroup) in influencing employee working hours, after controlling for individual background and job characteristics. Further, we examine whether such relationships are contingent on employees’ individual differences in their identification with leader and a collectivist tendency. A field study of 200 supervisor-subordinate dyads in South Korea revealed a strong positive relationship between the contextual antecedents and employees’ working hours, as well as the moderating effects of the two individual difference variables. Specifically, we found that the relationship between supervisor working hours and employee working hours was more positive for low identifiers than for high identifiers, while the relationship between the perceived overtime climate and employee working hours was more positive for those low in collectivism than for those high in collectivism. Finally, we found that working long hours was associated with lower job satisfaction, higher psychological distress, lower in-role performance, but not with organizational citizenship behavior. © 2016, © 2016 Informa UK Limited, trading as Taylor & Francis Group.',\n",
       "  'Status-leveling symbols (defined as physical, verbal, and behavioral manifestations in an organization that are designed to downplay hierarchical systems within the organization) are considered central to high-involvement work systems, yet these practices have received little attention in the empirical literature. Using data collected from 147 working adults, this study examined the relationship between status-leveling symbols and work-related attitudes, as mediated by organizational culture. We also examined how individual power-distance orientation moderated this mediated relationship. We found that perceived low power-distance organizational culture mediated the relationship between status-leveling symbols and attitudes. Furthermore, individual power-distance orientation moderated the second path of the mediated relationship, yet in a direction opposite to our prediction. This study advances the theory related to organizational symbols and, more broadly, to high involvement work practices. Our findings also provide practical guidance relative to the role of perceived organizational culture as an important mechanism for managing employees’ reactions to status-leveling symbols. © 2018 Informa UK Limited, trading as Taylor & Francis Group',\n",
       "  'Purpose – The purpose of this paper is to investigate the relationship between status-leveling symbols (i.e. the symbols used by organizations to remove, blur, or downplay hierarchical distinctions) and employees’ work attitudes, as mediated through perceptions of trust, justice, and leader-member exchange. The study intends to provide some empirical support relative to the role of symbolicleveling symbols as a social influence process in the workplace.Design/methodology/approach – In this study, the authors developed a measure of organizational status leveling by focussing on three symbols – physical space, dress, and forms of address. Data were collected from 147 employees who were enrolled in a part-time MBA program. The paper used path analysis to test the hypotheses.Findings – Results fully supported the theoretical model except the mediating role of justice perceptions in the relationship between status-leveling symbols and affective commitment.Practical implications – The results of the study provide guidance for design of physical workspaces and setting or reinforcing norms regarding forms of address and dress codes. Such practices need to be integrated with other high-involvement HR practices so as to create and sustain the culture desired by the organization.Originality/value – The paper is the first to measure status-leveling symbols in organizations, and the first to investigate the linkages between symbolic-leveling symbols and relevant work-related outcomes. © Emerald Group Publishing Limited.',\n",
       "  'Purpose The purpose of this paper is to develop two new constructs sensitivity to gender and race/ethnicity diversity and examined how differences in these constructs moderate the diversity affective outcomes relationships. Design/methodology/approach A sample of 250 full-time employees completed an online survey on their sensitivity, workgroup diversity, and affective reactions toward their workgroups. Findings The paper performed a construct validation of the new sensitivity to diversity measures and found that they were conceptually distinct from two existing diversity perceptual constructs gender identity salience and pro-diversity belief. Furthermore, the authors found that the moderating effect of sensitivity to gender diversity on the relationship between gender diversity and perceived cohesiveness and workgroup commitment was stronger for women than for men. The authors also found that the moderating role of sensitivity to race/ethnicity diversity on the relationship between race/ethnicity diversity and workgroup commitment and satisfaction with coworkers varied by race/ethnicity. Research limitations/implications Although common method variance can be a problem, diagnostic tests indicated that it had minimal influence on the results. Practical implications Organizations need to understand how individual differences among employees, especially among female and racial/ethnic minority employees, affect their responses to workgroup diversity and diversity initiatives. Originality/value Prior research on diversity has generally not examined individual differences in the propensity to notice differences. This study contributes to the literature by examining the moderating roles of such important individual characteristics on the relationship between diversity and affective outcomes. © Emerald Group Publishing Limited.',\n",
       "  'Purpose – The purpose of this paper is to examine the relationship between country of birth or ethnicity (cultural proxies) and career and parental role commitment, andwhether or not that relationship is mediated by two psychological dimensions known to differ across Mexican and USA cultures. These mediators are family achievement orientation and gender role orientation. Design/methodology/approach – Data were collected from 372 working female students at community colleges in the USA andMexico. The survey focussed on career and parental role commitment, family achievement orientation, and gender role attitudes. Findings – Both country of birth and ethnicity predict career and parental role commitment. Females born in Mexico and Hispanics have higher career role commitment and lower parental role commitment than females born in the USA and non-Hispanic whites. Family achievement orientation and gender role attitudes partially mediate these relationships. Research limitations/implications – Cross-cultural research of work and family issues needs to incorporate psychological dimensions in accounting for country/ethnic differences. Practical implications – Employees’ cultural backgrounds should be considered in designing programs to support family and work balance. Social implications – Assistance programs designed to enable Hispanics to work will be valued and fit with the Hispanic cultural focus on working as a means to care for family. Originality/value – This study addresses a stated need in the work/life literature for research that addresses cross-cultural differences, and research in the cross-cultural research that calls for the inclusion of psychological dimension mediators between culture and the variables of interest. © Emerald Group Publishing Limited.',\n",
       "  'Purpose: Drawing on agency theory and resource dependence theory, the study aims to link board demographic diversity and independence to corporate social performance. Design/methodology/approach: Data were collected from various sources for a sample of 475 publicly traded Fortune 500 companies between the years 2007 and 2008. Findings: It is found that board gender diversity is positively related to institutional and technical strength ratings, while board racial diversity is positively related to institutional strength rating only. Both the proportion of outside directors and CEO non-duality were negatively associated with institutional and technical weakness ratings. Research limitations/implications: The sample was predominantly large, publicly traded national and international corporations, which might limit the generalizability of the findings. Practical implications: Management personnel should be cognizant of how board configurations and leadership structure may influence their corporate reputation for social responsibility. Efforts should be made to foster a group dynamic that is conducive to effective board functioning. Originality/value: Few empirical studies have examined the relationship between board characteristics and corporate social performance. This study contributes to the literature by examining such associations. © Emerald Group Publishing Limited.',\n",
       "  \"The purpose of this study is to explore whether different aspects of corporate social responsibility (i. e., economic, legal, and ethical) have independent association with job applicants' attraction to organizations and how applicants combine the information. Further, from a person-organization fit perspective, we examine whether applicants are attracted to organizations whose corporate social responsibility (CSR) reflects their differences in ethical predispositions (i. e., utilitarianism and formalism) and Machiavellianism. Using factorial design, we created scenarios manipulating CSR and pay level. Participants read each scenario and answered questions about their attraction to the organization depicted in the scenario. We found that each aspect of CSR had an independent relationship with organizational attraction and the probability of accepting a job offer. Participants combined information from each type of CSR in an interactive, configural manner. Applicants with different ethical predispositions and Machiavellianism personality were affected by CSR to different extents. Understanding how job applicants evaluate CSR information may give managers an opportunity to influence applicant attraction. Further, our study shows that organizations may be able to maximize the utility of their CSR investments by selectively conveying CSR information in recruitment brochures that are attractive to their ideal applicants. This is the first study to examine how job applicants form their perception based upon different configurations of the multiple aspects of CSR. In addition, this is the first study to examine the moderating effect of individual differences in ethical predispositions and Machiavellianism on the relationship between CSR and applicant attraction. © 2011 Springer Science+Business Media, LLC.\",\n",
       "  'This policy-capturing study examines the impact of corporate social responsibility (CSR) on applicant attraction to organizations. In a sample of 201 graduating business students, we found that each aspect of CSR, i.e., economic, legal, and ethical responsibility, had a unique effect on organizational attraction and probability of accepting offer. The participants also combined these three types of information in an interactive configural manner. Applicants with different ethical predispositions were affected by CSR to different extents. Future research needs and practical implications are discussed.',\n",
       "  \"Using a sample of middle and upper level managers, the authors examined the effects of employee-supervisor demographic similarity on employees' perceptions of their supervisor's leadership ability. The authors also examined the moderating effects of individuals' needs for self-continuity and the status of the demographic groups on these relationships. Very little evidence was found for direct similarity effects. However, the authors found strong and consistent evidence that employees in high-status demographic groups exhibited a positive relationship between self-continuity and perceptions of their leaders when the leader was demographically similar, whereas employees in low-status demographic groups exhibited a negative relationship between self-continuity and perceptions of their leaders when the leader was demographically similar. Implications for social identity theory and relational demography research are discussed. © 2008 Sage Publications.\",\n",
       "  \"In a sample of 431 white-collar professionals, we examined the impact of gender and self-esteem on individuals' intentions to seek legal counsel, confront the harasser, and make formal reports within the organization in response to approach-based same-sex sexual harassment. We hypothesized that gender, self-esteem, and their interaction would be related to assertive responses. All three hypotheses received support: men were more likely than women to respond assertively; self-esteem was positively related to response intentions; and self-esteem had a greater impact on men's responses than on women's responses. These results suggest that frameworks used to describe responses to cross-sex sexual harassment may not be adequate for same-sex sexual harassment. Post hoc analyses revealed that perceiving the behavior as harassment mediated the relationship between self-esteem and the responses to harassment, but did not mediate the relationships between gender and the responses to harassment. These findings contribute to the research on acknowledging sexual harassment.\"],\n",
       " 'Author Keywords': ['Collectivism; employee attitudes; employee performance; identification with leader; long working hours; overtime; overtime climate',\n",
       "  'culture; high-involvement work practice; organizational design; power distance; Status-leveling symbols',\n",
       "  'Employee attitudes; High performance work practices; Justice; Leader-Member exchange; Status-leveling symbols; Trust',\n",
       "  'Diversity belief; Employee attitudes; Gender diversity; Identity salience; Race/ethnicity diversity; Sensitivity to diversity',\n",
       "  'Careers; Cross-cultural management; Role commitment; Work family issues',\n",
       "  'Boards of directors; Chief executive officer duality; Company performance; Corporate social performance; Demographic diversity; Gender; Outsider representation on boards',\n",
       "  'Applicant attraction; Corporate social responsibility; Ethical predispositions; Machiavellianism; Person-organization fit',\n",
       "  'Applicant attraction; Corporate social responsibility; Person-organization fit',\n",
       "  'Demographic similarity; Perceptions of leadership behaviors; Self-continuity; Status',\n",
       "  'Responses to sexual harassment; Same-sex sexual harassment; Self-esteem and sexual harassment; Sexual harassment'],\n",
       " 'Document Type': ['Article',\n",
       "  'Article in Press',\n",
       "  'Article',\n",
       "  'Article',\n",
       "  'Article',\n",
       "  'Article',\n",
       "  'Article',\n",
       "  'Conference Paper',\n",
       "  'Article',\n",
       "  'Article'],\n",
       " 'Access Type': ['nan',\n",
       "  'nan',\n",
       "  'nan',\n",
       "  'nan',\n",
       "  'nan',\n",
       "  'nan',\n",
       "  'nan',\n",
       "  'nan',\n",
       "  'nan',\n",
       "  'nan'],\n",
       " 'Source': ['Scopus',\n",
       "  'Scopus',\n",
       "  'Scopus',\n",
       "  'Scopus',\n",
       "  'Scopus',\n",
       "  'Scopus',\n",
       "  'Scopus',\n",
       "  'Scopus',\n",
       "  'Scopus',\n",
       "  'Scopus'],\n",
       " 'EID': ['2-s2.0-84976330164',\n",
       "  '2-s2.0-85044327934',\n",
       "  '2-s2.0-84914151176',\n",
       "  '2-s2.0-84938262134',\n",
       "  '2-s2.0-84927512246',\n",
       "  '2-s2.0-84867777363',\n",
       "  '2-s2.0-84865441494',\n",
       "  '2-s2.0-84863373088',\n",
       "  '2-s2.0-43949135205',\n",
       "  '2-s2.0-3843109921'],\n",
       " 'Author ID': '55428148200',\n",
       " 'Author': 'Zhang L.',\n",
       " 'Lab': 'School of Business Administration',\n",
       " 'ResearchInterest': 'Diversity management, Leadership, Power dynamics in organizations, Corporate social responsibility       ',\n",
       " 'Website': '',\n",
       " 'department': 'School of Business Administration(경영학부)'}"
      ]
     },
     "execution_count": 72,
     "metadata": {},
     "output_type": "execute_result"
    }
   ],
   "source": [
    "database[10]"
   ]
  },
  {
   "cell_type": "code",
   "execution_count": 73,
   "metadata": {},
   "outputs": [],
   "source": [
    "for i in database:\n",
    "    documents = {}\n",
    "    documents['Author'] = i['Author']\n",
    "    documents['Abstract'] = i['Abstract']\n",
    "    db.test1.insert_one(documents)"
   ]
  },
  {
   "cell_type": "code",
   "execution_count": 74,
   "metadata": {},
   "outputs": [],
   "source": [
    "test2 = db.test1.find()\n",
    "test3 = list(test2)"
   ]
  },
  {
   "cell_type": "code",
   "execution_count": 75,
   "metadata": {},
   "outputs": [
    {
     "data": {
      "text/html": [
       "<div>\n",
       "<style scoped>\n",
       "    .dataframe tbody tr th:only-of-type {\n",
       "        vertical-align: middle;\n",
       "    }\n",
       "\n",
       "    .dataframe tbody tr th {\n",
       "        vertical-align: top;\n",
       "    }\n",
       "\n",
       "    .dataframe thead th {\n",
       "        text-align: right;\n",
       "    }\n",
       "</style>\n",
       "<table border=\"1\" class=\"dataframe\">\n",
       "  <thead>\n",
       "    <tr style=\"text-align: right;\">\n",
       "      <th></th>\n",
       "      <th>Abstract</th>\n",
       "      <th>Author</th>\n",
       "      <th>_id</th>\n",
       "    </tr>\n",
       "  </thead>\n",
       "  <tbody>\n",
       "    <tr>\n",
       "      <th>0</th>\n",
       "      <td>[Entrepreneurs' decisions to exploit opportuni...</td>\n",
       "      <td>Choi Y.R.</td>\n",
       "      <td>5bed7c3d20c66c3b88e70b9f</td>\n",
       "    </tr>\n",
       "    <tr>\n",
       "      <th>1</th>\n",
       "      <td>[A key issue around putting the present-value ...</td>\n",
       "      <td>Chung K.</td>\n",
       "      <td>5bed7c3d20c66c3b88e70ba0</td>\n",
       "    </tr>\n",
       "    <tr>\n",
       "      <th>2</th>\n",
       "      <td>[Organizations use project teams to lower sear...</td>\n",
       "      <td>Gajendran R.S.</td>\n",
       "      <td>5bed7c3d20c66c3b88e70ba1</td>\n",
       "    </tr>\n",
       "    <tr>\n",
       "      <th>3</th>\n",
       "      <td>[This paper investigates information leakage f...</td>\n",
       "      <td>Jung K.</td>\n",
       "      <td>5bed7c3d20c66c3b88e70ba2</td>\n",
       "    </tr>\n",
       "    <tr>\n",
       "      <th>4</th>\n",
       "      <td>[Studies on the effects of corporate social re...</td>\n",
       "      <td>Kim M.</td>\n",
       "      <td>5bed7c3d20c66c3b88e70ba3</td>\n",
       "    </tr>\n",
       "  </tbody>\n",
       "</table>\n",
       "</div>"
      ],
      "text/plain": [
       "                                            Abstract           Author  \\\n",
       "0  [Entrepreneurs' decisions to exploit opportuni...        Choi Y.R.   \n",
       "1  [A key issue around putting the present-value ...         Chung K.   \n",
       "2  [Organizations use project teams to lower sear...   Gajendran R.S.   \n",
       "3  [This paper investigates information leakage f...          Jung K.   \n",
       "4  [Studies on the effects of corporate social re...           Kim M.   \n",
       "\n",
       "                        _id  \n",
       "0  5bed7c3d20c66c3b88e70b9f  \n",
       "1  5bed7c3d20c66c3b88e70ba0  \n",
       "2  5bed7c3d20c66c3b88e70ba1  \n",
       "3  5bed7c3d20c66c3b88e70ba2  \n",
       "4  5bed7c3d20c66c3b88e70ba3  "
      ]
     },
     "execution_count": 75,
     "metadata": {},
     "output_type": "execute_result"
    }
   ],
   "source": [
    "testdf = pd.DataFrame(test3)\n",
    "testdf.head()"
   ]
  },
  {
   "cell_type": "code",
   "execution_count": 76,
   "metadata": {},
   "outputs": [],
   "source": [
    "doc = []\n",
    "for i in testdf['Abstract']:\n",
    "    doc.extend(i)"
   ]
  },
  {
   "cell_type": "code",
   "execution_count": 77,
   "metadata": {},
   "outputs": [],
   "source": [
    "for idx, i in enumerate(testdf['Abstract']):\n",
    "    add = \"\".join(i)\n",
    "    testdf.iloc[idx]['Abstract'] = add"
   ]
  },
  {
   "cell_type": "code",
   "execution_count": 78,
   "metadata": {
    "scrolled": true
   },
   "outputs": [
    {
     "data": {
      "text/plain": [
       "'Entrepreneurs\\' decisions to exploit opportunitiesThis study examines whether the influence of family ownership on R&D investment varies depending on growth opportunities and business group membership. Using data on Korean firms over ten years (1998-2007), the study shows that family ownership is negatively related to R&D investment, but the relationship becomes positive when growth opportunities are present. The moderating effect, however, differs between independent family firms and family business groups. The positive influence that growth opportunities have on promoting R&D investment is diminished for affiliates of family business groups. These findings imply that family owners invest more in R&D when their family control goals are threatened by the loss of growth potential. The empirical results of this study and its behavioral decision-making model help to bridge the gap between the predictions of the family control perspective and agency theory in explaining R&D investment by family firms in an emerging economy. © 2014 Elsevier Inc.Opportunity exploitation is a necessary step in creating a successful business in the en- trepreneurial process, yet there has been little conceptual and empirical development of this issue in the literature. This study examines the decisions of entrepreneurs to begin exploiting business opportunities from a resource-based view. Our analysis of a sample of entrepreneurs whose businesses are located in incubators suggests that entrepreneurs are more likely to exploit opportunities when they perceive more knowledge of customer demand for the new product, more fully developed necessary technologies, greater managerial capability, and greater stakeholder support. Moreover, the findings of this study shed a light on a less empha- sized aspect of the resource-based view: the new product\\'s anticipated lead time acts as an enhancing moderator in entrepreneurs\\' exploitation decision policies. Implications for future research on opportunity exploitation are discussed. © Dean A. Shepherd 2014. All rights reserved.We theorize on the performance implications of the timing at which entrepreneurs stop exploring their business opportunities and start exploiting them. Using an optimal-stopping approach, wc characterize the time when exploitation should begin based primarily on when an entrepreneur\\'s ignorance has been sufficiently reduced through knowledge accumulation. This \"ignorance threshold\" captures a tradeoff between the time needed to increase legitimacy and the necessity to act now to minimize competition. Changes in legitimacy and competition arc based on how entrepreneurs manage their knowledge (tacit versus explicit) under differing degrees of novelty for the business opportunity. These changes, in turn, impact the performance and timing of opportunity exploitation. © Dean A. Shepherd 2014. All rights reserved.This study investigates how firm age and environmental adversity influence exploration and exploitation and whether the balance between them increases new product development. We also examine if new product development in new and mature firms leads to equivalent growth rates. Empirical results obtained from a survey of small- and medium-sized technology-based manufacturing firms in Korea show that while relative exploration generally remains lower in mature firms than in new firms, it more rapidly increases in mature firms when they operate in adverse environments. Interestingly, our results show that mature firms achieve lower growth rates through new product development than new firms in adverse environments. These empirical findings advance our understanding of the age-dependent antecedents and consequences of new product development. © 1988-2012 IEEE.Emerging market firms (EMFs) are increasingly relying on innovation to find their competitive advantage, but our understanding of how institutional change affects firm innovation has been limited. We analyzed Korean manufacturing firms from 1994 to 2006 to test the proposition that market-oriented institutional change in an emerging economy alleviates firms\\' financing constraints and monitoring problems and improves the effectiveness of their innovation activities. Institutional evolution in the economy was found to affect Korean business groups and independent firms differently. Institutional change reduced the financing constraints on independent firms more than for business group affiliates in R&D investment. Independent firms, however, appeared less capable than group affiliates of translating the benefits of improved institutional environments into efficient R&D investment. This asymmetry may lead to a wider gap in the efficiency of R&D investment between business group affiliates and independent firms. © 2013 Elsevier Inc.Existing governance theories offer contrasting views on the potential effect that controlling owners have on a firm\\'s innovation investment decisions: the stewardship perspective suggests a positive influence, whereas the principal-principal (PP) conflict perspective posits a negative influence. In this study, we attempt to reconcile these views. We propose that business group affiliation determines the extent to which the interests of controlling owners and affiliated firms are congruent, and may motivate controlling owners to behave opportunistically. Our analysis of Korean companies shows that controlling owners of independent firms significantly promote R&D investments, particularly when growth opportunities are plentiful. However, the relationship becomes much weaker for business group affiliates. © 2012 IEEE.We theorize on the performance implications of the timing at which entrepreneurs stop exploring their business opportunities and start exploiting them. Using an optimal-stopping approach, we characterize the time when exploitation should begin based primarily on when an entrepreneur\\'s ignorance has been sufficiently reduced through knowledge accumulation. This \"ignorance threshold\" captures a tradeoff between the time needed to increase legitimacy and the necessity to act now to minimize competition. Changes in legitimacy and competition are based on how entrepreneurs manage their knowledge (tacit versus explicit) under differing degrees of novelty for the business opportunity. These changes, in turn, impact the performance and timing of opportunity exploitation. © 2006 Elsevier Inc. All rights reserved.This study attempts to reveal how macroeconomic and technology policies that encompass the opportunity and individual drivers of entrepreneurship explain the dynamics of new firm formation in a country. To do so we rely on the Schumpeterian, industrial organization, and labor economics traditions of entrepreneurship, and performed an exploratory test with longitudinal U.S. data from 1968 to 1993. The results of this study suggest that R&D investments, patents, economic concentration, pro-competition policy, and labor mobility are important areas in which government policy can influence the intensity of new firm formation. © Springer 2006.Using verbal protocol and conjoint analyses, this study examines how stakeholders assess an organization in deciding whether to provide their support to it. The authors find that stakeholders\\' support depends on their perceptions of an organization\\'s age and other dimensions of newness related to addressing management challenges of adaptation - the entrepreneurial problem, the engineering problem, and the administrative problem. Stakeholder support is more likely for those organizations that are old, cognitively legitimate, affectively congruent, reliable, accountable, and strategically flexible. The authors conclude with theoretical implications for scholars and practical implications for resource acquisition in various contexts of entrepreneurship. © 2005 Southern Management Association. All rights reserved.This study investigates how entrepreneurial policies that encompass opportunity, individual, and resource aspects of entrepreneurship explain dynamics of new firm formation in a country. We rely on the Schumpeterian, industrial organization economics, and organizational ecology traditions, and performed an exploratory test with a longitudinal U.S. data (1968-1993). The results of this study suggest that technological knowledge capital, economic opportunity structure, labor mobility, and a nation\\'s carrying capacity for entrepreneurial activities are important areas in which government policy can positively influence the intensity of new firm formation. © 2004 IEEE.Opportunity exploitation is a necessary step in creating a successful business in the entrepreneurial process, yet there has been little conceptual and empirical development of this issue in the literature. This study examines the decisions of entrepreneurs to begin exploiting business opportunities from a resource-based view. Our analysis of a sample of entrepreneurs whose businesses are located in incubators suggests that entrepreneurs are more likely to exploit opportunities when they perceive more knowledge of customer demand for the new product, more fully developed necessary technologies, greater managerial capability, and greater stakeholder support. Moreover, the findings of this study shed a light on a less emphasized aspect of the resource-based view: the new product\\'s anticipated lead time acts as an enhancing moderator in entrepreneurs\\' exploitation decision policies. Implications for future research on opportunity exploitation are discussed. © 2003 Elsevier Inc. All rights reserved.YOUNGBAE KIM IS AN ASSISTANT professor of management and policy in the Korea Advanced Institute of Science and Technology, Taejon, South Korea and Youngrok Choi is a researcher in the nuclear policy division of the Korea Atomic Energy Research Institute, Taejon, Korea. This study attempts to identify the patterns of strategic behaviour of small firms in Korea in conjunction with their performance. Based on the data from 79 small firms across four industries, the results reveal that there appear to be four common strategic attributes cost efficiency, innovative differentiation, marketing differentiation, and asset parsimony and five strategic types of firms which have distinct combinations of these strategic attributes innovative, versatile, marginal, and reactive types. Each type of firm was also found to have different organisational characteristics and performance level. Finally, this study discusses the comparative management issue in the field of strategic management and offers some practical implications for managers of small firms. © 1994, Sage Publications. All rights reserved.'"
      ]
     },
     "execution_count": 78,
     "metadata": {},
     "output_type": "execute_result"
    }
   ],
   "source": [
    "testdf.iloc[0]['Abstract']"
   ]
  },
  {
   "cell_type": "code",
   "execution_count": 79,
   "metadata": {},
   "outputs": [],
   "source": [
    "from nltk.stem.wordnet import WordNetLemmatizer\n",
    "from nltk.tokenize import RegexpTokenizer\n",
    "\n",
    "def docs_preprocessor(docs):\n",
    "    tokenizer = RegexpTokenizer(r'\\w+')\n",
    "    docs = docs.lower()  # Convert to lowercase.\n",
    "    docs = tokenizer.tokenize(docs)  # Split into words.\n",
    "\n",
    "    # Remove numbers, but not words that contain numbers.\n",
    "    docs = [token for token in docs if not token.isdigit()]\n",
    "    \n",
    "    # Remove words that are only one character.\n",
    "    docs = [token for token in docs if len(token) > 3]\n",
    "    \n",
    "    # Lemmatize all words in documents.\n",
    "    lemmatizer = WordNetLemmatizer()\n",
    "    docs = [lemmatizer.lemmatize(token) for token in docs]\n",
    "  \n",
    "    return docs"
   ]
  },
  {
   "cell_type": "code",
   "execution_count": 80,
   "metadata": {},
   "outputs": [],
   "source": [
    "for idx, i in enumerate(testdf['Abstract']):\n",
    "    add = docs_preprocessor(i)\n",
    "    testdf.iloc[idx]['Abstract'] = add"
   ]
  },
  {
   "cell_type": "code",
   "execution_count": 81,
   "metadata": {},
   "outputs": [],
   "source": [
    "#Import all the dependencies\n",
    "from gensim.models.doc2vec import Doc2Vec, TaggedDocument\n",
    "from nltk.tokenize import word_tokenize"
   ]
  },
  {
   "cell_type": "code",
   "execution_count": 82,
   "metadata": {},
   "outputs": [],
   "source": [
    "zipdata = zip(testdf['Author'],testdf['Abstract'])"
   ]
  },
  {
   "cell_type": "code",
   "execution_count": 83,
   "metadata": {},
   "outputs": [],
   "source": [
    "tagged_data = [TaggedDocument(words=_d, tags=[str(i)]) for i, _d in zipdata]"
   ]
  },
  {
   "cell_type": "code",
   "execution_count": 114,
   "metadata": {
    "scrolled": true
   },
   "outputs": [
    {
     "data": {
      "text/plain": [
       "TaggedDocument(words=['this', 'paper', 'investigates', 'information', 'leakage', 'from', 'analyst', 'report', 'prior', 'their', 'public', 'release', 'previous', 'study', 'document', 'abnormal', 'trading', 'institution', 'short', 'selling', 'before', 'announcement', 'recommendation', 'change', 'such', 'prerelease', 'abnormal', 'trading', 'interpreted', 'evidence', 'information', 'leakage', 'from', 'analyst', 'report', 'however', 'sophisticated', 'investor', 'obtain', 'information', 'similar', 'what', 'analyst', 'have', 'from', 'other', 'source', 'abnormal', 'prerelease', 'trading', 'pattern', 'would', 'observed', 'even', 'there', 'were', 'information', 'leakage', 'from', 'analyst', 'report', 'this', 'paper', 'using', 'unique', 'data', 'from', 'korea', 'aim', 'determine', 'whether', 'direct', 'causal', 'link', 'between', 'recommendation', 'change', 'prerelease', 'trading', 'exists', 'comparing', 'trading', 'behavior', 'client', 'investor', 'with', 'client', 'investor', 'find', 'that', 'abnormal', 'prerelease', 'trading', 'client', 'investor', 'especially', 'client', 'institution', 'earlier', 'timing', 'greater', 'magnitude', 'than', 'that', 'other', 'investor', 'group', 'supporting', 'information', 'leakage', 'hypothesis', 'further', 'find', 'that', 'buying', 'client', 'institution', 'client', 'large', 'individual', 'positively', 'associated', 'with', 'firm', 'analyst', 'earnings', 'forecast', 'change', 'variable', 'that', 'influence', 'formulation', 'recommendation', 'change', 'their', 'impact', 'caaa', 'conflict', 'interest', 'information', 'sharing', 'evidence', 'from', 'affiliated', 'analyst', 'performance', 'korea', 'this', 'paper', 'examines', 'induced', 'income', 'shifting', 'behavior', 'among', 'affiliated', 'firm', 'korean', 'business', 'group', 'chaebols', 'korean', 'corporate', 'income', 'doe', 'require', 'consolidated', 'return', 'business', 'group', 'with', 'large', 'number', 'affiliated', 'member', 'firm', 'have', 'incentive', 'shift', 'income', 'across', 'member', 'firm', 'reduce', 'overall', 'tax', 'group', 'large', 'number', 'korean', 'company', 'that', 'subject', 'external', 'audit', 'perform', 'univariate', 'multivariate', 'regression', 'analysis', 'income', 'shifting', 'behavior', 'chaebol', 'firm', 'compared', 'with', 'chaebol', 'control', 'firm', 'evidence', 'suggests', 'that', 'motivated', 'income', 'shifting', 'activity', 'exist', 'among', 'chaebol', 'firm', 'that', 'extent', 'income', 'shifting', 'found', 'depend', 'effect', 'cost', 'factor', 'such', 'earnings', 'leverage', 'cash', 'flow', 'right', 'controlling', 'shareholder', 'also', 'find', 'that', 'income', 'shifting', 'more', 'pronounced', 'chaebol', 'firm', 'where', 'control', 'cash', 'flow', 'divergence', 'relatively', 'large', 'suggesting', 'that', 'income', 'shifting', 'affected', 'controlling', 'shareholder', 'opportunism', 'study', 'provides', 'some', 'insight', 'intra', 'group', 'income', 'shifting', 'activity', 'where', 'research', 'limited', 'blackwell', 'publishing', 'stockpiling', 'liquid', 'asset', 'cash', 'decrease', 'possibility', 'firm', 'falling', 'into', 'financial', 'distress', 'becoming', 'technically', 'insolvent', 'such', 'stockpiling', 'provides', 'incentive', 'firm', 'increase', 'their', 'leverage', 'because', 'cash', 'holding', 'decrease', 'potential', 'financial', 'distress', 'cost', 'increase', 'target', 'debt', 'equity', 'ratio', 'this', 'paper', 'examines', 'whether', 'firm', 'excessive', 'cash', 'holding', 'enhance', 'explanatory', 'power', 'marginal', 'rate', 'change', 'leverage', 'result', 'show', 'that', 'high', 'taxed', 'firm', 'with', 'excess', 'cash', 'more', 'likely', 'increase', 'their', 'leverage', 'increase', 'leverage', 'discipline', 'entrenched', 'manager', 'discretionary', 'free', 'cash', 'excess', 'cash', 'simply', 'planned', 'future', 'investment', 'either', 'also', 'find', 'that', 'result', 'still', 'hold', 'even', 'when', 'financial', 'crisis', 'period', 'excluded', 'that', 'debt', 'financing', 'behavior', 'change', 'with', 'level', 'statutory', 'rate', 'these', 'finding', 'provide', 'evidence', 'that', 'firm', 'with', 'sufficient', 'cash', 'more', 'likely', 'take', 'advantage', 'interest', 'shield', 'this', 'chapter', 'contrast', 'effect', 'main', 'bank', 'firm', 'tie', 'performance', 'firm', 'changing', 'economic', 'environment', 'japanese', 'financial', 'system', 'dual', 'stake', 'main', 'bank', 'stockholder', 'creditor', 'positive', 'effect', 'stock', 'return', 'growth', 'period', 'negative', 'effect', 'contraction', 'period', 'empirical', 'result', 'suggest', 'that', 'current', 'problem', 'japanese', 'economy', 'traced', 'back', 'failure', 'corporate', 'governance', 'that', 'cast', 'dark', 'cloud', 'japanese', 'economy', 'after', 'bursting', 'economy', 'emerald', 'group', 'publishing', 'limited', 'this', 'paper', 'examines', 'role', 'sophisticated', 'investor', 'pricing', 'future', 'earnings', 'korea', 'using', 'future', 'earnings', 'response', 'coefficient', 'ferc', 'model', 'test', 'effect', 'analyst', 'following', 'institutional', 'ownership', 'informativeness', 'stock', 'return', 'future', 'earnings', 'find', 'that', 'informativeness', 'stock', 'return', 'future', 'earnings', 'measured', 'ferc', 'increase', 'with', 'analyst', 'following', 'institutional', 'ownership', 'also', 'investigate', 'recently', 'introduced', 'regulation', 'fair', 'disclosure', 'korea', 'affect', 'informativeness', 'stock', 'return', 'future', 'earnings', 'relation', 'with', 'analyst', 'following', 'institutional', 'ownership', 'result', 'show', 'that', 'regulation', 'decrease', 'ferc', 'general', 'relation', 'with', 'analyst', 'following', 'suggesting', 'that', 'analyst', 'superior', 'ability', 'impaired', 'after', 'regulation', 'blackwell', 'publishing', 'dependent', 'variable', 'used', 'jung', 'ass', 'effect', 'ownership', 'structure', 'korean', 'chaebols', 'internal', 'fund', 'allocation', 'priori', 'misspecified', 'context', 'their', 'research', 'they', 'were', 'designed', 'applied', 'when', 'studying', 'diversified', 'firm', 'group', 'consisting', 'legally', 'independent', 'entity', 'condition', 'under', 'which', 'this', 'misspecification', 'effect', 'their', 'conclusion', 'discussed', 'analyzing', 'their', 'data', 'with', 'more', 'appropriate', 'internal', 'fund', 'allocation', 'variable', 'leaf', 'their', 'conclusion', 'presence', 'tunnelling', 'effect', 'intact', 'though', 'paint', 'partly', 'different', 'picture', 'internal', 'allocation', 'such', 'world', 'scientific', 'publishing', 'center', 'pacific', 'basin', 'business', 'economics', 'finance', 'research', 'examine', 'relationship', 'between', 'controlling', 'shareholder', 'cash', 'flow', 'right', 'fund', 'transfer', 'internal', 'capital', 'market', 'within', 'korean', 'business', 'group', 'chaebols', 'during', 'period', 'from', 'find', 'that', 'fund', 'allocation', 'firm', 'where', 'controlling', 'shareholder', 'have', 'high', 'cash', 'flow', 'right', 'better', 'aligned', 'with', 'investment', 'opportunity', 'therefore', 'more', 'efficient', 'than', 'firm', 'where', 'they', 'have', 'cash', 'flow', 'right', 'this', 'effect', 'stronger', 'when', 'they', 'have', 'controlling', 'power', 'large', 'enough', 'expropriate', 'minority', 'shareholder', 'however', 'during', 'financial', 'crisis', 'period', 'fund', 'simply', 'move', 'toward', 'firm', 'where', 'controlling', 'shareholder', 'have', 'high', 'cash', 'flow', 'right', 'result', 'evidence', 'tunneling', 'behavior', 'internal', 'capital', 'market', 'within', 'chaebol', 'that', 'ownership', 'structure', 'distorts', 'allocation', 'internal', 'fund', 'such', 'benefit', 'controlling', 'shareholder', 'springer', 'science', 'business', 'medium', 'manufactured', 'netherlands', 'this', 'study', 'examines', 'motive', 'stock', 'repurchase', 'examine', 'four', 'hypothesis', 'undervaluation', 'signaling', 'free', 'cash', 'flow', 'optimal', 'leverage', 'hypothesis', 'using', 'both', 'short', 'long', 'market', 'reaction', 'find', 'that', 'undervaluation', 'hypothesis', 'most', 'consistent', 'with', 'both', 'short', 'long', 'test', 'improvement', 'operating', 'performance', 'following', 'repurchase', 'suggests', 'signaling', 'hypothesis', 'however', 'signaling', 'hypothesis', 'supported', 'only', 'long', 'test', 'short', 'test', 'suggesting', 'that', 'market', 'underreaction', 'exists', 'signaling', 'initially', 'control', 'variable', 'target', 'purchase', 'ratio', 'ownership', 'largest', 'shareholder', 'found', 'significant', 'suggesting', 'that', 'magnitude', 'repurchase', 'ownership', 'increase', 'motive', 'largest', 'shareholder', 'also', 'important', 'factor', 'that', 'explain', 'repurchase', 'world', 'scientific', 'publishing', 'center', 'pacific', 'basin', 'business', 'economics', 'finance', 'research', 'this', 'study', 'examines', 'association', 'between', 'keiretsu', 'affiliation', 'corporate', 'equity', 'value', 'japan', 'hypothesize', 'that', 'ceteris', 'paribus', 'keiretsu', 'firm', 'value', 'measured', 'tobin', 'higher', 'than', 'keiretsu', 'firm', 'value', 'reflecting', 'improved', 'active', 'monitoring', 'role', 'keiretsu', 'arrangement', 'empirical', 'test', 'supportive', 'after', 'controlling', 'other', 'financial', 'ownership', 'variable', 'result', 'also', 'show', 'that', 'keiretsu', 'firm', 'value', 'positively', 'related', 'strength', 'keiretsu', 'this', 'additional', 'evidence', 'that', 'monitoring', 'provided', 'keiretsu', 'relationship', 'doe', 'indeed', 'increase', 'corporate', 'equity', 'value', 'that', 'source', 'increase', 'value', 'merely', 'result', 'cross', 'shareholding', 'inherent', 'keiretsu', 'arrangement', 'however', 'effect', 'keiretsu', 'membership', 'influence', 'market', 'equity', 'value', 'apparently', 'diminished', 'since', 'post', 'market', 'crash', 'period', 'japan', 'world', 'scientific', 'publishing', 'center', 'pacific', 'basin', 'business', 'economics', 'finance', 'research', 'this', 'study', 'examines', 'difference', 'characteristic', 'analyst', 'forecast', 'earnings', 'keiretsu', 'keiretsu', 'firm', 'japan', 'japanese', 'industrial', 'organization', 'characterized', 'enterprise', 'grouping', 'keiretsu', 'composed', 'firm', 'different', 'industry', 'interrelated', 'through', 'cross', 'holding', 'ownership', 'strong', 'interrelation', 'japanese', 'keiretsu', 'have', 'been', 'shown', 'increase', 'monitoring', 'managerial', 'performance', 'alternative', 'view', 'keiretsu', 'stewardship', 'suggests', 'exclusionary', 'environment', 'within', 'keiretsu', 'creates', 'information', 'monopoly', 'resulting', 'greater', 'information', 'asymmetry', 'between', 'inside', 'outside', 'constituent', 'these', 'view', 'provide', 'opposing', 'prediction', 'keiretsu', 'grouping', 'potentially', 'affect', 'characteristic', 'earnings', 'forecast', 'made', 'analyst', 'increased', 'monitoring', 'will', 'improve', 'forecast', 'characteristic', 'earnings', 'while', 'opposite', 'true', 'under', 'information', 'monopoly', 'result', 'suggest', 'that', 'forecast', 'accuracy', 'dispersion', 'higher', 'lower', 'keiretsu', 'firm', 'than', 'keiretsu', 'firm', 'supporting', 'monitoring', 'role', 'keiretsu', 'result', 'also', 'show', 'that', 'keiretsu', 'firm', 'forecast', 'characteristic', 'related', 'strength', 'keiretsu', 'relationship', 'providing', 'further', 'evidence', 'that', 'indeed', 'keiretsu', 'relationship', 'that', 'increase', 'monitoring', 'management', 'which', 'ultimately', 'improves', 'accuracy', 'dispersion', 'analyst', 'forecast', 'stock', 'market', 'liberalization', 'decision', 'country', 'government', 'allow', 'foreigner', 'security', 'that', 'country', 'capital', 'market', 'this', 'study', 'examines', 'liberalization', 'korean', 'stock', 'market', 'affected', 'stock', 'price', 'behavior', 'changed', 'role', 'accounting', 'information', 'investment', 'decision', 'korean', 'stock', 'market', 'opened', 'door', 'foreign', 'investment', 'prior', 'this', 'market', 'inefficiency', 'such', 'superfluous', 'movement', 'stock', 'price', 'with', 'industry', 'market', 'index', 'investment', 'based', 'rumor', 'speculation', 'were', 'widespread', 'since', 'opening', 'stock', 'market', 'foreigner', 'more', 'rational', 'pricing', 'behavior', 'emerged', 'this', 'setting', 'provides', 'unique', 'opportunity', 'investigate', 'stock', 'price', 'behavior', 'changed', 'with', 'market', 'liberalization', 'what', 'role', 'accounting', 'information', 'this', 'process', 'result', 'indicate', 'that', 'movement', 'behavior', 'stock', 'price', 'industry', 'decreased', 'stock', 'price', 'differentiation', 'based', 'individual', 'firm', 'characteristic', 'increased', 'after', 'market', 'liberalization', 'result', 'also', 'show', 'that', 'explanatory', 'power', 'accounting', 'number', 'increased', 'after', 'market', 'liberalization', 'overall', 'result', 'imply', 'that', 'foreign', 'investor', 'contributed', 'improvement', 'market', 'efficiency', 'with', 'opening', 'capital', 'market', 'korea', 'believe', 'that', 'result', 'provide', 'useful', 'evidence', 'other', 'capital', 'market', 'that', 'similar', 'situation', 'elsevier', 'right', 'reserved', 'review', 'existing', 'human', 'resource', 'allocation', 'model', 'firm', 'show', 'that', 'there', 'major', 'shortcoming', 'previous', 'mathematical', 'model', 'first', 'linear', 'programming', 'model', 'cannot', 'handle', 'multiple', 'objective', 'human', 'resource', 'allocation', 'problem', 'firm', 'second', 'goal', 'programming', 'multiple', 'objective', 'linear', 'programming', 'molp', 'cannot', 'deal', 'with', 'organizational', 'differentiation', 'problem', 'reduce', 'complexity', 'computing', 'trade', 'offs', 'among', 'multiple', 'objective', 'this', 'paper', 'adopts', 'fuzzy', 'approach', 'solve', 'human', 'resource', 'allocation', 'problem', 'solution', 'procedure', 'proposed', 'systematically', 'identify', 'satisfying', 'selection', 'possible', 'staffing', 'solution', 'that', 'reach', 'best', 'compromise', 'value', 'multiple', 'objective', 'multiple', 'constraint', 'level', 'fuzzy', 'solution', 'help', 'firm', 'make', 'realistic', 'decision', 'regarding', 'human', 'resource', 'allocation', 'problem', 'well', 'firm', 'overall', 'strategic', 'resource', 'management', 'when', 'environmental', 'factor', 'uncertain', 'kluwer', 'academic', 'publisher', 'this', 'paper', 'examines', 'relationship', 'between', 'corporate', 'ownership', 'structure', 'korea', 'informativeness', 'earnings', 'korean', 'ownership', 'structure', 'characterized', 'dominance', 'primary', 'owner', 'also', 'participates', 'firm', 'management', 'existing', 'literature', 'offer', 'alternative', 'perspective', 'behavior', 'such', 'owner', 'manager', 'firm', 'convergence', 'interest', 'management', 'entrenchment', 'hypothesis', 'tested', 'alternative', 'view', 'they', 'reflected', 'earnings', 'informativeness', 'result', 'show', 'that', 'earnings', 'more', 'informative', 'holding', 'owner', 'increase', 'supporting', 'convergence', 'interest', 'explanation', 'owner', 'manager', 'structure', 'second', 'examine', 'role', 'institutional', 'investor', 'blockholders', 'hand', 'institution', 'blockholders', 'have', 'incentive', 'actively', 'monitor', 'management', 'however', 'other', 'hand', 'institution', 'blockholders', 'render', 'effective', 'monitoring', 'because', 'they', 'lack', 'expertise', 'suffer', 'from', 'freerider', 'problem', 'strategically', 'ally', 'with', 'management', 'these', 'opposing', 'view', 'predict', 'conflicting', 'sign', 'relation', 'between', 'earnings', 'informativeness', 'holding', 'institution', 'blockholders', 'find', 'that', 'earnings', 'informativeness', 'increase', 'with', 'holding', 'institution', 'blockholders', 'this', 'support', 'active', 'monitoring', 'role', 'institution', 'blockholders', 'finally', 'test', 'relationship', 'between', 'earnings', 'informativeness', 'chaebol', 'korean', 'business', 'group', 'affiliated', 'company', 'that', 'nonchaebol', 'affiliated', 'company', 'find', 'significant', 'relationship', 'between', 'owner', 'largest', 'shareholder', 'holding', 'earnings', 'informativeness', 'this', 'provides', 'evidence', 'that', 'chaebol', 'company', 'negative', 'effect', 'management', 'entrenchment', 'expropriation', 'minority', 'shareholder', 'offset', 'positive', 'effect', 'this', 'phenomenon', 'stronger', 'chaebol', 'affiliated', 'company', 'than', 'nonchaebol', 'affiliate', 'university', 'illinois', 'right', 'reserved', 'this', 'paper', 'examines', 'effect', 'japanese', 'corporate', 'grouping', 'keiretsu', 'informativeness', 'earnings', 'keiretsu', 'firm', 'maintain', 'close', 'financial', 'personal', 'tie', 'through', 'cross', 'shareholding', 'credit', 'holding', 'interlocking', 'corporate', 'directorate', 'various', 'business', 'transaction', 'propose', 'that', 'strong', 'interrelation', 'keiretsu', 'ownership', 'structure', 'enhance', 'informativeness', 'earnings', 'through', 'efficient', 'monitoring', 'managerial', 'performance', 'empirical', 'result', 'show', 'that', 'keiretsu', 'firm', 'have', 'higher', 'earnings', 'response', 'coefficient', 'than', 'those', 'keiretsu', 'firm', 'earnings', 'response', 'coefficient', 'increase', 'strength', 'keiretsu', 'relationship', 'increase', 'discretionary', 'accrual', 'keiretsu', 'firm', 'smaller', 'than', 'discretionary', 'accrual', 'keiretsu', 'firm', 'these', 'result', 'suggest', 'that', 'monitoring', 'ability', 'keiretsu', 'improves', 'informativeness', 'earnings', 'blackwell', 'publisher'], tags=[' Jung K.'])"
      ]
     },
     "execution_count": 114,
     "metadata": {},
     "output_type": "execute_result"
    }
   ],
   "source": [
    "tagged_data[3]"
   ]
  },
  {
   "cell_type": "code",
   "execution_count": 130,
   "metadata": {},
   "outputs": [
    {
     "name": "stderr",
     "output_type": "stream",
     "text": [
      "/Users/seungheondoh/anaconda3/envs/python3.6/lib/python3.6/site-packages/gensim/models/doc2vec.py:570: UserWarning: The parameter `size` is deprecated, will be removed in 4.0.0, use `vector_size` instead.\n",
      "  warnings.warn(\"The parameter `size` is deprecated, will be removed in 4.0.0, use `vector_size` instead.\")\n"
     ]
    }
   ],
   "source": [
    "max_epochs = 1000\n",
    "vec_size = 100\n",
    "alpha = 0.025\n",
    "\n",
    "model = Doc2Vec(size=vec_size,\n",
    "                alpha=alpha, \n",
    "                min_alpha=0.00025,\n",
    "                min_count=5,\n",
    "                dm =2)\n",
    "  \n",
    "model.build_vocab(tagged_data)"
   ]
  },
  {
   "cell_type": "code",
   "execution_count": 131,
   "metadata": {},
   "outputs": [
    {
     "data": {
      "text/plain": [
       "[' Kim K.M.']"
      ]
     },
     "execution_count": 131,
     "metadata": {},
     "output_type": "execute_result"
    }
   ],
   "source": [
    "tagged_data[155].tags"
   ]
  },
  {
   "cell_type": "code",
   "execution_count": 132,
   "metadata": {},
   "outputs": [
    {
     "name": "stderr",
     "output_type": "stream",
     "text": [
      "/Users/seungheondoh/anaconda3/envs/python3.6/lib/python3.6/site-packages/gensim/matutils.py:737: FutureWarning: Conversion of the second argument of issubdtype from `int` to `np.signedinteger` is deprecated. In future, it will be treated as `np.int64 == np.dtype(int).type`.\n",
      "  if np.issubdtype(vec.dtype, np.int):\n"
     ]
    },
    {
     "data": {
      "text/plain": [
       "[(' Seo J.', 0.33653369545936584),\n",
       " ('Kim B.', 0.3062218725681305),\n",
       " (' Lim H.', 0.289722204208374),\n",
       " (' Oh H.', 0.28411999344825745),\n",
       " (' Kim T.', 0.2294105887413025),\n",
       " (' Choi S.-D.', 0.22610577940940857),\n",
       " (' Kwon M.-S.', 0.22364696860313416),\n",
       " (' Rohde J.-U.', 0.2215106040239334),\n",
       " (' Nam B.', 0.20826035737991333),\n",
       " (' Greene E.C.', 0.1893749237060547)]"
      ]
     },
     "execution_count": 132,
     "metadata": {},
     "output_type": "execute_result"
    }
   ],
   "source": [
    "model.docvecs.most_similar(' Kim K.M.')"
   ]
  },
  {
   "cell_type": "code",
   "execution_count": 136,
   "metadata": {
    "scrolled": true
   },
   "outputs": [
    {
     "name": "stderr",
     "output_type": "stream",
     "text": [
      "/Users/seungheondoh/anaconda3/envs/python3.6/lib/python3.6/site-packages/gensim/matutils.py:737: FutureWarning: Conversion of the second argument of issubdtype from `int` to `np.signedinteger` is deprecated. In future, it will be treated as `np.int64 == np.dtype(int).type`.\n",
      "  if np.issubdtype(vec.dtype, np.int):\n"
     ]
    },
    {
     "data": {
      "text/plain": [
       "[('nanodevices', 0.4174146354198456),\n",
       " ('interim', 0.3800356984138489),\n",
       " ('trip', 0.36958351731300354),\n",
       " ('notice', 0.36271917819976807),\n",
       " ('tetrabromobisphenol', 0.360059916973114),\n",
       " ('metrology', 0.3521098792552948),\n",
       " ('weinheimreplacing', 0.3510524034500122),\n",
       " ('tengs', 0.35002294182777405),\n",
       " ('baby', 0.3471795320510864),\n",
       " ('decipher', 0.34347519278526306),\n",
       " ('adic', 0.3408907651901245),\n",
       " ('sint', 0.339300274848938),\n",
       " ('tvws', 0.3375755250453949),\n",
       " ('lithization', 0.33545324206352234),\n",
       " ('serving', 0.3334084451198578),\n",
       " ('ahmad', 0.333331435918808),\n",
       " ('xeno', 0.33174771070480347),\n",
       " ('justification', 0.33159327507019043),\n",
       " ('interstellar', 0.3309139013290405),\n",
       " ('gas', 0.33050692081451416),\n",
       " ('aromatic', 0.32838523387908936),\n",
       " ('outdiffusion', 0.3280538320541382),\n",
       " ('zheng', 0.32702529430389404),\n",
       " ('calix', 0.32692578434944153),\n",
       " ('distillation', 0.32656729221343994),\n",
       " ('unusable', 0.32546454668045044),\n",
       " ('codeletion', 0.32539698481559753),\n",
       " ('enormously', 0.32477104663848877),\n",
       " ('detectability', 0.32360973954200745),\n",
       " ('reassemble', 0.3203345537185669)]"
      ]
     },
     "execution_count": 136,
     "metadata": {},
     "output_type": "execute_result"
    }
   ],
   "source": [
    "model.wv.most_similar('emotional', topn=30)"
   ]
  },
  {
   "cell_type": "markdown",
   "metadata": {},
   "source": [
    "### 앞으로 할것\n",
    "\n",
    "- 단어 전처리  => 승헌\n",
    "- 모형 이해 및 파라미터 튜닝 => 승헌, 지훈\n",
    "---------\n",
    "- Keyword -> Professor 기능구현\n",
    "---------\n",
    "- word2vec, doc2vec, Evaluation을 어떻게 할것인가. = 지훈"
   ]
  },
  {
   "cell_type": "code",
   "execution_count": null,
   "metadata": {},
   "outputs": [],
   "source": []
  }
 ],
 "metadata": {
  "kernelspec": {
   "display_name": "Python 3",
   "language": "python",
   "name": "python3"
  },
  "language_info": {
   "codemirror_mode": {
    "name": "ipython",
    "version": 3
   },
   "file_extension": ".py",
   "mimetype": "text/x-python",
   "name": "python",
   "nbconvert_exporter": "python",
   "pygments_lexer": "ipython3",
   "version": "3.6.6"
  }
 },
 "nbformat": 4,
 "nbformat_minor": 2
}
