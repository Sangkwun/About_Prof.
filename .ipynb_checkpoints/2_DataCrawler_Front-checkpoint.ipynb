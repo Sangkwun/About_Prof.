{
 "cells": [
  {
   "cell_type": "code",
   "execution_count": 2,
   "metadata": {},
   "outputs": [],
   "source": [
    "import requests\n",
    "import json\n",
    "from bs4 import BeautifulSoup\n",
    "import time\n",
    "import re\n",
    "import pandas as pd\n",
    "import numpy as np\n",
    "from pymongo import MongoClient"
   ]
  },
  {
   "cell_type": "code",
   "execution_count": 3,
   "metadata": {},
   "outputs": [],
   "source": [
    "url = \"http://scholarworks.unist.ac.kr/browse-researcher\"\n",
    "data = {\n",
    "    \"sortType\": \"English\",\n",
    "    \"page\": 1,\n",
    "    \"offset\": 0\n",
    "}"
   ]
  },
  {
   "cell_type": "code",
   "execution_count": 4,
   "metadata": {},
   "outputs": [],
   "source": [
    "## 데이터 정보를 보내지 않았다!\n",
    "r = requests.get(url, params=data)\n",
    "text = r.text\n",
    "soup = BeautifulSoup(text, 'lxml')"
   ]
  },
  {
   "cell_type": "code",
   "execution_count": 5,
   "metadata": {},
   "outputs": [
    {
     "data": {
      "text/plain": [
       "[<li>\n",
       " <a href=\"researcher-profile?ep=2741\">Ahn, Sangjoon\n",
       " \n",
       " \t\t\t\t\t\t</a>\n",
       " </li>, <li>\n",
       " <a href=\"researcher-profile?ep=2781\">Amblard, Francois\n",
       " \n",
       " \t\t\t\t\t\t</a>\n",
       " </li>, <li>\n",
       " <a href=\"researcher-profile?ep=2641\">An, Kwangjin\n",
       " \n",
       " \t\t\t\t\t\t</a>\n",
       " </li>, <li>\n",
       " <a href=\"researcher-profile?ep=1881\">Au, Tsz-Chiu\n",
       " \n",
       " \t\t\t\t\t\t</a>\n",
       " </li>, <li>\n",
       " <a href=\"researcher-profile?ep=2041\">Bae, Hantaek\n",
       " \n",
       " \t\t\t\t\t\t</a>\n",
       " </li>]"
      ]
     },
     "execution_count": 5,
     "metadata": {},
     "output_type": "execute_result"
    }
   ],
   "source": [
    "li = soup.findAll(\"li\")[16:76]\n",
    "li[0:5]"
   ]
  },
  {
   "cell_type": "code",
   "execution_count": 6,
   "metadata": {},
   "outputs": [],
   "source": [
    "link = []\n",
    "name = []\n",
    "\n",
    "def makelink(pg):\n",
    "    url = \"http://scholarworks.unist.ac.kr/browse-researcher\"\n",
    "    data = {\n",
    "        \"sortType\": \"English\",\n",
    "        \"page\": pg,\n",
    "        \"offset\": 0\n",
    "    }\n",
    "    r = requests.get(url, params=data)\n",
    "    text = r.text\n",
    "    soup = BeautifulSoup(text, 'lxml')\n",
    "    for i in soup.findAll(\"li\")[16:76]:\n",
    "        link.append(i.find(\"a\")['href'])\n",
    "        name.append(i.getText().replace(\"\\n\",\"\").replace(\"\\r\",\"\").replace(\"\\t\",\"\"))"
   ]
  },
  {
   "cell_type": "code",
   "execution_count": 7,
   "metadata": {},
   "outputs": [],
   "source": [
    "for i in range(5):\n",
    "    makelink(i+1)"
   ]
  },
  {
   "cell_type": "code",
   "execution_count": 8,
   "metadata": {},
   "outputs": [],
   "source": [
    "def makelink6():\n",
    "    url = \"http://scholarworks.unist.ac.kr/browse-researcher\"\n",
    "    data = {\n",
    "        \"sortType\": \"English\",\n",
    "        \"page\": 6,\n",
    "        \"offset\": 0\n",
    "    }\n",
    "    r = requests.get(url, params=data)\n",
    "    text = r.text\n",
    "    soup = BeautifulSoup(text, 'lxml')\n",
    "    for i in soup.findAll(\"li\")[16:28]:\n",
    "        link.append(i.find(\"a\")['href'])\n",
    "        name.append(i.getText().replace(\"\\n\",\"\").replace(\"\\r\",\"\").replace(\"\\t\",\"\"))"
   ]
  },
  {
   "cell_type": "code",
   "execution_count": 9,
   "metadata": {},
   "outputs": [],
   "source": [
    "makelink6()"
   ]
  },
  {
   "cell_type": "code",
   "execution_count": 10,
   "metadata": {},
   "outputs": [
    {
     "data": {
      "text/plain": [
       "('researcher-profile?ep=1299', 'Zhang, Lu')"
      ]
     },
     "execution_count": 10,
     "metadata": {},
     "output_type": "execute_result"
    }
   ],
   "source": [
    "link[311], name[311]"
   ]
  },
  {
   "cell_type": "code",
   "execution_count": 11,
   "metadata": {},
   "outputs": [],
   "source": [
    "client = MongoClient()\n",
    "db = client.aboutdepart"
   ]
  },
  {
   "cell_type": "code",
   "execution_count": 13,
   "metadata": {},
   "outputs": [],
   "source": [
    "db.scholar.drop()"
   ]
  },
  {
   "cell_type": "code",
   "execution_count": 14,
   "metadata": {},
   "outputs": [],
   "source": [
    "for i, k in zip(link,name):    \n",
    "    document = {}\n",
    "    document[\"link\"] = i\n",
    "    document[\"name\"] = k\n",
    "    db.scholar.insert_one(document)"
   ]
  },
  {
   "cell_type": "code",
   "execution_count": 15,
   "metadata": {},
   "outputs": [
    {
     "name": "stderr",
     "output_type": "stream",
     "text": [
      "/Users/seungheondoh/anaconda3/envs/python3.6/lib/python3.6/site-packages/ipykernel_launcher.py:1: DeprecationWarning: count is deprecated. Use estimated_document_count or count_documents instead. Please note that $where must be replaced by $expr, $near must be replaced by $geoWithin with $center, and $nearSphere must be replaced by $geoWithin with $centerSphere\n",
      "  \"\"\"Entry point for launching an IPython kernel.\n"
     ]
    },
    {
     "data": {
      "text/plain": [
       "312"
      ]
     },
     "execution_count": 15,
     "metadata": {},
     "output_type": "execute_result"
    }
   ],
   "source": [
    "db.scholar.count()"
   ]
  },
  {
   "cell_type": "code",
   "execution_count": 16,
   "metadata": {},
   "outputs": [
    {
     "data": {
      "text/plain": [
       "{'_id': ObjectId('5bf6b6ca20c66c2facad3728'),\n",
       " 'link': 'researcher-profile?ep=1249',\n",
       " 'name': 'Bae, Joonbum'}"
      ]
     },
     "execution_count": 16,
     "metadata": {},
     "output_type": "execute_result"
    }
   ],
   "source": [
    "Contents = db.scholar.find()\n",
    "Contents[5]"
   ]
  },
  {
   "cell_type": "markdown",
   "metadata": {},
   "source": [
    "-------------------------------------"
   ]
  },
  {
   "cell_type": "markdown",
   "metadata": {},
   "source": [
    "### db.scholar에서 저장한 link를 타고 url을 호출합니다."
   ]
  },
  {
   "cell_type": "code",
   "execution_count": 36,
   "metadata": {},
   "outputs": [],
   "source": [
    "url = \"http://scholarworks.unist.ac.kr/\"+str(link[1])\n",
    "r = requests.get(url)\n",
    "soup = BeautifulSoup(r.text, 'lxml')"
   ]
  },
  {
   "cell_type": "code",
   "execution_count": 37,
   "metadata": {
    "scrolled": true
   },
   "outputs": [
    {
     "data": {
      "text/plain": [
       "<!DOCTYPE html>\n",
       "<html>\n",
       "<head>\n",
       "<title>ScholarWorks: Researcher Page</title>\n",
       "<meta content=\"text/html; charset=utf-8\" http-equiv=\"Content-Type\"/>\n",
       "<meta content=\"DSpace 4.3\" name=\"Generator\"/>\n",
       "<meta content=\"true\" name=\"HandheldFriendly\"/>\n",
       "<meta content=\"IE=Edge, chrome=1\" http-equiv=\"X-UA-Compatible\"/>\n",
       "<meta content=\"width=device-width, initial-scale=1.0, maximum-scale=1.0, user-scalable=no\" name=\"viewport\"/>\n",
       "<!-- Facebook 공유 Thumbnail -->\n",
       "<meta content=\"http://scholarworks.unist.ac.kr:80/image/background/facebook-thumb800.jpg\" property=\"og:image\"/>\n",
       "<link href=\"http://scholarworks.unist.ac.kr:80/image/background/facebook-thumb800.jpg\" rel=\"image_src\"/>\n",
       "<link href=\"/favicon.ico\" rel=\"shortcut icon\" type=\"image/x-icon\"/>\n",
       "<link href=\"/css/common.css\" media=\"screen\" rel=\"stylesheet\" title=\"web2.0\" type=\"text/css\"/>\n",
       "<script src=\"/static/js/jquery/jquery-1.10.2.min.js\" type=\"text/javascript\"></script>\n",
       "<script src=\"/js/utils.js\" type=\"text/javascript\"></script>\n",
       "<script src=\"/js/koasas.js\" type=\"text/javascript\"></script>\n",
       "<!-- Owl Carousel Assets -->\n",
       "<link href=\"/css/owl.carousel.css\" rel=\"stylesheet\"/>\n",
       "<link href=\"/css/owl.theme.css\" rel=\"stylesheet\"/>\n",
       "<script src=\"/js/jquery.scroll.pack.js\" type=\"text/javascript\"></script>\n",
       "<script src=\"/js/jquery.easing.js\" type=\"text/javascript\"></script>\n",
       "<!-- Slidebars CSS -->\n",
       "<link href=\"/css/slidebars.css\" rel=\"stylesheet\"/>\n",
       "<link href=\"/open-search/description.xml\" rel=\"search\" title=\"DSpace\" type=\"application/opensearchdescription+xml\"/>\n",
       "<script src=\"/static/js/jquery/jquery-1.10.2.min.js\" type=\"text/javascript\"></script>\n",
       "<script src=\"/static/js/jquery/jquery-ui-1.10.3.custom.min.js\" type=\"text/javascript\"></script>\n",
       "<!-- HTML5 shim and Respond.js IE8 support of HTML5 elements and media queries -->\n",
       "<!--[if lt IE 9]>\n",
       "  <script src=\"/static/js/html5shiv.js\"></script>\n",
       "  <script src=\"/static/js/respond.min.js\"></script>\n",
       "<![endif]-->\n",
       "<!-- Slidebars -->\n",
       "<script src=\"/js/slidebars.js\"></script>\n",
       "<script>\n",
       "\t\t\t(function($) {\n",
       "\t\t\t\t$(document).ready(function() {\n",
       "\t\t\t\t\t$.slidebars();\n",
       "\t\t\t\t});\n",
       "\t\t\t}) (jQuery);\n",
       "\t\t</script>\n",
       "<!-- 메인 슬라이드 소스 -->\n",
       "<script src=\"/js/owl.carousel.js\"></script>\n",
       "</head>\n",
       "<body>\n",
       "<div class=\"sub_layout\" id=\"sb-site\">\n",
       "<!-- \t<header> -->\n",
       "<div id=\"header\">\n",
       "<div class=\"header_wrap\">\n",
       "<div class=\"header_box\">\n",
       "<div class=\"header_inner\">\n",
       "<h1>\n",
       "<a href=\"/\"><img alt=\"Scholarworks@UNIST\" src=\"/image/common/logo.png\"/></a>\n",
       "</h1>\n",
       "<div class=\"tablet_nav sb-toggle-right\"><a class=\"tablet_nav_bt\" href=\"#\"><span>menu</span></a></div>\n",
       "<a class=\"library_link\" href=\"http://library.unist.ac.kr\" target=\"_blank\">LIBRARY</a>\n",
       "<div class=\"sub_header_search\">\n",
       "<form action=\"/simple-search\" class=\"navbar-form navbar-right\" method=\"get\" name=\"sub_search_form\">\n",
       "<dl>\n",
       "<dt>검색</dt>\n",
       "<dd class=\"advanced_dd\"><a href=\"/advanced-search\"><em>Advanced Search</em></a></dd>\n",
       "<dd class=\"int_dd\">\n",
       "<input class=\"inttype\" id=\"tequery\" name=\"query\" placeholder=\"Search for...\" title=\"Search for\" type=\"text\"/>\n",
       "<a class=\"search\" href=\"javascript:document.sub_search_form.submit();\"><span>검색</span></a>\n",
       "</dd>\n",
       "<dd class=\"sub_search_bt\">\n",
       "<a href=\"#\"><span>검색바로가기</span></a>\n",
       "</dd>\n",
       "</dl>\n",
       "</form>\n",
       "</div>\n",
       "</div>\n",
       "</div><!--header_box :e -->\n",
       "</div><!-- \theader_wrap :e -->\n",
       "</div><!-- \theader :e -->\n",
       "<!-- \t<main> -->\n",
       "<div class=\"m_container\">\n",
       "<div class=\"con_inner\">\n",
       "<div class=\"sub_left_wrap\">\n",
       "<h3 class=\"sub_left_title\">BROWSE</h3>\n",
       "<ul>\n",
       "<li><a href=\"/community-list\">Communities &amp; Collections</a></li>\n",
       "<li><a href=\"/browse-researcher\">Researchers</a></li>\n",
       "<li><a href=\"/browse?type=title&amp;sort_by=2&amp;order=DESC&amp;rpp=10&amp;etal=3\">Titles</a></li>\n",
       "</ul>\n",
       "<div class=\"left_conbox\">\n",
       "<script src=\"https://www.google.com/jsapi\" type=\"text/javascript\"></script>\n",
       "<script type=\"text/javascript\">\n",
       "\tgoogle.load(\"visualization\", \"1\", {packages:[\"corechart\"]});\n",
       "\tgoogle.setOnLoadCallback(drawChart);\n",
       "\tfunction drawChart() {\n",
       "\t\tvar data = google.visualization.arrayToDataTable([\n",
       "\t\t    ['í­ëª©', 'Count'],\n",
       "\t       \t['View', 0],\n",
       "\t       \t['Download', 0]\n",
       "       ]);\n",
       "\n",
       "       var options = {\n",
       "  \t       pieHole: 0.3,\n",
       "  \t       legend: {position: 'bottom'}\n",
       "       };\n",
       "\n",
       "       var chart = new google.visualization.PieChart(document.getElementById('count_view'));\n",
       "       chart.draw(data, options);\n",
       "    };\n",
       "    \n",
       "</script>\n",
       "</div>\n",
       "</div>\n",
       "<!-- sub_left_wrap :: e -->\n",
       "<!-- \t\t\t<a id=\"toTop\" href=\"#\" class=\"core_skip_top\">상단으로 이동</a> -->\n",
       "<script type=\"text/javascript\">\n",
       "// \t\t\t$(function() {\n",
       "// \t\t\t\t$(\"#toTop\").scrollToTop({\n",
       "// \t\t\t\t\tspeed : 500,\n",
       "// \t\t\t\t\tease : \"easeOutBack\",\n",
       "// \t\t\t\t\tstart : 200\n",
       "// \t\t\t\t});\n",
       "// \t\t\t});\n",
       "\t\t\t// start 스크롤 300px 내려오면 top버튼 나타남 0이면 항상 나타남\n",
       "\t\t\t</script>\n",
       "<script src=\"//d39af2mgp1pqhg.cloudfront.net/widget-popup.js\" type=\"text/javascript\"></script>\n",
       "<script type=\"text/javascript\">\n",
       "var jQ = jQuery.noConflict();\n",
       "// 탭 선택 시 동작\n",
       "function selectType(type){\n",
       "\tjQ(location).attr('href', '/researcher-profile?ep='+2781+'&type='+type);\n",
       "}\n",
       "\n",
       "jQ(function(){\n",
       "\n",
       "\t\n",
       "\tjQ(\".researcher_idbox ul li\").eq(0).addClass(\"first_icon\");\n",
       "\t\n",
       "\t// 760px 이하에서는 타이틀 외의 항목이 보이지 않음.\n",
       "\tjQ(\"div.researcher_itemlist .list_tbl th\").eq(2).addClass(\"m_none\");\t// Author(s)\n",
       "\tjQ(\"div.researcher_itemlist .list_tbl th\").eq(3).addClass(\"m_none\");\t// Type\n",
       "\tjQ(\"div.researcher_itemlist .list_tbl th\").eq(4).addClass(\"m_none\"); // View\n",
       "\tjQ(\"div.researcher_itemlist .list_tbl tr\").each(function(i){\n",
       "// \t\tjQ(this).children().eq(0).addClass(\"m_none\");\t// Issue Date\n",
       "\t\tjQ(this).children().eq(2).addClass(\"m_none\");\t// Author(s)\n",
       "\t\tjQ(this).children().eq(3).addClass(\"m_none\");\t// Type\n",
       "\t\tjQ(this).children().eq(4).addClass(\"m_none\");\t// View\n",
       "\t});\n",
       "});\n",
       "</script>\n",
       "<div class=\"sub_right_wrap\">\n",
       "<div class=\"page_nav\">\n",
       "<a class=\"home_link\" href=\"/\"></a><a href=\"\">ScholarWorks</a>\n",
       "</div>\n",
       "<div class=\"sub_right_con\">\n",
       "<h3 class=\"menu_icon02\">Researcher Page</h3>\n",
       "<div class=\"research_info_box\">\n",
       "<form action=\"/profile\" method=\"post\">\n",
       "<link href=\"//code.jquery.com/ui/1.11.4/themes/smoothness/jquery-ui.css\" rel=\"stylesheet\"/>\n",
       "<script src=\"http://code.jquery.com/ui/1.11.4/jquery-ui.js\"></script>\n",
       "<script type=\"text/javascript\">\n",
       "\t\t\n",
       "\tjQ(function() {\n",
       "\t    jQ(document).not('.PlumX-Popup').tooltip();\n",
       "\t});\n",
       "\t</script>\n",
       "<p class=\"img_box\">\n",
       "<img alt=\"사진\" height=\"146\" src=\"http://114.70.1.191/rims/upload/image/201508/user_profile_5929480789290965124100358.jpg\" width=\"135\"/>\n",
       "</p>\n",
       "<div class=\"research_info_view\">\n",
       "<div class=\"researcher_idbox\">\n",
       "<ul>\n",
       "<li>\n",
       "<a href=\"http://www.researcherid.com/rid/F-4552-2015\" id=\"F-4552-2015\" target=\"_blank\"><img alt=\"ResearcherID\" class=\"tooltip\" src=\"/image/common/research_icon02.gif\" title=\"ResearcherID\"/></a>\n",
       "</li>\n",
       "<li>\n",
       "<a href=\"https://www.researchgate.net/profile/Francois_Amblard\" id=\"https://www.researchgate.net/profile/Francois_Amblard\" target=\"_blank\"><img alt=\"ResearchGate\" class=\"tooltip\" src=\"/image/common/research_icon03.gif\" title=\"ResearchGate\"/></a>\n",
       "</li>\n",
       "<li>\n",
       "<a href=\"http://orcid.org/0000-0002-7247-3873\" id=\"http://orcid.org/0000-0002-7247-3873\" target=\"_blank\"><img alt=\"ORCiD\" class=\"tooltip\" src=\"/image/common/research_icon01.gif\" title=\"ORCiD\"/></a>\n",
       "</li>\n",
       "<li>\n",
       "<a href=\"http://www.scopus.com/authid/detail.url?authorId=7004730960\" id=\"http://www.scopus.com/authid/detail.url?authorId=7004730960\" target=\"_blank\"><img alt=\"Scopus\" class=\"tooltip\" src=\"/image/common/SCPID_icon.png\" title=\"Scopus\" width=\"34\"/></a>\n",
       "</li>\n",
       "</ul>\n",
       "</div>\n",
       "<p class=\"neme_p\">\n",
       "\t\t\tAmblard, Francois (AmblardFrancois)\n",
       "\t\t\t\n",
       "\t\t</p>\n",
       "<dl>\n",
       "<dt>Department</dt>\n",
       "<dd>\n",
       "\t\t\tSchool of Life Sciences(생명과학부)\n",
       "\t\t\t</dd>\n",
       "</dl>\n",
       "<dl>\n",
       "<dt>Research Interests</dt>\n",
       "<dd>\n",
       "\t\t\tBiology, Cancer Biology\n",
       "       \t\t</dd>\n",
       "</dl>\n",
       "<dl>\n",
       "<dt>Lab</dt>\n",
       "<dd>School of Life Science</dd>\n",
       "</dl>\n",
       "<dl>\n",
       "<dt>Website</dt>\n",
       "<dd><a href=\"#\" target=\"_blank\"></a></dd>\n",
       "</dl>\n",
       "</div>\n",
       "</form>\n",
       "</div><!-- research_info_box : e -->\n",
       "<div class=\"researcher_tbl\">\n",
       "<div class=\"tab_wrap tab_33\">\n",
       "<ul>\n",
       "<li><a class=\"on\" href=\"javascript:selectType('Article');\" id=\"tab1_btn\">Article</a></li>\n",
       "<li><a href=\"javascript:selectType('Proceeding');\" id=\"tab2_btn\">Proceeding</a></li>\n",
       "<li><a href=\"javascript:selectType('Patent');\" id=\"tab3_btn\">Patent</a></li>\n",
       "</ul>\n",
       "</div>\n",
       "<div class=\"researcher_itemlist\" id=\"researcher_articlelist\" style=\"display:block; float:center;\">\n",
       "<form action=\"/simpleSearch-author\" id=\"uriAuthorArticleRemove\" method=\"post\" name=\"uriAuthorItemRemove\" onsubmit=\"return removeCheck('item_id');\">\n",
       "<table class=\"list_tbl mgb_10\" summary=\"This table browses all dspace content\">\n",
       "<caption>This table browses all dspace content</caption>\n",
       "<colgroup><col style=\"width:10%;\"/><col style=\"width:50%;\"/><col style=\"width:15%;\"/><col style=\"width:10%;\"/><col style=\"width: 10%\"/></colgroup>\n",
       "<thead>\n",
       "<tr>\n",
       "<th>Issue Date</th><th>Title</th><th>Author(s)</th><th>Type</th><th>View</th><th>Altmetrics</th></tr></thead>\n",
       "<tbody>\n",
       "<tr><td>201810</td><td class=\"alleft_td\"><a href=\"/handle/201301/25083\">Deep line-temporal focusing with high axial resolution and a large field-of-view using intracavity control and incoherent pulse shaping</a></td><td class=\"alleft_td\"><em><a href=\"/browse?type=author&amp;value=Lou%2C+Kai&amp;value_lang=ko\">Lou, Kai</a>; <a href=\"/browse?type=author&amp;value=Wang%2C+Bo&amp;value_lang=ko\">Wang, Bo</a>; <a href=\"/browse?type=author&amp;value=Jee%2C+Ah-Young&amp;value_lang=ko\">Jee, Ah-Young</a>, et al</em></td><td><em>ARTICLE</em></td><td>8</td>\n",
       "<td>\n",
       "<a class=\"plumx-plum-print-popup\" data-badge=\"false\" data-hide-when-empty=\"true\" data-popup=\"right\" data-site=\"unist-kr\" href=\"https://plu.mx/unist-kr/a/?doi=http://dx.doi.org/10.1364/OL.43.004919\">Deep line-temporal focusing with high axial resolution and a large field-of-view using intracavity control and incoherent pulse shaping</a>\n",
       "</td>\n",
       "</tr>\n",
       "<tr><td>201809</td><td class=\"alleft_td\"><a href=\"/handle/201301/24415\">Substrate curvature affects the shape, orientation, and polarization of renal epithelial cells</a></td><td class=\"alleft_td\"><em><a href=\"/browse?type=author&amp;value=Yu%2C+Sun-Min&amp;value_lang=ko\">Yu, Sun-Min</a>; <a href=\"/browse?type=author&amp;value=Oh%2C+Jung+Min&amp;value_lang=ko\">Oh, Jung Min</a>; <a href=\"/browse?type=author&amp;value=Lee%2C+Junwon&amp;value_lang=ko\">Lee, Junwon</a>, et al</em></td><td><em>ARTICLE</em></td><td>145</td>\n",
       "<td>\n",
       "<a class=\"plumx-plum-print-popup\" data-badge=\"false\" data-hide-when-empty=\"true\" data-popup=\"right\" data-site=\"unist-kr\" href=\"https://plu.mx/unist-kr/a/?doi=http://dx.doi.org/10.1016/j.actbio.2018.07.019\">Substrate curvature affects the shape, orientation, and polarization of renal epithelial cells</a>\n",
       "</td>\n",
       "</tr>\n",
       "<tr><td>201807</td><td class=\"alleft_td\"><a href=\"/handle/201301/24327\">Microtopographies control the development of basal protrusions in epithelial sheets</a></td><td class=\"alleft_td\"><em><a href=\"/browse?type=author&amp;value=Coscoy%2C+Sylvie&amp;value_lang=null\">Coscoy, Sylvie</a>; <a href=\"/browse?type=author&amp;value=Baiz%2C+Sarah&amp;value_lang=null\">Baiz, Sarah</a>; <a href=\"/browse?type=author&amp;value=Octon%2C+Jean&amp;value_lang=null\">Octon, Jean</a>, et al</em></td><td><em>ARTICLE</em></td><td>126</td>\n",
       "<td>\n",
       "<a class=\"plumx-plum-print-popup\" data-badge=\"false\" data-hide-when-empty=\"true\" data-popup=\"right\" data-site=\"unist-kr\" href=\"https://plu.mx/unist-kr/a/?doi=10.1116/1.5024601\">Microtopographies control the development of basal protrusions in epithelial sheets</a>\n",
       "</td>\n",
       "</tr>\n",
       "<tr><td>201806</td><td class=\"alleft_td\"><a href=\"/handle/201301/24406\">How to better focus waves by considering symmetry and information loss</a></td><td class=\"alleft_td\"><em><a href=\"/browse?type=author&amp;value=Lou%2C+Kai&amp;value_lang=ko\">Lou, Kai</a>; <a href=\"/browse?type=author&amp;value=Granick%2C+Steve&amp;value_lang=ko\">Granick, Steve</a>; <a href=\"/browse?type=author&amp;value=Amblard%2C+Francois&amp;value_lang=ko\">Amblard, Francois</a></em></td><td><em>ARTICLE</em></td><td>73</td>\n",
       "<td>\n",
       "<a class=\"plumx-plum-print-popup\" data-badge=\"false\" data-hide-when-empty=\"true\" data-popup=\"right\" data-site=\"unist-kr\" href=\"https://plu.mx/unist-kr/a/?doi=http://dx.doi.org/10.1073/pnas.1803652115\">How to better focus waves by considering symmetry and information loss</a>\n",
       "</td>\n",
       "</tr>\n",
       "<tr><td>201803</td><td class=\"alleft_td\"><a href=\"/handle/201301/24130\">Engineering small tubes with changes in diameter for the study of kidney cell organization</a></td><td class=\"alleft_td\"><em><a href=\"/browse?type=author&amp;value=Venzac%2C+Bastien&amp;value_lang=ko\">Venzac, Bastien</a>; <a href=\"/browse?type=author&amp;value=Madoun%2C+Randa&amp;value_lang=ko\">Madoun, Randa</a>; <a href=\"/browse?type=author&amp;value=Benarab%2C+Taous&amp;value_lang=ko\">Benarab, Taous</a>, et al</em></td><td><em>ARTICLE</em></td><td>59</td>\n",
       "<td>\n",
       "<a class=\"plumx-plum-print-popup\" data-badge=\"false\" data-hide-when-empty=\"true\" data-popup=\"right\" data-site=\"unist-kr\" href=\"https://plu.mx/unist-kr/a/?doi=http://dx.doi.org/10.1063/1.5025027\">Engineering small tubes with changes in diameter for the study of kidney cell organization</a>\n",
       "</td>\n",
       "</tr>\n",
       "<tr><td>201106</td><td class=\"alleft_td\"><a href=\"/handle/201301/18461\">Orientation and Polarity in Collectively Migrating Cell Structures: Statics and Dynamics</a></td><td class=\"alleft_td\"><em><a href=\"/browse?type=author&amp;value=Reffay%2C+Myriam&amp;value_lang=null\">Reffay, Myriam</a>; <a href=\"/browse?type=author&amp;value=Petitjean%2C+Laurence&amp;value_lang=null\">Petitjean, Laurence</a>; <a href=\"/browse?type=author&amp;value=Coscoy%2C+Sylvie&amp;value_lang=null\">Coscoy, Sylvie</a>, et al</em></td><td><em>ARTICLE</em></td><td>235</td>\n",
       "<td>\n",
       "<a class=\"plumx-plum-print-popup\" data-badge=\"false\" data-hide-when-empty=\"true\" data-popup=\"right\" data-site=\"unist-kr\" href=\"https://plu.mx/unist-kr/a/?doi=10.1016/j.bpj.2011.04.047\">Orientation and Polarity in Collectively Migrating Cell Structures: Statics and Dynamics</a>\n",
       "</td>\n",
       "</tr>\n",
       "</tbody>\n",
       "</table>\n",
       "</form>\n",
       "</div>\n",
       "<div class=\"pagination_box\"><a class=\"pageLink pageCurrent\" href=\"/researcher-profile?ep=2781&amp;page=1&amp;type=Article&amp;offset=0\">1</a></div>\n",
       "<br/>\n",
       "<script type=\"text/javascript\">\n",
       "\t\t\tfunction typeChange(type, handle) {\n",
       "\t\t\t\tlocation.href = 'researcher-profile?type='+type+'&ep=2781';\n",
       "\t\t\t}\n",
       "\t\t\t</script>\n",
       "</div>\n",
       "</div>\n",
       "</div>\n",
       "</div>\n",
       "</div>\n",
       "<!-- m_container :: e -->\n",
       "<div class=\"footer_banner\">\n",
       "<ul>\n",
       "<li>\n",
       "<a href=\"http://www.opendoar.org\" target=\"_blank\">\n",
       "<img alt=\"openDOAR\" src=\"/image/common/footer_banner01.gif\"/>\n",
       "</a>\n",
       "</li>\n",
       "<li>\n",
       "<a href=\"http://doaj.org\" target=\"_blank\">\n",
       "<img alt=\"DOAJ\" src=\"/image/common/footer_banner02.gif\"/>\n",
       "</a>\n",
       "</li>\n",
       "<li class=\"row_line\">\n",
       "<a href=\"http://www.ncbi.nlm.nih.gov/pubmed\" target=\"_blank\">\n",
       "<img alt=\"pubmed\" src=\"/image/common/footer_banner03.png\"/>\n",
       "</a>\n",
       "</li>\n",
       "<li class=\"last_banner row_line\">\n",
       "<a href=\"http://arxiv.org\" target=\"_blank\">\n",
       "<img alt=\"arXiv\" src=\"/image/common/footer_banner04.png\"/>\n",
       "</a>\n",
       "</li>\n",
       "</ul>\n",
       "</div>\n",
       "<div class=\"footer_wrap\">\n",
       "<div class=\"footer_inner\">\n",
       "<div class=\"homepage_info\">\n",
       "<dl class=\"mb_none\">\n",
       "<dt>STATISTICS</dt>\n",
       "<dd>\n",
       "\t\t\t\t\tTotal View :<span>5,340,972</span>\n",
       "</dd>\n",
       "<dd>\n",
       "\t\t\t\t\tTotal Download :<span>1,092,979</span>\n",
       "</dd>\n",
       "<dd>\n",
       "\t\t\t\t\tToday View :<span>262</span>\n",
       "</dd>\n",
       "</dl>\n",
       "<div class=\"footer_r_box\">\n",
       "<p>\n",
       "<a class=\"rss_line\" href=\"/feed/rss_1.0/site\" target=\"_self\">RSS 1.0</a><a href=\"/feed/rss_2.0/site\" target=\"_self\">RSS 2.0</a>\n",
       "</p>\n",
       "<a class=\"contact_bt\" href=\"/feedback\">CONTACT US</a>\n",
       "</div>\n",
       "</div>\n",
       "<div class=\"footer_address\">\n",
       "<h2>\n",
       "<a href=\"http://library.unist.ac.kr/\" target=\"_blank\"><img alt=\"UNIST\" src=\"/image/common/footer_logo.png\"/></a>\n",
       "</h2>\n",
       "<p><b>Tel :</b> 052-217-1405 / <b>Email :</b> <a href=\"mailto:scholarworks@unist.ac.kr\">scholarworks@unist.ac.kr</a><br/>Copyright (c) 2015 by UNIST LIBRARY. All rights reserved<a href=\"/mydspace\" style=\"text-decoration:none;\">.</a><br/>ScholarWorks@UNIST는 국립중앙도서관 OAK 보급사업으로 구축되었습니다.</p>\n",
       "</div>\n",
       "</div>\n",
       "<!-- inner : e -->\n",
       "</div>\n",
       "<!-- footer_wrap :: e -->\n",
       "</div>\n",
       "<!-- sb-site : e -->\n",
       "<!-- 태블릿, 모바일 시 네비게이션 -->\n",
       "<div class=\"sb-slidebar sb-right\">\n",
       "<div class=\"right_nav_box\">\n",
       "<h3>MENU</h3>\n",
       "<ul>\n",
       "<li><a href=\"/community-list\">Communities &amp; Collections</a></li>\n",
       "<li><a href=\"/browse-researcher\">Researchers</a></li>\n",
       "<li><a href=\"/browse?type=title&amp;sort_by=2&amp;order=DESC&amp;rpp=10&amp;etal=3\">Titles</a></li>\n",
       "</ul>\n",
       "</div>\n",
       "</div>\n",
       "<!-- sb-slidebar : e -->\n",
       "<script>\n",
       "  (function(i,s,o,g,r,a,m){i['GoogleAnalyticsObject']=r;i[r]=i[r]||function(){\n",
       "  (i[r].q=i[r].q||[]).push(arguments)},i[r].l=1*new Date();a=s.createElement(o),\n",
       "  m=s.getElementsByTagName(o)[0];a.async=1;a.src=g;m.parentNode.insertBefore(a,m)\n",
       "  })(window,document,'script','//www.google-analytics.com/analytics.js','ga');\n",
       "\n",
       "  ga('create', 'UA-3019526-29', 'unist.ac.kr');\n",
       "  ga('send', 'pageview');\n",
       "\n",
       "</script>\n",
       "</body>\n",
       "</html>"
      ]
     },
     "execution_count": 37,
     "metadata": {},
     "output_type": "execute_result"
    }
   ],
   "source": [
    "soup"
   ]
  },
  {
   "cell_type": "code",
   "execution_count": 38,
   "metadata": {
    "scrolled": true
   },
   "outputs": [
    {
     "data": {
      "text/plain": [
       "<div class=\"research_info_view\">\n",
       "<div class=\"researcher_idbox\">\n",
       "<ul>\n",
       "<li>\n",
       "<a href=\"http://www.researcherid.com/rid/F-4552-2015\" id=\"F-4552-2015\" target=\"_blank\"><img alt=\"ResearcherID\" class=\"tooltip\" src=\"/image/common/research_icon02.gif\" title=\"ResearcherID\"/></a>\n",
       "</li>\n",
       "<li>\n",
       "<a href=\"https://www.researchgate.net/profile/Francois_Amblard\" id=\"https://www.researchgate.net/profile/Francois_Amblard\" target=\"_blank\"><img alt=\"ResearchGate\" class=\"tooltip\" src=\"/image/common/research_icon03.gif\" title=\"ResearchGate\"/></a>\n",
       "</li>\n",
       "<li>\n",
       "<a href=\"http://orcid.org/0000-0002-7247-3873\" id=\"http://orcid.org/0000-0002-7247-3873\" target=\"_blank\"><img alt=\"ORCiD\" class=\"tooltip\" src=\"/image/common/research_icon01.gif\" title=\"ORCiD\"/></a>\n",
       "</li>\n",
       "<li>\n",
       "<a href=\"http://www.scopus.com/authid/detail.url?authorId=7004730960\" id=\"http://www.scopus.com/authid/detail.url?authorId=7004730960\" target=\"_blank\"><img alt=\"Scopus\" class=\"tooltip\" src=\"/image/common/SCPID_icon.png\" title=\"Scopus\" width=\"34\"/></a>\n",
       "</li>\n",
       "</ul>\n",
       "</div>\n",
       "<p class=\"neme_p\">\n",
       "\t\t\tAmblard, Francois (AmblardFrancois)\n",
       "\t\t\t\n",
       "\t\t</p>\n",
       "<dl>\n",
       "<dt>Department</dt>\n",
       "<dd>\n",
       "\t\t\tSchool of Life Sciences(생명과학부)\n",
       "\t\t\t</dd>\n",
       "</dl>\n",
       "<dl>\n",
       "<dt>Research Interests</dt>\n",
       "<dd>\n",
       "\t\t\tBiology, Cancer Biology\n",
       "       \t\t</dd>\n",
       "</dl>\n",
       "<dl>\n",
       "<dt>Lab</dt>\n",
       "<dd>School of Life Science</dd>\n",
       "</dl>\n",
       "<dl>\n",
       "<dt>Website</dt>\n",
       "<dd><a href=\"#\" target=\"_blank\"></a></dd>\n",
       "</dl>\n",
       "</div>"
      ]
     },
     "execution_count": 38,
     "metadata": {},
     "output_type": "execute_result"
    }
   ],
   "source": [
    "soup.find('div',{'class' : \"research_info_view\"})"
   ]
  },
  {
   "cell_type": "code",
   "execution_count": 39,
   "metadata": {},
   "outputs": [
    {
     "data": {
      "text/plain": [
       "'\\r\\n\\t\\t\\tAmblard, Francois\\xa0(AmblardFrancois)\\r\\n\\t\\t\\t\\r\\n\\t\\t'"
      ]
     },
     "execution_count": 39,
     "metadata": {},
     "output_type": "execute_result"
    }
   ],
   "source": [
    "soup.find('p',{'class':'neme_p'}).getText()"
   ]
  },
  {
   "cell_type": "code",
   "execution_count": 21,
   "metadata": {},
   "outputs": [
    {
     "data": {
      "text/plain": [
       "[<dl>\n",
       " <dt>Department</dt>\n",
       " <dd>\n",
       " \t\t\tSchool of Natural Science(자연과학부)\n",
       " \t\t\t</dd>\n",
       " </dl>, <dl>\n",
       " <dt>Research Interests</dt>\n",
       " <dd>\n",
       " \t\t\tChemical biology, organic synthesis, peptide chemistry, synthetic protein chemistry\n",
       "        \t\t</dd>\n",
       " </dl>, <dl>\n",
       " <dt>Lab</dt>\n",
       " <dd>Bioorganic and Chembio Lab</dd>\n",
       " </dl>, <dl>\n",
       " <dt>Website</dt>\n",
       " <dd><a href=\"http://kee-lab.org\" target=\"_blank\">http://kee-lab.org</a></dd>\n",
       " </dl>]"
      ]
     },
     "execution_count": 21,
     "metadata": {},
     "output_type": "execute_result"
    }
   ],
   "source": [
    "soup.find('div',{'class' : \"research_info_view\"}).findAll('dl')"
   ]
  },
  {
   "cell_type": "code",
   "execution_count": 27,
   "metadata": {},
   "outputs": [
    {
     "data": {
      "text/plain": [
       "'Kee, Jung-Min(기정민)'"
      ]
     },
     "execution_count": 27,
     "metadata": {},
     "output_type": "execute_result"
    }
   ],
   "source": [
    "#name\n",
    "soup.find('p',{'class':'neme_p'}).getText().replace(\"\\xa0\",\"\").replace(\"\\r\",\"\").replace(\"\\t\",\"\").replace(\"\\n\",\"\")"
   ]
  },
  {
   "cell_type": "code",
   "execution_count": 40,
   "metadata": {},
   "outputs": [
    {
     "data": {
      "text/plain": [
       "'School of Life Sciences(생명과학부)'"
      ]
     },
     "execution_count": 40,
     "metadata": {},
     "output_type": "execute_result"
    }
   ],
   "source": [
    "#department\n",
    "soup.find('div',{'class' : \"research_info_view\"}).findAll('dl')[0].find('dd').getText().replace(\"\\r\",\"\").replace(\"\\t\",\"\").replace(\"\\n\",\"\")"
   ]
  },
  {
   "cell_type": "code",
   "execution_count": 41,
   "metadata": {},
   "outputs": [
    {
     "data": {
      "text/plain": [
       "'Biology, Cancer Biology       '"
      ]
     },
     "execution_count": 41,
     "metadata": {},
     "output_type": "execute_result"
    }
   ],
   "source": [
    "#Research Interest\n",
    "soup.find('div',{'class' : \"research_info_view\"}).findAll('dl')[1].find('dd').getText().replace(\"\\r\",\"\").replace(\"\\t\",\"\").replace(\"\\n\",\"\")"
   ]
  },
  {
   "cell_type": "code",
   "execution_count": 42,
   "metadata": {},
   "outputs": [
    {
     "data": {
      "text/plain": [
       "'School of Life Science'"
      ]
     },
     "execution_count": 42,
     "metadata": {},
     "output_type": "execute_result"
    }
   ],
   "source": [
    "#Lab\n",
    "soup.find('div',{'class' : \"research_info_view\"}).findAll('dl')[2].find('dd').getText()"
   ]
  },
  {
   "cell_type": "code",
   "execution_count": 43,
   "metadata": {},
   "outputs": [
    {
     "data": {
      "text/plain": [
       "''"
      ]
     },
     "execution_count": 43,
     "metadata": {},
     "output_type": "execute_result"
    }
   ],
   "source": [
    "#Website\n",
    "soup.find('div',{'class' : \"research_info_view\"}).findAll('dl')[3].find('dd').getText()"
   ]
  },
  {
   "cell_type": "markdown",
   "metadata": {},
   "source": [
    "### 학술지 정보"
   ]
  },
  {
   "cell_type": "code",
   "execution_count": 44,
   "metadata": {},
   "outputs": [
    {
     "data": {
      "text/plain": [
       "<div class=\"researcher_idbox\">\n",
       "<ul>\n",
       "<li>\n",
       "<a href=\"http://www.researcherid.com/rid/F-4552-2015\" id=\"F-4552-2015\" target=\"_blank\"><img alt=\"ResearcherID\" class=\"tooltip\" src=\"/image/common/research_icon02.gif\" title=\"ResearcherID\"/></a>\n",
       "</li>\n",
       "<li>\n",
       "<a href=\"https://www.researchgate.net/profile/Francois_Amblard\" id=\"https://www.researchgate.net/profile/Francois_Amblard\" target=\"_blank\"><img alt=\"ResearchGate\" class=\"tooltip\" src=\"/image/common/research_icon03.gif\" title=\"ResearchGate\"/></a>\n",
       "</li>\n",
       "<li>\n",
       "<a href=\"http://orcid.org/0000-0002-7247-3873\" id=\"http://orcid.org/0000-0002-7247-3873\" target=\"_blank\"><img alt=\"ORCiD\" class=\"tooltip\" src=\"/image/common/research_icon01.gif\" title=\"ORCiD\"/></a>\n",
       "</li>\n",
       "<li>\n",
       "<a href=\"http://www.scopus.com/authid/detail.url?authorId=7004730960\" id=\"http://www.scopus.com/authid/detail.url?authorId=7004730960\" target=\"_blank\"><img alt=\"Scopus\" class=\"tooltip\" src=\"/image/common/SCPID_icon.png\" title=\"Scopus\" width=\"34\"/></a>\n",
       "</li>\n",
       "</ul>\n",
       "</div>"
      ]
     },
     "execution_count": 44,
     "metadata": {},
     "output_type": "execute_result"
    }
   ],
   "source": [
    "soup.find('div',{'class' : \"researcher_idbox\"})"
   ]
  },
  {
   "cell_type": "code",
   "execution_count": 45,
   "metadata": {},
   "outputs": [
    {
     "name": "stdout",
     "output_type": "stream",
     "text": [
      "7004730960\n"
     ]
    }
   ],
   "source": [
    "for i in soup.find('div',{'class' : \"researcher_idbox\"}).findAll('a'):\n",
    "    if \"http://www.scopus.com/authid/detail.url?\" in i['href']:\n",
    "        print(i['href'].replace(\"http://www.scopus.com/authid/detail.url?authorId=\",\"\"))"
   ]
  },
  {
   "cell_type": "markdown",
   "metadata": {},
   "source": [
    "## Final\n",
    "db 스키마\n",
    "\n",
    "- id : 스코퍼스 고유 id\n",
    "- department : 소속학과\n",
    "- ResearchInterest : 관심단어\n",
    "- Lab : 연구실 명\n",
    "- Website : 웹사이트 페이지"
   ]
  },
  {
   "cell_type": "code",
   "execution_count": 46,
   "metadata": {},
   "outputs": [],
   "source": [
    "db.profdata.drop()"
   ]
  },
  {
   "cell_type": "code",
   "execution_count": 51,
   "metadata": {},
   "outputs": [
    {
     "data": {
      "text/plain": [
       "'researcher-profile?ep=2741'"
      ]
     },
     "execution_count": 51,
     "metadata": {},
     "output_type": "execute_result"
    }
   ],
   "source": [
    "link[0]"
   ]
  },
  {
   "cell_type": "code",
   "execution_count": 52,
   "metadata": {},
   "outputs": [],
   "source": [
    "def savedata(a):\n",
    "    url = \"http://scholarworks.unist.ac.kr/\"+a\n",
    "    r = requests.get(url)\n",
    "    soup = BeautifulSoup(r.text, 'lxml')\n",
    "    dl = soup.find('div',{'class' : \"research_info_view\"}).findAll('dl')\n",
    "    document ={}\n",
    "    try:\n",
    "        for i in soup.find('div',{'class' : \"researcher_idbox\"}).findAll('a'):\n",
    "            if \"http://www.scopus.com/authid/detail.url?\" in i['href']:\n",
    "                document['id']= i['href'].replace(\"http://www.scopus.com/authid/detail.url?authorId=\",\"\")\n",
    "    except:\n",
    "        document['id'] = \"\"\n",
    "    document['Name'] = soup.find('p',{'class':'neme_p'}).getText().replace(\"\\xa0\",\"\").replace(\"\\r\",\"\").replace(\"\\t\",\"\").replace(\"\\n\",\"\")\n",
    "    document['department']= dl[0].find('dd').getText().replace(\"\\r\",\"\").replace(\"\\t\",\"\").replace(\"\\n\",\"\")\n",
    "    document['ResearchInterest']=dl[1].find('dd').getText().replace(\"\\r\",\"\").replace(\"\\t\",\"\").replace(\"\\n\",\"\")\n",
    "    document['Lab']=dl[2].find('dd').getText()\n",
    "    document['Website']=dl[3].find('dd').getText()\n",
    "    db.profdata.insert_one(document)"
   ]
  },
  {
   "cell_type": "code",
   "execution_count": 53,
   "metadata": {},
   "outputs": [],
   "source": [
    "for i in link:\n",
    "    savedata(i)"
   ]
  },
  {
   "cell_type": "code",
   "execution_count": 56,
   "metadata": {
    "scrolled": false
   },
   "outputs": [
    {
     "name": "stdout",
     "output_type": "stream",
     "text": [
      "{'_id': ObjectId('5bf6b9e820c66c2facad385b'), 'id': '55614074100', 'Name': 'Ahn, Sangjoon(안상준)', 'department': 'School of Mechanical, Aerospace and Nuclear Engineering(기계항공및원자력공학부)', 'ResearchInterest': 'Nuclear Fuel Performance Experiments & Modeling, Radiation Interactions with Matter, Thermophysical Investigation of Nuclear Materials, Nuclear Non-Proliferation Technology       ', 'Lab': 'UNIST RAdioactive NUclear Materials (URANUM) Laboratory', 'Website': 'http://uranum.unist.ac.kr'}\n",
      "{'_id': ObjectId('5bf6b9e820c66c2facad385c'), 'id': '7004730960', 'Name': 'Amblard, Francois(AmblardFrancois)', 'department': 'School of Life Sciences(생명과학부)', 'ResearchInterest': 'Biology, Cancer Biology       ', 'Lab': 'School of Life Science', 'Website': ''}\n",
      "{'_id': ObjectId('5bf6b9ea20c66c2facad385d'), 'id': '7202344861', 'Name': 'An, Kwangjin(안광진)', 'department': 'School of Energy and Chemical Engineering(에너지및화학공학부)', 'ResearchInterest': 'Nanoparticle catalytsts, catalytic activity, selectivity, and stability, strong metal-support interactions, biofuel conversion       ', 'Lab': 'Advanced Nanocatalysis Lab (An Lab)', 'Website': 'http://anlab.unist.ac.kr/'}\n",
      "{'_id': ObjectId('5bf6b9ea20c66c2facad385e'), 'id': '57190133174', 'Name': 'Au, Tsz-Chiu(AuTsz-Chiu)', 'department': 'School of Electrical and Computer Engineering(전기전자컴퓨터공학부)', 'ResearchInterest': 'Autonomous agents, automated planning, autonomous vehicles, machine learning,, intelligent transportation systems, game theory and its applications, reinforcement, learning, robotics, trading agents and electronic markets       ', 'Lab': 'Agents & Robotic Transportation Lab (ART Lab)', 'Website': 'http://ai.unist.ac.kr/~chiu/'}\n",
      "{'_id': ObjectId('5bf6b9eb20c66c2facad385f'), 'id': '56414076100', 'Name': 'Bae, Hantaek(배한택)', 'department': 'School of Natural Science(자연과학부)', 'ResearchInterest': 'Fluid dynamics, polymeric fluid, kinetic theory       ', 'Lab': 'School of Natural Science', 'Website': 'http://www.math.unist.ac.kr/~hantaek'}\n",
      "{'_id': ObjectId('5bf6b9ed20c66c2facad3860'), 'id': '24330836400', 'Name': 'Bae, Joonbum(배준범)', 'department': 'School of Mechanical, Aerospace and Nuclear Engineering(기계항공및원자력공학부)', 'ResearchInterest': 'Design and control of physical human-robot interaction systems, Intelligent interaction algorithms for virtual reality, tele-operation and rehabilitation, Bio-inspired robotics for improved mobility       ', 'Lab': 'Bio-Robotics and Control (BiRC) Lab', 'Website': 'http://birc.unist.ac.kr/'}\n",
      "{'_id': ObjectId('5bf6bae920c66c2facad3861'), 'id': '55614074100', 'Name': 'Ahn, Sangjoon(안상준)', 'department': 'School of Mechanical, Aerospace and Nuclear Engineering(기계항공및원자력공학부)', 'ResearchInterest': 'Nuclear Fuel Performance Experiments & Modeling, Radiation Interactions with Matter, Thermophysical Investigation of Nuclear Materials, Nuclear Non-Proliferation Technology       ', 'Lab': 'UNIST RAdioactive NUclear Materials (URANUM) Laboratory', 'Website': 'http://uranum.unist.ac.kr'}\n",
      "{'_id': ObjectId('5bf6bae920c66c2facad3862'), 'id': '7004730960', 'Name': 'Amblard, Francois(AmblardFrancois)', 'department': 'School of Life Sciences(생명과학부)', 'ResearchInterest': 'Biology, Cancer Biology       ', 'Lab': 'School of Life Science', 'Website': ''}\n",
      "{'_id': ObjectId('5bf6baeb20c66c2facad3863'), 'id': '7202344861', 'Name': 'An, Kwangjin(안광진)', 'department': 'School of Energy and Chemical Engineering(에너지및화학공학부)', 'ResearchInterest': 'Nanoparticle catalytsts, catalytic activity, selectivity, and stability, strong metal-support interactions, biofuel conversion       ', 'Lab': 'Advanced Nanocatalysis Lab (An Lab)', 'Website': 'http://anlab.unist.ac.kr/'}\n",
      "{'_id': ObjectId('5bf6baeb20c66c2facad3864'), 'id': '57190133174', 'Name': 'Au, Tsz-Chiu(AuTsz-Chiu)', 'department': 'School of Electrical and Computer Engineering(전기전자컴퓨터공학부)', 'ResearchInterest': 'Autonomous agents, automated planning, autonomous vehicles, machine learning,, intelligent transportation systems, game theory and its applications, reinforcement, learning, robotics, trading agents and electronic markets       ', 'Lab': 'Agents & Robotic Transportation Lab (ART Lab)', 'Website': 'http://ai.unist.ac.kr/~chiu/'}\n",
      "{'_id': ObjectId('5bf6baec20c66c2facad3865'), 'id': '56414076100', 'Name': 'Bae, Hantaek(배한택)', 'department': 'School of Natural Science(자연과학부)', 'ResearchInterest': 'Fluid dynamics, polymeric fluid, kinetic theory       ', 'Lab': 'School of Natural Science', 'Website': 'http://www.math.unist.ac.kr/~hantaek'}\n",
      "{'_id': ObjectId('5bf6baee20c66c2facad3866'), 'id': '24330836400', 'Name': 'Bae, Joonbum(배준범)', 'department': 'School of Mechanical, Aerospace and Nuclear Engineering(기계항공및원자력공학부)', 'ResearchInterest': 'Design and control of physical human-robot interaction systems, Intelligent interaction algorithms for virtual reality, tele-operation and rehabilitation, Bio-inspired robotics for improved mobility       ', 'Lab': 'Bio-Robotics and Control (BiRC) Lab', 'Website': 'http://birc.unist.ac.kr/'}\n",
      "{'_id': ObjectId('5bf6baf020c66c2facad3867'), 'id': '7202714737', 'Name': 'Bae, Sung Chul(배성철)', 'department': 'School of Life Sciences(생명과학부)', 'ResearchInterest': 'Multiscale optical imaging, laser spectroscopy, laser microscopy, laser sensing, soft matter physics, surface and interfacial science, laser Matter Interaction       ', 'Lab': 'Multiscale Optical Imaging Lab', 'Website': ''}\n",
      "{'_id': ObjectId('5bf6baf120c66c2facad3868'), 'id': '7103228397', 'Name': 'Baek, Jong-Beom(백종범)', 'department': 'School of Energy and Chemical Engineering(에너지및화학공학부)', 'ResearchInterest': 'Covalent Organic Frameworks (COFs), Carbon Nanotubes(CNTs), graphene, Energy Conversion and Storage       ', 'Lab': 'Center for Dimension-Controllable Organic Frameworks', 'Website': 'http://jbbaek.unist.ac.kr/'}\n",
      "{'_id': ObjectId('5bf6baf220c66c2facad3869'), 'id': '56878250900', 'Name': 'Baek, Joon Sang(백준상)(2011-07~2018-03)', 'department': 'Graduate School of Creative Design Engineering(디자인-공학 융합전문대학원)', 'ResearchInterest': 'Design for social innovation and sustainability, product-service systems (PSS),socio-technical systems, design for service, nature-inspired design, community resilience, social system design       ', 'Lab': 'Design for Social Innovation and Sustainability (DESIS) Lab at UNIST', 'Website': 'http://desis.unist.ac.kr/'}\n",
      "{'_id': ObjectId('5bf6baf220c66c2facad386a'), 'id': '18433439100', 'Name': 'Baek, Woongki(백웅기)', 'department': 'School of Electrical and Computer Engineering(전기전자컴퓨터공학부)', 'ResearchInterest': 'Computer architecture, system software, programming models, applications       ', 'Lab': 'Computer Architecture and Systems Lab (CASL)', 'Website': 'http://casl.unist.ac.kr/'}\n",
      "{'_id': ObjectId('5bf6baf420c66c2facad386b'), 'id': '8396031000', 'Name': 'Baig, Chunggi(백충기)', 'department': 'School of Energy and Chemical Engineering(에너지및화학공학부)', 'ResearchInterest': 'Multiscale simulation, polymer rheology, nonequilibrium molecular dynamics/monte carlo       ', 'Lab': 'Theoretical and Computational study of Polymers & Nanomaterials Lab', 'Website': 'https://chunggibaig.wixsite.com/cbaig'}\n",
      "{'_id': ObjectId('5bf6baf520c66c2facad386c'), 'id': '7006635116', 'Name': 'Baik, Jeong Min(백정민)', 'department': 'School of Materials Science and Engineering(신소재공학부)', 'ResearchInterest': 'Nanogenerators, antimicrobial material, catalysis, smart sensors       ', 'Lab': 'Nano Energy and Environmental Materials Lab', 'Website': 'http://unistscml.wix.com/jbaiklab'}\n",
      "{'_id': ObjectId('5bf6baf620c66c2facad386d'), 'id': '7003990005', 'Name': 'Bang, In Cheol(방인철)', 'department': 'School of Mechanical, Aerospace and Nuclear Engineering(기계항공및원자력공학부)', 'ResearchInterest': 'Nuclear Thermal-Hydraulics, Nuclear Safety, Nuclear System Design & Analysis, Nanofluids, Critical Heat Flux       ', 'Lab': 'Nuclear Thermal-Hydraulics & Reactor Safety Lab', 'Website': 'http://neths.unist.ac.kr/'}\n",
      "{'_id': ObjectId('5bf6baf820c66c2facad386e'), 'id': '24461045900', 'Name': 'Bhak, Jong(박종화)', 'department': 'School of Life Sciences(생명과학부)', 'ResearchInterest': 'Geromics, genomics, bioinformatics, protein Engineering, OMICS       ', 'Lab': 'The Genomics Institute of UNIST (TGI)', 'Website': 'http://genomicslab.org/'}\n",
      "{'_id': ObjectId('5bf6bafa20c66c2facad386f'), 'id': '6603624244', 'Name': 'Bielawski, Christopher W.(BielawskiChristopher W)', 'department': 'School of Natural Science(자연과학부)', 'ResearchInterest': 'Synthetic chemistry, materials science, polymer chemistry, catalysis, carbon-based materials       ', 'Lab': 'Synthetic Materials & Macromolecules', 'Website': 'http://bielawski.unist.ac.kr/'}\n",
      "{'_id': ObjectId('5bf6bafc20c66c2facad3870'), 'id': '36995349000', 'Name': 'Bien, Franklin(변영재)', 'department': 'School of Electrical and Computer Engineering(전기전자컴퓨터공학부)', 'ResearchInterest': 'Wireless Power Transfer(WPT), touch screen, finger print, RADAR, RF IC.       ', 'Lab': 'Bien’s Integrated Circuit Design Lab (BICDL)', 'Website': 'http://bicdl.unist.ac.kr'}\n",
      "{'_id': ObjectId('5bf6bafd20c66c2facad3871'), 'id': '35072482900', 'Name': 'Byon, Chan(변찬)', 'department': 'School of Mechanical, Aerospace and Nuclear Engineering(기계항공및원자력공학부)', 'ResearchInterest': 'Fluid mechanics and heat transfer, Micro/Macroscale phase change phenomena, Electronics thermal management, Microfluidics, Solar/Combustion/Nuclear energy conversion system       ', 'Lab': 'Cooling Technology Lab', 'Website': 'http://heat.unist.ac.kr'}\n",
      "{'_id': ObjectId('5bf6bafe20c66c2facad3872'), 'id': '36967562400', 'Name': 'Byun, Gangil(변강일)', 'department': 'School of Electrical and Computer Engineering(전기전자컴퓨터공학부)', 'ResearchInterest': '', 'Lab': '', 'Website': 'http://byun.unist.ac.kr'}\n",
      "{'_id': ObjectId('5bf6bb0020c66c2facad3873'), 'id': '36087090500', 'Name': 'Cha, Chaenyung(차채녕)', 'department': 'School of Materials Science and Engineering(신소재공학부)', 'ResearchInterest': 'Biomaterials, nanocomposites, microfabrication, tissue engineering, drug delivery       ', 'Lab': 'Integrative Biomaterials Engineering', 'Website': 'http://ccha.unist.ac.kr'}\n",
      "{'_id': ObjectId('5bf6bb0220c66c2facad3874'), 'id': '55418553100', 'Name': 'Cha, Dong-Hyun(차동현)', 'department': 'School of Urban and Environmental Engineering(도시환경공학부)', 'ResearchInterest': 'Typhoon Modeling, Regional Climate Modeling, High-impact Weather       ', 'Lab': 'High-impact Weather Prediction Lab (HWPL)', 'Website': 'http://dhcha.unist.ac.kr/'}\n",
      "{'_id': ObjectId('5bf6bb0320c66c2facad3875'), 'id': '8890917700', 'Name': 'Chae, Han Gi(채한기)', 'department': 'School of Materials Science and Engineering(신소재공학부)', 'ResearchInterest': 'Polymer Physics/ Processing, Carbon Nano-materials, Ultra high performance/ multifuctional nano-composites, Smart textile/ fiber       ', 'Lab': 'Polymer nano-composites and Carbon Fiber Laboratory (P&C Lab)', 'Website': ''}\n",
      "{'_id': ObjectId('5bf6bb0520c66c2facad3876'), 'Name': 'Chae, Young Chan(채영찬)', 'department': 'School of Life Sciences(생명과학부)', 'ResearchInterest': 'Cancer Metabolism, Stress Response of Cancer, Mitochondria of Cancer, Molecular Mechanisms of Cancer Initiation, Progression and Therapy, Autophagy in Cell Survival and Cancer Progression, Mechanism of tumor therapeutic resistance       ', 'Lab': '', 'Website': ''}\n",
      "{'_id': ObjectId('5bf6bb0620c66c2facad3877'), 'id': '55800921500', 'Name': 'Chang, Jiwon(장지원)', 'department': 'School of Electrical and Computer Engineering(전기전자컴퓨터공학부)', 'ResearchInterest': 'Nanoscale devices based on non-conventional materials, quantum and Boltzmann transport simulation of nanoscale devices, ab-initio simulation of non-conventional materials       ', 'Lab': 'Exploratory Device Research Lab', 'Website': 'http://edrl.unist.ac.kr/'}\n",
      "{'_id': ObjectId('5bf6bb0720c66c2facad3878'), 'id': '56410408600', 'Name': 'Cho, Gi-Hyoug(조기혁)', 'department': 'School of Urban and Environmental Engineering(도시환경공학부)', 'ResearchInterest': 'Urban Planning, Urban Design, Travel Behavior, Urban Heat Island , Spatial Analysis       ', 'Lab': 'Sustainable Urban Plaaning and Design Lab', 'Website': 'http://gicho.unist.ac.kr/'}\n",
      "{'_id': ObjectId('5bf6bb0920c66c2facad3879'), 'id': '56234328500', 'Name': 'Cho, Hyungjoon(조형준)', 'department': 'School of Life Sciences(생명과학부)', 'ResearchInterest': 'Imaging tumor microenvironments, susceptibility contrast based MR structural imaging, ultra fast acquisitions of dynamic MR, algorithm/Hardware development for magnetic particle imaging       ', 'Lab': 'Biomedical Imaging Science and Engineering Lab(BISE)', 'Website': 'http://mri.unist.ac.kr/'}\n",
      "{'_id': ObjectId('5bf6bb0a20c66c2facad387a'), 'id': '8571591800', 'Name': 'Cho, Jaephil(조재필)', 'department': 'School of Energy and Chemical Engineering(에너지및화학공학부)', 'ResearchInterest': 'Li-ion battery, metal-air battery, redox-flow battery, flexible battery .       ', 'Lab': 'Nano Energy Storage Materials Lab (NESM)', 'Website': 'http://jpcho.com/'}\n",
      "{'_id': ObjectId('5bf6bb0c20c66c2facad387b'), 'id': '7403536101', 'Name': 'Cho, Jaeweon(조재원)', 'department': 'School of Urban and Environmental Engineering(도시환경공학부)', 'ResearchInterest': 'Convergence of Science and Arts, Feces Standard Money (FSM), Water & Energy       ', 'Lab': 'OWIELAB(Organic-Water Interface Engineering Laboratory)', 'Website': 'http://sciencewalden.org'}\n",
      "{'_id': ObjectId('5bf6bb0e20c66c2facad387c'), 'id': '26022315200', 'Name': 'Cho, Kyung Hwa(조경화)', 'department': 'School of Urban and Environmental Engineering(도시환경공학부)', 'ResearchInterest': 'Water Quality Monitoring and Modeling, Water Treatment Process Modeling       ', 'Lab': 'Environmental Monitoring and Modeling Lab (EM2)', 'Website': 'http://firstkh.wixsite.com/ueeem2'}\n",
      "{'_id': ObjectId('5bf6bb0f20c66c2facad387d'), 'id': '39961349000', 'Name': 'Cho, Perter J.(조재현)', 'department': 'School of Natural Science(자연과학부)', 'ResearchInterest': 'Number theory, artin L-functions, extreme values, random matrix, zeros of L-functions       ', 'Lab': 'Lab for Number Theory and L-functions', 'Website': 'http://www.math.unist.ac.kr/~petercho'}\n",
      "{'_id': ObjectId('5bf6bb1020c66c2facad387e'), 'Name': 'Cho, Seungho(조승호)', 'department': 'School of Materials Science and Engineering(신소재공학부)', 'ResearchInterest': 'Metal Oxide Crystal Growth       ', 'Lab': 'School of Materials Science and Engineering', 'Website': ''}\n",
      "{'_id': ObjectId('5bf6bb1220c66c2facad387f'), 'id': '35177258200', 'Name': 'Cho, Yoon-Kyoung(조윤경)', 'department': 'School of Life Sciences(생명과학부)', 'ResearchInterest': 'Microfluidics, Lab-on-a-chip, personalized biomedical diagnostics, nanobioengineering       ', 'Lab': 'Integrated Nano-Biotech Lab (INBL)', 'Website': 'http://fruits.unist.ac.kr/'}\n",
      "{'_id': ObjectId('5bf6bb1320c66c2facad3880'), 'id': '7006036452', 'Name': 'Choe, Wonyoung(최원영)', 'department': 'School of Natural Science(자연과학부)', 'ResearchInterest': 'Metal-Organic frameworks, energy, sustainability, structural design       ', 'Lab': 'Laboratory for Sustainable Future', 'Website': 'https://sites.google.com/site/thechoegroup'}\n",
      "{'_id': ObjectId('5bf6bb1520c66c2facad3881'), 'id': '15831305700', 'Name': 'Choi, EunMi(최은미)', 'department': 'School of Natural Science(자연과학부)', 'ResearchInterest': 'High power millimeter-wave/THz wave, vacuum electronics, plasma breakdown, electron beams, electromagnetics, microwave/RF engineering       ', 'Lab': 'THz Vacuum Electronics and Electrodynamics', 'Website': 'http://tee.unist.ac.kr'}\n",
      "{'_id': ObjectId('5bf6bb1620c66c2facad3882'), 'id': '27172183300', 'Name': 'Choi, Jaehyouk(최재혁)', 'department': 'School of Electrical and Computer Engineering(전기전자컴퓨터공학부)', 'ResearchInterest': 'RF/Analog/Mixed IC design, low power CMOS IC, wired/wireless TRX IC, clock generation IC       ', 'Lab': 'Integrated Circuits and Systems Lab (ICSL)', 'Website': 'http://icsl.unist.ac.kr/'}\n",
      "{'_id': ObjectId('5bf6bb1720c66c2facad3883'), 'id': '15757202100', 'Name': 'Choi, Jaesik(최재식)', 'department': 'School of Electrical and Computer Engineering(전기전자컴퓨터공학부)', 'ResearchInterest': 'Artificial intelligence, machine learning, deep learning, robotics, automatic statistician, semantic segmentation, fault detection       ', 'Lab': 'Statistical Artificial Intelligence Lab', 'Website': 'http://sail.unist.ac.kr/'}\n",
      "{'_id': ObjectId('5bf6bb1920c66c2facad3884'), 'id': '7501393474', 'Name': 'Choi, Jang Hyun(최장현)', 'department': 'School of Life Sciences(생명과학부)', 'ResearchInterest': 'Diabetes, Metabolic Disorders, PPARg, Gene Regulation, Anti-Diabetic Drug       ', 'Lab': 'Lab of Diabetes and Metabolism (LDM)', 'Website': 'http://sites.google.com/site/diabetesandmetabolism/'}\n",
      "{'_id': ObjectId('5bf6bb1920c66c2facad3885'), 'id': '55977847500', 'Name': 'Choi, Jin Hyuk(최진혁)', 'department': 'School of Natural Science(자연과학부)', 'ResearchInterest': 'Mathematics,  Decision Sciences,  Economics, Econometrics and Finance       ', 'Lab': 'School of Natural Science', 'Website': ''}\n",
      "{'_id': ObjectId('5bf6bb1b20c66c2facad3886'), 'id': '56297289200', 'Name': 'Choi, Jinsook(최진숙)', 'department': 'Division of General Studies(기초과정부)', 'ResearchInterest': 'Language and Culture, Language policy, Language ideology, Multiculturalism, Bilingual education       ', 'Lab': 'Division of General Studies', 'Website': 'http://jschoi.unist.ac.kr/'}\n",
      "{'_id': ObjectId('5bf6bb1c20c66c2facad3887'), 'id': '7403949497', 'Name': 'Choi, Kyoung Jin(최경진)', 'department': 'School of Materials Science and Engineering(신소재공학부)', 'ResearchInterest': 'Solar cells, thermoelectrics, piezoelectric       ', 'Lab': 'Energy Conversion Materials (EcoMAT) Lab', 'Website': 'http://choi.unist.ac.kr/'}\n",
      "{'_id': ObjectId('5bf6bb1d20c66c2facad3888'), 'id': '55845012500', 'Name': 'Choi, Kyudong(최규동)', 'department': 'School of Natural Science(자연과학부)', 'ResearchInterest': 'Fluid equations, navier-stokes, euler equations, mathematical analysis       ', 'Lab': 'Fluids Analysis Lab', 'Website': 'http://www.math.unist.ac.kr/~kchoi'}\n",
      "{'_id': ObjectId('5bf6bb1f20c66c2facad3889'), 'id': '7103324207', 'Name': 'Choi, Nam-Soon(최남순)', 'department': 'School of Energy and Chemical Engineering(에너지및화학공학부)', 'ResearchInterest': 'Rechargeable lithium battery, electrolytes for next generation Mg and Na battery       ', 'Lab': 'Energy Materials Lab', 'Website': 'http://surfchem.unist.ac.kr'}\n",
      "{'_id': ObjectId('5bf6bb2020c66c2facad388a'), 'id': '8107991600', 'Name': 'Choi, Sung-Deuk(최성득)', 'department': 'School of Urban and Environmental Engineering(도시환경공학부)', 'ResearchInterest': 'Persistent organic pollutants, Environmental Analysis and monitoring, Multimedia modeling       ', 'Lab': 'Environmental Analytical Chemistry Lab (EACL)', 'Website': 'http://home.unist.ac.kr/professor/sdchoi'}\n",
      "{'_id': ObjectId('5bf6bb2120c66c2facad388b'), 'id': '56090930900', 'Name': 'Choi, Young Rok(최영록)', 'department': 'Graduate School of Technology and Innovation Management(기술경영전문대학원)', 'ResearchInterest': 'Entrepreneurship, Innovation Strategy, Family & Small Business, Strategic Alliances       ', 'Lab': 'Entrepreneurship & Innovation Strategy Lab', 'Website': ''}\n",
      "{'_id': ObjectId('5bf6bb2220c66c2facad388c'), 'id': '8859945700', 'Name': 'Choi, Young-Ri(최영리)', 'department': 'School of Electrical and Computer Engineering(전기전자컴퓨터공학부)', 'ResearchInterest': 'Computer systems, system software, cloud computing, virtualization       ', 'Lab': 'System Software Lab', 'Website': 'http://ychoi.unist.ac.kr/'}\n",
      "{'_id': ObjectId('5bf6bb2320c66c2facad388d'), 'Name': 'Choi, YunSeok(최윤석)', 'department': 'School of Energy and Chemical Engineering(에너지및화학공학부)', 'ResearchInterest': '', 'Lab': '', 'Website': ''}\n",
      "{'_id': ObjectId('5bf6bb2420c66c2facad388e'), 'id': '55419135100', 'Name': 'Chun, Se Young(전세영)', 'department': 'School of Electrical and Computer Engineering(전기전자컴퓨터공학부)', 'ResearchInterest': 'Inverse problem, sparse signal, multimodal information, diffeomorphic alignment, statistical learning, medical imaging       ', 'Lab': 'Bio-Medical Image Processing Lab (BMIPL)', 'Website': 'http://seyoungchun.wordpress.com/'}\n",
      "{'_id': ObjectId('5bf6bb2520c66c2facad388f'), 'id': '21742150900', 'Name': 'Chung, Dongil(정동일)', 'department': 'School of Design and Human Engineering(디자인 및 인간공학부)', 'ResearchInterest': 'Decision Neuroscience; Neuroimaging; Neuroeconomics; Decision-making; Social interaction       ', 'Lab': 'Decision Neuroscience & Cognitive Engineering Lab', 'Website': 'http://dnce.unist.ac.kr'}\n",
      "{'_id': ObjectId('5bf6bb2620c66c2facad3890'), 'id': '57192395800', 'Name': 'Chung, Il-Sug(정일석)', 'department': 'School of Electrical and Computer Engineering(전기전자컴퓨터공학부)', 'ResearchInterest': '', 'Lab': 'Nano-Optoelectronics Laboratory', 'Website': 'http://nano-opto.unist.ac.kr'}\n",
      "{'_id': ObjectId('5bf6bb2720c66c2facad3891'), 'id': '7404002918', 'Name': 'Chung, Jibum(정지범)', 'department': 'School of Urban and Environmental Engineering(도시환경공학부)', 'ResearchInterest': '', 'Lab': 'School of Urban & Environmental Engineering (Disaster Management Engineering)', 'Website': ''}\n",
      "{'_id': ObjectId('5bf6bb2820c66c2facad3892'), 'id': '35317014100', 'Name': 'Chung, Jin-Ho(정진호)', 'department': 'School of Electrical and Computer Engineering(전기전자컴퓨터공학부)', 'ResearchInterest': 'Sequences, channel coding, quantum information theory       ', 'Lab': 'Communications and Code Design Lab (CCDL)', 'Website': 'http://jinho.unist.ac.kr'}\n",
      "{'_id': ObjectId('5bf6bb2820c66c2facad3893'), 'id': '56329330000', 'Name': 'Chung, Keunsuk(정근석)', 'department': 'School of Business Administration(경영학부)', 'ResearchInterest': 'International Macroeconomics, Economic Growth, International Capital Flows       ', 'Lab': 'School of Business Administration', 'Website': 'http://chungk.unist.ac.kr/'}\n",
      "{'_id': ObjectId('5bf6bb2a20c66c2facad3894'), 'id': '56531262200', 'Name': 'Chung, Moses(정모세)', 'department': 'School of Natural Science(자연과학부)', 'ResearchInterest': 'Accelerator, beam physics and diagnostics, plasma       ', 'Lab': 'Intense Beam and Accelerator Laboratory (IBAL)', 'Website': 'http://mchung.unist.ac.kr'}\n",
      "{'_id': ObjectId('5bf6bb2c20c66c2facad3895'), 'id': '23007964200', 'Name': 'Comuzzi, Marco(ComuzziMarco)', 'department': 'Graduate School of Technology and Innovation Management(기술경영전문대학원)', 'ResearchInterest': 'business process management, enterprise systems, process monitoring, compliance, management, ERP system, business network, design science       ', 'Lab': 'Intelligent Enterprise Lab (IEL)', 'Website': 'https://sites.google.com/site/marcocomuzziphd/home'}\n",
      "{'_id': ObjectId('5bf6bb2d20c66c2facad3896'), 'id': '55574220038', 'Name': 'Ding, Feng(DingFeng)', 'department': 'School of Materials Science and Engineering(신소재공학부)', 'ResearchInterest': 'Theoretical methods development for materials studies., The formation mechanism of various carbon materials, from fullerene to carbon nanotube and graphene., Kinetics and thermodynamics of materials growth and etching., The structure, properties and fundamentals of nanomaterials., The experimental synthesis of carbon nanotubes.       ', 'Lab': 'IBS - Center for Multidimensional Carbon Materials (CMCM)', 'Website': ''}\n",
      "{'_id': ObjectId('5bf6bb2e20c66c2facad3897'), 'id': '35240073500', 'Name': 'Fynan, Douglas A.(Douglas A. Fynan)', 'department': 'School of Mechanical, Aerospace and Nuclear Engineering(기계항공및원자력공학부)', 'ResearchInterest': '', 'Lab': '', 'Website': ''}\n",
      "{'_id': ObjectId('5bf6bb2f20c66c2facad3898'), 'id': '6603351072', 'Name': 'Ghim, Cheol-Min(김철민)', 'department': 'School of Life Sciences(생명과학부)', 'ResearchInterest': 'Control of complex networks, stochastic cell biology, biochemical information processing, human microbiome, ecological inference       ', 'Lab': 'Physical Biology & Biological Physics', 'Website': 'http://pbbp.unist.ac.kr/'}\n",
      "{'_id': ObjectId('5bf6bb3120c66c2facad3899'), 'id': '7005825141', 'Name': 'Granick, Steve(GranickSteve)', 'department': 'School of Natural Science(자연과학부)', 'ResearchInterest': 'Chemistry, physics, biology, engineering       ', 'Lab': 'CSLM(Center for Soft and Living Matter) Lab', 'Website': 'http://softmatt.ibs.re.kr/'}\n",
      "{'_id': ObjectId('5bf6bb3220c66c2facad389a'), 'id': '7004632584', 'Name': 'Grzybowski, Bartosz A.(GrzybowskiBartosz Andrzej)', 'department': 'School of Natural Science(자연과학부)', 'ResearchInterest': 'Nano science, Nanomaterials, Programmable Reactions, Chemical Networks, Cellular Dynamics       ', 'Lab': 'School of Natural Science', 'Website': ''}\n",
      "{'_id': ObjectId('5bf6bb3220c66c2facad389b'), 'id': '34881804800', 'Name': 'Hong, Hwajung(홍화정)(2015-08~2018-03)', 'department': 'Graduate School of Creative Design Engineering(디자인-공학 융합전문대학원)', 'ResearchInterest': 'Human-Computer Interaction, social computing, assistive technology, health informatics       ', 'Lab': 'DxD (Data, Interaction, and Design) Lab', 'Website': ''}\n",
      "{'_id': ObjectId('5bf6bb3420c66c2facad389c'), 'id': '15836977200', 'Name': 'Hong, Sung You(홍성유)', 'department': 'School of Energy and Chemical Engineering(에너지및화학공학부)', 'ResearchInterest': 'Synthetic organic chemistry, transition metals, oxidation state       ', 'Lab': 'Synthetic Organic Chemistry Laboratory', 'Website': 'http://home.unist.ac.kr/professor/syhong/'}\n",
      "{'_id': ObjectId('5bf6bb3420c66c2facad389d'), 'id': '55954121900', 'Name': 'Hong, Woonki(홍운기)', 'department': 'School of Business Administration(경영학부)', 'ResearchInterest': 'Expertise utilization, Transactive menory system, High-commitment work system, Organizational fairness, Human resource management , Knowledge sharing       ', 'Lab': 'School of Business Administration', 'Website': ''}\n",
      "{'_id': ObjectId('5bf6bb3620c66c2facad389e'), 'id': '36559468200', 'Name': 'Hur, Min Sup(허민섭)', 'department': 'School of Natural Science(자연과학부)', 'ResearchInterest': 'Laser-Plasma Electron Accelerator and Table-top Femto Hard X-ray generation, Plasma-based THz generation, PIC and fluid code development, Reduced Laser-Plasma modelling, Capillary Discharge Systems for Guidied Laser Wakefield Accelerators       ', 'Lab': 'Computational Plasma Lab', 'Website': 'http://cpl.unist.ac.kr'}\n",
      "{'_id': ObjectId('5bf6bb3620c66c2facad389f'), 'id': '36445099200', 'Name': 'Hwang, Sung Ju(황성주)(2014-08~2018-01)', 'department': 'School of Electrical and Computer Engineering(전기전자컴퓨터공학부)', 'ResearchInterest': 'Machine learning, deep learning, visual recognition, natural language processing       ', 'Lab': 'Machine Learning and Visual Recognition Group', 'Website': 'http://www.sungjuhwang.com'}\n",
      "{'_id': ObjectId('5bf6bb3820c66c2facad38a0'), 'id': '9036557400', 'Name': 'Im, Jungho(임정호)', 'department': 'School of Urban and Environmental Engineering(도시환경공학부)', 'ResearchInterest': 'Remote sensing, Geospatial modeling, Climate change       ', 'Lab': 'Intelligent Remote sensing and geospatial Information Systems (IRIS) Lab', 'Website': 'http://iris.unist.ac.kr/'}\n",
      "{'_id': ObjectId('5bf6bb3a20c66c2facad38a1'), 'id': '8575447100', 'Name': 'In, Yongkyoon(인용균)', 'department': 'School of Natural Science(자연과학부)', 'ResearchInterest': '', 'Lab': '', 'Website': ''}\n",
      "{'_id': ObjectId('5bf6bb3b20c66c2facad38a2'), 'id': '16068431400', 'Name': 'Jang, Bongsoo(장봉수)', 'department': 'School of Natural Science(자연과학부)', 'ResearchInterest': 'Numerical analysis, dynamics, fractional systems, data sciences       ', 'Lab': 'Computational Mathematical Science Lab (CMS Lab)', 'Website': 'http://amath.unist.ac.kr/'}\n",
      "{'_id': ObjectId('5bf6bb3c20c66c2facad38a3'), 'id': '36650511900', 'Name': 'Jang, Hyunjin(장현진)', 'department': 'School of Management Engineering(경영공학부)', 'ResearchInterest': 'Quantitative risk management, Derivatives pricing, Stochastic modeling in Finance       ', 'Lab': 'School of Business Administration', 'Website': 'https://sites.google.com/site/janghj/'}\n",
      "{'_id': ObjectId('5bf6bb3d20c66c2facad38a4'), 'id': '7402965305', 'Name': 'Jang, Jaesung(장재성)', 'department': 'School of Mechanical, Aerospace and Nuclear Engineering(기계항공및원자력공학부)', 'ResearchInterest': 'Bio-MEMS, Bioaerosols, Sensor, Aerosol Cleaning, Fluid Mechanics at microscales       ', 'Lab': 'Sensors & Aerosols Lab', 'Website': 'https://sites.google.com/site/salabunist/'}\n",
      "{'_id': ObjectId('5bf6bb3f20c66c2facad38a5'), 'id': '26641176600', 'Name': 'Jang, Ji-Hyun(장지현)', 'department': 'School of Energy and Chemical Engineering(에너지및화학공학부)', 'ResearchInterest': 'Graphene, photoelectrochemical (PEC) H2 generation, ORR/OER, SERS,3D-Nanostructures, supercapacitors, thermoelectric materials       ', 'Lab': 'Nano Crystal Lab (NCL)', 'Website': 'http://ncl40.wix.com/nanocrystal'}\n",
      "{'_id': ObjectId('5bf6bb4120c66c2facad38a6'), 'id': '56457141300', 'Name': 'Jang, Ji-Wook(장지욱)', 'department': 'School of Energy and Chemical Engineering(에너지및화학공학부)', 'ResearchInterest': 'Materials Science, Energy       ', 'Lab': 'JW Energy Lab', 'Website': 'http://jwjang.unist.ac.kr/'}\n",
      "{'_id': ObjectId('5bf6bb4120c66c2facad38a7'), 'Name': 'Jeon, Myeongjae(전명재)', 'department': 'School of Electrical and Computer Engineering(전기전자컴퓨터공학부)', 'ResearchInterest': 'Parallel/distributed processing of deep learning workloads, Real-time stream data analytics at cloud/IoT scale, Public/private blockchain       ', 'Lab': '', 'Website': 'https://sites.google.com/site/myeongjae/'}\n",
      "{'_id': ObjectId('5bf6bb4320c66c2facad38a8'), 'id': '35490647000', 'Name': 'Jeong, Hoon Eui(정훈의)', 'department': 'School of Mechanical, Aerospace and Nuclear Engineering(기계항공및원자력공학부)', 'ResearchInterest': 'Biomimetics, Multiscale manufacturing, Micro/nanofabrication       ', 'Lab': 'Multiscale Biomimetics & Manufacturing Lab', 'Website': 'http://mbm.unist.ac.kr/'}\n",
      "{'_id': ObjectId('5bf6bb4420c66c2facad38a9'), 'id': '23004708300', 'Name': 'Jeong, Hu Young(정후영)', 'department': 'Central Research Facility(연구지원본부)', 'ResearchInterest': 'Soft material characterization such as graphene using a low kV Cs-corrected TEM, Insitu-TEM characterization of carbon-based materials using nanofactory STM holder for Li-ion battery application, Structural characterization of mesoporous materials using SEM & TEM, Interface analysis between various oxides and metals through Cs-corrected (S)TEM, Resistive switching mechanism of graphene oxide thin films for RRAM application        ', 'Lab': 'UNIST Central Research Facilities (UCRF)', 'Website': 'http://ucrf.unist.ac.kr/'}\n",
      "{'_id': ObjectId('5bf6bb4520c66c2facad38aa'), 'id': '55220231200', 'Name': 'Jeong, Joonwoo(정준우)', 'department': 'School of Natural Science(자연과학부)', 'ResearchInterest': 'Liquid crystals, polymers, colloids, emulsions, pattern formation, microfluidics, microfabrication, optical microscopy       ', 'Lab': 'Experimental Soft Matter Physics Lab (SOPHY)', 'Website': 'http://sophy.unist.ac.kr/'}\n",
      "{'_id': ObjectId('5bf6bb4620c66c2facad38ab'), 'id': '7201556423', 'Name': 'Jeong, Kyeong-Min(정경민)', 'department': 'School of Energy and Chemical Engineering(에너지및화학공학부)', 'ResearchInterest': 'Lithium ion battery performance, electrode design, quality, safety enhancement, electrochemical energy conversion and storage system evolution       ', 'Lab': 'Electrochemical System Lab (ECheSL)', 'Website': 'http://echesl.unist.ac.kr/'}\n",
      "{'_id': ObjectId('5bf6bb4820c66c2facad38ac'), 'id': '8268624200', 'Name': 'Jeong, Won-Ki(정원기)', 'department': 'School of Electrical and Computer Engineering(전기전자컴퓨터공학부)', 'ResearchInterest': 'Visualization, image processing, machine learning, parallel computing       ', 'Lab': 'High-performance Visual Computing Lab', 'Website': 'http://hvcl.unist.ac.kr/'}\n",
      "{'_id': ObjectId('5bf6bb4820c66c2facad38ad'), 'Name': 'Jeong, Yunwoo(정연우)', 'department': 'Graduate School of Creative Design Engineering(디자인-공학 융합전문대학원)', 'ResearchInterest': 'Industrial Design, Product Design, Transportation Design, Mobility, Trend, Tomorrow Design       ', 'Lab': 'Disegno T9 ', 'Website': 'http://www.disegnot9.com'}\n",
      "{'_id': ObjectId('5bf6bb4920c66c2facad38ae'), 'id': '57075668800', 'Name': 'Ji, Wooseok(지우석)', 'department': 'School of Mechanical, Aerospace and Nuclear Engineering(기계항공및원자력공학부)', 'ResearchInterest': 'Mechanics of composites, In situ experiments, Fracture mechanics, Computational solid mechanics, Advanced finite element methods, Static and dynamic stability of structures       ', 'Lab': 'Composite Materials and Structures Lab', 'Website': 'https://sites.google.com/site/wsjilab/home'}\n",
      "{'_id': ObjectId('5bf6bb4b20c66c2facad38af'), 'id': '34876957300', 'Name': 'Jin, Hosub(진호섭)', 'department': 'School of Natural Science(자연과학부)', 'ResearchInterest': 'Spin-orbit coupling, electron-correlation, topological quantum phases       ', 'Lab': 'Quantum Materials Design Lab', 'Website': ''}\n",
      "{'_id': ObjectId('5bf6bb4c20c66c2facad38b0'), 'id': '8534830000', 'Name': 'Jo, Wook(조욱)', 'department': 'School of Materials Science and Engineering(신소재공학부)', 'ResearchInterest': 'Lead-free piezoceramics, ultra - low temperature sintering, ferroelectrics, relaxor ferroelectrics, 2D materials, magnetoelectric materials, multiferroics       ', 'Lab': 'Sustainable Functional Ceramics Lab', 'Website': 'https://sfc.unist.ac.kr'}\n",
      "{'_id': ObjectId('5bf6bb4e20c66c2facad38b1'), 'id': '56243474000', 'Name': 'Joo, Changhee(주창희)', 'department': 'School of Electrical and Computer Engineering(전기전자컴퓨터공학부)', 'ResearchInterest': 'Learning, modeling, networking, resource allocation, stochastic optimization, distributed computing, low complexity       ', 'Lab': 'Learning, Modeling, and Networking', 'Website': 'http://netlab.unist.ac.kr/'}\n",
      "{'_id': ObjectId('5bf6bb4f20c66c2facad38b2'), 'id': '35734143600', 'Name': 'Joo, Sang Hoon(주상훈)', 'department': 'School of Energy and Chemical Engineering(에너지및화학공학부)', 'ResearchInterest': 'Catalyst, energy conversion, fuel cells, electrolyzer, ORR, HER, OER       ', 'Lab': 'Nanomaterials & Catalysis Lab', 'Website': 'http://shjoo.unist.ac.kr/'}\n",
      "{'_id': ObjectId('5bf6bb5120c66c2facad38b3'), 'id': '25960995200', 'Name': 'Jun, Young Chul(전영철)', 'department': 'School of Materials Science and Engineering(신소재공학부)', 'ResearchInterest': 'Nanophotonics, plasmonics, metamaterials, 4D printing, programmable matter, smart materials       ', 'Lab': 'Laboratory of Nanophotonics & Metamaterials (NanoMeta)', 'Website': 'https://sites.google.com/site/youngchuljun/'}\n",
      "{'_id': ObjectId('5bf6bb5320c66c2facad38b4'), 'id': '55879993100', 'Name': 'Jun, Yubin(전유빈)', 'department': 'School of Urban and Environmental Engineering(도시환경공학부)', 'ResearchInterest': 'Construction materials, Concrete deterioration and durability       ', 'Lab': 'Construction Materials Lab', 'Website': 'https://sites.google.com/site/nanoaims/post-doctors'}\n",
      "{'_id': ObjectId('5bf6bb5420c66c2facad38b5'), 'id': '8362020700', 'Name': 'Jung, Chang-Yeol(정창렬)', 'department': 'School of Natural Science(자연과학부)', 'ResearchInterest': 'Analysis, singular perturbations, uncertainty, numerical methods       ', 'Lab': 'Analysis and computational methods Lab', 'Website': 'http://jung.unist.ac.kr'}\n",
      "{'_id': ObjectId('5bf6bb5520c66c2facad38b6'), 'id': '56034999700', 'Name': 'Jung, Dooyoung(정두영)', 'department': 'School of Design and Human Engineering(디자인 및 인간공학부)', 'ResearchInterest': 'Medicine, Psychology       ', 'Lab': 'School of Design and Human Engineering', 'Website': ''}\n",
      "{'_id': ObjectId('5bf6bb5620c66c2facad38b7'), 'id': '36508876500', 'Name': 'Jung, Jee-Hoon(정지훈)', 'department': 'School of Electrical and Computer Engineering(전기전자컴퓨터공학부)', 'ResearchInterest': 'Power Converter, wireless power transfer, smart power interface, digital control system,, PHILS system       ', 'Lab': 'Advanced Power Interface & Power Electronics Lab (APIPEL)', 'Website': 'http://apipel.unist.ac.kr/'}\n",
      "{'_id': ObjectId('5bf6bb5720c66c2facad38b8'), 'id': '7402479697', 'Name': 'Jung, Kooyul(정구열)', 'department': 'Graduate School of Technology and Innovation Management(기술경영전문대학원)', 'ResearchInterest': 'Accounting Information and capital market, Analysts’Forecast, Governance       ', 'Lab': 'School of Business Administration', 'Website': 'http://kyjung.unist.ac.kr/index.sko'}\n",
      "{'_id': ObjectId('5bf6bb5820c66c2facad38b9'), 'id': '7402549976', 'Name': 'Jung, Mooyoung(정무영)', 'department': '울산과학기술원', 'ResearchInterest': 'Manufacturing Systems Engineering, Energy Management System - Applications of Fractal Concept       ', 'Lab': 'Ulsan National Institute of Science and Technology', 'Website': ''}\n",
      "{'_id': ObjectId('5bf6bb5a20c66c2facad38ba'), 'id': '7201622408', 'Name': 'Jung, Woonggyu(정웅규)', 'department': 'School of Life Sciences(생명과학부)', 'ResearchInterest': 'Translational optical imaging, optical stimulation, multi-scale imaging, neuro-photonics, mobile-based medical device       ', 'Lab': 'Translational Biophotonics Laboratory (TBL)', 'Website': 'http://www.sites.google.com/site/tblunist/'}\n",
      "{'_id': ObjectId('5bf6bb5b20c66c2facad38bb'), 'id': '7402506430', 'Name': 'Jung, Yoon Seok(정윤석)(2011-03~2018-03)', 'department': 'School of Energy and Chemical Engineering(에너지및화학공학부)', 'ResearchInterest': 'Batteries, All-solid-state batteries, solid electrolytes, electrodes, atomic layer deposition,energy storage devices       ', 'Lab': 'Electrochemical Solid-State Energy Storage Lab', 'Website': ''}\n",
      "{'_id': ObjectId('5bf6bb5d20c66c2facad38bc'), 'id': '24778544300', 'Name': 'Jung, Yoonhyuk(정윤혁)(2010-07~2018-09)', 'department': 'Graduate School of Technology and Innovation Management(기술경영전문대학원)', 'ResearchInterest': 'Information Systems, Digital media, Mobile business       ', 'Lab': 'SoT(Social Technology) Lab', 'Website': 'https://sites.google.com/site/whatisst/sot-lab'}\n",
      "{'_id': ObjectId('5bf6bb5f20c66c2facad38bd'), 'id': '37761553500', 'Name': 'Kang, Byoung Heon(강병헌)', 'department': 'School of Life Sciences(생명과학부)', 'ResearchInterest': 'Mitochondrial chaperones, cancer biology, cell death, metabolism, cancer stem cells, cancer therapeutics development       ', 'Lab': 'Cancer Biology Lab', 'Website': 'https://sites.google.com/site/mitomed/'}\n",
      "{'_id': ObjectId('5bf6bb6020c66c2facad38be'), 'id': '57102296600', 'Name': 'Kang, Hyun-Wook(강현욱)', 'department': 'School of Life Sciences(생명과학부)', 'ResearchInterest': '3D Bioprinting, tissue engineering and regenerative medicine, Body-on-a-chip       ', 'Lab': '3D Biofabrication Lab (3BL)', 'Website': 'http://bme.unist.ac.kr'}\n",
      "{'_id': ObjectId('5bf6bb6220c66c2facad38bf'), 'id': '56789292400', 'Name': 'Kang, Joo H.(강주헌)', 'department': 'School of Life Sciences(생명과학부)', 'ResearchInterest': 'Biomedical devices, infectious disease, organ-on-a-chip, microfluidics, mechanobiology       ', 'Lab': 'Translational Multiscale Biofluidics Lab (TMB Lab)', 'Website': 'http://www.jookanglab.com'}\n",
      "{'_id': ObjectId('5bf6bb6320c66c2facad38c0'), 'id': '7405683259', 'Name': 'Kang, Sang Hoon(강상훈)', 'department': 'School of Mechanical, Aerospace and Nuclear Engineering(기계항공및원자력공학부)', 'ResearchInterest': 'Rehabilitation Robotics & Mechatronic Tools, Biomechanics for Rehabilitation, Human Limb Impedance Estimation, Assistive and Healthcare robotics, Robust Motion/Force Control       ', 'Lab': 'Robotics and Rehab. Engineering Lab (R2EL)', 'Website': 'http://robotics.unist.ac.kr/'}\n",
      "{'_id': ObjectId('5bf6bb6520c66c2facad38c1'), 'id': '55544443300', 'Name': 'Kang, Sarah M.(강사라)', 'department': 'School of Urban and Environmental Engineering(도시환경공학부)', 'ResearchInterest': 'Climate change, ITCZ, Atmospheric general circulation, Polar amplification       ', 'Lab': 'Climate Dynamics Lab', 'Website': 'http://skang.unist.ac.kr/'}\n",
      "{'_id': ObjectId('5bf6bb6720c66c2facad38c2'), 'id': '35738789000', 'Name': 'Kang, Sebyung(강세병)', 'department': 'School of Life Sciences(생명과학부)', 'ResearchInterest': 'Protein engineering, Drug/diagnostics delivery nanoplatform, Protein-base vaccine delivery systems, Biosensor & imaging       ', 'Lab': 'Protein Nanobio Lab', 'Website': 'https://sites.google.com/site/proteinnanobio'}\n",
      "{'_id': ObjectId('5bf6bb6920c66c2facad38c3'), 'id': '55588265000', 'Name': 'Kang, Seok Ju(강석주)', 'department': 'School of Energy and Chemical Engineering(에너지및화학공학부)', 'ResearchInterest': 'Metal-Oxygen battery, low dimensional materials, organic flexible memory, organic solar cell       ', 'Lab': 'Smart Materials for Energy Lab', 'Website': 'http://seokjukang.wix.com/smel'}\n",
      "{'_id': ObjectId('5bf6bb6920c66c2facad38c4'), 'id': '35848454700', 'Name': 'Kang, Seokhyeong(강석형)(2014-08~2018-03)', 'department': 'School of Electrical and Computer Engineering(전기전자컴퓨터공학부)', 'ResearchInterest': 'System-on-Chip, low power, computer-aided design, physical implementation       ', 'Lab': 'System-on-Chip Design Lab', 'Website': 'http://soc.unist.ac.kr'}\n",
      "{'_id': ObjectId('5bf6bb6b20c66c2facad38c5'), 'id': '15123900700', 'Name': 'Kee, Jung-Min(기정민)', 'department': 'School of Natural Science(자연과학부)', 'ResearchInterest': 'Chemical biology, organic synthesis, peptide chemistry, synthetic protein chemistry       ', 'Lab': 'Bioorganic and Chembio Lab', 'Website': 'http://kee-lab.org'}\n",
      "{'_id': ObjectId('5bf6bb6c20c66c2facad38c6'), 'id': '7003629876', 'Name': 'Ki, Hyungson(기형선)', 'department': 'School of Mechanical, Aerospace and Nuclear Engineering(기계항공및원자력공학부)', 'ResearchInterest': 'Laser materials processing, Laser material interaction       ', 'Lab': 'Laser Processing & Multiphysics Systems Laboratory', 'Website': 'http://ptlresearch.com/'}\n",
      "{'_id': ObjectId('5bf6bb6e20c66c2facad38c7'), 'Name': 'Kim, BongSoo(김봉수)', 'department': 'School of Natural Science(자연과학부)', 'ResearchInterest': '', 'Lab': '', 'Website': ''}\n",
      "{'_id': ObjectId('5bf6bb6f20c66c2facad38c8'), 'id': '35264258100', 'Name': 'Kim, Byeong-Su(김병수)(2009-08~2018-09)', 'department': 'School of Natural Science(자연과학부)', 'ResearchInterest': 'Carbon materials, polymer, Layer-by-Layer (LbL) assembly, hyperbranched polymer, polyglycerol (PG), bio-applications       ', 'Lab': 'Soft and Hybrid Nanomaterials Lab', 'Website': ''}\n",
      "{'_id': ObjectId('5bf6bb7020c66c2facad38c9'), 'id': '55726495200', 'Name': 'Kim, Byungmin(김병민)', 'department': 'School of Urban and Environmental Engineering(도시환경공학부)', 'ResearchInterest': 'Seismic Site Response Analysis, Seismic Hazard Analysis, Slope Stability Analysis, Geospatial Analysis, Soil-Structure Interaction Analysis       ', 'Lab': 'School of Urban and Environmental Engineering', 'Website': ''}\n",
      "{'_id': ObjectId('5bf6bb7120c66c2facad38ca'), 'id': '56156833800', 'Name': 'Kim, Chae Un(김채운)', 'department': 'School of Natural Science(자연과학부)', 'ResearchInterest': 'X-ray Science, biophysical science, biomedical science       ', 'Lab': 'High Pressure X-ray Science Lab (HiPreX)', 'Website': 'http://hiprex.unist.ac.kr'}\n",
      "{'_id': ObjectId('5bf6bb7120c66c2facad38cb'), 'id': '43261241100', 'Name': 'Kim, Chajoong(김차중)', 'department': 'Graduate School of Creative Design Engineering(디자인-공학 융합전문대학원)', 'ResearchInterest': 'User experience, Human-product interaction, Cognition in design, Cultural differences       ', 'Lab': 'Atelab (Atelier + Laboratory)', 'Website': 'http://atelab.unist.ac.kr/'}\n",
      "{'_id': ObjectId('5bf6bb7120c66c2facad38cc'), 'Name': 'Kim, Daejin(김대진)', 'department': 'School of Business Administration(경영학부)', 'ResearchInterest': 'Market Microstructure, Derivatives, Investments, Mutual Funds, Hedge Funds,, Exchange-Traded Products, Empirical Asset Pricing, Corporate Governance, Mergers&Acqiusitions       ', 'Lab': 'School of Business Administration', 'Website': ''}\n",
      "{'_id': ObjectId('5bf6bb7320c66c2facad38cd'), 'id': '55759502300', 'Name': 'Kim, Donghyuk(김동혁)', 'department': 'School of Energy and Chemical Engineering(에너지및화학공학부)', 'ResearchInterest': 'Systems Biology, Computational Biology, Bacterial Pathogens, Host-Pathogen Interaction, Anti-Microbial Resistance       ', 'Lab': 'Systems Biology Lab', 'Website': 'https://sites.google.com/view/systemskimlab'}\n",
      "{'_id': ObjectId('5bf6bb7420c66c2facad38ce'), 'id': '56678101800', 'Name': 'Kim, Duck Young(김덕영)', 'department': 'School of Mechanical, Aerospace and Nuclear Engineering(기계항공및원자력공학부)', 'ResearchInterest': 'Smart factory, Smart control, Failure analysis, Simulation       ', 'Lab': 'Smart Factory Lab (SF)', 'Website': 'http://sf.unist.ac.kr/'}\n",
      "{'_id': ObjectId('5bf6bb7620c66c2facad38cf'), 'id': '55935915500', 'Name': 'Kim, Eunhee(김은희)', 'department': 'School of Life Sciences(생명과학부)', 'ResearchInterest': 'Molecular and Cellular Cancer Biology, Dysregulation of Splicing in Cancer       ', 'Lab': 'Molecular Oncology ', 'Website': ''}\n",
      "{'_id': ObjectId('5bf6bb7720c66c2facad38d0'), 'id': '35210569700', 'Name': 'Kim, Gun-Ho(김건호)', 'department': 'School of Mechanical, Aerospace and Nuclear Engineering(기계항공및원자력공학부)', 'ResearchInterest': 'Heat transfer mechanism in soft materials (e.g., plastics, animal tissues), Development of thermally conductive plastics and high performance polymeric thermoelectric heat engine, Development of biomedical devices that use responses of animals to environmental temperature changes        ', 'Lab': 'SoftHeat Group', 'Website': 'https://sites.google.com/site/softheatlab/'}\n",
      "{'_id': ObjectId('5bf6bb7920c66c2facad38d1'), 'id': '23100320200', 'Name': 'Kim, Guntae(김건태)', 'department': 'School of Energy and Chemical Engineering(에너지및화학공학부)', 'ResearchInterest': 'Solid Oxide Fuel Cells (SOFCs)& SOE, metal-air batteries, ceramic membranes, PEMFC       ', 'Lab': 'GUNS Lab', 'Website': 'http://gunslab.unist.ac.kr/'}\n",
      "{'_id': ObjectId('5bf6bb7a20c66c2facad38d2'), 'id': '55671558600', 'Name': 'Kim, Hajin(김하진)', 'department': 'School of Life Sciences(생명과학부)', 'ResearchInterest': 'Biophysics, Single Molecule, fluorescence Spectroscopy, biological Motors, biomolecular assembly       ', 'Lab': 'Single Molecule Biophysics Lab', 'Website': 'http://single.unist.ac.kr/'}\n",
      "{'_id': ObjectId('5bf6bb7c20c66c2facad38d3'), 'id': '56812945100', 'Name': 'Kim, Hak Sun(김학선)', 'department': 'School of Electrical and Computer Engineering(전기전자컴퓨터공학부)', 'ResearchInterest': 'ICT       ', 'Lab': 'School of Electrical & Computer Engineering', 'Website': ''}\n",
      "{'_id': ObjectId('5bf6bb7d20c66c2facad38d4'), 'id': '56415175000', 'Name': 'Kim, Hee Reyoung(김희령)', 'department': 'School of Mechanical, Aerospace and Nuclear Engineering(기계항공및원자력공학부)', 'ResearchInterest': 'Environmental radiation safety, Electromagnetic pump, NPP D&D technology       ', 'Lab': 'Liquid Metal Magnetohydrodynamics Lab/ Environmental Radiation Safety Lab', 'Website': 'http://kimhr.unist.ac.kr/'}\n",
      "{'_id': ObjectId('5bf6bb7f20c66c2facad38d5'), 'Name': 'Kim, Hongtae(김홍태)', 'department': 'School of Life Sciences(생명과학부)', 'ResearchInterest': '', 'Lab': '', 'Website': ''}\n",
      "{'_id': ObjectId('5bf6bb8020c66c2facad38d6'), 'id': '16233773500', 'Name': 'Kim, Hyoil(김효일)', 'department': 'School of Electrical and Computer Engineering(전기전자컴퓨터공학부)', 'ResearchInterest': 'Wireless networks, cognitive radio, WLAN, LTE, mobile cloud, 5G       ', 'Lab': 'Wireless & Mobile Networking Lab (WMNL)', 'Website': 'http://wmnl.unist.ac.kr'}\n",
      "{'_id': ObjectId('5bf6bb8120c66c2facad38d7'), 'id': '55798971600', 'Name': 'Kim, Hyomin(김효민)', 'department': 'Division of General Studies(기초과정부)', 'ResearchInterest': 'Public understanding of health risks and policy-making, New energy projects and open planning, Media and public understanding of science       ', 'Lab': 'Division of General Studies', 'Website': 'http://khyomin17.unist.ac.kr/'}\n",
      "{'_id': ObjectId('5bf6bb8220c66c2facad38d8'), 'id': '8207057600', 'Name': 'Kim, Jaai(김자애)', 'department': 'School of Urban and Environmental Engineering(도시환경공학부)', 'ResearchInterest': '', 'Lab': 'School of Urban and Environmental Engineering', 'Website': ''}\n",
      "{'_id': ObjectId('5bf6bb8420c66c2facad38d9'), 'id': '56412060100', 'Name': 'Kim, Jae Joon(김재준)', 'department': 'School of Electrical and Computer Engineering(전기전자컴퓨터공학부)', 'ResearchInterest': 'Integrated circuits and systems, smart sensor interfaces, wearable healthcare systems, IoT & automotive electronics, mixed-mode circuits       ', 'Lab': 'Convergence Semiconductor Design Lab (CSDL)', 'Website': 'http://csdl.unist.ac.kr'}\n",
      "{'_id': ObjectId('5bf6bb8620c66c2facad38da'), 'id': '41761974900', 'Name': 'Kim, Jae-Ick(김재익)', 'department': 'School of Life Sciences(생명과학부)', 'ResearchInterest': '', 'Lab': 'School of Life Sciences', 'Website': ''}\n",
      "{'_id': ObjectId('5bf6bb8820c66c2facad38db'), 'id': '7601387417', 'Name': 'Kim, Jaeup U.(김재업)', 'department': 'School of Natural Science(자연과학부)', 'ResearchInterest': 'block copolymers, soft matter, nanostructures & patterning, machine learning       ', 'Lab': 'Nanostructured Polymer Materials Theory Lab', 'Website': 'http://home.unist.ac.kr/~jukim'}\n",
      "{'_id': ObjectId('5bf6bb8920c66c2facad38dc'), 'id': '54781393800', 'Name': 'Kim, Je-Hyung(김제형)', 'department': 'School of Natural Science(자연과학부)', 'ResearchInterest': 'Solid-state quantum emitters, Cavity quantum electrodynamics, Quantum entanglement between multiple qubits, On-chip integrated solid-state quantum devices       ', 'Lab': 'School of Natural Science', 'Website': ''}\n",
      "{'_id': ObjectId('5bf6bb8b20c66c2facad38dd'), 'id': '24166866700', 'Name': 'Kim, Jeong Beom(김정범)', 'department': 'School of Life Sciences(생명과학부)', 'ResearchInterest': 'Patient-specific stem cells, induced pluripotent stem (iPS) cells, direct conversion, 3D bio-printing, Regenerative medicine, Patient-specific drug screening       ', 'Lab': 'Molecular Biomedicine Lab', 'Website': 'http://jbkim.unist.ac.kr/'}\n",
      "{'_id': ObjectId('5bf6bb8c20c66c2facad38de'), 'id': '54585507500', 'Name': 'Kim, Jeong-Yeon(김정연)', 'department': 'Division of General Studies(기초과정부)', 'ResearchInterest': 'Internationalization of higher education, English-medium instruction, Intercultural communicative competence, L2 learning Motivation, Instructional technology and Language Learning       ', 'Lab': 'Division of General Studies', 'Website': 'http://jkim1234.unist.ac.kr/'}\n",
      "{'_id': ObjectId('5bf6bb8d20c66c2facad38df'), 'id': '56007718100', 'Name': 'Kim, Jeongseob(김정섭)', 'department': 'School of Urban and Environmental Engineering(도시환경공학부)', 'ResearchInterest': 'Housing Policy, Real-estate Development, Urban Regeneration, Urban Informatics, Smart Cities       ', 'Lab': 'Housing and Urban Development Lab', 'Website': 'http://jskim.unist.ac.kr/'}\n",
      "{'_id': ObjectId('5bf6bb8f20c66c2facad38e0'), 'id': '55961187500', 'Name': 'Kim, Ji Hyun(김지현)', 'department': 'School of Mechanical, Aerospace and Nuclear Engineering(기계항공및원자력공학부)', 'ResearchInterest': 'High temperature water corrosion, Liquid metal corrosion, Material degradation simulation       ', 'Lab': 'UNIST Nuclear Innovative Materials Laboratory(UNIMAT)', 'Website': 'http://unimat.unist.ac.kr/'}\n",
      "{'_id': ObjectId('5bf6bb9020c66c2facad38e1'), 'id': '55477445000', 'Name': 'Kim, Jin Young(김진영)', 'department': 'School of Energy and Chemical Engineering(에너지및화학공학부)', 'ResearchInterest': 'Polymer solar cells, QD solar cells, organic-inorganic hybrid solar cells, perovskite solar cells, OLEDs, PeLEDs, organic FETs       ', 'Lab': 'Next Generation Energy Laboratory', 'Website': 'http://ngel.unist.ac.kr/'}\n",
      "{'_id': ObjectId('5bf6bb9220c66c2facad38e2'), 'id': '57115646400', 'Name': 'Kim, Jin-Young(김진영)', 'department': 'Division of General Studies(기초과정부)', 'ResearchInterest': 'Communication education, Creativity, Perceptional typology, Media , SNS, Intrapersonal communication       ', 'Lab': 'Division of General Studies', 'Website': 'http://jyk1234.unist.ac.kr/'}\n",
      "{'_id': ObjectId('5bf6bb9320c66c2facad38e3'), 'id': '12802059600', 'Name': 'Kim, Jingook(김진국)', 'department': 'School of Electrical and Computer Engineering(전기전자컴퓨터공학부)', 'ResearchInterest': 'Convergence between circuit and EM domains       ', 'Lab': 'Integrated Circuit and Electromagnetic Compatibility Laboratory (IC & EMC Lab)', 'Website': 'http://icemclab.unist.ac.kr/'}\n",
      "{'_id': ObjectId('5bf6bb9420c66c2facad38e4'), 'id': '56074987800', 'Name': 'Kim, Jiyun(김지윤)', 'department': 'School of Materials Science and Engineering(신소재공학부)', 'ResearchInterest': '', 'Lab': 'School of Materials Science and Engineering', 'Website': ''}\n",
      "{'_id': ObjectId('5bf6bb9420c66c2facad38e5'), 'id': '56428046700', 'Name': 'Kim, Jooha(김주하)', 'department': 'School of Mechanical, Aerospace and Nuclear Engineering(기계항공및원자력공학부)', 'ResearchInterest': 'Experimental fluid mechanics, Flow control, Flow visualization       ', 'Lab': 'Fluid-Based Convergence Lab (FBC)', 'Website': 'http://fbc.unist.ac.kr'}\n",
      "{'_id': ObjectId('5bf6bb9620c66c2facad38e6'), 'id': '56394075000', 'Name': 'Kim, Ju-Young(김주영)', 'department': 'School of Materials Science and Engineering(신소재공학부)', 'ResearchInterest': 'Flexible / stretchable devices, nano-mechanics, nanoporous metal, materials reliability       ', 'Lab': 'Robust Multifunctional Materials Lab', 'Website': 'http://www.jyklab.org/'}\n",
      "{'_id': ObjectId('5bf6bb9720c66c2facad38e7'), 'id': '36023897600', 'Name': 'Kim, Katherine A.(김예린)', 'department': 'School of Electrical and Computer Engineering(전기전자컴퓨터공학부)', 'ResearchInterest': 'power electronics, DC-DC converter control, converter simulation, photovoltaic modeling, differential power processing converters, energy harvesting, power for wearable applications       ', 'Lab': 'Power Electronics for Advanced Renewable Systems Lab', 'Website': 'http://pearslab.unist.ac.kr/'}\n",
      "{'_id': ObjectId('5bf6bb9820c66c2facad38e8'), 'id': '55339231200', 'Name': 'Kim, KwanMyung(김관명)', 'department': 'Graduate School of Creative Design Engineering(디자인-공학 융합전문대학원)', 'ResearchInterest': 'New product development, Design Methodology, Integrated design process, Digital Design, Design Creativity       ', 'Lab': 'Intergration and Innovation Design Lab', 'Website': 'http://iidl.unist.ac.kr/'}\n",
      "{'_id': ObjectId('5bf6bb9920c66c2facad38e9'), 'id': '36065821700', 'Name': 'Kim, Kwang S.(김광수)', 'department': 'School of Natural Science(자연과학부)', 'ResearchInterest': 'Theoretical/experimental nanosciences, molecular electronics spectroscopy, energy materials       ', 'Lab': 'Center for Superfunctional Materials (CSM)', 'Website': 'http://csm.unist.ac.kr/'}\n",
      "{'_id': ObjectId('5bf6bb9b20c66c2facad38ea'), 'id': '24467811900', 'Name': 'Kim, Kwanpyo(김관표)(2014-05~2018-03)', 'department': 'School of Natural Science(자연과학부)', 'ResearchInterest': 'Two-dimensional (2D) materials, graphene, NEMS, electron microscopy       ', 'Lab': 'Experimental Nanoscale Physics Lab', 'Website': 'https://sites.google.com/site/kwanpyokim/'}\n",
      "{'_id': ObjectId('5bf6bb9d20c66c2facad38eb'), 'id': '36573863300', 'Name': 'Kim, Kyung Rok(김경록)', 'department': 'School of Electrical and Computer Engineering(전기전자컴퓨터공학부)', 'ResearchInterest': 'Nano-CMOS, neuromorphic device, terahertz (THz) plasma-wave transistor (PWT)       ', 'Lab': 'Nano-Electronic Emerging Devices (NEEDs) Lab', 'Website': 'http://needs.unist.ac.kr/'}\n",
      "{'_id': ObjectId('5bf6bb9e20c66c2facad38ec'), 'id': '16230708000', 'Name': 'Kim, MinChung(김민중)', 'department': 'School of Business Administration(경영학부)', 'ResearchInterest': 'Marketing strategies and their impact on financial performances, Executive characteristics and strategic marketing decisions, Top Management Team (TMT) dynamics and marketing/management strategies, China marketing & corporate social responsibility and their impacts       ', 'Lab': 'School of Business Administration', 'Website': ''}\n",
      "{'_id': ObjectId('5bf6bb9e20c66c2facad38ed'), 'id': '57189685860', 'Name': 'Kim, Molan(김모란)', 'department': 'School of Business Administration(경영학부)', 'ResearchInterest': 'Online Database Marketing, Social Media Marketing Strategy, Customer Relationship, Management, Consumer-to-Consumer Networked Community       ', 'Lab': 'Database Marketing Strategy', 'Website': ''}\n",
      "{'_id': ObjectId('5bf6bba020c66c2facad38ee'), 'id': '55463530100', 'Name': 'Kim, Namhun(김남훈)', 'department': 'School of Mechanical, Aerospace and Nuclear Engineering(기계항공및원자력공학부)', 'ResearchInterest': 'Additive Manufacturing (3D Printing), Manufacturing Systems, Agent-based Simulation       ', 'Lab': 'UNIST Computer-Integrated Manufacturing Lab (UCIM)', 'Website': 'http://ucim.unist.ac.kr/'}\n",
      "{'_id': ObjectId('5bf6bba120c66c2facad38ef'), 'id': '21740674500', 'Name': 'Kim, Pilwon(김필원)', 'department': 'School of Natural Science(자연과학부)', 'ResearchInterest': 'Complex systems, collective dynamics, nonlinear dynamical systems       ', 'Lab': 'Nonlinear Complex Systems Lab', 'Website': 'http://complex.unist.ac.kr'}\n",
      "{'_id': ObjectId('5bf6bba220c66c2facad38f0'), 'id': '57070769200', 'Name': 'Kim, Seong-Jin(김성진)', 'department': 'School of Electrical and Computer Engineering(전기전자컴퓨터공학부)', 'ResearchInterest': 'Integrated analog-mixed signal circuit design, semiconductor sensor interface circuits       ', 'Lab': 'Bio-inspired Microsystems Lab (BiML)', 'Website': 'http://biml.unist.ac.kr'}\n",
      "{'_id': ObjectId('5bf6bba420c66c2facad38f1'), 'id': '37261449700', 'Name': 'Kim, So Youn(김소연)', 'department': 'School of Energy and Chemical Engineering(에너지및화학공학부)', 'ResearchInterest': 'Colloids, particle dispersions, polymer nanocomposite, block copolymers       ', 'Lab': 'Laboratory for Soft Materials Nanophysics', 'Website': 'http://soyounkim.unist.ac.kr/'}\n",
      "{'_id': ObjectId('5bf6bba520c66c2facad38f2'), 'id': '8429163800', 'Name': 'Kim, Sung Youb(김성엽)', 'department': 'School of Mechanical, Aerospace and Nuclear Engineering(기계항공및원자력공학부)', 'ResearchInterest': 'Computational Mechanics, Nanomechanics, Molecular Dynamics, FEM       ', 'Lab': 'Computational Advanced Nanomechanics (CAN) Lab', 'Website': 'http://can.unist.ac.kr/ '}\n",
      "{'_id': ObjectId('5bf6bba720c66c2facad38f3'), 'id': '34770107800', 'Name': 'Kim, Sung-Phil(김성필)', 'department': 'School of Design and Human Engineering(디자인 및 인간공학부)', 'ResearchInterest': 'Brain-computer interface, Statistical Signal Processing, Neural Code, Neuromarketing       ', 'Lab': 'Brain-Computer Interface (BCI) Lab', 'Website': 'http://bci.unist.ac.kr'}\n",
      "{'_id': ObjectId('5bf6bba820c66c2facad38f4'), 'id': '57190262175', 'Name': 'Kim, Sungil(김성일)', 'department': 'School of Management Engineering(경영공학부)', 'ResearchInterest': 'Business analytics, Statistical Quality Control, Anomaly detection, , Data mining and machine learning, Design of experiments, , Robust parameter design, Demand forecasting, Predictive analytics       ', 'Lab': 'Data Analytics Lab', 'Website': 'http://analytics.unist.ac.kr'}\n",
      "{'_id': ObjectId('5bf6bba920c66c2facad38f5'), 'id': '35726801500', 'Name': 'Kim, Taesung(김태성)', 'department': 'School of Mechanical, Aerospace and Nuclear Engineering(기계항공및원자력공학부)', 'ResearchInterest': 'Micro-/Nanofluidics, BioMEMS, Nanomechatronics       ', 'Lab': 'Microfluidics & Nanomechatronics Lab (μFNM)', 'Website': 'http://www.ufnm.unist.ac.kr/'}\n",
      "{'_id': ObjectId('5bf6bbaa20c66c2facad38f6'), 'id': '57193771490', 'Name': 'Kim, Wook-Dong(김욱동)', 'department': 'Division of General Studies(기초과정부)', 'ResearchInterest': 'English Literature, Translation Studies       ', 'Lab': 'Division of General Studies', 'Website': ''}\n",
      "{'_id': ObjectId('5bf6bbab20c66c2facad38f7'), 'id': '56438114600', 'Name': 'Kim, Yeolib(김여립)', 'department': 'Graduate School of Technology and Innovation Management(기술경영전문대학원)', 'ResearchInterest': 'Information Technology Adoption, E-Commerce, Research Methods, Individual Differences in Information Technology Use       ', 'Lab': 'E-Commerce Strategy', 'Website': ''}\n",
      "{'_id': ObjectId('5bf6bbac20c66c2facad38f8'), 'id': '8505895000', 'Name': 'Kim, Yong Hwan(김용환)', 'department': 'School of Energy and Chemical Engineering(에너지및화학공학부)', 'ResearchInterest': '바이오촉매 생물 전환 생물환경       ', 'Lab': 'School of Energy and Chemical Engineering', 'Website': ''}\n",
      "{'_id': ObjectId('5bf6bbad20c66c2facad38f9'), 'id': '12809437100', 'Name': 'Kim, Young Choon(김영춘)', 'department': 'Graduate School of Technology and Innovation Management(기술경영전문대학원)', 'ResearchInterest': 'Organization Learning, Strategic Management, Entrepreneurship       ', 'Lab': 'Organization Studies', 'Website': 'https://sites.google.com/site/youngchoonkim/'}\n",
      "{'_id': ObjectId('5bf6bbae20c66c2facad38fa'), 'id': '55699642700', 'Name': 'Kim, Youngsik(김영식)', 'department': 'School of Energy and Chemical Engineering(에너지및화학공학부)', 'ResearchInterest': 'Ionic conducting ceramic electrolyte membranes, energy conversion and storage materials and devices       ', 'Lab': 'YK Research', 'Website': 'http://www.ykimresearch.com/'}\n",
      "{'_id': ObjectId('5bf6bbb020c66c2facad38fb'), 'id': '8143355200', 'Name': 'Kim, Yung Sam(김영삼)', 'department': 'School of Natural Science(자연과학부)', 'ResearchInterest': '2D IR, chemical exchange of H-bond, fast reaction dynamics, protein dynamics       ', 'Lab': 'Ultrafast 2D IR Spectroscopy Lab', 'Website': 'http://kim2dir.unist.ac.kr'}\n",
      "{'_id': ObjectId('5bf6bbb120c66c2facad38fc'), 'id': '55699527100', 'Name': 'Kim, Yunho(김윤호)', 'department': 'School of Natural Science(자연과학부)', 'ResearchInterest': 'Optimization, inverse problems, convex analysis, calculus of variations, partial differential equations, computational mathematics, medical/biomedical imaging       ', 'Lab': 'Mathematical Imaging Lab', 'Website': 'http://yunhokim.wordpress.com'}\n",
      "{'_id': ObjectId('5bf6bbb220c66c2facad38fd'), 'id': '54970606500', 'Name': 'Ko, Hyunhyub(고현협)', 'department': 'School of Energy and Chemical Engineering(에너지및화학공학부)', 'ResearchInterest': 'Functional nanomaterials, flexible electronics, electronic skins, wearable sensors       ', 'Lab': 'Functional Nanomaterials & Devices Lab', 'Website': 'http://hko.unist.ac.kr/'}\n",
      "{'_id': ObjectId('5bf6bbb420c66c2facad38fe'), 'id': '7201494768', 'Name': 'Ko, Myunggon(고명곤)', 'department': 'School of Life Sciences(생명과학부)', 'ResearchInterest': 'TET proteins, DNA hydroxymethylation, oncogenesis, cancer stem cells, cancer therapy       ', 'Lab': 'Molecular Immunology & Cancer Epigenetics', 'Website': 'http://sls.unist.ac.kr/en/_people/facultyview.asp?cate=3&seq=3915'}\n",
      "{'_id': ObjectId('5bf6bbb520c66c2facad38ff'), 'id': '37049022800', 'Name': 'Ko, Sungahn(고성안)', 'department': 'School of Electrical and Computer Engineering(전기전자컴퓨터공학부)', 'ResearchInterest': 'Information visualization, visual analytics, human-computer interaction (HCI)       ', 'Lab': 'IVADER: Interactive Visual Analysis and Data Exploration Research', 'Website': 'http://ivader.unist.ac.kr/'}\n",
      "{'_id': ObjectId('5bf6bbb520c66c2facad3900'), 'id': '56202309600', 'Name': 'Koh, Kanghyock(고강혁)', 'department': 'School of Business Administration(경영학부)', 'ResearchInterest': 'Health Economics, Labor Economics, Applied Econometrics       ', 'Lab': 'School of Business Administration', 'Website': 'https://sites.google.com/site/kanghyockkoh/'}\n",
      "{'_id': ObjectId('5bf6bbb720c66c2facad3901'), 'id': '7202648973', 'Name': 'Kwak, Ja Hun(곽자훈)', 'department': 'School of Energy and Chemical Engineering(에너지및화학공학부)', 'ResearchInterest': 'Heterogeneous catalysis, molecular catalysis, ASlumima, zeolites       ', 'Lab': 'Molecular Catalysis lab', 'Website': 'http://jhkwak.wix.com/kwak'}\n",
      "{'_id': ObjectId('5bf6bbb920c66c2facad3902'), 'id': '15623038400', 'Name': 'Kwak, Kyujin(곽규진)', 'department': 'School of Natural Science(자연과학부)', 'ResearchInterest': 'Computational Fluid Dynamics, Astrophysical and Laboratory Plasma, Hydrodynamics with Radiation, Nuclear, Atomic, and Molecular Reactions       ', 'Lab': 'Computational Astrophysics Lab', 'Website': 'http://kkwak.unist.ac.kr/'}\n",
      "{'_id': ObjectId('5bf6bbbb20c66c2facad3903'), 'id': '14421131200', 'Name': 'Kwak, Sang Kyu(곽상규)', 'department': 'School of Energy and Chemical Engineering(에너지및화학공학부)', 'ResearchInterest': 'Molecular modeling and simulation, statistical thermodynamics, molecular physics       ', 'Lab': 'Kyu’s MolSim Lab @ UNIST', 'Website': 'http://home.unist.ac.kr/professor/skkwak/'}\n",
      "{'_id': ObjectId('5bf6bbbc20c66c2facad3904'), 'id': '7103120444', 'Name': 'Kwak, Youngshin(곽영신)', 'department': 'School of Design and Human Engineering(디자인 및 인간공학부)', 'ResearchInterest': 'Color engineering, Affective engineering       ', 'Lab': 'Color & Imaging Sciecne Lab', 'Website': 'http://yskwak.unist.ac.kr/'}\n",
      "{'_id': ObjectId('5bf6bbbd20c66c2facad3905'), 'id': '35366637500', 'Name': 'Kwon, Bongsuk(권봉석)', 'department': 'School of Natural Science(자연과학부)', 'ResearchInterest': 'Partial differential equations, hyperbolic conservation laws, stability of nonlinear waves       ', 'Lab': 'Partial Differential Equations and their applications', 'Website': 'http://unist.ac.kr/~bkwon'}\n",
      "{'_id': ObjectId('5bf6bbbf20c66c2facad3906'), 'id': '24776349700', 'Name': 'Kwon, Daeil(권대일)', 'department': 'School of Mechanical, Aerospace and Nuclear Engineering(기계항공및원자력공학부)', 'ResearchInterest': 'Reliability, Prognostics and Health Management, Non-destructive Test       ', 'Lab': 'IoT-based System Reliability Lab', 'Website': 'http://isr.unist.ac.kr'}\n",
      "{'_id': ObjectId('5bf6bbc020c66c2facad3907'), 'id': '55025757000', 'Name': 'Kwon, H. Moo(권혁무)', 'department': 'School of Life Sciences(생명과학부)', 'ResearchInterest': 'TonEBP, Obesity, Cancer, Chronic inflammatory diseases, Brain disorder, Kidney disorders, Genomic instability       ', 'Lab': 'Inflammation and Kidney Disorder Lab', 'Website': 'http://ikd.unist.ac.kr/'}\n",
      "{'_id': ObjectId('5bf6bbc220c66c2facad3908'), 'id': '7103153987', 'Name': 'Kwon, Min Sang(권민상)', 'department': 'School of Materials Science and Engineering(신소재공학부)', 'ResearchInterest': 'Building molecular design principles for next generation organic emitters, Developing smart functional organic and polymeric materials, Developing thermally conductive polymers, Developing novel polymerization methods and photocontrolled chemical reactions       ', 'Lab': 'Rational Molecular Design & Synthesis lab', 'Website': 'http://kwongroup.unist.ac.kr/'}\n",
      "{'_id': ObjectId('5bf6bbc420c66c2facad3909'), 'id': '7103154434', 'Name': 'Kwon, Min-Suk(권민석)', 'department': 'School of Electrical and Computer Engineering(전기전자컴퓨터공학부)', 'ResearchInterest': 'Photonics, plasmonics, waveguides, planar lightwave circuits       ', 'Lab': 'Ubiquitous Photonics Laboratory (UP Lab)', 'Website': 'http://mskwon.unist.ac.kr/'}\n",
      "{'_id': ObjectId('5bf6bbc620c66c2facad390a'), 'id': '56921188600', 'Name': 'Kwon, Oh Hoon(권오훈)', 'department': 'School of Natural Science(자연과학부)', 'ResearchInterest': 'Femtochemistry/biology, 4D electron microscopy, structural dynamics, materials phenomena       ', 'Lab': 'Ultrafast Laser Spectroscopy and Nano-microscopy (ULSaN Lab)', 'Website': 'http://femtokid.wix.com/ulsan-lab'}\n",
      "{'_id': ObjectId('5bf6bbc620c66c2facad390b'), 'id': '56735219400', 'Name': 'Kwon, Oh-Sang(권오상)', 'department': 'School of Design and Human Engineering(디자인 및 인간공학부)', 'ResearchInterest': 'Aging, Visual perception, Human motor control, Statistical learning, Bayesian inference       ', 'Lab': 'Perception & Action Lab', 'Website': ''}\n",
      "{'_id': ObjectId('5bf6bbc820c66c2facad390c'), 'id': '7402624594', 'Name': 'Kwon, Soon-Yong(권순용)', 'department': 'School of Materials Science and Engineering(신소재공학부)', 'ResearchInterest': 'Semiconductor Epitaxy, thin film technology & surface/ interface Science       ', 'Lab': 'Frontier, Innovative Nanomaterials & Devices (FIND) Lab', 'Website': 'http://sykwon.blogspot.kr/'}\n",
      "{'_id': ObjectId('5bf6bbca20c66c2facad390d'), 'id': '55215802200', 'Name': 'Kwon, Tae-Hyuk(권태혁)', 'department': 'School of Natural Science(자연과학부)', 'ResearchInterest': 'Energy transfer, organic solar cells, supercapacitor, ultrasonic spray chemistry, dithienothiophene, iridium complexes, phosphorescent bioapplications       ', 'Lab': 'Energy Recognition', 'Website': 'http://www.kwon90.com/'}\n",
      "{'_id': ObjectId('5bf6bbcb20c66c2facad390e'), 'id': '35484365800', 'Name': 'Kwon, Taejoon(권태준)', 'department': 'School of Life Sciences(생명과학부)', 'ResearchInterest': 'Systems biology, computational biology, functional genomics       ', 'Lab': 'TaejoonLab', 'Website': 'http://www.taejoonlab.org/'}\n",
      "{'_id': ObjectId('5bf6bbcd20c66c2facad390f'), 'id': '51764040900', 'Name': 'Kwon, Young-Nam(권영남)', 'department': 'School of Urban and Environmental Engineering(도시환경공학부)', 'ResearchInterest': 'Membrane, Reverse(Forward) osmosis, Membrane distillation, Hydrate-induced ice desalination       ', 'Lab': 'Superior Membrane-based Advanced Research & Technology (SMART) Lab ', 'Website': 'http://smartlab.unist.ac.kr/'}\n",
      "{'_id': ObjectId('5bf6bbcf20c66c2facad3910'), 'id': '23028017500', 'Name': 'Kyung, Gyouhyung(경규형)', 'department': 'School of Design and Human Engineering(디자인 및 인간공학부)', 'ResearchInterest': 'Human Factors Engineering, UX, Ergonomic Product Design & Development       ', 'Lab': 'Interaction & Experience Lab (ixlab)', 'Website': 'http://ixlab.unist.ac.kr/'}\n",
      "{'_id': ObjectId('5bf6bbd020c66c2facad3911'), 'id': '56259696000', 'Name': 'Lah, Myoung Soo(나명수)', 'department': 'School of Natural Science(자연과학부)', 'ResearchInterest': 'Metal-Organic Frameworks (MOFs), Crystal Engineering, Supramolecular coordination chemistry       ', 'Lab': 'Nanoporous Materials Lab', 'Website': 'http://mslah.unist.ac.kr/'}\n",
      "{'_id': ObjectId('5bf6bbd120c66c2facad3912'), 'id': '34872489500', 'Name': 'Lee, Chang Hyeong(이창형)', 'department': 'School of Natural Science(자연과학부)', 'ResearchInterest': 'Stochastic analysis/computation, epidemic modeling, biological system simulation       ', 'Lab': 'Stochastic Analysis & Simulation(SAS) Lab', 'Website': 'https://sites.google.com/site/unistbiomath'}\n",
      "{'_id': ObjectId('5bf6bbd320c66c2facad3913'), 'id': '35791053700', 'Name': 'Lee, Chang Young(이창영)', 'department': 'School of Energy and Chemical Engineering(에너지및화학공학부)', 'ResearchInterest': 'Carbon nanomaterials, gas sensors, neuroanalytical chemistry, biomimetic nanosystems       ', 'Lab': 'Carbon Nanomaterials Lab', 'Website': 'https://sites.google.com/site/cyleegroup/'}\n",
      "{'_id': ObjectId('5bf6bbd520c66c2facad3914'), 'id': '56404735500', 'Name': 'Lee, Changsoo(이창수)', 'department': 'School of Urban and Environmental Engineering(도시환경공학부)', 'ResearchInterest': 'Bioconversion, Bioenergy, Biogas, Biological treatment, Biorefinery, Microbial community       ', 'Lab': 'Applied Biotechnology Lab for Environment (ABLE)', 'Website': 'https://sites.google.com/site/ableunist/'}\n",
      "{'_id': ObjectId('5bf6bbd620c66c2facad3915'), 'id': '56582957100', 'Name': 'Lee, Changwook(이창욱)', 'department': 'School of Life Sciences(생명과학부)', 'ResearchInterest': 'Cell biology, structural biology, protein biochemistry, membrane biology, cancer biology       ', 'Lab': 'Structural Biology of Cellular Biochemistry Lab', 'Website': 'https://sites.google.com/site/changwooklab/'}\n",
      "{'_id': ObjectId('5bf6bbd820c66c2facad3916'), 'id': '55700510500', 'Name': 'Lee, Changyong(이창용)', 'department': 'School of Management Engineering(경영공학부)', 'ResearchInterest': 'applied data mining and machine learning, technology and innovation management, service engineering       ', 'Lab': 'Technology and Innovation Management Lab', 'Website': 'http://tmlab.unist.ac.kr'}\n",
      "{'_id': ObjectId('5bf6bbd920c66c2facad3917'), 'id': '55658659500', 'Name': 'Lee, Deokjung(이덕중)', 'department': 'School of Mechanical, Aerospace and Nuclear Engineering(기계항공및원자력공학부)', 'ResearchInterest': 'Reactor Analysis computer codes development, Methodology development of reactor physics, Nuclear reactor design(SM-SFR,PWR and MSR)       ', 'Lab': 'Computational Reactor physics & Experiment lab (CORE Lab)', 'Website': 'https://sites.google.com/a/unistcore.com/main/home'}\n",
      "{'_id': ObjectId('5bf6bbdb20c66c2facad3918'), 'id': '42661825900', 'Name': 'Lee, Dong Woog(이동욱)', 'department': 'School of Energy and Chemical Engineering(에너지및화학공학부)', 'ResearchInterest': 'Bio/Bio-inspired adhesion and lubrication, friction of skin and sensory perception, wetting behavior of various surfaces, surface physics and chemistry of low-dimensional materials       ', 'Lab': 'Interfacial Physics and Chemistry Laboratory', 'Website': 'http://dwlee.unist.ac.kr'}\n",
      "{'_id': ObjectId('5bf6bbdc20c66c2facad3919'), 'id': '7404853316', 'Name': 'Lee, Geunsik(이근식)', 'department': 'School of Natural Science(자연과학부)', 'ResearchInterest': 'open quantum system, non-equilibrium electron transport, electron correlation, dynamical mean field theory, 2D materials, metal complexes        ', 'Lab': 'Electronic Structure and Transport in Condensed Materials', 'Website': 'https://sites.google.com/site/gsleelab/'}\n",
      "{'_id': ObjectId('5bf6bbdd20c66c2facad391a'), 'Name': 'Lee, Hui Sung(이희승)', 'department': 'Graduate School of Creative Design Engineering(디자인-공학 융합전문대학원)', 'ResearchInterest': 'Embedded System, Personal Mobility, Social Robot, Human Machine Interaction, Emotional Interaction       ', 'Lab': 'Design & Electronic Convergence System', 'Website': 'http://decs.unist.ac.kr/'}\n",
      "{'_id': ObjectId('5bf6bbde20c66c2facad391b'), 'id': '56163243600', 'Name': 'Lee, Hyun-Kyung(이현경)', 'department': 'Division of General Studies(기초과정부)', 'ResearchInterest': 'Creative Industry, Arts Administration, DBL(Design-Based Learning), Learning through Art       ', 'Lab': 'Division of General Studies', 'Website': 'http://hlee.unist.ac.kr/'}\n",
      "{'_id': ObjectId('5bf6bbe020c66c2facad391c'), 'id': '52563993500', 'Name': 'Lee, Hyun-Wook(이현욱)', 'department': 'School of Energy and Chemical Engineering(에너지및화학공학부)', 'ResearchInterest': 'Energy storage, secondary batteries, transmission electron microscopy, real time analysis       ', 'Lab': 'Energy Storage and Electron Microscopy Laboratory', 'Website': 'https://sites.google.com/site/hyunwookleenano/'}\n",
      "{'_id': ObjectId('5bf6bbe020c66c2facad391d'), 'Name': 'Lee, Inkyoung(이인경)', 'department': 'Division of General Studies(기초과정부)', 'ResearchInterest': 'Piano Solo & Chamber Music Performance, Music Education, Piano Pedagogy, Humanities and Arts       ', 'Lab': 'Division of General Studies', 'Website': 'http://piano.unist.ac.kr/'}\n",
      "{'_id': ObjectId('5bf6bbe120c66c2facad391e'), 'id': '53863694600', 'Name': 'Lee, Ja Yil(이자일)', 'department': 'School of Life Sciences(생명과학부)', 'ResearchInterest': 'Investigated eukaryotic homologous recombination.       ', 'Lab': 'School of Life Sciences', 'Website': ''}\n",
      "{'_id': ObjectId('5bf6bbe220c66c2facad391f'), 'id': '57200389321', 'Name': 'Lee, Jacob C.(이채호)', 'department': 'School of Business Administration(경영학부)', 'ResearchInterest': 'Experiential Marketing, Display Marketing, CEO Marketing       ', 'Lab': 'Consumer Behavior Lab', 'Website': 'https://sites.google.com/view/jacobclee'}\n",
      "{'_id': ObjectId('5bf6bbe320c66c2facad3920'), 'id': '56647065500', 'Name': 'Lee, Jae Hwa(이재화)', 'department': 'School of Mechanical, Aerospace and Nuclear Engineering(기계항공및원자력공학부)', 'ResearchInterest': 'Turbulent Flow Physics and Control, Incompressible and Compressible Flows, Fluid-Structure Interaction, Multi-Phase Flow with Heat Transfer       ', 'Lab': 'Flow Physics and Control Lab', 'Website': 'https://sites.google.com/site/unistefpcl/'}\n",
      "{'_id': ObjectId('5bf6bbe520c66c2facad3921'), 'id': '26643592500', 'Name': 'Lee, Jae Sung(이재성)', 'department': 'School of Energy and Chemical Engineering(에너지및화학공학부)', 'ResearchInterest': 'Photocatalytic water splitting, artificial photosynthesis, fuel cells, heterogeneous catalysis       ', 'Lab': 'Eco-friendly Catalysis and Energy Lab', 'Website': 'http://ecocat.unist.ac.kr/'}\n",
      "{'_id': ObjectId('5bf6bbe620c66c2facad3922'), 'id': '55800693000', 'Name': 'Lee, Jae-Yon(이재연)', 'department': 'Division of General Studies(기초과정부)', 'ResearchInterest': '20th century Korean fiction and criticism, Print culture, Literary sociology (network analysis, topic modeling)       ', 'Lab': 'Division Of General Studies', 'Website': 'http://jlee2791.unist.ac.kr/'}\n",
      "{'_id': ObjectId('5bf6bbe720c66c2facad3923'), 'id': '57189732182', 'Name': 'Lee, Jaeseon(이재선)', 'department': 'School of Mechanical, Aerospace and Nuclear Engineering(기계항공및원자력공학부)', 'ResearchInterest': 'Energy conversion utilizing renewable/recyclable thermal sources, Thermal management of electronics and high heat-flux devices, Working fluids characterizing for thermo-fluid physics and systems       ', 'Lab': 'Innovative Thermal Engineering Lab (ITEL)', 'Website': 'http://leejs92.wix.com/unist-itel'}\n",
      "{'_id': ObjectId('5bf6bbe920c66c2facad3924'), 'id': '56107873000', 'Name': 'Lee, Jiseok(이지석)', 'department': 'School of Energy and Chemical Engineering(에너지및화학공학부)', 'ResearchInterest': 'Optofluidic photolithography, Nanoparticle Synthesis, Conjugated polymer design and Synthesis, Flow lithography, 3d printing       ', 'Lab': 'Novel Optofluidic Materials Synthesis Lab', 'Website': 'http://jiseok7.wixsite.com/3dmass'}\n",
      "{'_id': ObjectId('5bf6bbe920c66c2facad3925'), 'Name': 'Lee, Jong Eun(이종은)', 'department': 'Division of General Studies(기초과정부)', 'ResearchInterest': 'Violin performance, Instrumental pedagogy geared specifically for science and engineer majors, Chamber music and orchestral coaching geared specifically for science and engineer majors       ', 'Lab': 'Division Of General Studies', 'Website': 'http://jongeunlee.unist.ac.kr/'}\n",
      "{'_id': ObjectId('5bf6bbea20c66c2facad3926'), 'id': '55689923700', 'Name': 'Lee, Jongeun(이종은)', 'department': 'School of Electrical and Computer Engineering(전기전자컴퓨터공학부)', 'ResearchInterest': 'Reconfigurable processor architecture, neuromorphic processor, stochastic computing       ', 'Lab': 'Renew: Reconfigurable and Neuromorphic Computing Lab', 'Website': 'http://ecl.unist.ac.kr/'}\n",
      "{'_id': ObjectId('5bf6bbec20c66c2facad3927'), 'id': '57189018605', 'Name': 'Lee, Jongwon(이종원)', 'department': 'School of Electrical and Computer Engineering(전기전자컴퓨터공학부)', 'ResearchInterest': 'Plasmonics, active and nonlinear metasurfaces or metamaterials, gradient metasurfaces       ', 'Lab': 'Nanostructured Photonic Devices Lab (NPDL)', 'Website': 'http://npdl.unist.ac.kr'}\n",
      "{'_id': ObjectId('5bf6bbed20c66c2facad3928'), 'Name': 'Lee, Jooyoung(이주영)', 'department': 'Division of General Studies(기초과정부)', 'ResearchInterest': 'U.S. Human Rights Diplomacy, Nuclear in the Cold War, U.S. Democracy Promotion       ', 'Lab': 'Division of General Studies', 'Website': 'http://shallibrown@unist.ac.kr'}\n",
      "{'_id': ObjectId('5bf6bbee20c66c2facad3929'), 'id': '56493776300', 'Name': 'Lee, Jun Hee(이준희)', 'department': 'School of Energy and Chemical Engineering(에너지및화학공학부)', 'ResearchInterest': 'Quantum simulation, photocatalyst, fuel cell, Li battery, materials genome, supercomputer       ', 'Lab': 'Quantum Materials for Energy Conversion Lab', 'Website': 'http://junhee.wix.com/qmec'}\n",
      "{'_id': ObjectId('5bf6bbee20c66c2facad392a'), 'Name': 'Lee, Jun-Youp(이준엽)', 'department': 'School of Business Administration(경영학부)', 'ResearchInterest': 'Corporate finance, Empirical corporate finance, Market microstructure, The effect of financial information disclosure on the efficiency of capital market, , Initial Public Offerings (IPOs)       ', 'Lab': 'School of Business Administration', 'Website': ''}\n",
      "{'_id': ObjectId('5bf6bbef20c66c2facad392b'), 'id': '56055191300', 'Name': 'Lee, Junghye(이정혜)', 'department': 'School of Business Administration(경영학부)', 'ResearchInterest': 'Data Mining in Healthcare, Chemometrics, Machine Learning, Probabilistic Graphical Models       ', 'Lab': '', 'Website': 'https://sites.google.com/site/junghyelee08/'}\n",
      "{'_id': ObjectId('5bf6bbf120c66c2facad392c'), 'id': '8404920500', 'Name': 'Lee, Ki-Suk(이기석)', 'department': 'School of Materials Science and Engineering(신소재공학부)', 'ResearchInterest': 'Magnetism, spintronics, spin dynamics, rare-earth free magnet       ', 'Lab': 'Creative Lab. for Advanced Spin Systems (CLASS)', 'Website': ''}\n",
      "{'_id': ObjectId('5bf6bbf220c66c2facad392d'), 'id': '56469959700', 'Name': 'Lee, Kyuho Jason(이규호)', 'department': 'School of Electrical and Computer Engineering(전기전자컴퓨터공학부)', 'ResearchInterest': '', 'Lab': '', 'Website': ''}\n",
      "{'_id': ObjectId('5bf6bbf220c66c2facad392e'), 'id': '55838769100', 'Name': 'Lee, Kyunghan(이경한)', 'department': 'School of Electrical and Computer Engineering(전기전자컴퓨터공학부)', 'ResearchInterest': 'Low-latency network, cloud computing, 5G network, mobile AI       ', 'Lab': 'Mobile Smart Networking Lab (MSN)', 'Website': 'http://msn.unist.ac.kr/'}\n",
      "{'_id': ObjectId('5bf6bbf420c66c2facad392f'), 'id': '56224155200', 'Name': 'Lee, Myong-In(이명인)', 'department': 'School of Urban and Environmental Engineering(도시환경공학부)', 'ResearchInterest': 'Climate Change, Seasonal Prediction, Extreme Weather, Aerosol       ', 'Lab': 'Climate-Environment Modeling Lab', 'Website': 'http://climate.unist.ac.kr/'}\n",
      "{'_id': ObjectId('5bf6bbf420c66c2facad3930'), 'Name': 'Lee, Myun Woo(이면우)', 'department': 'School of Design and Human Engineering(디자인 및 인간공학부)', 'ResearchInterest': 'Nonlinear optics, Human Factors, High Touch Process, Product Design       ', 'Lab': 'School of Design and Human Engineering', 'Website': 'http://mwlee.unist.ac.kr/'}\n",
      "{'_id': ObjectId('5bf6bbf520c66c2facad3931'), 'id': '55716851800', 'Name': 'Lee, Myunghee(이명희)', 'department': 'School of Electrical and Computer Engineering(전기전자컴퓨터공학부)', 'ResearchInterest': 'Automotive Electronic System Design, Automtoive Semicondutor IC design       ', 'Lab': 'Automotive Electronic Systems and Semiconductor Lab', 'Website': 'http://aesl.unist.ac.kr'}\n",
      "{'_id': ObjectId('5bf6bbf720c66c2facad3932'), 'id': '47461885400', 'Name': 'Lee, Sang-Young(이상영)', 'department': 'School of Energy and Chemical Engineering(에너지및화학공학부)', 'ResearchInterest': 'Soft Materials for Energy Storage/ Conversion Systems       ', 'Lab': 'Energy Soft-Materials Lab (ESML)', 'Website': 'http://syleek.unist.ac.kr/'}\n",
      "{'_id': ObjectId('5bf6bbfc20c66c2facad3933'), 'id': '23389514500', 'Name': 'Lee, Semin(이세민)', 'department': 'School of Life Sciences(생명과학부)', 'ResearchInterest': 'Cancer genomics & single-cell genomics       ', 'Lab': 'Computational Biology Lab', 'Website': ''}\n",
      "{'_id': ObjectId('5bf6bbfd20c66c2facad3934'), 'id': '56895843700', 'Name': 'Lee, Seung Jun(이승준)', 'department': 'School of Mechanical, Aerospace and Nuclear Engineering(기계항공및원자력공학부)', 'ResearchInterest': 'Probabilistic Safety Assessment, Digital I&C System Reliability, Human Reliability Analysis       ', 'Lab': 'Risk Assessment and Risk-Informed Application', 'Website': 'http://psa.unist.ac.kr'}\n",
      "{'_id': ObjectId('5bf6bbff20c66c2facad3935'), 'id': '26663487400', 'Name': 'Lee, Sukbin(이석빈)', 'department': 'School of Materials Science and Engineering(신소재공학부)', 'ResearchInterest': 'Microstructural evolution, advanced characterization, computational materials science, 3D materials science, microstructure-property relation       ', 'Lab': 'Multidimensional Structural Materials Lab', 'Website': 'https://sites.google.com/site/smleelab/'}\n",
      "{'_id': ObjectId('5bf6bc0020c66c2facad3936'), 'id': '8584821400', 'Name': 'Lee, Sung Kuk(이성국)', 'department': 'School of Energy and Chemical Engineering(에너지및화학공학부)', 'ResearchInterest': '- Design and optimization of metabolic pathways for value-added products, - Development of synthetic biology tools to build artificial biological systems       ', 'Lab': 'Synthetic Biology Laboratory', 'Website': 'http://sites.google.com/site/skleelab/'}\n",
      "{'_id': ObjectId('5bf6bc0120c66c2facad3937'), 'id': '57092778500', 'Name': 'Lee, Yongjae(이용재)', 'department': 'School of Management Engineering(경영공학부)', 'ResearchInterest': 'Financial Engineering, Financial Optimization, Quantitative Investment Management, Financial Planning       ', 'Lab': 'Financial Engineering Lab.', 'Website': 'https://felab.unist.ac.kr'}\n",
      "{'_id': ObjectId('5bf6bc0220c66c2facad3938'), 'id': '36548206500', 'Name': 'Lee, Young-Joo(이영주)', 'department': 'School of Urban and Environmental Engineering(도시환경공학부)', 'ResearchInterest': 'Structural Reliability, Disaster Risk, Lifeline, Network Reliability, Uncertainty       ', 'Lab': 'Structural Reliability and Disaster Risk Lab (SRDR)', 'Website': 'http://ylee.unist.ac.kr/'}\n",
      "{'_id': ObjectId('5bf6bc0420c66c2facad3939'), 'id': '7102838731', 'Name': 'Lee, Zonghoon(이종훈)', 'department': 'School of Materials Science and Engineering(신소재공학부)', 'ResearchInterest': 'Advanced Transmission Electron Microscopy (TEM/STEM), in Situ TEM, graphene, 2D materials, low-dimensional crystals, nanostructured materials       ', 'Lab': 'Atomic-Scale Electron Microscopy (ASEM) Lab', 'Website': 'http://ASEMLab.org/'}\n",
      "{'_id': ObjectId('5bf6bc0520c66c2facad393a'), 'id': '55317207100', 'Name': 'Lim, Chiehyeon(임치현)', 'department': 'School of Management Engineering(경영공학부)', 'ResearchInterest': 'Smart service systems, Service-oriented data analytics, Service operations, Service design, Decision science, Personal process management       ', 'Lab': 'Service Systems Lab', 'Website': 'http://service.unist.ac.kr/'}\n",
      "{'_id': ObjectId('5bf6bc0720c66c2facad393b'), 'id': '7403654097', 'Name': 'Lim, Chunghun(임정훈)', 'department': 'School of Life Sciences(생명과학부)', 'ResearchInterest': 'Post-transcriptional Gene Expression, Neurodegeneration, Behavioral Genetics       ', 'Lab': 'Neurogenetics & Ribonomics Laboratory (The Lim Lab)', 'Website': 'https://sites.google.com/view/thelimlab/'}\n",
      "{'_id': ObjectId('5bf6bc0720c66c2facad393c'), 'id': '50262158300', 'Name': 'Lim, Dong-Joon(임동준)(2017-02~2018-03)', 'department': 'Graduate School of Technology and Innovation Management(기술경영전문대학원)', 'ResearchInterest': 'Data Science, New Product Development, Optimization Programming       ', 'Lab': 'School of Business Administration', 'Website': ''}\n",
      "{'_id': ObjectId('5bf6bc0920c66c2facad393d'), 'id': '14019936500', 'Name': 'Lim, Hankwon(임한권)', 'department': 'School of Energy and Chemical Engineering(에너지및화학공학부)', 'ResearchInterest': 'Process analysis, Process design, Techno-economic analysis, Separation process, Reaction engineering, Computational fluid dynamics, Membrane reactor, H2 energy, Water electrolysis, Vanadium redox flow battery, Greenhouse gas reduction       ', 'Lab': '', 'Website': ''}\n",
      "{'_id': ObjectId('5bf6bc0920c66c2facad393e'), 'id': '57189506163', 'Name': 'Lim, Sunghoon(임성훈)', 'department': 'School of Management Engineering(경영공학부)', 'ResearchInterest': 'Unstructured Data Mining, Machine Learning, Artificial Intelligence (AI), Natural Language Processing / Text Mining       ', 'Lab': 'Unstructured Data Mining and Machine Learning Lab', 'Website': 'http://sunghoonlim.unist.ac.kr'}\n",
      "{'_id': ObjectId('5bf6bc0a20c66c2facad393f'), 'id': '55601432300', 'Name': 'Lovins, Christopher(LovinsChristopher)', 'department': 'Division of General Studies(기초과정부)', 'ResearchInterest': 'Korean history and civilization       ', 'Lab': 'Division of General Studies', 'Website': 'http://christopherlovins.com'}\n",
      "{'_id': ObjectId('5bf6bc0c20c66c2facad3940'), 'id': '7201466892', 'Name': 'Min, Kyung-Tai(민경태)', 'department': 'School of Life Sciences(생명과학부)', 'ResearchInterest': 'Local protein synthesis, learning & memory, behavior, mitochondrial dynamics       ', 'Lab': 'Molecular & Cellular Neurobiology Lab(Min Lab)', 'Website': 'http://minlab.unist.ac.kr/'}\n",
      "{'_id': ObjectId('5bf6bc0d20c66c2facad3941'), 'id': '56533110600', 'Name': 'Min, Seung Kyu(민승규)', 'department': 'School of Natural Science(자연과학부)', 'ResearchInterest': 'Excited state dynamics, photosynthesis, solarcell, light-driven molecular machine       ', 'Lab': 'Theoretical/Computational Chemistry Group for Excited State Phenomena', 'Website': 'http://skmin.unist.ac.kr/'}\n",
      "{'_id': ObjectId('5bf6bc0f20c66c2facad3942'), 'id': '55434651900', 'Name': 'Mitchell, Robert J.(MitchellRobert James)', 'department': 'School of Life Sciences(생명과학부)', 'ResearchInterest': 'Pathogens, bdellovibrio bacteriovorus, patho-biotechnology       ', 'Lab': 'Applied & Environmental Microbiology Lab (AEML)', 'Website': 'https://sites.google.com/site/aemlab/'}\n",
      "{'_id': ObjectId('5bf6bc1020c66c2facad3943'), 'id': '8925699200', 'Name': 'Moon, Hoi Ri(문회리)', 'department': 'School of Natural Science(자연과학부)', 'ResearchInterest': 'Inorganic-organic hybrid materials, carbon capture materials, hydrogen storage materials, heterogeneous catalyst       ', 'Lab': 'Functional Inorganic Nanomaterials for Energy Lab (FINE)', 'Website': 'http://sites.google.com/site/hoirimoon'}\n",
      "{'_id': ObjectId('5bf6bc1120c66c2facad3944'), 'id': '55490324900', 'Name': 'Moon, Hyungon(문현곤)', 'department': 'School of Electrical and Computer Engineering(전기전자컴퓨터공학부)', 'ResearchInterest': 'Computer system security       ', 'Lab': '', 'Website': ''}\n",
      "{'_id': ObjectId('5bf6bc1220c66c2facad3945'), 'id': '55845880700', 'Name': 'Moon, Jun(문준)', 'department': 'School of Electrical and Computer Engineering(전기전자컴퓨터공학부)', 'ResearchInterest': 'Control, Estimation, Game Theory       ', 'Lab': 'Decision & Control Systems Laboratory (DCSL)', 'Website': 'https://sites.google.com/site/moondcsl/'}\n",
      "{'_id': ObjectId('5bf6bc1320c66c2facad3946'), 'id': '57045635100', 'Name': 'Myung, Kyungjae(명경재)', 'department': 'School of Life Sciences(생명과학부)', 'ResearchInterest': 'DNA Replication, DNA Repair, DNA Recombination, DNA Damage Response, cancer, aging       ', 'Lab': 'Center for Genomic Integrity', 'Website': 'http://cgi.ibs.re.kr/html/cgi_en'}\n",
      "{'_id': ObjectId('5bf6bc1420c66c2facad3947'), 'id': '7006057714', 'Name': 'Nam, Beomseok(남범석)(2010-08~2018-03)', 'department': 'School of Electrical and Computer Engineering(전기전자컴퓨터공학부)', 'ResearchInterest': 'Distributed and parallel computing, high performance computing, database systems, OS and storage systems       ', 'Lab': 'Data Intensive Computing Lab', 'Website': ''}\n",
      "{'_id': ObjectId('5bf6bc1520c66c2facad3948'), 'Name': 'Nam, Daehyeon(남대현)', 'department': 'Division of General Studies(기초과정부)', 'ResearchInterest': 'Corpus, English for Academic Purposes (EAP), English for Specific Purposes (ESP       ', 'Lab': 'Corpus Lab of Language Education', 'Website': 'http://corpuslab.unist.ac.kr/'}\n",
      "{'_id': ObjectId('5bf6bc1720c66c2facad3949'), 'id': '7101917725', 'Name': 'Nam, Dougu(남덕우)', 'department': 'School of Life Sciences(생명과학부)', 'ResearchInterest': 'Gene network, pathway analysis, biclustering, disease classification       ', 'Lab': 'Statistical Genomics Lab', 'Website': 'http://sites.google.com/site/bigunist1/'}\n",
      "{'_id': ObjectId('5bf6bc1720c66c2facad394a'), 'Name': 'Nam, Junghyun(남정현)', 'department': 'School of Business Administration(경영학부)', 'ResearchInterest': 'information quality, technology use motivation       ', 'Lab': '', 'Website': ''}\n",
      "{'_id': ObjectId('5bf6bc1920c66c2facad394b'), 'id': '7101653846', 'Name': 'Noh, Sam H.(노삼혁)', 'department': 'School of Electrical and Computer Engineering(전기전자컴퓨터공학부)', 'ResearchInterest': 'Operating system, flash memory, SSD, persistent memory       ', 'Lab': 'NECSST(Next-generation Embedded/Computer System Software Technology) Lab', 'Website': 'http://next.unist.ac.kr'}\n",
      "{'_id': ObjectId('5bf6bc1a20c66c2facad394c'), 'id': '6602434341', 'Name': 'Oakley, Ian(OakleyIan)', 'department': 'School of Design and Human Engineering(디자인 및 인간공학부)', 'ResearchInterest': 'Interaction Design, Tangible Computing, Social Computing, Multi-modal Interfaces       ', 'Lab': 'Interactions Lab', 'Website': 'http://interactions.unist.ac.kr/'}\n",
      "{'_id': ObjectId('5bf6bc1c20c66c2facad394d'), 'id': '25655230900', 'Name': 'Oh, Hyondong(오현동)', 'department': 'School of Mechanical, Aerospace and Nuclear Engineering(기계항공및원자력공학부)', 'ResearchInterest': 'Autonomy and decision making for unmanned vehicles, Cooperative control and path planning for unmanned vehicles, Nonlinear guidance and control, Estimation and sensor/information fusion, Vision-based navigation and control, Bio-inspired self-organising multi-vehicle system       ', 'Lab': 'Autonomous Systems Laboratory', 'Website': 'https://sites.google.com/site/aslunist/'}\n",
      "{'_id': ObjectId('5bf6bc1d20c66c2facad394e'), 'id': '35254391200', 'Name': 'Oh, Jae Eun(오재은)', 'department': 'School of Urban and Environmental Engineering(도시환경공학부)', 'ResearchInterest': 'Concrete Materials, Construction Materials       ', 'Lab': 'Nano-AIMS Structural Materials Lab (Nano-AIMS)', 'Website': 'https://sites.google.com/site/nanoaims/'}\n",
      "{'_id': ObjectId('5bf6bc1f20c66c2facad394f'), 'id': '55602404200', 'Name': 'Oh, Joo Hwan(오주환)', 'department': 'School of Mechanical, Aerospace and Nuclear Engineering(기계항공및원자력공학부)', 'ResearchInterest': 'Elastic Metamaterials and Phononic Crystals,Elastic Wave and Vibration,Elasticity and Multiphysics,Design Optimization       ', 'Lab': 'School of Mechanical and Nuclear Engineering', 'Website': ''}\n",
      "{'_id': ObjectId('5bf6bc2020c66c2facad3950'), 'id': '34868656700', 'Name': 'Oh, Yoon Seok(오윤석)', 'department': 'School of Natural Science(자연과학부)', 'ResearchInterest': 'Materials for Quantum Information Processing, Transport, and Storage, Quantum Magnet, Multiferroic       ', 'Lab': 'Strong Correlation in Quantum Materials Lab', 'Website': 'http://xpem.unist.ac.kr/'}\n",
      "{'_id': ObjectId('5bf6bc2220c66c2facad3951'), 'id': '56003461500', 'Name': 'Paek, Kyong-Mi(백경미)', 'department': 'Division of General Studies(기초과정부)', 'ResearchInterest': 'Creative practice and arts integration, Contemporary art practice, Arts and culture education, Visual literacy       ', 'Lab': 'Division of General Studies', 'Website': 'http://kpaek.unist.ac.kr/'}\n",
      "{'_id': ObjectId('5bf6bc2220c66c2facad3952'), 'id': '56516342700', 'Name': 'Pak, Hyuk Kyu(박혁규)', 'department': 'School of Natural Science(자연과학부)', 'ResearchInterest': 'Soft matter, liquids, fluctuations, interfacial energy, energy harvesting, optical tweezers       ', 'Lab': 'Soft Condensed Matter Physics Lab (SCMP)', 'Website': 'http://softmatt.ibs.re.kr'}\n",
      "{'_id': ObjectId('5bf6bc2420c66c2facad3953'), 'id': '55728028500', 'Name': 'Park, Chan Young(박찬영)', 'department': 'School of Life Sciences(생명과학부)', 'ResearchInterest': 'Calcium Signaling, calcium Channels, immune, neuroscience, drug Development       ', 'Lab': 'Calcium Dynamics Lab', 'Website': 'http://www.chanyounglab.com'}\n",
      "{'_id': ObjectId('5bf6bc2620c66c2facad3954'), 'id': '19335557000', 'Name': 'Park, Cheol-Min(박철민)', 'department': 'School of Natural Science(자연과학부)', 'ResearchInterest': 'Organic synthesis, medicinal chemistry, chemical biology       ', 'Lab': 'Synthetic & Medicinal Chemistry Lab', 'Website': 'https://sites.google.com/site/cmparklab/'}\n",
      "{'_id': ObjectId('5bf6bc2820c66c2facad3955'), 'id': '56415174700', 'Name': 'Park, Hyeon Keo(박현거)', 'department': 'School of Natural Science(자연과학부)', 'ResearchInterest': 'Fusion, plasma, MHD, turbulence, imaging       ', 'Lab': 'Fusion Plasma Stability and Confinement Research Lab', 'Website': 'https://sites.google.com/site/fusionunist/'}\n",
      "{'_id': ObjectId('5bf6bc2a20c66c2facad3956'), 'id': '18434697800', 'Name': 'Park, Hyesung(박혜성)', 'department': 'School of Energy and Chemical Engineering(에너지및화학공학부)', 'ResearchInterest': 'Nano materials, renewable energy, optoelectronic devices       ', 'Lab': 'Sustainable Energy, Low-Dimensional Materials & Functional Devices Lab', 'Website': 'http://hspark.unist.ac.kr/'}\n",
      "{'_id': ObjectId('5bf6bc2b20c66c2facad3957'), 'id': '55537550000', 'Name': 'Park, Hyung Wook(박형욱)', 'department': 'School of Mechanical, Aerospace and Nuclear Engineering(기계항공및원자력공학부)', 'ResearchInterest': 'Multiscale hybrid manufacturing process, Composite, Electron beam       ', 'Lab': 'Multiscale Hybrid Manufacturing Lab', 'Website': 'http://mhm.unist.ac.kr/'}\n",
      "{'_id': ObjectId('5bf6bc2c20c66c2facad3958'), 'id': '50462161300', 'Name': 'Park, Jaeyeong(박재영)', 'department': 'School of Mechanical, Aerospace and Nuclear Engineering(기계항공및원자력공학부)', 'ResearchInterest': 'Radioactive waste treatment and management; Spent nuclear fuel recycling; Decontamination and Decommissioning; Nuclear Fuel Cycle       ', 'Lab': '', 'Website': ''}\n",
      "{'_id': ObjectId('5bf6bc2e20c66c2facad3959'), 'id': '11739935500', 'Name': 'Park, Jang-Ung(박장웅)(2010-08~2018-09)', 'department': 'School of Materials Science and Engineering(신소재공학부)', 'ResearchInterest': 'Wireless wearable electronics, flexible electronics, printed electronics, nano-bio interfaces       ', 'Lab': 'Flexible Nano-electronics & Biotechnology Lab', 'Website': ''}\n",
      "{'_id': ObjectId('5bf6bc3020c66c2facad395a'), 'id': '56188468900', 'Name': 'Park, Jiyoung(박지영)', 'department': 'School of Life Sciences(생명과학부)', 'ResearchInterest': 'Obesity, diabetes, adipose tissue, cancer, cancer-associated adipocyte, dermal adipocyte, metabolic memory       ', 'Lab': 'Molecular Metabolism Laboratory (MML)', 'Website': 'https://metabolism.unist.ac.kr'}\n",
      "{'_id': ObjectId('5bf6bc3120c66c2facad395b'), 'id': '8634981800', 'Name': 'Park, Jongnam(박종남)', 'department': 'School of Energy and Chemical Engineering(에너지및화학공학부)', 'ResearchInterest': 'Inorganic synthesis, microfluidics, nanomaterials, surface engineering, bioimaging       ', 'Lab': 'Materials and Chemistry Lab (MCL)', 'Website': 'http://www.matchemlab.com/'}\n",
      "{'_id': ObjectId('5bf6bc3220c66c2facad395c'), 'id': '55319247200', 'Name': 'Park, Jung-Hoon(박정훈)', 'department': 'School of Life Sciences(생명과학부)', 'ResearchInterest': 'Biomedical optics, wavefront shaping, In-vivo deep tissue imaging       ', 'Lab': 'Bio-Optics Lab', 'Website': 'http://theopticslab.wixsite.com/bio-optics'}\n",
      "{'_id': ObjectId('5bf6bc3420c66c2facad395d'), 'id': '7408066347', 'Name': 'Park, Kibog(박기복)', 'department': 'School of Natural Science(자연과학부)', 'ResearchInterest': 'Semiconductor, metal oxide thin film, graphene, non-volatile memory, quantum transport       ', 'Lab': 'Emergent Materials & Devices Lab', 'Website': 'https://sites.google.com/site/kibogpark/'}\n",
      "{'_id': ObjectId('5bf6bc3620c66c2facad395e'), 'id': '24385814700', 'Name': 'Park, Kyoung-Duck(박경덕)', 'department': 'School of Natural Science(자연과학부)', 'ResearchInterest': '', 'Lab': '', 'Website': ''}\n",
      "{'_id': ObjectId('5bf6bc3720c66c2facad395f'), 'id': '7101999834', 'Name': 'Park, Lee Soon(박이순)', 'department': 'School of Materials Science and Engineering(신소재공학부)', 'ResearchInterest': 'Flexible OLED new materials, process and fabrication, Touch Screen Panel(TSP) new materials and process new materials and process, Nano-materials synthesis and application (Ag nano-wire and metal mesh electrode)       ', 'Lab': 'School of Materials Science and Engineering', 'Website': ''}\n",
      "{'_id': ObjectId('5bf6bc3920c66c2facad3960'), 'id': '8977806000', 'Name': 'Park, Noejung(박노정)', 'department': 'School of Natural Science(자연과학부)', 'ResearchInterest': 'Electronic structure calculation, computational physics, computational material science       ', 'Lab': 'Computational Physics & Electronic Structure Lab', 'Website': 'http://epps.unist.ac.kr/'}\n",
      "{'_id': ObjectId('5bf6bc3920c66c2facad3961'), 'Name': 'Park, Ounyoung(박운영)', 'department': 'School of Mechanical, Aerospace and Nuclear Engineering(기계항공및원자력공학부)', 'ResearchInterest': '', 'Lab': 'School of Materials Science and Engineering', 'Website': ''}\n",
      "{'_id': ObjectId('5bf6bc3a20c66c2facad3962'), 'id': '35103237700', 'Name': 'Park, Seungbae(박승배)', 'department': 'Division of General Studies(기초과정부)', 'ResearchInterest': 'Philosophy of Science and Ethics       ', 'Lab': 'Division of General Studies', 'Website': 'http://nature.unist.ac.kr/'}\n",
      "{'_id': ObjectId('5bf6bc3c20c66c2facad3963'), 'id': '56210865000', 'Name': 'Park, Soojin(박수진)(2009-02~2018-08)', 'department': 'School of Energy and Chemical Engineering(에너지및화학공학부)', 'ResearchInterest': 'Block Copolymers, nanostructured materials for Lithium-Ion batteries, wearable and stretchable energy storage applications       ', 'Lab': 'Nano-Functional Materials Lab', 'Website': ''}\n",
      "{'_id': ObjectId('5bf6bc3d20c66c2facad3964'), 'id': '7501829455', 'Name': 'Park, Sung Soo(박성수)', 'department': 'School of Materials Science and Engineering(신소재공학부)', 'ResearchInterest': 'Metals and alloys, materials properties (mechanical/physical/electrochemical/functional), biomedical implants, metals corrosion       ', 'Lab': 'Metal Alloy Design (MADe) Lab', 'Website': 'http://ssparklaboratory.blogspot.kr/'}\n",
      "{'_id': ObjectId('5bf6bc3e20c66c2facad3965'), 'Name': 'Park, Sunghoon(박성훈)', 'department': 'School of Energy and Chemical Engineering(에너지및화학공학부)', 'ResearchInterest': 'Chemical Engineering       ', 'Lab': '', 'Website': ''}\n",
      "{'_id': ObjectId('5bf6bc4120c66c2facad3966'), 'id': '55424747900', 'Name': 'Park, Tae Joo(박태주)', 'department': 'School of Life Sciences(생명과학부)', 'ResearchInterest': 'Morphogenesis, chondrogenesis, ciliogenesis       ', 'Lab': 'Developmental Morphogenesis Lab', 'Website': 'https://sites.google.com/site/unistmorphogenesis/'}\n",
      "{'_id': ObjectId('5bf6bc4220c66c2facad3967'), 'id': '55314115300', 'Name': 'Park, Tae-Eun(박태은)', 'department': 'School of Life Sciences(생명과학부)', 'ResearchInterest': 'Drug delivery, Drug development, Tissue Engineering, Organ-on-a-chip, Stem Cell Engineering, Cell Biology, 3D printing for tissue engineering, Neurobiology, Nano Biotechnology       ', 'Lab': '', 'Website': ''}\n",
      "{'_id': ObjectId('5bf6bc4420c66c2facad3968'), 'id': '56512682200', 'Name': 'Park, Young S.(박영석)', 'department': 'School of Natural Science(자연과학부)', 'ResearchInterest': 'Bottom-up synthesis of graphene nanoribbons, Organic solar cells       ', 'Lab': 'School of Natural Science', 'Website': ''}\n",
      "{'_id': ObjectId('5bf6bc4520c66c2facad3969'), 'id': '8383966300', 'Name': 'Park, Young-Bin(박영빈)', 'department': 'School of Mechanical, Aerospace and Nuclear Engineering(기계항공및원자력공학부)', 'ResearchInterest': 'Composites, Nanocomposites, Smart Materials and Structures, Carbon Nanomaterials       ', 'Lab': 'Functional Intelligent Materials Lab (FIMLab)', 'Website': 'http://parklab.unist.ac.kr/'}\n",
      "{'_id': ObjectId('5bf6bc4520c66c2facad396a'), 'id': '55494377500', 'Name': 'Park, Young-Woo(박영우)', 'department': 'Graduate School of Creative Design Engineering(디자인-공학 융합전문대학원)', 'ResearchInterest': 'Interaction Design, Product Design, Tangible User Interfaces, Human Computer Interaction       ', 'Lab': 'Interactive Product Design Lab', 'Website': 'http://ipd.unist.ac.kr'}\n",
      "{'_id': ObjectId('5bf6bc4720c66c2facad396b'), 'id': '7102243307', 'Name': 'Rohde, Jan-Uwe(RohdeJan-Uwe)', 'department': 'School of Natural Science(자연과학부)', 'ResearchInterest': 'Inorganic chemistry, coordination chemistry, organometallic chemistry, chemical synthesis, catalysis, green chemistry, inorganic reaction mechanisms.       ', 'Lab': 'Transition Metal Chemistry', 'Website': 'http://rohde.unist.ac.kr/'}\n",
      "{'_id': ObjectId('5bf6bc4920c66c2facad396c'), 'id': '7004442771', 'Name': 'Ruoff, Rodney S.(RuoffRodney Scott)', 'department': 'School of Natural Science(자연과학부)', 'ResearchInterest': 'Next generation carbons, ultrathin sp3-bonded carbon sheets, negative curvature (‘Schwartzites’) carbons, sp3/sp2 hybrid carbon materials, model compounds for novel carbon materials, reaction mechanisms       ', 'Lab': 'Center for Multidimensional Carbon Materials (CMCM)', 'Website': 'http://cmcm.ibs.re.kr'}\n",
      "{'_id': ObjectId('5bf6bc4d20c66c2facad396d'), 'id': '34572754800', 'Name': 'Ryu, Dongsu(류동수)', 'department': 'School of Natural Science(자연과학부)', 'ResearchInterest': 'Shock waves and turbulence in clusters of galaxies, Origin and evolution of magnetic fields and cosmic rays in the universe, Plasma astrophysical phenomena in the large-scale structure of the universe       ', 'Lab': 'Astrophysics Lab', 'Website': 'http://sirius.unist.ac.kr/ryu/'}\n",
      "{'_id': ObjectId('5bf6bc4f20c66c2facad396e'), 'id': '7401868616', 'Name': 'Ryu, Ja-Hyoung(유자형)', 'department': 'School of Natural Science(자연과학부)', 'ResearchInterest': 'Supramolecular assembly, synthetic peptide assembly, cancer drug delivery       ', 'Lab': 'Supramolecular NanoMaterials Lab (SUN)', 'Website': 'http://jhryu.unist.ac.kr'}\n",
      "{'_id': ObjectId('5bf6bc5120c66c2facad396f'), 'id': '16317589100', 'Name': 'Ryu, Jungki(류정기)', 'department': 'School of Energy and Chemical Engineering(에너지및화학공학부)', 'ResearchInterest': 'Biomimetics, artificial photosynthesis, biomimetic catalysis, CO2 utilization       ', 'Lab': 'Bio-inspired Functional Materials Lab (BFML)', 'Website': 'http://bioinspired.unist.ac.kr/'}\n",
      "{'_id': ObjectId('5bf6bc5220c66c2facad3970'), 'id': '6701869902', 'Name': 'Scharer, Orlando D.(ScharerDavid Orlando)', 'department': 'School of Life Sciences(생명과학부)', 'ResearchInterest': 'DNA Damage and Repair and its Relationship to Cancer Biology and Therapy, Chemical, Molecular and Cell Biology       ', 'Lab': '', 'Website': ''}\n",
      "{'_id': ObjectId('5bf6bc5420c66c2facad3971'), 'id': '15134494100', 'Name': 'Schultz, Thomas(SchultzThomas)', 'department': 'School of Natural Science(자연과학부)', 'ResearchInterest': 'Correlated spectroscopy, Ultrafast spectroscopy, High-resolution spectroscopy, Photochemistry       ', 'Lab': 'CRASY(Correlated Rotational Alignment Spectroscopy)', 'Website': 'http://crasy.unist.ac.kr/'}\n",
      "{'_id': ObjectId('5bf6bc5520c66c2facad3972'), 'id': '55316189300', 'Name': 'Self, James(SelfJames Andrew)', 'department': 'Graduate School of Creative Design Engineering(디자인-공학 융합전문대학원)', 'ResearchInterest': 'Designerly Skills & Knowledge, Interdisciplinary Design Education, Design Innovation, Research-through-Design       ', 'Lab': 'Design Practice Research Lab', 'Website': 'http://designpracticeresearch.com/'}\n",
      "{'_id': ObjectId('5bf6bc5620c66c2facad3973'), 'id': '36798245100', 'Name': 'Seo, Byoung Ki(서병기)', 'department': 'School of Management Engineering(경영공학부)', 'ResearchInterest': 'Financial Engineering, Finanicial Mathematics, Market Microstructure       ', 'Lab': 'Trading Engineering Lab', 'Website': 'http://bkseo.unist.ac.kr'}\n",
      "{'_id': ObjectId('5bf6bc5820c66c2facad3974'), 'id': '9244279700', 'Name': 'Seo, Jeong Kon(서정곤)', 'department': 'Central Research Facility(연구지원본부)', 'ResearchInterest': 'Discovery of novel bioactive peptides, Discovery of novel drug-binding proteins by shotgun purification, Discovery of disease-related biomarkers       ', 'Lab': 'UNIST Central Research Facilities (UCRF)', 'Website': 'http://ucrf.unist.ac.kr/'}\n",
      "{'_id': ObjectId('5bf6bc5920c66c2facad3975'), 'id': '7201839234', 'Name': 'Seo, Kwanyong(서관용)', 'department': 'School of Energy and Chemical Engineering(에너지및화학공학부)', 'ResearchInterest': 'Flexible solar cell, transparent solar cell, PV-battery hybrid system, hetero-junction solar cell       ', 'Lab': 'The SEO Group', 'Website': 'http://kseo.unist.ac.kr/'}\n",
      "{'_id': ObjectId('5bf6bc5b20c66c2facad3976'), 'id': '7402001239', 'Name': 'Seo, Yongwon(서용원)', 'department': 'School of Urban and Environmental Engineering(도시환경공학부)', 'ResearchInterest': 'Gas Hydrate, Greenhouse Gas, Clean Energy       ', 'Lab': 'Advanced Clean Energy Lab (ACE Lab)', 'Website': 'http://ywseo.unist.ac.kr/'}\n",
      "{'_id': ObjectId('5bf6bc5c20c66c2facad3977'), 'id': '7004245859', 'Name': 'Seok, Sang Il(석상일)', 'department': 'School of Energy and Chemical Engineering(에너지및화학공학부)', 'ResearchInterest': 'Solar energy conversion, perovskite solar cells, inorganic-organic hybrid materials and processing, solution chemistry       ', 'Lab': 'Laboratory for Energy Harvesting Materials and Systems (LEHMS)', 'Website': 'http://faculty.unist.ac.kr/seoksi/'}\n",
      "{'_id': ObjectId('5bf6bc5e20c66c2facad3978'), 'id': '7005722687', 'Name': 'Shin, GwanSeob(신관섭)', 'department': 'School of Design and Human Engineering(디자인 및 인간공학부)', 'ResearchInterest': 'Biomechanics, Ergonomics, Occupational safety       ', 'Lab': 'Ergonomics Lab', 'Website': 'http://ergolab.unist.ac.kr'}\n",
      "{'_id': ObjectId('5bf6bc6020c66c2facad3979'), 'id': '36239839200', 'Name': 'Shin, Heungjoo(신흥주)', 'department': 'School of Mechanical, Aerospace and Nuclear Engineering(기계항공및원자력공학부)', 'ResearchInterest': 'Carbon-MEMS, Nanofabrication, Gas sensors, Biosensors, Electrochemical sensors, SPM       ', 'Lab': 'Micro/Nano Integrated Systems (MNIS) Lab', 'Website': 'https://sites.google.com/site/mnisunist/'}\n",
      "{'_id': ObjectId('5bf6bc6120c66c2facad397a'), 'id': '7404012685', 'Name': 'Shin, Hyeon Suk(신현석)', 'department': 'School of Natural Science(자연과학부)', 'ResearchInterest': 'Two-dimensional materials, graphene, transition metal dichalcogenides, h-BN, heterostructure       ', 'Lab': 'Lab for Nanomaterials and Nanoanalysis(LNN)', 'Website': 'http://lnn.unist.ac.kr/'}\n",
      "{'_id': ObjectId('5bf6bc6320c66c2facad397b'), 'id': '35075060500', 'Name': 'Shin, Hyung-Joon(신형준)', 'department': 'School of Materials Science and Engineering(신소재공학부)', 'ResearchInterest': 'Scanning tunneling microscopy, surface science, interface science, nanomaterials       ', 'Lab': 'Nanoscale Materials Science Lab (NMSL)', 'Website': 'https://sites.google.com/site/stmshinlab/'}\n",
      "{'_id': ObjectId('5bf6bc6420c66c2facad397c'), 'id': '7401537676', 'Name': 'Shin, Myoungsu(신명수)', 'department': 'School of Urban and Environmental Engineering(도시환경공학부)', 'ResearchInterest': 'Seismic design, Tall buildings, High performance composites, Non-destructive evaluation       ', 'Lab': 'Sustainable Structural Systems Lab', 'Website': 'http://msshin.campushomepage.com/'}\n",
      "{'_id': ObjectId('5bf6bc6620c66c2facad397d'), 'id': '7201493153', 'Name': 'Shin, Tae Joo(신태주)', 'department': 'Central Research Facility(연구지원본부)', 'ResearchInterest': 'Synchrotron Radiation Application Researches       ', 'Lab': 'UNIST Central Research Facilities (UCRF)', 'Website': 'http://ucrf.unist.ac.kr/'}\n",
      "{'_id': ObjectId('5bf6bc6820c66c2facad397e'), 'id': '7202819179', 'Name': 'Sim, Jae-Young(심재영)', 'department': 'School of Electrical and Computer Engineering(전기전자컴퓨터공학부)', 'ResearchInterest': 'Image processing, computer vision, 3D visual processing, signal processing       ', 'Lab': 'Visual Information Processing Lab (VIP Lab)', 'Website': 'http://vip.unist.ac.kr/'}\n",
      "{'_id': ObjectId('5bf6bc6920c66c2facad397f'), 'id': '55440211700', 'Name': 'Sim, Sung-Han(심성한)', 'department': 'School of Urban and Environmental Engineering(도시환경공학부)', 'ResearchInterest': 'Smart Sensor and Sensor Network, Structural Health Monitoring, Digital Image Processing       ', 'Lab': 'Smart Infrastructure Systems Lab', 'Website': 'http://shm.unist.ac.kr/'}\n",
      "{'_id': ObjectId('5bf6bc6a20c66c2facad3980'), 'id': '55926758000', 'Name': 'Sohn, Dong-Seong(손동성)', 'department': 'School of Mechanical, Aerospace and Nuclear Engineering(기계항공및원자력공학부)', 'ResearchInterest': 'Nuclear fuel design, Nuclear fuel , Nuclear system, Performance analysis       ', 'Lab': 'Innovative Nuclear FUEL(INFUEL)', 'Website': 'http://dssohn.unist.ac.kr/'}\n",
      "{'_id': ObjectId('5bf6bc6c20c66c2facad3981'), 'id': '56346553800', 'Name': 'Son, Hungsun(손흥선)', 'department': 'School of Mechanical, Aerospace and Nuclear Engineering(기계항공및원자력공학부)', 'ResearchInterest': 'Magnetic field modeling, Actuator and sensor, Robotics and Automation       ', 'Lab': 'Electromechanical Systems & Control Lab (ESCL)', 'Website': 'http://hson.unist.ac.kr/index.sko'}\n",
      "{'_id': ObjectId('5bf6bc6e20c66c2facad3982'), 'id': '56410377100', 'Name': 'Son, Jae Sung(손재성)', 'department': 'School of Materials Science and Engineering(신소재공학부)', 'ResearchInterest': 'Nanomaterials, ligand Chemistry, electronics, thermoelectrics, photovoltaics       ', 'Lab': 'Nanomaterials Science and Engineering Lab (NSE)', 'Website': 'http://nse.unist.ac.kr'}\n",
      "{'_id': ObjectId('5bf6bc6f20c66c2facad3983'), 'id': '23028717700', 'Name': 'Song, Chang-Keun(송창근)', 'department': 'School of Urban and Environmental Engineering(도시환경공학부)', 'ResearchInterest': 'Environmental Science       ', 'Lab': 'School of Urban and Environmental Engineering', 'Website': ''}\n",
      "{'_id': ObjectId('5bf6bc7120c66c2facad3984'), 'id': '35090379700', 'Name': 'Song, Hyun-Kon(송현곤)', 'department': 'School of Energy and Chemical Engineering(에너지및화학공학부)', 'ResearchInterest': 'Electrochemical analysis, electroactive materials, electrochemistry-based energy devices       ', 'Lab': 'eclat: ElectroChemistry Lab of Advanced Technology', 'Website': 'http://echem.kr/'}\n",
      "{'_id': ObjectId('5bf6bc7220c66c2facad3985'), 'id': '53064572700', 'Name': 'Song, Myoung Hoon(송명훈)', 'department': 'School of Materials Science and Engineering(신소재공학부)', 'ResearchInterest': 'Organic optoelectrics, perovskite light-emitting diodes, surface treatment, photonic crystals       ', 'Lab': 'Organic Photonics & Optoelectronics Lab', 'Website': 'http://faculty.unist.ac.kr/mhsong/'}\n",
      "{'_id': ObjectId('5bf6bc7420c66c2facad3986'), 'id': '7004546064', 'Name': 'Suh, Pann-Ghill(서판길)', 'department': 'School of Life Sciences(생명과학부)', 'ResearchInterest': 'Signal transduction, cancer, metabolism, phospholipase C       ', 'Lab': 'BioSignal Network Lab (BSN)', 'Website': 'http://bsn.unist.ac.kr'}\n",
      "{'_id': ObjectId('5bf6bc7520c66c2facad3987'), 'id': '34870949500', 'Name': 'Sun, Hae-sang(선해상)', 'department': 'School of Natural Science(자연과학부)', 'ResearchInterest': 'Zeta function, L-function, mu invariant, indivisibility of special L-values       ', 'Lab': 'Number Theory Group', 'Website': 'http://www.math.unist.ac.kr/~haesang'}\n",
      "{'_id': ObjectId('5bf6bc7620c66c2facad3988'), 'id': '35100944500', 'Name': 'Sung, MinKyu(성민규)', 'department': 'Division of General Studies(기초과정부)', 'ResearchInterest': 'Rhetoric of science, Technology and medicine, Critical and cultural studies       ', 'Lab': 'Division of General Studies', 'Website': 'http://minkyusung.unist.ac.kr/'}\n",
      "{'_id': ObjectId('5bf6bc7720c66c2facad3989'), 'id': '8299592300', 'Name': 'Tatar, Bradley(TatarBradley)', 'department': 'Division of General Studies(기초과정부)', 'ResearchInterest': 'Human ecology, food and social values, political anthropology, music and politics;Mexico/Central America area studies, Korea area studies       ', 'Lab': 'Division of General Studies', 'Website': 'http://btatar.unist.ac.kr/'}\n",
      "{'_id': ObjectId('5bf6bc7820c66c2facad398a'), 'id': '6601956447', 'Name': 'Tlusty, Tsvi(TlustyTsvi)', 'department': 'School of Natural Science(자연과학부)', 'ResearchInterest': 'Systems biology, non-equilibrium physics, physical biology, molecular information, proteins       ', 'Lab': 'Living and Soft Matter Theory Group', 'Website': 'http://life.ibs.re.kr'}\n",
      "{'_id': ObjectId('5bf6bc7920c66c2facad398b'), 'id': '37666154100', 'Name': 'Torbol, Marco(TorbolMarco)', 'department': 'School of Urban and Environmental Engineering(도시환경공학부)', 'ResearchInterest': 'Reliability analysis, probabilistic safety assessment, probabilistic risk assessment,structural health monitoring, system identification, damage assessment       ', 'Lab': 'Reliability & Risk Assessment Laboratory (R2A lab)', 'Website': 'http://r2alab.unist.ac.kr/'}\n",
      "{'_id': ObjectId('5bf6bc7a20c66c2facad398c'), 'id': '55925742900', 'Name': 'Vigneron, Antoine(VigneronAntoine)', 'department': 'School of Electrical and Computer Engineering(전기전자컴퓨터공학부)', 'ResearchInterest': 'Computational geometry, algorithms design and analysis, computational complexity       ', 'Lab': 'Geometric Algorithms Lab', 'Website': ''}\n",
      "{'_id': ObjectId('5bf6bc7b20c66c2facad398d'), 'id': '55533352800', 'Name': 'Woo, Hangyun(우한균)', 'department': 'Graduate School of Technology and Innovation Management(기술경영전문대학원)', 'ResearchInterest': 'Innovation management, Business process management, Open innovation       ', 'Lab': 'Open Innovation Lab', 'Website': 'http://hwoo.blogspot.com/'}\n",
      "{'_id': ObjectId('5bf6bc7c20c66c2facad398e'), 'id': '15770438700', 'Name': 'Yang, Changduk(양창덕)', 'department': 'School of Energy and Chemical Engineering(에너지및화학공학부)', 'ResearchInterest': 'Optoelectronic materials synthesis/organic electronics, functionalization of carbonaceous solids, advanced materials chemistry, macromolecular chemistry       ', 'Lab': 'Advanced Tech-Optoelectronic Materials Synthesis Lab (ATOMS)', 'Website': 'http://yang.unist.ac.kr/'}\n",
      "{'_id': ObjectId('5bf6bc7e20c66c2facad398f'), 'id': '7406562262', 'Name': 'Yang, Hyun Jong(양현종)', 'department': 'School of Electrical and Computer Engineering(전기전자컴퓨터공학부)', 'ResearchInterest': 'Wireless communications, signal processing, physical-layer algorithms, communications theory       ', 'Lab': 'Advanced Information System Lab (AiS Lab)', 'Website': 'http://ais.unist.ac.kr/'}\n",
      "{'_id': ObjectId('5bf6bc7f20c66c2facad3990'), 'Name': 'Yang, Joon Mo(양준모)', 'department': 'School of Life Sciences(생명과학부)', 'ResearchInterest': 'Biomedical physics and engineering, biomedical imaging, biomedical optics (spectroscopy, imaging and sensing), photoacoustic imaging, ultrasound imaging, diffuse optical imaging, multimodality imaging, novel tomographic endoscopic techniques       ', 'Lab': '', 'Website': ''}\n",
      "{'_id': ObjectId('5bf6bc8120c66c2facad3991'), 'id': '55555208000', 'Name': 'Yang, Seungjoon(양승준)', 'department': 'School of Electrical and Computer Engineering(전기전자컴퓨터공학부)', 'ResearchInterest': 'Statistical signal processing, multi-rate systems, image/video processing, computer vision       ', 'Lab': 'Signal Processing Lab (SPL)', 'Website': 'http://padme.unist.ac.kr/'}\n",
      "{'_id': ObjectId('5bf6bc8220c66c2facad3992'), 'id': '36457342100', 'Name': 'Yi, Huiyuhl(이희열)', 'department': 'Division of General Studies(기초과정부)', 'ResearchInterest': 'Metaphysical problems concerning personal identity       ', 'Lab': 'Division of General Studies', 'Website': 'http://huiyuhl.unist.ac.kr/'}\n",
      "{'_id': ObjectId('5bf6bc8320c66c2facad3993'), 'id': '56179096100', 'Name': 'Yoo, Chun Sang(유춘상)', 'department': 'School of Mechanical, Aerospace and Nuclear Engineering(기계항공및원자력공학부)', 'ResearchInterest': 'Numerical turbulent combustion, Combustion modelling, Micro-scale fluid-particle interaction       ', 'Lab': 'Combustion & Propulsion Lab', 'Website': 'http://csyoo.unist.ac.kr/'}\n",
      "{'_id': ObjectId('5bf6bc8520c66c2facad3994'), 'id': '8214615400', 'Name': 'Yoo, Jung-Woo(유정우)', 'department': 'School of Materials Science and Engineering(신소재공학부)', 'ResearchInterest': 'Transport properties, spintronics, organic/molucular magnet, electronic, and spintronics,, 2DEG, energy harvesting device, atomic/molecular layer deposition       ', 'Lab': 'Functional Hybrid Materials and Devices Lab(FHMDL)', 'Website': 'http://home.unist.ac.kr/professor/jwyoo'}\n",
      "{'_id': ObjectId('5bf6bc8620c66c2facad3995'), 'id': '56909497400', 'Name': 'Yoon, Eisung(윤의성)', 'department': 'School of Mechanical, Aerospace and Nuclear Engineering(기계항공및원자력공학부)', 'ResearchInterest': '', 'Lab': '', 'Website': ''}\n",
      "{'_id': ObjectId('5bf6bc8720c66c2facad3996'), 'id': '55949019700', 'Name': 'Yoon, Saera(윤새라)', 'department': 'Division of General Studies(기초과정부)', 'ResearchInterest': 'Russian Literature, Comparative Literature       ', 'Lab': 'Division of General Studies', 'Website': 'http://sayoon.unist.ac.kr/'}\n",
      "{'_id': ObjectId('5bf6bc8720c66c2facad3997'), 'id': '35304051800', 'Name': 'Yun, Aaram(윤아람)', 'department': 'School of Electrical and Computer Engineering(전기전자컴퓨터공학부)', 'ResearchInterest': 'Cryptography, complexity theory, computer security       ', 'Lab': 'Cryptography and Secure Computation Lab', 'Website': 'http://aaramyun.unist.ac.kr/'}\n",
      "{'_id': ObjectId('5bf6bc8820c66c2facad3998'), 'id': '55428148200', 'Name': 'Zhang, Lu(ZhangLu)', 'department': 'School of Business Administration(경영학부)', 'ResearchInterest': 'Diversity management, Leadership, Power dynamics in organizations, Corporate social responsibility       ', 'Lab': 'School of Business Administration', 'Website': ''}\n"
     ]
    }
   ],
   "source": [
    "k = db.profdata.find()\n",
    "for i in k:\n",
    "    print(i)"
   ]
  },
  {
   "cell_type": "code",
   "execution_count": null,
   "metadata": {},
   "outputs": [],
   "source": []
  }
 ],
 "metadata": {
  "kernelspec": {
   "display_name": "Python 3",
   "language": "python",
   "name": "python3"
  },
  "language_info": {
   "codemirror_mode": {
    "name": "ipython",
    "version": 3
   },
   "file_extension": ".py",
   "mimetype": "text/x-python",
   "name": "python",
   "nbconvert_exporter": "python",
   "pygments_lexer": "ipython3",
   "version": "3.6.6"
  }
 },
 "nbformat": 4,
 "nbformat_minor": 2
}
