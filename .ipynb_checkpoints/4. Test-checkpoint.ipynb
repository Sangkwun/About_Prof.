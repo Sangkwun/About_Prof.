{
 "cells": [
  {
   "cell_type": "code",
   "execution_count": 1,
   "metadata": {},
   "outputs": [],
   "source": [
    "import requests\n",
    "import json\n",
    "from bs4 import BeautifulSoup\n",
    "import time\n",
    "import re\n",
    "import pandas as pd\n",
    "import numpy as np\n",
    "from pymongo import MongoClient"
   ]
  },
  {
   "cell_type": "code",
   "execution_count": 3,
   "metadata": {},
   "outputs": [],
   "source": [
    "client = MongoClient()\n",
    "db = client.aboutdepart"
   ]
  },
  {
   "cell_type": "code",
   "execution_count": 11,
   "metadata": {},
   "outputs": [
    {
     "name": "stderr",
     "output_type": "stream",
     "text": [
      "/Users/seungheondoh/anaconda3/envs/python3.6/lib/python3.6/site-packages/ipykernel_launcher.py:2: DeprecationWarning: count is deprecated. Use estimated_document_count or count_documents instead. Please note that $where must be replaced by $expr, $near must be replaced by $geoWithin with $center, and $nearSphere must be replaced by $geoWithin with $centerSphere\n",
      "  \n"
     ]
    },
    {
     "data": {
      "text/plain": [
       "270"
      ]
     },
     "execution_count": 11,
     "metadata": {},
     "output_type": "execute_result"
    }
   ],
   "source": [
    "database = db.professors.find()\n",
    "db.professors.count()"
   ]
  },
  {
   "cell_type": "code",
   "execution_count": 9,
   "metadata": {},
   "outputs": [
    {
     "data": {
      "text/plain": [
       "{'_id': ObjectId('5be84ed71920751280b98ead'),\n",
       " 'Authors': ['Zhang L., Seo J.',\n",
       "  'Morand D., Zhang L.',\n",
       "  'Zhang L., Morand D.',\n",
       "  'Zhang L., Goldberg C.',\n",
       "  'Zhang L., Gowan M.A., Treviño M.',\n",
       "  'Zhang L.',\n",
       "  'Zhang L., Gowan M.A.',\n",
       "  'Zhang L., Gowan M.',\n",
       "  'Goldberg C., Riordan C.M., Zhang L.',\n",
       "  'Goldberg C., Zhang L.'],\n",
       " 'Author Ids': ['55428148200;57189989008;',\n",
       "  '6701727964;55428148200;',\n",
       "  '55428148200;6701727964;',\n",
       "  '55428148200;7102041095;',\n",
       "  '55428148200;7004672859;6701485782;',\n",
       "  '55428148200;',\n",
       "  '55428148200;7004672859;',\n",
       "  '55428148200;7004672859;',\n",
       "  '7102041095;7004493181;55428148200;',\n",
       "  '7102041095;55428148200;'],\n",
       " 'Title': ['Held captive in the office: an investigation into long working hours among Korean employees',\n",
       "  'The impact of status-leveling symbols on employee attitudes: a moderated mediational analysis',\n",
       "  'The linkage between status-leveling symbols and work attitudes',\n",
       "  'Sensitivity-to-diversity: A moderator of diversity affective outcomes relationships',\n",
       "  'Cross-cultural correlates of career and parental role commitment',\n",
       "  'Board demographic diversity, independence, and corporate social performance',\n",
       "  \"Corporate Social Responsibility, Applicants' Individual Traits, and Organizational Attraction: A Person-Organization Fit Perspective\",\n",
       "  \"Corporate social responsibility, applicants' ethical predispositions and organization attraction\",\n",
       "  \"Employees' perceptions of their leaders: Is being similar always better?\",\n",
       "  'Simple and joint effects of gender and self-esteem on responses to same-sex sexual harassment'],\n",
       " 'Year': ['2018',\n",
       "  '2018',\n",
       "  '2014',\n",
       "  '2014',\n",
       "  '2014',\n",
       "  '2012',\n",
       "  '2012',\n",
       "  '2008',\n",
       "  '2008',\n",
       "  '2004'],\n",
       " 'Source title': ['International Journal of Human Resource Management',\n",
       "  'International Journal of Human Resource Management',\n",
       "  'Journal of Managerial Psychology',\n",
       "  'Equality, Diversity and Inclusion',\n",
       "  'Journal of Managerial Psychology',\n",
       "  'Corporate Governance (Bingley)',\n",
       "  'Journal of Business and Psychology',\n",
       "  'Academy of Management 2008 Annual Meeting: The Questions We Ask, AOM 2008',\n",
       "  'Group and Organization Management',\n",
       "  'Sex Roles'],\n",
       " 'Volume': ['29.0',\n",
       "  'nan',\n",
       "  '29.0',\n",
       "  '33.0',\n",
       "  '29.0',\n",
       "  '12.0',\n",
       "  '27.0',\n",
       "  'nan',\n",
       "  '33.0',\n",
       "  '50.0'],\n",
       " 'Issue': ['7', 'nan', '8', '6', '6', '5', '3', 'nan', '3', '11-12'],\n",
       " 'Art- No-': ['nan',\n",
       "  'nan',\n",
       "  'nan',\n",
       "  'nan',\n",
       "  'nan',\n",
       "  'nan',\n",
       "  'nan',\n",
       "  'nan',\n",
       "  'nan',\n",
       "  'nan'],\n",
       " 'Page start': ['1231.0',\n",
       "  '1.0',\n",
       "  '973.0',\n",
       "  '494.0',\n",
       "  '736.0',\n",
       "  '686.0',\n",
       "  '345.0',\n",
       "  'nan',\n",
       "  '330.0',\n",
       "  '823.0'],\n",
       " 'Page end': ['1256.0',\n",
       "  '26.0',\n",
       "  '993.0',\n",
       "  '509.0',\n",
       "  '754.0',\n",
       "  '700.0',\n",
       "  '362.0',\n",
       "  'nan',\n",
       "  '355.0',\n",
       "  '833.0'],\n",
       " 'Page count': ['nan',\n",
       "  'nan',\n",
       "  'nan',\n",
       "  'nan',\n",
       "  'nan',\n",
       "  'nan',\n",
       "  'nan',\n",
       "  '6.0',\n",
       "  'nan',\n",
       "  'nan'],\n",
       " 'Cited by': ['nan',\n",
       "  'nan',\n",
       "  'nan',\n",
       "  'nan',\n",
       "  '3.0',\n",
       "  '21.0',\n",
       "  '28.0',\n",
       "  'nan',\n",
       "  '20.0',\n",
       "  '10.0'],\n",
       " 'DOI': ['10.1080/09585192.2016.1192053',\n",
       "  '10.1080/09585192.2018.1454488',\n",
       "  '10.1108/JMP-12-2012-0413',\n",
       "  '10.1108/EDI-05-2013-0028',\n",
       "  '10.1108/JMP-11-2012-0336',\n",
       "  '10.1108/14720701211275604',\n",
       "  '10.1007/s10869-011-9250-5',\n",
       "  'nan',\n",
       "  '10.1177/1059601108318232',\n",
       "  'nan'],\n",
       " 'Link': ['https://www.scopus.com/inward/record.uri?eid=2-s2.0-84976330164&doi=10.1080%2f09585192.2016.1192053&partnerID=40&md5=889aba92351b9a3ca3cd346155c50276',\n",
       "  'https://www.scopus.com/inward/record.uri?eid=2-s2.0-85044327934&doi=10.1080%2f09585192.2018.1454488&partnerID=40&md5=a9a37cd0a5a6fae0d57e29aa3f85abd5',\n",
       "  'https://www.scopus.com/inward/record.uri?eid=2-s2.0-84914151176&doi=10.1108%2fJMP-12-2012-0413&partnerID=40&md5=916dde8eb0474753c8e89243a895c30e',\n",
       "  'https://www.scopus.com/inward/record.uri?eid=2-s2.0-84938262134&doi=10.1108%2fEDI-05-2013-0028&partnerID=40&md5=a8087730271158c1d26490984f3dfe7e',\n",
       "  'https://www.scopus.com/inward/record.uri?eid=2-s2.0-84927512246&doi=10.1108%2fJMP-11-2012-0336&partnerID=40&md5=726ed75de455af7b2184fcb40050fa89',\n",
       "  'https://www.scopus.com/inward/record.uri?eid=2-s2.0-84867777363&doi=10.1108%2f14720701211275604&partnerID=40&md5=5470c41d3cec8de8d647bee38fa852d2',\n",
       "  'https://www.scopus.com/inward/record.uri?eid=2-s2.0-84865441494&doi=10.1007%2fs10869-011-9250-5&partnerID=40&md5=95a252df0b052c761261ed186f352846',\n",
       "  'https://www.scopus.com/inward/record.uri?eid=2-s2.0-84863373088&partnerID=40&md5=ddaefd5a844b4a4816ea25f76554ae60',\n",
       "  'https://www.scopus.com/inward/record.uri?eid=2-s2.0-43949135205&doi=10.1177%2f1059601108318232&partnerID=40&md5=e4c732c08c7bf20e6b99ca6caafe639c',\n",
       "  'https://www.scopus.com/inward/record.uri?eid=2-s2.0-3843109921&partnerID=40&md5=8035acacf3a2bf9230cdb8733bf65592'],\n",
       " 'Affiliations': ['School of Business Administration, Ulsan National Institute of Science and Technology (UNIST), Ulsan, South Korea; Carlson School of Management, University of Minnesota, Minneapolis, MN, United States',\n",
       "  'School of Business, Pennsylvania State University, Middletown, PA, USA; School of Business Administration, Ulsan National Institute of Science and Technology, Ulsan, Republic of Korea',\n",
       "  'School of Technology Management, Ulsan National Institute of Science and Technology, Ulju-gun, South Korea; School of Business Administration, Pennsylvania State University – Harrisburg, Middletown, PA, United States',\n",
       "  'School of Technology Management, Ulsan National Institute of Science and Technology, Ulsan, South Korea; Kogod School of Business, American University, Washington, DC, United States; Departament of Management, Ulsan National Institute of Science and Technology, Ulsan, South Korea',\n",
       "  'School of Technology Management, Ulsan National Institute of Science and Technology, Ulsan, South Korea; Department of Management, James Madison University, Harrisonburg, VA, United States; University of Texas El Paso, El Paso, TX, United States',\n",
       "  'School of Technology Management, Ulsan National Institute of Science and Technology, Ulsan, South Korea',\n",
       "  'School of Business Administration, Penn State-Harrisburg, Middletown, PA 17057, United States; Love School of Business, Elon University, Elon, NC 27244, United States',\n",
       "  'School of Business Administration Penn State - Harrisburg, Middletown, PA 17057, United States; Elon University, United States',\n",
       "  'American University, Washington, DC, United States; Texas Christian University, Fort Worth, United States; George Washington University, Washington, DC, United States',\n",
       "  'Department of Management Science, George Washington University, Washington, DC 20052, United States'],\n",
       " 'Authors with affiliations': ['Zhang, L., School of Business Administration, Ulsan National Institute of Science and Technology (UNIST), Ulsan, South Korea; Seo, J., Carlson School of Management, University of Minnesota, Minneapolis, MN, United States',\n",
       "  'Morand, D., School of Business, Pennsylvania State University, Middletown, PA, USA; Zhang, L., School of Business Administration, Ulsan National Institute of Science and Technology, Ulsan, Republic of Korea',\n",
       "  'Zhang, L., School of Technology Management, Ulsan National Institute of Science and Technology, Ulju-gun, South Korea; Morand, D., School of Business Administration, Pennsylvania State University – Harrisburg, Middletown, PA, United States',\n",
       "  'Zhang, L., School of Technology Management, Ulsan National Institute of Science and Technology, Ulsan, South Korea, Departament of Management, Ulsan National Institute of Science and Technology, Ulsan, South Korea; Goldberg, C., Kogod School of Business, American University, Washington, DC, United States',\n",
       "  'Zhang, L., School of Technology Management, Ulsan National Institute of Science and Technology, Ulsan, South Korea; Gowan, M.A., Department of Management, James Madison University, Harrisonburg, VA, United States; Treviño, M., University of Texas El Paso, El Paso, TX, United States',\n",
       "  'Zhang, L., School of Technology Management, Ulsan National Institute of Science and Technology, Ulsan, South Korea',\n",
       "  'Zhang, L., School of Business Administration, Penn State-Harrisburg, Middletown, PA 17057, United States; Gowan, M.A., Love School of Business, Elon University, Elon, NC 27244, United States',\n",
       "  'Zhang, L., School of Business Administration Penn State - Harrisburg, Middletown, PA 17057, United States; Gowan, M., Elon University, United States',\n",
       "  'Goldberg, C., American University, Washington, DC, United States; Riordan, C.M., Texas Christian University, Fort Worth, United States; Zhang, L., George Washington University, Washington, DC, United States',\n",
       "  'Goldberg, C., Department of Management Science, George Washington University, Washington, DC 20052, United States; Zhang, L., Department of Management Science, George Washington University, Washington, DC 20052, United States'],\n",
       " 'Abstract': ['Although working long hours is a common practice, scholars still know little about what really causes employees to work long hours. Drawing on social information processing and social learning theory, this study examines the role of social contextual antecedents (i.e. supervisor working hours and the perceived overtime climate of one’s workgroup) in influencing employee working hours, after controlling for individual background and job characteristics. Further, we examine whether such relationships are contingent on employees’ individual differences in their identification with leader and a collectivist tendency. A field study of 200 supervisor-subordinate dyads in South Korea revealed a strong positive relationship between the contextual antecedents and employees’ working hours, as well as the moderating effects of the two individual difference variables. Specifically, we found that the relationship between supervisor working hours and employee working hours was more positive for low identifiers than for high identifiers, while the relationship between the perceived overtime climate and employee working hours was more positive for those low in collectivism than for those high in collectivism. Finally, we found that working long hours was associated with lower job satisfaction, higher psychological distress, lower in-role performance, but not with organizational citizenship behavior. © 2016, © 2016 Informa UK Limited, trading as Taylor & Francis Group.',\n",
       "  'Status-leveling symbols (defined as physical, verbal, and behavioral manifestations in an organization that are designed to downplay hierarchical systems within the organization) are considered central to high-involvement work systems, yet these practices have received little attention in the empirical literature. Using data collected from 147 working adults, this study examined the relationship between status-leveling symbols and work-related attitudes, as mediated by organizational culture. We also examined how individual power-distance orientation moderated this mediated relationship. We found that perceived low power-distance organizational culture mediated the relationship between status-leveling symbols and attitudes. Furthermore, individual power-distance orientation moderated the second path of the mediated relationship, yet in a direction opposite to our prediction. This study advances the theory related to organizational symbols and, more broadly, to high involvement work practices. Our findings also provide practical guidance relative to the role of perceived organizational culture as an important mechanism for managing employees’ reactions to status-leveling symbols. © 2018 Informa UK Limited, trading as Taylor & Francis Group',\n",
       "  'Purpose – The purpose of this paper is to investigate the relationship between status-leveling symbols (i.e. the symbols used by organizations to remove, blur, or downplay hierarchical distinctions) and employees’ work attitudes, as mediated through perceptions of trust, justice, and leader-member exchange. The study intends to provide some empirical support relative to the role of symbolicleveling symbols as a social influence process in the workplace.Design/methodology/approach – In this study, the authors developed a measure of organizational status leveling by focussing on three symbols – physical space, dress, and forms of address. Data were collected from 147 employees who were enrolled in a part-time MBA program. The paper used path analysis to test the hypotheses.Findings – Results fully supported the theoretical model except the mediating role of justice perceptions in the relationship between status-leveling symbols and affective commitment.Practical implications – The results of the study provide guidance for design of physical workspaces and setting or reinforcing norms regarding forms of address and dress codes. Such practices need to be integrated with other high-involvement HR practices so as to create and sustain the culture desired by the organization.Originality/value – The paper is the first to measure status-leveling symbols in organizations, and the first to investigate the linkages between symbolic-leveling symbols and relevant work-related outcomes. © Emerald Group Publishing Limited.',\n",
       "  'Purpose The purpose of this paper is to develop two new constructs sensitivity to gender and race/ethnicity diversity and examined how differences in these constructs moderate the diversity affective outcomes relationships. Design/methodology/approach A sample of 250 full-time employees completed an online survey on their sensitivity, workgroup diversity, and affective reactions toward their workgroups. Findings The paper performed a construct validation of the new sensitivity to diversity measures and found that they were conceptually distinct from two existing diversity perceptual constructs gender identity salience and pro-diversity belief. Furthermore, the authors found that the moderating effect of sensitivity to gender diversity on the relationship between gender diversity and perceived cohesiveness and workgroup commitment was stronger for women than for men. The authors also found that the moderating role of sensitivity to race/ethnicity diversity on the relationship between race/ethnicity diversity and workgroup commitment and satisfaction with coworkers varied by race/ethnicity. Research limitations/implications Although common method variance can be a problem, diagnostic tests indicated that it had minimal influence on the results. Practical implications Organizations need to understand how individual differences among employees, especially among female and racial/ethnic minority employees, affect their responses to workgroup diversity and diversity initiatives. Originality/value Prior research on diversity has generally not examined individual differences in the propensity to notice differences. This study contributes to the literature by examining the moderating roles of such important individual characteristics on the relationship between diversity and affective outcomes. © Emerald Group Publishing Limited.',\n",
       "  'Purpose – The purpose of this paper is to examine the relationship between country of birth or ethnicity (cultural proxies) and career and parental role commitment, andwhether or not that relationship is mediated by two psychological dimensions known to differ across Mexican and USA cultures. These mediators are family achievement orientation and gender role orientation. Design/methodology/approach – Data were collected from 372 working female students at community colleges in the USA andMexico. The survey focussed on career and parental role commitment, family achievement orientation, and gender role attitudes. Findings – Both country of birth and ethnicity predict career and parental role commitment. Females born in Mexico and Hispanics have higher career role commitment and lower parental role commitment than females born in the USA and non-Hispanic whites. Family achievement orientation and gender role attitudes partially mediate these relationships. Research limitations/implications – Cross-cultural research of work and family issues needs to incorporate psychological dimensions in accounting for country/ethnic differences. Practical implications – Employees’ cultural backgrounds should be considered in designing programs to support family and work balance. Social implications – Assistance programs designed to enable Hispanics to work will be valued and fit with the Hispanic cultural focus on working as a means to care for family. Originality/value – This study addresses a stated need in the work/life literature for research that addresses cross-cultural differences, and research in the cross-cultural research that calls for the inclusion of psychological dimension mediators between culture and the variables of interest. © Emerald Group Publishing Limited.',\n",
       "  'Purpose: Drawing on agency theory and resource dependence theory, the study aims to link board demographic diversity and independence to corporate social performance. Design/methodology/approach: Data were collected from various sources for a sample of 475 publicly traded Fortune 500 companies between the years 2007 and 2008. Findings: It is found that board gender diversity is positively related to institutional and technical strength ratings, while board racial diversity is positively related to institutional strength rating only. Both the proportion of outside directors and CEO non-duality were negatively associated with institutional and technical weakness ratings. Research limitations/implications: The sample was predominantly large, publicly traded national and international corporations, which might limit the generalizability of the findings. Practical implications: Management personnel should be cognizant of how board configurations and leadership structure may influence their corporate reputation for social responsibility. Efforts should be made to foster a group dynamic that is conducive to effective board functioning. Originality/value: Few empirical studies have examined the relationship between board characteristics and corporate social performance. This study contributes to the literature by examining such associations. © Emerald Group Publishing Limited.',\n",
       "  \"The purpose of this study is to explore whether different aspects of corporate social responsibility (i. e., economic, legal, and ethical) have independent association with job applicants' attraction to organizations and how applicants combine the information. Further, from a person-organization fit perspective, we examine whether applicants are attracted to organizations whose corporate social responsibility (CSR) reflects their differences in ethical predispositions (i. e., utilitarianism and formalism) and Machiavellianism. Using factorial design, we created scenarios manipulating CSR and pay level. Participants read each scenario and answered questions about their attraction to the organization depicted in the scenario. We found that each aspect of CSR had an independent relationship with organizational attraction and the probability of accepting a job offer. Participants combined information from each type of CSR in an interactive, configural manner. Applicants with different ethical predispositions and Machiavellianism personality were affected by CSR to different extents. Understanding how job applicants evaluate CSR information may give managers an opportunity to influence applicant attraction. Further, our study shows that organizations may be able to maximize the utility of their CSR investments by selectively conveying CSR information in recruitment brochures that are attractive to their ideal applicants. This is the first study to examine how job applicants form their perception based upon different configurations of the multiple aspects of CSR. In addition, this is the first study to examine the moderating effect of individual differences in ethical predispositions and Machiavellianism on the relationship between CSR and applicant attraction. © 2011 Springer Science+Business Media, LLC.\",\n",
       "  'This policy-capturing study examines the impact of corporate social responsibility (CSR) on applicant attraction to organizations. In a sample of 201 graduating business students, we found that each aspect of CSR, i.e., economic, legal, and ethical responsibility, had a unique effect on organizational attraction and probability of accepting offer. The participants also combined these three types of information in an interactive configural manner. Applicants with different ethical predispositions were affected by CSR to different extents. Future research needs and practical implications are discussed.',\n",
       "  \"Using a sample of middle and upper level managers, the authors examined the effects of employee-supervisor demographic similarity on employees' perceptions of their supervisor's leadership ability. The authors also examined the moderating effects of individuals' needs for self-continuity and the status of the demographic groups on these relationships. Very little evidence was found for direct similarity effects. However, the authors found strong and consistent evidence that employees in high-status demographic groups exhibited a positive relationship between self-continuity and perceptions of their leaders when the leader was demographically similar, whereas employees in low-status demographic groups exhibited a negative relationship between self-continuity and perceptions of their leaders when the leader was demographically similar. Implications for social identity theory and relational demography research are discussed. © 2008 Sage Publications.\",\n",
       "  \"In a sample of 431 white-collar professionals, we examined the impact of gender and self-esteem on individuals' intentions to seek legal counsel, confront the harasser, and make formal reports within the organization in response to approach-based same-sex sexual harassment. We hypothesized that gender, self-esteem, and their interaction would be related to assertive responses. All three hypotheses received support: men were more likely than women to respond assertively; self-esteem was positively related to response intentions; and self-esteem had a greater impact on men's responses than on women's responses. These results suggest that frameworks used to describe responses to cross-sex sexual harassment may not be adequate for same-sex sexual harassment. Post hoc analyses revealed that perceiving the behavior as harassment mediated the relationship between self-esteem and the responses to harassment, but did not mediate the relationships between gender and the responses to harassment. These findings contribute to the research on acknowledging sexual harassment.\"],\n",
       " 'Author Keywords': ['Collectivism; employee attitudes; employee performance; identification with leader; long working hours; overtime; overtime climate',\n",
       "  'culture; high-involvement work practice; organizational design; power distance; Status-leveling symbols',\n",
       "  'Employee attitudes; High performance work practices; Justice; Leader-Member exchange; Status-leveling symbols; Trust',\n",
       "  'Diversity belief; Employee attitudes; Gender diversity; Identity salience; Race/ethnicity diversity; Sensitivity to diversity',\n",
       "  'Careers; Cross-cultural management; Role commitment; Work family issues',\n",
       "  'Boards of directors; Chief executive officer duality; Company performance; Corporate social performance; Demographic diversity; Gender; Outsider representation on boards',\n",
       "  'Applicant attraction; Corporate social responsibility; Ethical predispositions; Machiavellianism; Person-organization fit',\n",
       "  'Applicant attraction; Corporate social responsibility; Person-organization fit',\n",
       "  'Demographic similarity; Perceptions of leadership behaviors; Self-continuity; Status',\n",
       "  'Responses to sexual harassment; Same-sex sexual harassment; Self-esteem and sexual harassment; Sexual harassment'],\n",
       " 'Document Type': ['Article',\n",
       "  'Article in Press',\n",
       "  'Article',\n",
       "  'Article',\n",
       "  'Article',\n",
       "  'Article',\n",
       "  'Article',\n",
       "  'Conference Paper',\n",
       "  'Article',\n",
       "  'Article'],\n",
       " 'Access Type': ['nan',\n",
       "  'nan',\n",
       "  'nan',\n",
       "  'nan',\n",
       "  'nan',\n",
       "  'nan',\n",
       "  'nan',\n",
       "  'nan',\n",
       "  'nan',\n",
       "  'nan'],\n",
       " 'Source': ['Scopus',\n",
       "  'Scopus',\n",
       "  'Scopus',\n",
       "  'Scopus',\n",
       "  'Scopus',\n",
       "  'Scopus',\n",
       "  'Scopus',\n",
       "  'Scopus',\n",
       "  'Scopus',\n",
       "  'Scopus'],\n",
       " 'EID': ['2-s2.0-84976330164',\n",
       "  '2-s2.0-85044327934',\n",
       "  '2-s2.0-84914151176',\n",
       "  '2-s2.0-84938262134',\n",
       "  '2-s2.0-84927512246',\n",
       "  '2-s2.0-84867777363',\n",
       "  '2-s2.0-84865441494',\n",
       "  '2-s2.0-84863373088',\n",
       "  '2-s2.0-43949135205',\n",
       "  '2-s2.0-3843109921'],\n",
       " 'Author ID': '55428148200',\n",
       " 'Author': 'Zhang L.',\n",
       " 'Lab': 'School of Business Administration',\n",
       " 'ResearchInterest': 'Diversity management, Leadership, Power dynamics in organizations, Corporate social responsibility       ',\n",
       " 'Website': '',\n",
       " 'department': 'School of Business Administration(경영학부)'}"
      ]
     },
     "execution_count": 9,
     "metadata": {},
     "output_type": "execute_result"
    }
   ],
   "source": [
    "database[10]"
   ]
  },
  {
   "cell_type": "code",
   "execution_count": 43,
   "metadata": {},
   "outputs": [],
   "source": [
    "for i in database:\n",
    "    documents = {}\n",
    "    documents['Author'] = i['Author']\n",
    "    documents['Abstract'] = i['Abstract']\n",
    "    db.test1.insert_one(documents)"
   ]
  },
  {
   "cell_type": "code",
   "execution_count": 51,
   "metadata": {},
   "outputs": [],
   "source": [
    "test2 = db.test1.find()\n",
    "test3 = list(test2)"
   ]
  },
  {
   "cell_type": "code",
   "execution_count": 52,
   "metadata": {},
   "outputs": [
    {
     "data": {
      "text/html": [
       "<div>\n",
       "<style scoped>\n",
       "    .dataframe tbody tr th:only-of-type {\n",
       "        vertical-align: middle;\n",
       "    }\n",
       "\n",
       "    .dataframe tbody tr th {\n",
       "        vertical-align: top;\n",
       "    }\n",
       "\n",
       "    .dataframe thead th {\n",
       "        text-align: right;\n",
       "    }\n",
       "</style>\n",
       "<table border=\"1\" class=\"dataframe\">\n",
       "  <thead>\n",
       "    <tr style=\"text-align: right;\">\n",
       "      <th></th>\n",
       "      <th>Abstract</th>\n",
       "      <th>Author</th>\n",
       "      <th>_id</th>\n",
       "    </tr>\n",
       "  </thead>\n",
       "  <tbody>\n",
       "    <tr>\n",
       "      <th>0</th>\n",
       "      <td>[Entrepreneurs' decisions to exploit opportuni...</td>\n",
       "      <td>Choi Y.R.</td>\n",
       "      <td>5bed7c3d20c66c3b88e70b9f</td>\n",
       "    </tr>\n",
       "    <tr>\n",
       "      <th>1</th>\n",
       "      <td>[A key issue around putting the present-value ...</td>\n",
       "      <td>Chung K.</td>\n",
       "      <td>5bed7c3d20c66c3b88e70ba0</td>\n",
       "    </tr>\n",
       "    <tr>\n",
       "      <th>2</th>\n",
       "      <td>[Organizations use project teams to lower sear...</td>\n",
       "      <td>Gajendran R.S.</td>\n",
       "      <td>5bed7c3d20c66c3b88e70ba1</td>\n",
       "    </tr>\n",
       "    <tr>\n",
       "      <th>3</th>\n",
       "      <td>[This paper investigates information leakage f...</td>\n",
       "      <td>Jung K.</td>\n",
       "      <td>5bed7c3d20c66c3b88e70ba2</td>\n",
       "    </tr>\n",
       "    <tr>\n",
       "      <th>4</th>\n",
       "      <td>[Studies on the effects of corporate social re...</td>\n",
       "      <td>Kim M.</td>\n",
       "      <td>5bed7c3d20c66c3b88e70ba3</td>\n",
       "    </tr>\n",
       "  </tbody>\n",
       "</table>\n",
       "</div>"
      ],
      "text/plain": [
       "                                            Abstract           Author  \\\n",
       "0  [Entrepreneurs' decisions to exploit opportuni...        Choi Y.R.   \n",
       "1  [A key issue around putting the present-value ...         Chung K.   \n",
       "2  [Organizations use project teams to lower sear...   Gajendran R.S.   \n",
       "3  [This paper investigates information leakage f...          Jung K.   \n",
       "4  [Studies on the effects of corporate social re...           Kim M.   \n",
       "\n",
       "                        _id  \n",
       "0  5bed7c3d20c66c3b88e70b9f  \n",
       "1  5bed7c3d20c66c3b88e70ba0  \n",
       "2  5bed7c3d20c66c3b88e70ba1  \n",
       "3  5bed7c3d20c66c3b88e70ba2  \n",
       "4  5bed7c3d20c66c3b88e70ba3  "
      ]
     },
     "execution_count": 52,
     "metadata": {},
     "output_type": "execute_result"
    }
   ],
   "source": [
    "testdf = pd.DataFrame(test3)\n",
    "testdf.head()"
   ]
  },
  {
   "cell_type": "code",
   "execution_count": 58,
   "metadata": {},
   "outputs": [],
   "source": [
    "doc = []\n",
    "for i in testdf['Abstract']:\n",
    "    doc.extend(i)"
   ]
  },
  {
   "cell_type": "code",
   "execution_count": 91,
   "metadata": {},
   "outputs": [],
   "source": [
    "for idx, i in enumerate(testdf['Abstract']):\n",
    "    add = \"\".join(i)\n",
    "    testdf.iloc[idx]['Abstract'] = add"
   ]
  },
  {
   "cell_type": "code",
   "execution_count": 92,
   "metadata": {},
   "outputs": [
    {
     "data": {
      "text/plain": [
       "'Entrepreneurs\\' decisions to exploit opportunitiesThis study examines whether the influence of family ownership on R&D investment varies depending on growth opportunities and business group membership. Using data on Korean firms over ten years (1998-2007), the study shows that family ownership is negatively related to R&D investment, but the relationship becomes positive when growth opportunities are present. The moderating effect, however, differs between independent family firms and family business groups. The positive influence that growth opportunities have on promoting R&D investment is diminished for affiliates of family business groups. These findings imply that family owners invest more in R&D when their family control goals are threatened by the loss of growth potential. The empirical results of this study and its behavioral decision-making model help to bridge the gap between the predictions of the family control perspective and agency theory in explaining R&D investment by family firms in an emerging economy. © 2014 Elsevier Inc.Opportunity exploitation is a necessary step in creating a successful business in the en- trepreneurial process, yet there has been little conceptual and empirical development of this issue in the literature. This study examines the decisions of entrepreneurs to begin exploiting business opportunities from a resource-based view. Our analysis of a sample of entrepreneurs whose businesses are located in incubators suggests that entrepreneurs are more likely to exploit opportunities when they perceive more knowledge of customer demand for the new product, more fully developed necessary technologies, greater managerial capability, and greater stakeholder support. Moreover, the findings of this study shed a light on a less empha- sized aspect of the resource-based view: the new product\\'s anticipated lead time acts as an enhancing moderator in entrepreneurs\\' exploitation decision policies. Implications for future research on opportunity exploitation are discussed. © Dean A. Shepherd 2014. All rights reserved.We theorize on the performance implications of the timing at which entrepreneurs stop exploring their business opportunities and start exploiting them. Using an optimal-stopping approach, wc characterize the time when exploitation should begin based primarily on when an entrepreneur\\'s ignorance has been sufficiently reduced through knowledge accumulation. This \"ignorance threshold\" captures a tradeoff between the time needed to increase legitimacy and the necessity to act now to minimize competition. Changes in legitimacy and competition arc based on how entrepreneurs manage their knowledge (tacit versus explicit) under differing degrees of novelty for the business opportunity. These changes, in turn, impact the performance and timing of opportunity exploitation. © Dean A. Shepherd 2014. All rights reserved.This study investigates how firm age and environmental adversity influence exploration and exploitation and whether the balance between them increases new product development. We also examine if new product development in new and mature firms leads to equivalent growth rates. Empirical results obtained from a survey of small- and medium-sized technology-based manufacturing firms in Korea show that while relative exploration generally remains lower in mature firms than in new firms, it more rapidly increases in mature firms when they operate in adverse environments. Interestingly, our results show that mature firms achieve lower growth rates through new product development than new firms in adverse environments. These empirical findings advance our understanding of the age-dependent antecedents and consequences of new product development. © 1988-2012 IEEE.Emerging market firms (EMFs) are increasingly relying on innovation to find their competitive advantage, but our understanding of how institutional change affects firm innovation has been limited. We analyzed Korean manufacturing firms from 1994 to 2006 to test the proposition that market-oriented institutional change in an emerging economy alleviates firms\\' financing constraints and monitoring problems and improves the effectiveness of their innovation activities. Institutional evolution in the economy was found to affect Korean business groups and independent firms differently. Institutional change reduced the financing constraints on independent firms more than for business group affiliates in R&D investment. Independent firms, however, appeared less capable than group affiliates of translating the benefits of improved institutional environments into efficient R&D investment. This asymmetry may lead to a wider gap in the efficiency of R&D investment between business group affiliates and independent firms. © 2013 Elsevier Inc.Existing governance theories offer contrasting views on the potential effect that controlling owners have on a firm\\'s innovation investment decisions: the stewardship perspective suggests a positive influence, whereas the principal-principal (PP) conflict perspective posits a negative influence. In this study, we attempt to reconcile these views. We propose that business group affiliation determines the extent to which the interests of controlling owners and affiliated firms are congruent, and may motivate controlling owners to behave opportunistically. Our analysis of Korean companies shows that controlling owners of independent firms significantly promote R&D investments, particularly when growth opportunities are plentiful. However, the relationship becomes much weaker for business group affiliates. © 2012 IEEE.We theorize on the performance implications of the timing at which entrepreneurs stop exploring their business opportunities and start exploiting them. Using an optimal-stopping approach, we characterize the time when exploitation should begin based primarily on when an entrepreneur\\'s ignorance has been sufficiently reduced through knowledge accumulation. This \"ignorance threshold\" captures a tradeoff between the time needed to increase legitimacy and the necessity to act now to minimize competition. Changes in legitimacy and competition are based on how entrepreneurs manage their knowledge (tacit versus explicit) under differing degrees of novelty for the business opportunity. These changes, in turn, impact the performance and timing of opportunity exploitation. © 2006 Elsevier Inc. All rights reserved.This study attempts to reveal how macroeconomic and technology policies that encompass the opportunity and individual drivers of entrepreneurship explain the dynamics of new firm formation in a country. To do so we rely on the Schumpeterian, industrial organization, and labor economics traditions of entrepreneurship, and performed an exploratory test with longitudinal U.S. data from 1968 to 1993. The results of this study suggest that R&D investments, patents, economic concentration, pro-competition policy, and labor mobility are important areas in which government policy can influence the intensity of new firm formation. © Springer 2006.Using verbal protocol and conjoint analyses, this study examines how stakeholders assess an organization in deciding whether to provide their support to it. The authors find that stakeholders\\' support depends on their perceptions of an organization\\'s age and other dimensions of newness related to addressing management challenges of adaptation - the entrepreneurial problem, the engineering problem, and the administrative problem. Stakeholder support is more likely for those organizations that are old, cognitively legitimate, affectively congruent, reliable, accountable, and strategically flexible. The authors conclude with theoretical implications for scholars and practical implications for resource acquisition in various contexts of entrepreneurship. © 2005 Southern Management Association. All rights reserved.This study investigates how entrepreneurial policies that encompass opportunity, individual, and resource aspects of entrepreneurship explain dynamics of new firm formation in a country. We rely on the Schumpeterian, industrial organization economics, and organizational ecology traditions, and performed an exploratory test with a longitudinal U.S. data (1968-1993). The results of this study suggest that technological knowledge capital, economic opportunity structure, labor mobility, and a nation\\'s carrying capacity for entrepreneurial activities are important areas in which government policy can positively influence the intensity of new firm formation. © 2004 IEEE.Opportunity exploitation is a necessary step in creating a successful business in the entrepreneurial process, yet there has been little conceptual and empirical development of this issue in the literature. This study examines the decisions of entrepreneurs to begin exploiting business opportunities from a resource-based view. Our analysis of a sample of entrepreneurs whose businesses are located in incubators suggests that entrepreneurs are more likely to exploit opportunities when they perceive more knowledge of customer demand for the new product, more fully developed necessary technologies, greater managerial capability, and greater stakeholder support. Moreover, the findings of this study shed a light on a less emphasized aspect of the resource-based view: the new product\\'s anticipated lead time acts as an enhancing moderator in entrepreneurs\\' exploitation decision policies. Implications for future research on opportunity exploitation are discussed. © 2003 Elsevier Inc. All rights reserved.YOUNGBAE KIM IS AN ASSISTANT professor of management and policy in the Korea Advanced Institute of Science and Technology, Taejon, South Korea and Youngrok Choi is a researcher in the nuclear policy division of the Korea Atomic Energy Research Institute, Taejon, Korea. This study attempts to identify the patterns of strategic behaviour of small firms in Korea in conjunction with their performance. Based on the data from 79 small firms across four industries, the results reveal that there appear to be four common strategic attributes cost efficiency, innovative differentiation, marketing differentiation, and asset parsimony and five strategic types of firms which have distinct combinations of these strategic attributes innovative, versatile, marginal, and reactive types. Each type of firm was also found to have different organisational characteristics and performance level. Finally, this study discusses the comparative management issue in the field of strategic management and offers some practical implications for managers of small firms. © 1994, Sage Publications. All rights reserved.'"
      ]
     },
     "execution_count": 92,
     "metadata": {},
     "output_type": "execute_result"
    }
   ],
   "source": [
    "testdf.iloc[0]['Abstract']"
   ]
  },
  {
   "cell_type": "code",
   "execution_count": 96,
   "metadata": {},
   "outputs": [
    {
     "name": "stdout",
     "output_type": "stream",
     "text": [
      "[nltk_data] Downloading package punkt to\n",
      "[nltk_data]     /Users/seungheondoh/nltk_data...\n",
      "[nltk_data]   Unzipping tokenizers/punkt.zip.\n"
     ]
    },
    {
     "data": {
      "text/plain": [
       "True"
      ]
     },
     "execution_count": 96,
     "metadata": {},
     "output_type": "execute_result"
    }
   ],
   "source": [
    "#Import all the dependencies\n",
    "from gensim.models.doc2vec import Doc2Vec, TaggedDocument\n",
    "from nltk.tokenize import word_tokenize\n",
    "import nltk\n",
    "nltk.download('punkt')"
   ]
  },
  {
   "cell_type": "code",
   "execution_count": 94,
   "metadata": {},
   "outputs": [],
   "source": [
    "zipdata = zip(testdf['Author'],testdf['Abstract'])"
   ]
  },
  {
   "cell_type": "code",
   "execution_count": 97,
   "metadata": {},
   "outputs": [],
   "source": [
    "tagged_data = [TaggedDocument(words=word_tokenize(_d.lower()), tags=[str(i)]) for i, _d in zipdata]"
   ]
  },
  {
   "cell_type": "code",
   "execution_count": 98,
   "metadata": {},
   "outputs": [
    {
     "data": {
      "text/plain": [
       "TaggedDocument(words=['a', 'key', 'issue', 'around', 'putting', 'the', 'present-value', 'model', 'into', 'practice', 'is', 'how', 'to', 'construct', 'the', 'unobserved', 'future', 'expectations', 'of', 'the', 'fundamental', 'variables', 'related', 'to', 'an', 'asset', '.', 'one', 'approach', 'is', 'to', 'fit', 'a', 'vector', 'autoregression', '(', 'var', ')', 'for', 'the', 'fundamental', 'variables', 'and', 'deduce', 'their', 'future', 'expectations', 'from', 'the', 'estimated', 'var', '.', 'an', 'alternative', 'is', 'to', 'directly', 'specify', 'the', 'future', 'expectations', 'as', 'unobserved', 'components', '(', 'uc', ')', 'and', 'use', 'the', 'kalman', 'filter', 'to', 'extract', 'their', 'estimates', 'from', 'the', 'realized', 'data', '.', 'this', 'article', 'examines', 'whether', 'the', 'predictions', 'of', 'the', 'present-value', 'model', 'are', 'consistent', 'across', 'the', 'two', 'approaches', '.', 'constructing', 'the', 'var', 'and', 'uc', 'versions', 'of', 'the', 'standard', 'present-value', 'model', ',', 'we', 'examine', 'how', 'the', 'two', 'versions', 'compare', 'in', 'identifying', 'the', 'main', 'driver', 'of', 'the', 'us', 'and', 'uk', 'housing', 'markets', '.', 'for', 'the', 'uk', ',', 'the', 'two', 'approaches', 'consistently', 'attribute', 'most', 'variations', 'in', 'the', 'price–rent', 'ratio', 'to', 'the', 'expected', 'future', 'risk', 'premium', 'for', 'housing', 'investment', '.', 'for', 'the', 'us', ',', 'however', ',', 'the', 'two', 'approaches', 'deliver', 'considerably', 'different', 'results', ':', 'the', 'var', 'version', 'marks', 'the', 'expected', 'risk-free', 'rate', 'of', 'return', ',', 'whereas', 'the', 'uc', 'version', 'singles', 'out', 'the', 'expected', 'risk', 'premium', 'as', 'the', 'main', 'driver', 'of', 'the', 'ratio', '.', 'we', 'conclude', 'that', 'the', 'choice', 'between', 'the', 'var', 'and', 'uc', 'approaches', 'is', 'not', 'a', 'trivial', 'issue', 'related', 'to', 'utilizing', 'the', 'present-value', 'model', '.', '©', '2018', ',', '©', '2018', 'informa', 'uk', 'limited', ',', 'trading', 'as', 'taylor', '&', 'francis', 'group.we', 'investigate', 'how', 'inequalities', 'in', 'wages', ',', 'productivity', 'and', 'education', 'affordability', 'determine', 'individuals', '’', 'educational', 'efforts', 'as', 'they', 'compete', 'for', 'premier', 'jobs', '.', 'extending', 'tullock', \"'s\", '(', '1980', ')', 'contest-theory', 'framework', 'with', 'endogenous', 'returns', ',', 'we', 'first', 'find', 'that', 'competition', 'for', 'better-paying', 'jobs', 'can', 'result', 'in', 'social', 'inefficiency', 'in', 'the', 'form', 'of', 'excessive', 'educational', 'efforts', '.', 'second', ',', 'a', 'widening', 'wage', 'gap', 'intensifies', 'the', 'effort', 'competition', ',', 'which', 'induces', 'inefficiency', 'with', 'higher', 'likelihood', 'when', 'the', 'returns', 'to', 'education', 'effort', 'diminish', 'too', 'quickly', '.', 'third', ',', 'when', 'one', 'player', \"'s\", 'productivity', 'improves', 'relative', 'to', 'the', 'other', \"'s\", ',', 'the', 'benefitting', 'player', 'is', 'encouraged', 'to', 'exert', 'more', 'effort', ',', 'while', 'his', 'opponent', 'tends', 'to', 'be', 'discouraged', 'to', 'do', 'so', '.', 'the', 'larger', 'share', 'of', 'social', 'inefficiency', 'is', 'carried', 'by', 'the', 'less', 'productive', 'player', '.', 'fourth', ',', 'when', 'educational', 'effort', 'becomes', 'more', 'affordable', 'to', 'one', 'player', 'compared', 'to', 'the', 'other', ',', 'competition', 'increases', 'efficiency', 'only', 'if', 'the', 'change', 'favors', 'the', 'more', 'productive', 'player', '.', 'in', 'the', 'opposite', 'case', ',', 'social', 'inefficiency', 'increases', '.', 'in', 'both', 'cases', ',', 'the', 'less', 'productive', 'player', 'again', 'bears', 'the', 'larger', 'share', 'of', 'social', 'inefficiency', '.', '©', '2017', 'elsevier', 'b.v.this', 'paper', 'examines', 'the', 'importance', 'of', 'house', 'prices', 'on', 'the', 'us', 'business', 'cycle', 'since', 'the', 'mid-1970s', '.', 'the', 'point', 'of', 'departure', 'is', 'to', 'construct', 'and', 'estimate', 'a', 'baseline', 'markov-switching', 'common', 'factor', 'model', 'in', 'which', 'the', 'co-movement', 'of', 'several', 'individual', 'economic', 'series', 'and', 'the', 'inherently', 'different', 'behavior', 'of', 'the', 'economy', 'across', 'expansion/recession', 'phases', 'are', 'accommodated', '.', 'the', 'importance', 'of', 'house', 'price', 'variables', 'is', 'then', 'evaluated', 'by', 'comparing', 'the', 'results', 'of', 'the', 'baseline', 'model', 'and', 'those', 'of', 'the', 'extended', 'models', 'that', 'have', 'been', 'augmented', 'with', 'the', 'house', 'price', 'variables', '.', 'two', 'strands', 'of', 'extended', 'models', 'are', 'considered', ':', 'one', 'in', 'which', 'house', 'prices', 'directly', 'affect', 'the', 'individual', 'macroeconomic', 'series', '(', 'and', 'thereby', 'the', 'business', 'cycle', ')', 'and', 'another', 'in', 'which', 'house', 'prices', 'affect', 'the', 'probabilities', 'of', 'transitions', 'between', 'expansion/recession', 'phases', '.', 'the', 'results', 'for', 'the', 'first', 'extension', 'support', 'that', 'only', 'house', 'price', 'decreases', 'have', 'nontrivial', 'effects', 'on', 'the', 'movements', 'in', 'macroindicators', '(', 'and', 'consequently', 'on', 'the', 'business', 'cycle', ')', ',', 'while', 'house', 'price', 'increases', 'do', 'not', '.', 'in', 'the', 'second', 'extension', ',', 'we', 'find', 'strong', 'evidence', 'that', 'changes', 'in', 'house', 'prices', 'significantly', 'affect', 'the', 'transition', 'of', 'the', 'us', 'economy', 'between', 'the', 'recession–expansion', 'phases', '.', 'it', 'is', 'also', 'reaffirmed', 'that', 'the', 'influence', 'of', 'house', 'price', 'decreases', 'is', 'more', 'important', 'than', 'that', 'of', 'the', 'increases', '.', 'finally', ',', 'the', 'above', 'results', 'are', 'generally', 'robust', 'to', 'using', 'a', 'different', 'data', 'frequency', ',', 'a', 'subsample', 'of', 'the', 'data', 'excluding', 'the', 'recent', 'episode', 'of', 'housing', 'boom–bust', ',', 'replacing', 'house', 'price', 'with', 'housing', 'permits', ',', 'and', 'incorporating', 'financial', 'variables', 'as', 'additional', 'driver', 'of', 'the', 'business', 'cycle', '.', '©', '2015', ',', 'springer-verlag', 'berlin', 'heidelberg.this', 'paper', 'investigates', 'the', 'role', 'of', 'house', 'prices', 'in', 'uk', 'business', 'cycles', 'since', 'the', 'mid-1950s', '.', 'first', 'a', 'markov-switching', 'common', 'factor', 'model', 'is', 'constructed', 'to', 'capture', 'business', 'cycle', 'co-movements', 'and', 'the', 'inherently', 'different', 'regimes', 'across', 'expansion', 'and', 'recession', 'phases', '.', 'then', 'house-price', 'variables', 'are', 'incorporated', 'into', 'the', 'baseline', 'model', 'to', 'evaluate', 'their', 'importance', 'in', 'fluctuations', 'of', 'real', 'economic', 'activity', '.', 'when', 'house', 'prices', 'are', 'introduced', 'into', 'the', 'model', 'as', 'direct', 'determinants', 'of', 'the', 'evolution', 'of', 'individual', 'macroeconomic', 'indicators', ',', 'only', 'their', 'declines', 'have', 'nontrivial', 'effects', 'on', 'the', 'movements', 'of', 'the', 'macro', 'variables', 'and', 'consequently', 'on', 'business', 'cycles', '.', 'alternatively', ',', 'when', 'house', 'prices', 'are', 'incorporated', 'as', 'factors', 'affecting', 'transition', 'probabilities', ',', 'strong', 'evidence', 'is', 'found', 'that', 'house', 'prices', 'significantly', 'affect', 'the', 'transitions', 'of', 'the', 'uk', 'economy', 'between', 'periods', 'of', 'expansion', 'and', 'recession', '.', 'it', 'is', 'confirmed', 'again', 'that', 'declines', 'in', 'house', 'prices', 'are', 'more', 'significant', 'than', 'their', 'increases', 'in', 'house-price', 'growth', 'rates', 'as', 'factors', 'affecting', 'the', 'business', 'cycles', '.', 'finally', ',', 'the', 'importance', 'of', 'house', 'price', 'decreases', 'is', 'found', 'robust', 'to', 'the', 'inclusion', 'of', 'financial', 'variables', 'in', 'the', 'model', 'and', 'to', 'the', 'use', 'of', 'a', 'different', 'house', 'price', 'index', '.', '©', 'the', 'author', '(', 's', ')', '2015.present', 'value', 'models', 'of', 'house', 'prices', 'assert', 'that', 'in', 'the', 'absence', 'of', 'self-fulfilling', 'bubbles', ',', 'a', 'house', 'price', 'is', 'equal', 'to', 'the', 'present', 'discount', 'value', 'of', 'all', 'future', 'rents', ',', 'which', 'implies', 'a', 'linear', 'relationship', 'between', 'house', 'price', 'and', 'rent', ',', 'and', 'hence', 'a', 'stable', 'price-to-rent', 'ratio', '.', 'using', 'a', 'markov', 'switching', 'error', 'correction', 'model', ',', 'we', 're-examine', 'this', 'relationship', 'in', 'the', 'us', 'housing', 'market', 'and', 'find', 'two', 'distinctive', 'regimes', ':', 'one', 'with', 'a', 'long-run', 'relation', 'between', 'house', 'price', 'and', 'rent', 'predicted', 'by', 'the', 'present', 'value', 'models', 'and', 'the', 'other', 'in', 'which', 'the', 'relation', 'is', 'nonlinear', '.', 'furthermore', ',', 'we', 'find', 'evidence', 'that', 'deviations', 'of', 'house', 'prices', 'from', 'the', 'present', 'value', 'models', '’', 'predictions', 'are', 'caused', 'by', 'the', 'overreaction', 'of', 'house', 'prices', 'to', 'movements', 'in', 'rents', 'rather', 'than', 'speculative', 'bubbles', 'attributable', 'to', 'extraneous', 'factors', '.', '©', '2014', ',', '©', '2014', 'taylor', '&', 'francis.we', 'investigate', 'how', 'foreign', 'debt', 'and', 'foreign', 'direct', 'investment', '(', 'fdi', ')', 'affect', 'the', 'growth', 'and', 'welfare', 'of', 'a', 'stochastically', 'growing', 'small', 'open', 'economy', '.', 'first', ',', 'we', 'find', 'that', 'foreign', 'debt', 'influences', 'the', 'growth', 'of', 'domestic', 'wealth', 'by', 'lowering', 'the', 'cost', 'of', 'capital', ',', 'while', 'fdi', 'affects', 'the', 'country', \"'s\", 'welfare', 'by', 'providing', 'an', 'additional', 'source', 'of', 'permanent', 'income', '.', 'second', ',', 'a', 'decline', 'in', 'domestic', 'investment', 'may', 'improve', 'domestic', 'welfare', 'as', 'fdi', 'replaces', 'the', 'gap', '.', 'even', 'when', 'the', 'welfare', 'deteriorates', ',', 'its', 'magnitude', 'is', 'mitigated', ',', 'leaving', 'more', 'room', 'for', 'discretionary', 'fiscal', 'policy', '.', 'third', ',', 'a', 'fiscal', 'policy', 'aimed', 'to', 'stabilize', 'domestic', 'output', 'fluctuations', 'needs', 'to', 'be', 'conducted', 'not', 'to', 'crowd', 'out', 'the', 'welfare', 'benefit', 'of', 'fdi', 'too', 'much', '.', 'fourth', ',', 'an', 'economy', 'with', 'both', 'types', 'of', 'foreign', 'capital', 'experiences', 'wider', 'welfare', 'swings', 'by', 'external', 'volatility', 'shocks', 'than', 'the', 'one', 'with', 'foreign', 'debt', 'alone', ',', 'while', 'the', 'welfare', 'effects', 'from', 'domestic', 'volatility', 'shocks', 'are', 'mitigated', '.', 'the', 'welfare', 'effects', 'of', 'fiscal', 'shocks', 'are', 'much', 'smaller', 'with', 'both', 'types', 'of', 'foreign', 'capital', '.', 'lastly', ',', 'the', 'first-best', 'labor', 'income', 'tax', 'covers', 'the', 'government', 'absorption', 'by', 'the', 'labor', \"'s\", 'share', 'of', 'total', 'output', ',', 'and', 'the', 'capital', 'income', 'tax', 'covers', 'the', 'rest', '.', 'investment', 'is', 'penalized', 'or', 'subsidized', 'depending', 'on', 'the', 'social', 'marginal', 'cost-gain', 'differential', '.', '©', '2010', 'korea', 'international', 'economic', 'association.we', 'investigate', 'the', 'determinants', 'of', 'foreign', 'borrowing', 'costs', 'in', 'a', 'stochastically', 'growing', 'economy', '.', 'we', 'find', 'that', 'these', 'increase', 'with', 'the', 'debt-wealth', 'ratio', ',', 'depending', 'also', 'upon', 'the', 'volatilities', 'of', 'domestic', 'and', 'foreign', 'origin', ',', 'and', 'the', 'length', 'of', 'debt', 'contract', '.', 'in', 'addition', ',', 'the', 'sensitivity', 'of', 'the', 'short-term', 'debt', 'supply', 'to', 'the', 'debt-wealth', 'ratio', 'exceeds', 'that', 'of', 'long-term', 'debt', ',', 'and', 'the', 'effects', 'of', 'volatility', 'on', 'the', 'borrowing', 'premium', ',', 'growth', 'of', 'wealth', ',', 'and', 'its', 'volatility', ',', 'depend', 'on', 'the', 'relative', 'size', 'of', 'a', 'direct', 'effect', 'and', 'a', 'secondary', 'portfolio-adjustment', 'effect', 'of', 'the', 'initial', 'shock', ',', 'as', 'well', 'as', 'the', 'length', 'of', 'the', 'debt', 'contract', '.', 'panel', 'regressions', 'suggest', 'that', 'the', 'empirical', 'evidence', 'generally', 'support', 'the', 'theoretical', 'predictions', '.', '©', '2009', 'elsevier', 'ltd.', 'all', 'rights', 'reserved', '.'], tags=[' Chung K.'])"
      ]
     },
     "execution_count": 98,
     "metadata": {},
     "output_type": "execute_result"
    }
   ],
   "source": [
    "tagged_data[0]"
   ]
  },
  {
   "cell_type": "code",
   "execution_count": 100,
   "metadata": {},
   "outputs": [
    {
     "name": "stderr",
     "output_type": "stream",
     "text": [
      "/Users/seungheondoh/anaconda3/envs/python3.6/lib/python3.6/site-packages/gensim/models/doc2vec.py:570: UserWarning: The parameter `size` is deprecated, will be removed in 4.0.0, use `vector_size` instead.\n",
      "  warnings.warn(\"The parameter `size` is deprecated, will be removed in 4.0.0, use `vector_size` instead.\")\n"
     ]
    }
   ],
   "source": [
    "max_epochs = 100\n",
    "vec_size = 20\n",
    "alpha = 0.025\n",
    "\n",
    "model = Doc2Vec(size=vec_size,\n",
    "                alpha=alpha, \n",
    "                min_alpha=0.00025,\n",
    "                min_count=1,\n",
    "                dm =1)\n",
    "  \n",
    "model.build_vocab(tagged_data)"
   ]
  },
  {
   "cell_type": "code",
   "execution_count": 107,
   "metadata": {},
   "outputs": [
    {
     "data": {
      "text/plain": [
       "[' Chung K.']"
      ]
     },
     "execution_count": 107,
     "metadata": {},
     "output_type": "execute_result"
    }
   ],
   "source": [
    "tagged_data[0].tags"
   ]
  },
  {
   "cell_type": "code",
   "execution_count": 128,
   "metadata": {},
   "outputs": [
    {
     "name": "stderr",
     "output_type": "stream",
     "text": [
      "/Users/seungheondoh/anaconda3/envs/python3.6/lib/python3.6/site-packages/gensim/matutils.py:737: FutureWarning: Conversion of the second argument of issubdtype from `int` to `np.signedinteger` is deprecated. In future, it will be treated as `np.int64 == np.dtype(int).type`.\n",
      "  if np.issubdtype(vec.dtype, np.int):\n"
     ]
    },
    {
     "data": {
      "text/plain": [
       "[(' Ryu J.-H.', 0.6272444725036621),\n",
       " (' In Y.', 0.5552975535392761),\n",
       " (' Lee C.', 0.5210679173469543),\n",
       " (' Yoo J.-W.', 0.519912838935852),\n",
       " (' Lee K.', 0.4721633195877075),\n",
       " (' Kwon S.', 0.47120922803878784),\n",
       " (' Park T.J.', 0.4698542356491089),\n",
       " (' Son H.', 0.45416349172592163),\n",
       " (' Shin H.-J.', 0.44374310970306396),\n",
       " (' Schöler H.R.', 0.43303778767585754)]"
      ]
     },
     "execution_count": 128,
     "metadata": {},
     "output_type": "execute_result"
    }
   ],
   "source": [
    "model.docvecs.most_similar(tagged_data[0].tags)"
   ]
  },
  {
   "cell_type": "markdown",
   "metadata": {},
   "source": [
    "### 앞으로 할것\n",
    "\n",
    "- 단어 전처리  => 승헌\n",
    "- 모형 이해 및 파라미터 튜닝 => 승헌, 지훈\n",
    "---------\n",
    "- Keyword -> Professor 기능구현\n",
    "---------\n",
    "- word2vec, doc2vec, Evaluation을 어떻게 할것인가. = 지훈"
   ]
  },
  {
   "cell_type": "code",
   "execution_count": null,
   "metadata": {},
   "outputs": [],
   "source": []
  }
 ],
 "metadata": {
  "kernelspec": {
   "display_name": "Python 3",
   "language": "python",
   "name": "python3"
  },
  "language_info": {
   "codemirror_mode": {
    "name": "ipython",
    "version": 3
   },
   "file_extension": ".py",
   "mimetype": "text/x-python",
   "name": "python",
   "nbconvert_exporter": "python",
   "pygments_lexer": "ipython3",
   "version": "3.6.6"
  }
 },
 "nbformat": 4,
 "nbformat_minor": 2
}
