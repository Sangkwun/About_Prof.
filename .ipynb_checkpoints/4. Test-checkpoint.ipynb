{
 "cells": [
  {
   "cell_type": "code",
   "execution_count": 1,
   "metadata": {},
   "outputs": [],
   "source": [
    "import requests\n",
    "import json\n",
    "from bs4 import BeautifulSoup\n",
    "import time\n",
    "import re\n",
    "import pandas as pd\n",
    "import numpy as np\n",
    "from pymongo import MongoClient"
   ]
  },
  {
   "cell_type": "code",
   "execution_count": 2,
   "metadata": {},
   "outputs": [],
   "source": [
    "client = MongoClient()\n",
    "db = client.aboutdepart"
   ]
  },
  {
   "cell_type": "code",
   "execution_count": 3,
   "metadata": {},
   "outputs": [
    {
     "name": "stderr",
     "output_type": "stream",
     "text": [
      "/Users/seungheondoh/anaconda3/envs/python3.6/lib/python3.6/site-packages/ipykernel_launcher.py:1: DeprecationWarning: collection_names is deprecated. Use list_collection_names instead.\n",
      "  \"\"\"Entry point for launching an IPython kernel.\n"
     ]
    },
    {
     "data": {
      "text/plain": [
       "['scholarworksfront',\n",
       " 'professor',\n",
       " 'profdata',\n",
       " 'excel',\n",
       " 'ResearchInterest',\n",
       " 'aboutdepart',\n",
       " 'test1',\n",
       " 'professors',\n",
       " 'scholar']"
      ]
     },
     "execution_count": 3,
     "metadata": {},
     "output_type": "execute_result"
    }
   ],
   "source": [
    "db.collection_names()"
   ]
  },
  {
   "cell_type": "code",
   "execution_count": 4,
   "metadata": {},
   "outputs": [
    {
     "name": "stderr",
     "output_type": "stream",
     "text": [
      "/Users/seungheondoh/anaconda3/envs/python3.6/lib/python3.6/site-packages/ipykernel_launcher.py:2: DeprecationWarning: count is deprecated. Use estimated_document_count or count_documents instead. Please note that $where must be replaced by $expr, $near must be replaced by $geoWithin with $center, and $nearSphere must be replaced by $geoWithin with $centerSphere\n",
      "  \n"
     ]
    },
    {
     "data": {
      "text/plain": [
       "270"
      ]
     },
     "execution_count": 4,
     "metadata": {},
     "output_type": "execute_result"
    }
   ],
   "source": [
    "database = list(db.excel.find())\n",
    "db.excel.count()"
   ]
  },
  {
   "cell_type": "code",
   "execution_count": 6,
   "metadata": {},
   "outputs": [
    {
     "data": {
      "text/html": [
       "<div>\n",
       "<style scoped>\n",
       "    .dataframe tbody tr th:only-of-type {\n",
       "        vertical-align: middle;\n",
       "    }\n",
       "\n",
       "    .dataframe tbody tr th {\n",
       "        vertical-align: top;\n",
       "    }\n",
       "\n",
       "    .dataframe thead th {\n",
       "        text-align: right;\n",
       "    }\n",
       "</style>\n",
       "<table border=\"1\" class=\"dataframe\">\n",
       "  <thead>\n",
       "    <tr style=\"text-align: right;\">\n",
       "      <th></th>\n",
       "      <th>Title</th>\n",
       "      <th>Abstract</th>\n",
       "      <th>Author Keywords</th>\n",
       "      <th>filename</th>\n",
       "    </tr>\n",
       "  </thead>\n",
       "  <tbody>\n",
       "    <tr>\n",
       "      <th>0</th>\n",
       "      <td>[Entrepreneurs' decisions to exploit opportuni...</td>\n",
       "      <td>[Entrepreneurs' decisions to exploit opportuni...</td>\n",
       "      <td>[nan, Behavioral decision-making; Business gro...</td>\n",
       "      <td>ChoiYoungRok</td>\n",
       "    </tr>\n",
       "    <tr>\n",
       "      <th>1</th>\n",
       "      <td>[Putting the present value model into practice...</td>\n",
       "      <td>[A key issue around putting the present-value ...</td>\n",
       "      <td>[Present-value model; price–rent ratio; unobse...</td>\n",
       "      <td>ChungKeunsuk</td>\n",
       "    </tr>\n",
       "    <tr>\n",
       "      <th>2</th>\n",
       "      <td>[Explaining dyadic expertise use in knowledge ...</td>\n",
       "      <td>[Organizations use project teams to lower sear...</td>\n",
       "      <td>[expertise awareness; expertise use; knowledge...</td>\n",
       "      <td>HongWoonki</td>\n",
       "    </tr>\n",
       "    <tr>\n",
       "      <th>3</th>\n",
       "      <td>[Trading behavior prior to public release of a...</td>\n",
       "      <td>[This paper investigates information leakage f...</td>\n",
       "      <td>[nan, nan, Business group; Chaebol; Control-ca...</td>\n",
       "      <td>JungKooyul</td>\n",
       "    </tr>\n",
       "    <tr>\n",
       "      <th>4</th>\n",
       "      <td>[CSR and Shareholder Value in the Restaurant I...</td>\n",
       "      <td>[Studies on the effects of corporate social re...</td>\n",
       "      <td>[annual reports; communication; corporate soci...</td>\n",
       "      <td>KimMinChung</td>\n",
       "    </tr>\n",
       "  </tbody>\n",
       "</table>\n",
       "</div>"
      ],
      "text/plain": [
       "                                               Title  \\\n",
       "0  [Entrepreneurs' decisions to exploit opportuni...   \n",
       "1  [Putting the present value model into practice...   \n",
       "2  [Explaining dyadic expertise use in knowledge ...   \n",
       "3  [Trading behavior prior to public release of a...   \n",
       "4  [CSR and Shareholder Value in the Restaurant I...   \n",
       "\n",
       "                                            Abstract  \\\n",
       "0  [Entrepreneurs' decisions to exploit opportuni...   \n",
       "1  [A key issue around putting the present-value ...   \n",
       "2  [Organizations use project teams to lower sear...   \n",
       "3  [This paper investigates information leakage f...   \n",
       "4  [Studies on the effects of corporate social re...   \n",
       "\n",
       "                                     Author Keywords      filename  \n",
       "0  [nan, Behavioral decision-making; Business gro...  ChoiYoungRok  \n",
       "1  [Present-value model; price–rent ratio; unobse...  ChungKeunsuk  \n",
       "2  [expertise awareness; expertise use; knowledge...    HongWoonki  \n",
       "3  [nan, nan, Business group; Chaebol; Control-ca...    JungKooyul  \n",
       "4  [annual reports; communication; corporate soci...   KimMinChung  "
      ]
     },
     "execution_count": 6,
     "metadata": {},
     "output_type": "execute_result"
    }
   ],
   "source": [
    "dfs = pd.DataFrame(database)\n",
    "df = dfs[['Title','Abstract','Author Keywords','filename']]\n",
    "df.head()"
   ]
  },
  {
   "cell_type": "code",
   "execution_count": 100,
   "metadata": {},
   "outputs": [],
   "source": [
    "docs = []\n",
    "for i in range(len(df)):\n",
    "    doc = []\n",
    "    a = df.iloc[i]['Title']\n",
    "    b = df.iloc[i]['Abstract']\n",
    "    c = df.iloc[i]['Author Keywords']\n",
    "    for x,y,z in zip(a,b,c):\n",
    "        temp = []\n",
    "        temp.append(x+\" \"+y+\" \"+z)\n",
    "        doc.append(temp)\n",
    "    docs.append(doc)"
   ]
  },
  {
   "cell_type": "code",
   "execution_count": 102,
   "metadata": {},
   "outputs": [
    {
     "name": "stderr",
     "output_type": "stream",
     "text": [
      "/Users/seungheondoh/anaconda3/envs/python3.6/lib/python3.6/site-packages/ipykernel_launcher.py:1: SettingWithCopyWarning: \n",
      "A value is trying to be set on a copy of a slice from a DataFrame.\n",
      "Try using .loc[row_indexer,col_indexer] = value instead\n",
      "\n",
      "See the caveats in the documentation: http://pandas.pydata.org/pandas-docs/stable/indexing.html#indexing-view-versus-copy\n",
      "  \"\"\"Entry point for launching an IPython kernel.\n"
     ]
    },
    {
     "data": {
      "text/html": [
       "<div>\n",
       "<style scoped>\n",
       "    .dataframe tbody tr th:only-of-type {\n",
       "        vertical-align: middle;\n",
       "    }\n",
       "\n",
       "    .dataframe tbody tr th {\n",
       "        vertical-align: top;\n",
       "    }\n",
       "\n",
       "    .dataframe thead th {\n",
       "        text-align: right;\n",
       "    }\n",
       "</style>\n",
       "<table border=\"1\" class=\"dataframe\">\n",
       "  <thead>\n",
       "    <tr style=\"text-align: right;\">\n",
       "      <th></th>\n",
       "      <th>Title</th>\n",
       "      <th>Abstract</th>\n",
       "      <th>Author Keywords</th>\n",
       "      <th>filename</th>\n",
       "      <th>docs</th>\n",
       "    </tr>\n",
       "  </thead>\n",
       "  <tbody>\n",
       "    <tr>\n",
       "      <th>0</th>\n",
       "      <td>[Entrepreneurs' decisions to exploit opportuni...</td>\n",
       "      <td>[Entrepreneurs' decisions to exploit opportuni...</td>\n",
       "      <td>[nan, Behavioral decision-making; Business gro...</td>\n",
       "      <td>ChoiYoungRok</td>\n",
       "      <td>[[Entrepreneurs' decisions to exploit opportun...</td>\n",
       "    </tr>\n",
       "    <tr>\n",
       "      <th>1</th>\n",
       "      <td>[Putting the present value model into practice...</td>\n",
       "      <td>[A key issue around putting the present-value ...</td>\n",
       "      <td>[Present-value model; price–rent ratio; unobse...</td>\n",
       "      <td>ChungKeunsuk</td>\n",
       "      <td>[[Putting the present value model into practic...</td>\n",
       "    </tr>\n",
       "    <tr>\n",
       "      <th>2</th>\n",
       "      <td>[Explaining dyadic expertise use in knowledge ...</td>\n",
       "      <td>[Organizations use project teams to lower sear...</td>\n",
       "      <td>[expertise awareness; expertise use; knowledge...</td>\n",
       "      <td>HongWoonki</td>\n",
       "      <td>[[Explaining dyadic expertise use in knowledge...</td>\n",
       "    </tr>\n",
       "    <tr>\n",
       "      <th>3</th>\n",
       "      <td>[Trading behavior prior to public release of a...</td>\n",
       "      <td>[This paper investigates information leakage f...</td>\n",
       "      <td>[nan, nan, Business group; Chaebol; Control-ca...</td>\n",
       "      <td>JungKooyul</td>\n",
       "      <td>[[Trading behavior prior to public release of ...</td>\n",
       "    </tr>\n",
       "    <tr>\n",
       "      <th>4</th>\n",
       "      <td>[CSR and Shareholder Value in the Restaurant I...</td>\n",
       "      <td>[Studies on the effects of corporate social re...</td>\n",
       "      <td>[annual reports; communication; corporate soci...</td>\n",
       "      <td>KimMinChung</td>\n",
       "      <td>[[CSR and Shareholder Value in the Restaurant ...</td>\n",
       "    </tr>\n",
       "  </tbody>\n",
       "</table>\n",
       "</div>"
      ],
      "text/plain": [
       "                                               Title  \\\n",
       "0  [Entrepreneurs' decisions to exploit opportuni...   \n",
       "1  [Putting the present value model into practice...   \n",
       "2  [Explaining dyadic expertise use in knowledge ...   \n",
       "3  [Trading behavior prior to public release of a...   \n",
       "4  [CSR and Shareholder Value in the Restaurant I...   \n",
       "\n",
       "                                            Abstract  \\\n",
       "0  [Entrepreneurs' decisions to exploit opportuni...   \n",
       "1  [A key issue around putting the present-value ...   \n",
       "2  [Organizations use project teams to lower sear...   \n",
       "3  [This paper investigates information leakage f...   \n",
       "4  [Studies on the effects of corporate social re...   \n",
       "\n",
       "                                     Author Keywords      filename  \\\n",
       "0  [nan, Behavioral decision-making; Business gro...  ChoiYoungRok   \n",
       "1  [Present-value model; price–rent ratio; unobse...  ChungKeunsuk   \n",
       "2  [expertise awareness; expertise use; knowledge...    HongWoonki   \n",
       "3  [nan, nan, Business group; Chaebol; Control-ca...    JungKooyul   \n",
       "4  [annual reports; communication; corporate soci...   KimMinChung   \n",
       "\n",
       "                                                docs  \n",
       "0  [[Entrepreneurs' decisions to exploit opportun...  \n",
       "1  [[Putting the present value model into practic...  \n",
       "2  [[Explaining dyadic expertise use in knowledge...  \n",
       "3  [[Trading behavior prior to public release of ...  \n",
       "4  [[CSR and Shareholder Value in the Restaurant ...  "
      ]
     },
     "execution_count": 102,
     "metadata": {},
     "output_type": "execute_result"
    }
   ],
   "source": [
    "df['docs'] = docs\n",
    "df.head()"
   ]
  },
  {
   "cell_type": "code",
   "execution_count": 103,
   "metadata": {},
   "outputs": [
    {
     "data": {
      "text/plain": [
       "[[\"Entrepreneurs' decisions to exploit opportunities Entrepreneurs' decisions to exploit opportunities nan\"],\n",
       " ['Family ownership and R&D investment: The role of growth opportunities and business group membership This study examines whether the influence of family ownership on R&D investment varies depending on growth opportunities and business group membership. Using data on Korean firms over ten years (1998-2007), the study shows that family ownership is negatively related to R&D investment, but the relationship becomes positive when growth opportunities are present. The moderating effect, however, differs between independent family firms and family business groups. The positive influence that growth opportunities have on promoting R&D investment is diminished for affiliates of family business groups. These findings imply that family owners invest more in R&D when their family control goals are threatened by the loss of growth potential. The empirical results of this study and its behavioral decision-making model help to bridge the gap between the predictions of the family control perspective and agency theory in explaining R&D investment by family firms in an emerging economy. © 2014 Elsevier Inc. Behavioral decision-making; Business groups; Family ownership; Growth opportunities; R&D investment'],\n",
       " [\"Entrepreneurs' Decisions to Exploit Opportunities Opportunity exploitation is a necessary step in creating a successful business in the en- trepreneurial process, yet there has been little conceptual and empirical development of this issue in the literature. This study examines the decisions of entrepreneurs to begin exploiting business opportunities from a resource-based view. Our analysis of a sample of entrepreneurs whose businesses are located in incubators suggests that entrepreneurs are more likely to exploit opportunities when they perceive more knowledge of customer demand for the new product, more fully developed necessary technologies, greater managerial capability, and greater stakeholder support. Moreover, the findings of this study shed a light on a less empha- sized aspect of the resource-based view: the new product's anticipated lead time acts as an enhancing moderator in entrepreneurs' exploitation decision policies. Implications for future research on opportunity exploitation are discussed. © Dean A. Shepherd 2014. All rights reserved. nan\"],\n",
       " ['When should entrepreneurs expedite or delay opportunity exploitation? We theorize on the performance implications of the timing at which entrepreneurs stop exploring their business opportunities and start exploiting them. Using an optimal-stopping approach, wc characterize the time when exploitation should begin based primarily on when an entrepreneur\\'s ignorance has been sufficiently reduced through knowledge accumulation. This \"ignorance threshold\" captures a tradeoff between the time needed to increase legitimacy and the necessity to act now to minimize competition. Changes in legitimacy and competition arc based on how entrepreneurs manage their knowledge (tacit versus explicit) under differing degrees of novelty for the business opportunity. These changes, in turn, impact the performance and timing of opportunity exploitation. © Dean A. Shepherd 2014. All rights reserved. Ignorance reduction; Knowledge management; Opportunity exploitation; Optimal stopping; Timing of exploitation'],\n",
       " ['Exploration, exploitation, and growth through new product development: The moderating effects of firm age and environmental adversity This study investigates how firm age and environmental adversity influence exploration and exploitation and whether the balance between them increases new product development. We also examine if new product development in new and mature firms leads to equivalent growth rates. Empirical results obtained from a survey of small- and medium-sized technology-based manufacturing firms in Korea show that while relative exploration generally remains lower in mature firms than in new firms, it more rapidly increases in mature firms when they operate in adverse environments. Interestingly, our results show that mature firms achieve lower growth rates through new product development than new firms in adverse environments. These empirical findings advance our understanding of the age-dependent antecedents and consequences of new product development. © 1988-2012 IEEE. Adverse environments; exploitation; exploration; firm age; firm growth; new product development'],\n",
       " [\"Market-oriented institutional change and R&D investments: Do business groups enhance advantage? Emerging market firms (EMFs) are increasingly relying on innovation to find their competitive advantage, but our understanding of how institutional change affects firm innovation has been limited. We analyzed Korean manufacturing firms from 1994 to 2006 to test the proposition that market-oriented institutional change in an emerging economy alleviates firms' financing constraints and monitoring problems and improves the effectiveness of their innovation activities. Institutional evolution in the economy was found to affect Korean business groups and independent firms differently. Institutional change reduced the financing constraints on independent firms more than for business group affiliates in R&D investment. Independent firms, however, appeared less capable than group affiliates of translating the benefits of improved institutional environments into efficient R&D investment. This asymmetry may lead to a wider gap in the efficiency of R&D investment between business group affiliates and independent firms. © 2013 Elsevier Inc. Business groups; Financing constraints; Governance reforms; Institutional change; Research and development\"],\n",
       " [\"Ownership structure, business group affiliation and R&D investments Existing governance theories offer contrasting views on the potential effect that controlling owners have on a firm's innovation investment decisions: the stewardship perspective suggests a positive influence, whereas the principal-principal (PP) conflict perspective posits a negative influence. In this study, we attempt to reconcile these views. We propose that business group affiliation determines the extent to which the interests of controlling owners and affiliated firms are congruent, and may motivate controlling owners to behave opportunistically. Our analysis of Korean companies shows that controlling owners of independent firms significantly promote R&D investments, particularly when growth opportunities are plentiful. However, the relationship becomes much weaker for business group affiliates. © 2012 IEEE. business group; controlling ownership; R&D investments\"],\n",
       " ['When should entrepreneurs expedite or delay opportunity exploitation? We theorize on the performance implications of the timing at which entrepreneurs stop exploring their business opportunities and start exploiting them. Using an optimal-stopping approach, we characterize the time when exploitation should begin based primarily on when an entrepreneur\\'s ignorance has been sufficiently reduced through knowledge accumulation. This \"ignorance threshold\" captures a tradeoff between the time needed to increase legitimacy and the necessity to act now to minimize competition. Changes in legitimacy and competition are based on how entrepreneurs manage their knowledge (tacit versus explicit) under differing degrees of novelty for the business opportunity. These changes, in turn, impact the performance and timing of opportunity exploitation. © 2006 Elsevier Inc. All rights reserved. Ignorance reduction; Knowledge management; Opportunity exploitation; Optimal stopping; Timing of exploitation'],\n",
       " ['The influences of economic and technology policy on the dynamics of new firm formation This study attempts to reveal how macroeconomic and technology policies that encompass the opportunity and individual drivers of entrepreneurship explain the dynamics of new firm formation in a country. To do so we rely on the Schumpeterian, industrial organization, and labor economics traditions of entrepreneurship, and performed an exploratory test with longitudinal U.S. data from 1968 to 1993. The results of this study suggest that R&D investments, patents, economic concentration, pro-competition policy, and labor mobility are important areas in which government policy can influence the intensity of new firm formation. © Springer 2006. Entrepreneurial policy; Government; New firm formation'],\n",
       " [\"Stakeholder perceptions of age and other dimensions of newness Using verbal protocol and conjoint analyses, this study examines how stakeholders assess an organization in deciding whether to provide their support to it. The authors find that stakeholders' support depends on their perceptions of an organization's age and other dimensions of newness related to addressing management challenges of adaptation - the entrepreneurial problem, the engineering problem, and the administrative problem. Stakeholder support is more likely for those organizations that are old, cognitively legitimate, affectively congruent, reliable, accountable, and strategically flexible. The authors conclude with theoretical implications for scholars and practical implications for resource acquisition in various contexts of entrepreneurship. © 2005 Southern Management Association. All rights reserved. Asset of newness; Entrepreneurship; Liability of newness; Stakeholder theory\"],\n",
       " [\"Dynamics of new firm formation: Impacts of economic and technology policy This study investigates how entrepreneurial policies that encompass opportunity, individual, and resource aspects of entrepreneurship explain dynamics of new firm formation in a country. We rely on the Schumpeterian, industrial organization economics, and organizational ecology traditions, and performed an exploratory test with a longitudinal U.S. data (1968-1993). The results of this study suggest that technological knowledge capital, economic opportunity structure, labor mobility, and a nation's carrying capacity for entrepreneurial activities are important areas in which government policy can positively influence the intensity of new firm formation. © 2004 IEEE. Entrepreneurship; New firm; Policy\"],\n",
       " [\"Entrepreneurs' decisions to exploit opportunities Opportunity exploitation is a necessary step in creating a successful business in the entrepreneurial process, yet there has been little conceptual and empirical development of this issue in the literature. This study examines the decisions of entrepreneurs to begin exploiting business opportunities from a resource-based view. Our analysis of a sample of entrepreneurs whose businesses are located in incubators suggests that entrepreneurs are more likely to exploit opportunities when they perceive more knowledge of customer demand for the new product, more fully developed necessary technologies, greater managerial capability, and greater stakeholder support. Moreover, the findings of this study shed a light on a less emphasized aspect of the resource-based view: the new product's anticipated lead time acts as an enhancing moderator in entrepreneurs' exploitation decision policies. Implications for future research on opportunity exploitation are discussed. © 2003 Elsevier Inc. All rights reserved. nan\"],\n",
       " ['Strategic Types and Performances of Small Firms in Korea YOUNGBAE KIM IS AN ASSISTANT professor of management and policy in the Korea Advanced Institute of Science and Technology, Taejon, South Korea and Youngrok Choi is a researcher in the nuclear policy division of the Korea Atomic Energy Research Institute, Taejon, Korea. This study attempts to identify the patterns of strategic behaviour of small firms in Korea in conjunction with their performance. Based on the data from 79 small firms across four industries, the results reveal that there appear to be four common strategic attributes cost efficiency, innovative differentiation, marketing differentiation, and asset parsimony and five strategic types of firms which have distinct combinations of these strategic attributes innovative, versatile, marginal, and reactive types. Each type of firm was also found to have different organisational characteristics and performance level. Finally, this study discusses the comparative management issue in the field of strategic management and offers some practical implications for managers of small firms. © 1994, Sage Publications. All rights reserved. nan']]"
      ]
     },
     "execution_count": 103,
     "metadata": {},
     "output_type": "execute_result"
    }
   ],
   "source": [
    "df.iloc[0]['docs']"
   ]
  },
  {
   "cell_type": "code",
   "execution_count": 65,
   "metadata": {},
   "outputs": [],
   "source": [
    "def from_iterable(iterables):\n",
    "    # chain.from_iterable(['ABC', 'DEF']) --> ['A', 'B', 'C', 'D', 'E', 'F']\n",
    "    for it in iterables:\n",
    "        for element in it:\n",
    "            yield element"
   ]
  },
  {
   "cell_type": "code",
   "execution_count": 104,
   "metadata": {},
   "outputs": [],
   "source": [
    "text = []\n",
    "for idx, j in enumerate(df['docs']):\n",
    "    add = \"\"\n",
    "    for i in list(from_iterable(j)):\n",
    "        add = add + \" \" + i\n",
    "    text.append(add)"
   ]
  },
  {
   "cell_type": "code",
   "execution_count": 105,
   "metadata": {},
   "outputs": [
    {
     "data": {
      "text/plain": [
       "' A wearablewrist band-type system for multimodal biometrics integrated with multispectral skin photomatrix and electrocardiogram sensors Multimodal biometrics are promising for providing a strong security level for personal authentication, yet the implementation of a multimodal biometric system for practical usage need to meet such criteria that multimodal biometric signals should be easy to acquire but not easily compromised. We developed a wearable wrist band integrated with multispectral skin photomatrix (MSP) and electrocardiogram (ECG) sensors to improve the issues of collectability, performance and circumvention of multimodal biometric authentication. The band was designed to ensure collectability by sensing both MSP and ECG easily and to achieve high authentication performance with low computation, efficient memory usage, and relatively fast response. Acquisition of MSP and ECG using contact-based sensors could also prevent remote access to personal data. Personal authentication with multimodal biometrics using the integrated wearable wrist band was evaluated in 150 subjects and resulted in 0.2% equal error rate (EER) and 100% detection probability at 1% FAR (false acceptance rate) (PD.1), which is comparable to other state-of-the-art multimodal biometrics. An additional investigation with a separate MSP sensor, which enhanced contact with the skin, along with ECG reached 0.1% EER and 100% PD.1, showing a great potential of our in-house wearable band for practical applications. The results of this study demonstrate that our newly developed wearable wrist band may provide a reliable and easy-to-use multimodal biometric solution for personal authentication. © 2018 by the authors. Licensee MDPI, Basel, Switzerland. ECG; Integrated wearable device; Majority voting; Multimodal biometrics; Multispectral skin photomatrix TVWS assisted performance anomaly mitigation exploiting spectrum heterogeneity Super Wi-Fi is a Wi-Fi-like service utilizing TV white spaces (TVWS), which has been revealed to provide higher data rates in the outskirts of Wi-Fi\\'s coverage, thanks to the spectrum heterogeneity between Wi-Fi bands and TVWS. Motivated by this, this paper proposes co-locating a Super Wi-Fi access point (AP) with a Wi-Fi AP aiming to mitigate the performance anomaly of the WLAN by relocating low-rate Wi-Fi stations (STAs) to Super Wi-Fi in the outskirts of Wi-Fi\\'s coverage. Then, the proposed strategy can enhance average per-STA throughput of both Wi-Fi STAs and relocated Super Wi-Fi STAs while also improving the data rate of Super Wi-Fi STAs, than they would achieve with the legacy Wi-Fi. To quantify such performance improvement, we model the system as a series of two-dimensional Markov chains and provide an in-depth analysis of steady-state probabilities and per-STA throughput. Numerical analysis has shown that Super Wi-Fi co-location improves not only average per-STA throughput but also spectral efficiency, compared to the legacy Wi-Fi with 20 or 20+20 MHz bandwidth for the single BSS scenario. In addition, average per-STA throughput and spectral efficiency are also enhanced in the OBSS scenario both in rural and urban environments. Hence, the co-location strategy is proven to be quite effective in enhancing WLAN\\'s performance. © 2018 Elsevier B.V. Performance anomaly; Spectrum heterogeneity; Spectrum white spaces; Super Wi-Fi; Wi-Fi Specific visualization of neuromelanin-iron complex and ferric iron in the human post-mortem substantia nigra using MR relaxometry at 7T Neuromelanin (NM) is an endogenous iron chelating molecule of pigmented neurons in the human substantia nigra (SN). Along with the increase in iron deposition, the reduction in NM-containing dopaminergic neurons and the variation of iron load on NM are generally considered to be important factors participating to pathogenesis of Parkinson\\'s disease (PD). The aim of this study was to non-invasively delineate the spatial distributions of paramagnetic magnetic susceptibility perturbers, such as NM-iron complex and ferric iron in SN. Multiple quantitative MR parameters of T1, T2, T2 *, susceptibility weighted image (SWI), quantitative susceptibility map (QSM), and T1 weighted image with magnetization transfer (MT) effects were acquired for six post-mortem SN samples without a history of neurological disease. Co-registered quantitative histological validations were performed to identify and correlate NM pigments, iron deposits, and myelin distributions with respect to associated MR parameters. The regions with NM pigments and iron deposits showed positive magnetic susceptibility (paramagnetic) values, while myelinated areas showed negative magnetic susceptibility (diamagnetic) values from the QSM. The region of reduced T2 values in SN mostly coincided with high iron deposits, but not necessarily with the NM pigments. The correlations between T2 */T2 (or T2 */T2 2) values and NM pigments were higher than those between T2 * values and NM pigments, due to the effective size differences between NM-iron complex and ferric iron. Consequently, separate segmentations of ferric iron from the T2 map and NM-iron complex from the T2 */T2 map (or T2 */T2 2 map) were possible with the boundary of the SN determined from the T1 weighted image. © 2017 Elsevier Inc. MR relaxometry; Neuromelanin; Parkinson\\'s disease; Substantia nigra Improved quantitative 90Y bremsstrahlung SPECT/CT reconstruction with Monte Carlo scatter modeling: Purpose: In 90Y microsphere radioembolization (RE), accurate post-therapy imaging-based dosimetry is important for establishing absorbed dose versus outcome relationships for developing future treatment planning strategies. Additionally, accurately assessing microsphere distributions is important because of concerns for unexpected activity deposition outside the liver. Quantitative 90Y imaging by either SPECT or PET is challenging. In 90Y SPECT model based methods are necessary for scatter correction because energy window-based methods are not feasible with the continuous bremsstrahlung energy spectrum. The objective of this work was to implement and evaluate a scatter estimation method for accurate 90Y bremsstrahlung SPECT/CT imaging. Methods: Since a fully Monte Carlo (MC) approach to 90Y SPECT reconstruction is computationally very demanding, in the present study the scatter estimate generated by a MC simulator was combined with an analytical projector in the 3D OS-EM reconstruction model. A single window (105 to 195-keV) was used for both the acquisition and the projector modeling. A liver/lung torso phantom with intrahepatic lesions and low-uptake extrahepatic objects was imaged to evaluate SPECT/CT reconstruction without and with scatter correction. Clinical application was demonstrated by applying the reconstruction approach to five patients treated with RE to determine lesion and normal liver activity concentrations using a (liver) relative calibration. Results: There was convergence of the scatter estimate after just two updates, greatly reducing computational requirements. In the phantom study, compared with reconstruction without scatter correction, with MC scatter modeling there was substantial improvement in activity recovery in intrahepatic lesions (from &gt; 55% to &gt; 86%), normal liver (from 113% to 104%), and lungs (from 227% to 104%) with only a small degradation in noise (13% vs. 17%). Similarly, with scatter modeling contrast improved substantially both visually and in terms of a detectability index, which was especially relevant for the low uptake extrahepatic objects. The trends observed for the phantom were also seen in the patient studies where lesion activity concentrations and lesion-to-liver concentration ratios were lower for SPECT without scatter correction compared with reconstruction with just two MC scatter updates: in eleven lesions the mean uptake was 4.9 vs. 7.1 MBq/mL (P = 0.0547), the mean normal liver uptake was 1.6 vs. 1.5 MBq/mL (P = 0.056) and the mean lesion-to-liver uptake ratio was 2.7 vs. 4.3 (P = 0.0402) for reconstruction without and with scatter correction respectively. Conclusions: Quantitative accuracy of 90Y bremsstrahlung imaging can be substantially improved with MC scatter modeling without significant degradation in image noise or intensive computational requirements. © 2017 American Association of Physicists in Medicine. 90Y; bremsstrahlung; radioembolization; reconstruction; SPECT/CT Cancelable ECG biometrics using GLRT and performance improvement using guided filter with irreversible guide signal Biometrics such as ECG provides a convenient and powerful security tool to verify or identify an individual. However, one important drawback of biometrics is that it is irrevocable. In other words, biometrics cannot be re-used practically once it is compromised. Cancelable biometrics has been investigated to overcome this drawback. © 2017 IEEE. nan Small scale single pulse ECG-based authentication using GLRT that considers T wave shift and adaptive template update with prior information Electrocardiogram (ECG) has been investigated as a promising biometric for the last two decades by exploiting the difference of ECG signals between people. However, it is still challenging to take ECG signal variation of one person into account. ECG of one person may vary due to person\\'s multiple states (e.g., tension, relax, cardio exercise) or anatomical / physiological changes of one\\'s heart over a long period of time (e.g., heart disease). It has been shown that these types of ECG signal variations resulted in low authentication task performance. © 2016 IEEE. Adaptive template; Biometric; Electrocardiogram; GLRT; Wearable device Bounded self-weights estimation method for non-local means image denoising using minimax estimators A non-local means (NLM) filter is a weighted average of a large number of non-local pixels with various image intensity values. The NLM filters have been shown to have powerful denoising performance, excellent detail preservation by averaging many noisy pixels, and using appropriate values for the weights, respectively. The NLM weights between two different pixels are determined based on the similarities between two patches that surround these pixels and a smoothing parameter. Another important factor that influences the denoising performance is the self-weight values for the same pixel. The recently introduced local James-Stein type center pixel weight estimation method (LJS) outperforms other existing methods when determining the contribution of the center pixels in the NLM filter. However, the LJS method may result in excessively large self-weight estimates since no upper bound is assumed, and the method uses a relatively large local area for estimating the self-weights, which may lead to a strong bias. In this paper, we investigated these issues in the LJS method, and then propose a novel local self-weight estimation methods using direct bounds (LMM-DB) and reparametrization (LMM-RP) based on the Baranchik\\'s minimax estimator. Both the LMM-DB and LMM-RP methods were evaluated using a wide range of natural images and a clinical MRI image together with the various levels of additive Gaussian noise. Our proposed parameter selection methods yielded an improved bias-variance trade-off, a higher peak signal-to-noise (PSNR) ratio, and fewer visual artifacts when compared with the results of the classical NLM and LJS methods. Our proposed methods also provide a heuristic way to select a suitable global smoothing parameters that can yield PSNR values that are close to the optimal values. © 1992-2012 IEEE. bounded self-weight; center pixel weight; image denoising; James-Stein estimator; minimax estimator; non-local means Pathologic correlation of paramagnetic white matter lesions in adult-onset leukoencephalopathy with axonal spheroids and pigmented glia It has been proposed that susceptibility-weighted imaging is a sensitive magnetic resonance imaging (MRI) technique for identifying white matter (WM) pathologic changes involving demyelination and iron accumulation. We identified the tree silhouette-like configuration with a paramagnetic phase shift in the frontal subcortical WM lesions of 4 patients with adult-onset leukoencephalopathy with axonal spheroids and pigmented glia who underwent 3T MRI. According to our postmortem 7T MRI and histologic correlation study to investigate the origin of the susceptibility-related phase contrast, changes in the subcortical WM architecture and central WM loss with the relative preservation of iron-rich U-fibers may contribute to the paramagnetic susceptibility. © 2017 American Association of Neuropathologists, Inc. All rights reserved. Adult-onset leukoencephalopathy with axonal spheroids and pigmented glia; Paramagnetic; Susceptibility-weighted imaging; White matter ECG based user authentication for wearable devices using short time Fourier transform Electrocardiogram (ECG) is a promising biometric. There has been much research on ECG based user authentication and identification, but there have been few works to investigate ECG biometrics for stand-Alone wearable ECG sensors, for quick response time using a single pulse ECG, and for small wearable devices that may have limited access to others\\' ECG information. © 2016 IEEE. Biometric; ECG; Phase information; Short time Fourier transform; Wearable device Iterative guided image filtering for multimodal medical imaging Image denoising is an important task in many medical imaging applications. There have been many developed algorithms such as Gaussian kernel based filtering, anisotropic diffusion, bilaterial filtering, non local means filtering, and total variation based denoising. In the computer vision community, the guided image filtering (GF) has been introduced, which demonstrated powerful denoising performance and fast computation time. GF was also extended to Iterative GF to improve the filter output quality (e.g. rolling guidance filtering or RGF). Recently, GF was applied to PET denoising problem in simultaneous PET-MR with matched spatial resolution of MR. In this work, we propose a new iterative GF method called iterative guided image filtering (IGF). Unlike RGF, our new method uses an intermediate guide image. The proposed method was evaluated using a toy example as well as SPECT-CT Monte Carlo (MC) simulation with XCAT phantom. When there were matched edges between noisy image and guide image, then both GF and IGF showed significant improvement in image quality due to edge-preserving property of GF for toy example images. However, when there are mismatched structures between noisy and guide images, severe blurring was observed in GF result image, but relatively good edge information recovery was observed and IGF using side information image yielded the best the root mean squared error (RMSE). Similar tendency was observed in the SPECT-CT MC simulation. Both GF with CT side information and IGF without CT information yielded about 40% reduction in RMSE. When both IGF and CT information were used, 55% RMSE reduction was achieved. Our proposed method can potentially be applied to many multimodal medical imaging applications including PET-CT, SPECT-CT, and simultaneous PET-MR. © 2015 IEEE. nan Joint spectral image reconstruction for Y-90 SPECT with multi-window acquisition Image reconstruction for Y-90 SPECT is challenging due to wide continuous energy spectrum of the bremsstrahlung photons. Previously, forward projection models with narrow single-energy window or wide multi-energy windows were used for image reconstruction with a single acquisition window. We propose a new Y-90 SPECT image reconstruction method referred to as joint spectral reconstruction (JSR) using multi-energy window forward model and multiple acquisition windows. Monte Carlo (MC) simulation using SIMIND coupled with XCAT phantom (two tumors with 80, 41 mL) generated two sets of 6 acquisition window measurements (narrow window: 105-135, 135-165, 165-195, 195-225, 225-255, 255-285 keV, and wide window: 100-200, 200-300, 300-400, 400-500, 500-600, 600-700 keV). Each measurement was scaled to the count level of a typical patient bremsstrahlung SPECT scan following Y-90 microsphere radioembolization of the liver. 3D OSEM with 6 window data and a single image was implemented with 6 energy-dependent collimator detector response, attenuation, and known scatter and was run with 100 iterations, 6 subsets. The reconstructed image was evaluated using the recovery coefficient (RC), the standard deviation (SD), the bias over tumors and liver. Results were compared with those of the single spectral reconstruction (SSR) method that models the projector with a single-energy window with a single acquisition window (105-135 keV for narrow case, and 100-200 keV for wide case). JSR yielded significantly higher RC and lower SD than SSR in all cases. For narrow window case, JSR achieved up to 11.19% increase in RC and up to 46.9% decrease in SD compared to SSR at the 100th iteration. For wide window case, JSR achieved up to 19.23% increase in RC and up to 19.01% decrease in SD compared to SSR at the 100th iteration. Therefore, our JSR was able to considerably improve Y-90 SPECT image reconstruction quality over SSR. The improvement in noise while maintaining comparable RC is particularly significant because the sensitivity of Y-90 SPECT is low and count levels for applications in targeted radionuclide therapy are low. © 2015 IEEE. bremsstrahlung; joint spectral; reconstruction; SPECT; Yttrium-90 The Neuromelanin-related T2∗ Contrast in Postmortem Human Substantia Nigra with 7T MRI High field magnetic resonance imaging (MRI)-based delineation of the substantia nigra (SN) and visualization of its inner cellular organization are promising methods for the evaluation of morphological changes associated with neurodegenerative diseases; however, corresponding MR contrasts must be matched and validated with quantitative histological information. Slices from two postmortem SN samples were imaged with a 7 Tesla (7T) MRI with T1 and T2∗ imaging protocols and then stained with Perl\\'s Prussian blue, Kluver-Barrera, tyrosine hydroxylase, and calbindin immunohistochemistry in a serial manner. The association between T2∗ values and quantitative histology was investigated with a co-registration method that accounts for histology slice preparation. The ventral T2∗ hypointense layers between the SNr and the crus cerebri extended anteriorly to the posterior part of the crus cerebri, which demonstrates the difficulty with an MRI-based delineation of the SN. We found that the paramagnetic hypointense areas within the dorsolateral SN corresponded to clusters of neuromelanin (NM). These NM-rich zones were distinct from the hypointense ventromedial regions with high iron pigments. Nigral T2∗ imaging at 7T can reflect the density of NM-containing neurons as the metal-bound NM macromolecules may decrease T2∗ values and cause hypointense signalling in T2∗ imaging at 7T. © 2016 The Author(s). nan Single pulse ECG-based small scale user authentication using guided filtering Electrocardiogram (ECG) has been demonstrated as a promising biometric for user authentication or classification. However, most of the previous works on ECG biometrics dealt with more than five ECG pulses at once, which will require at least a few seconds to acquire. Moreover, many of them investigated classification systems that require ECG signals of many people for effective dimensionality reduction methods such as PCA or for powerful classifiers such as SVM. © 2016 IEEE. nan Center pixel weight estimation for non-local means filtering using local James-Stein estimator with bounded self-weights Assigning appropriate center pixel weights (CPW) in nonlocal means (NLM) filter is an important issue to affect the quality of filtered images. Using local James-Stein (LJS) type CPW yielded superior peak signal-to-noise ratio (PSNR) over using other existing methods of determining the contribution of center pixels in NLM. However, the original LJS CPW method assumed no upper bound for self-weights implicitly, it may yield excessively large self-weights and visual artifacts. We propose a method, called bounded self-weights LJS (BLJS), to incorporate bounded self-weights into LJS such that this new estimator is dominating partially. Our proposed method was evaluated using a patient MR image with 3 levels of additive Gaussian noise. For fixed local area, the proposed BLJS yielded lower variances than the original LJS for almost all bias levels. BLJS also achieved PSNR comparable to or better than LJS. Visual image quality assessment showed that BLJS produced less localized visual artifacts than LJS. © 2016 IEEE. center pixel weight; image filtering; James-Stein estimator; non-local means Joint estimation of activity distribution and attenuation map for TOF-PET using alternating direction method of multiplier Recent advances in TOF PET joint estimation of activity and attenuation showed that activity and attenuation can be determined up to a global constant scale without severe crosstalk. MLAA was first proposed to estimate activity and attenuation map simultaneously, and then MLACF was developed to estimate activity and attenuation compensation factor (ACF). MLAA incorporated prior knowledge on the zero attenuation value outside body area to determine global scalar, but was slow to converge. MLACF converged much faster than MLAA, but required knowing total activity level in advance. We propose a new optimization method based on variable splitting and alternating direction method of multiplier (MLADMM). Our proposed MLADMM achieved fast convergence rate comparable to MLACF without knowing total activity level. MLADMM also has a potential to use more sophisticated MR-based prior for attenuation in PET-MR. © 2016 IEEE. ADMM; Joint estimation; TOF PET The Use of Anatomical Information for Molecular Image Reconstruction Algorithms: Attenuation/Scatter Correction, Motion Compensation, and Noise Reduction PET and SPECT are important tools for providing valuable molecular information about patients to clinicians. Advances in nuclear medicine hardware technologies and statistical image reconstruction algorithms enabled significantly improved image quality. Sequentially or simultaneously acquired anatomical images such as CT and MRI from hybrid scanners are also important ingredients for improving the image quality of PET or SPECT further. High-quality anatomical information has been used and investigated for attenuation and scatter corrections, motion compensation, and noise reduction via post-reconstruction filtering and regularization in inverse problems. In this article, we will review works using anatomical information for molecular image reconstruction algorithms for better image quality by describing mathematical models, discussing sources of anatomical information for different cases, and showing some examples. © 2016, Korean Society of Nuclear Medicine. Anatomical side information; Attenuation and scatter correction; Iterative image reconstruction; Motion compensation; Post-reconstruction filter; Regularization Wi-Fi and super Wi-Fi co-location for exploiting spectrum heterogeneity We propose co-locating a Super Wi-Fi access point (AP) with a Wi-Fi AP aiming to mitigate the performance anomaly of the traditional WLAN by relocating low-rate Wi-Fi stations (STAs) in the outskirts of Wi-Fi\\'s coverage to Super Wi-Fi. This strategy is based on the two key insights: it would enhance the throughput of Wi-Fi STAs due to the reduced number of STAs; it also provides QoS guarantees to the STAs associated with Super Wi-Fi such as enhanced data rate and average per-STA throughput than they would achieve if associated with Wi-Fi. To quantify the performance improvement by our co-location strategy, we model the system as a series of two-dimensional Markov chains and derive the steady-state probabilities and per-STA throughput. A numerical study has shown that Super Wi-Fi co-location improves Wi-Fi\\'s average per-STA throughput up to 30 times. © 2015 IEEE. nan Alternating direction method of multiplier for tomography with nonlocal regularizers The ordered subset expectation maximization (OSEM) algorithm approximates the gradient of a likelihood function using a subset of projections instead of using all projections so that fast image reconstruction is possible for emission and transmission tomography such as SPECT, PET, and CT. However, OSEM does not significantly accelerate reconstruction with computationally expensive regularizers such as patch-based nonlocal (NL) regularizers, because the regularizer gradient is evaluated for every subset. We propose to use variable splitting to separate the likelihood term and the regularizer term for penalized emission tomographic image reconstruction problem and to optimize it using the alternating direction method of multiplier (ADMM). We also propose a fast algorithm to optimize the ADMM parameter based on convergence rate analysis. This new scheme enables more sub-iterations related to the likelihood term. We evaluated our ADMM for 3-D SPECT image reconstruction with a patch-based NL regularizer that uses the Fair potential function. Our proposed ADMM improved the speed of convergence substantially compared to other existing methods such as gradient descent, EM, and OSEM using De Pierro\\'s approach, and the limited-memory Broyden-Fletcher-Goldfarb-Shanno algorithm. © 2014 IEEE. Alternating direction method of multiplier; emission tomography; nonlocal (NL) regularizer; ordered-subset expectation maximization (OSEM) Evaluation of dual energy quantitative CT for determining the spatial distributions of red marrow and bone for dosimetry in internal emitter radiation therapy Purpose: To evaluate a three-equation three-unknown dual-energy quantitative CT (DEQCT) technique for determining region specific variations in bone spongiosa composition for improved red marrow dose estimation in radionuclide therapy. Methods: The DEQCT method was applied to 80/140 kVp images of patient-simulating lumbar sectional body phantoms of three sizes (small, medium, and large). External calibration rods of bone, red marrow, and fat-simulating materials were placed beneath the body phantoms. Similar internal calibration inserts were placed at vertebral locations within the body phantoms. Six test inserts of known volume fractions of bone, fat, and red marrow were also scanned. External-to-internal calibration correction factors were derived. The effects of body phantom size, radiation dose, spongiosa region segmentation granularity [single (∼17 × 17 mm) region of interest (ROI), 2 × 2, and 3 × 3 segmentation of that single ROI], and calibration method on the accuracy of the calculated volume fractions of red marrow (cellularity) and trabecular bone were evaluated. Results: For standard low dose DEQCT x-ray technique factors and the internal calibration method, the RMS errors of the estimated volume fractions of red marrow of the test inserts were 1.2-1.3 times greater in the medium body than in the small body phantom and 1.3-1.5 times greater in the large body than in the small body phantom. RMS errors of the calculated volume fractions of red marrow within 2 × 2 segmented subregions of the ROIs were 1.6-1.9 times greater than for no segmentation, and RMS errors for 3 × 3 segmented subregions were 2.3-2.7 times greater than those for no segmentation. Increasing the dose by a factor of 2 reduced the RMS errors of all constituent volume fractions by an average factor of 1.40 ± 0.29 for all segmentation schemes and body phantom sizes; increasing the dose by a factor of 4 reduced those RMS errors by an average factor of 1.71 ± 0.25. Results for external calibrations exhibited much larger RMS errors than size matched internal calibration. Use of an average body size external-to-internal calibration correction factor reduced the errors to closer to those for internal calibration. RMS errors of less than 30% or about 0.01 for the bone and 0.1 for the red marrow volume fractions would likely be satisfactory for human studies. Such accuracies were achieved for 3 × 3 segmentation of 5 mm slice images for: (a) internal calibration with 4 times dose for all size body phantoms, (b) internal calibration with 2 times dose for the small and medium size body phantoms, and (c) corrected external calibration with 4 times dose and all size body phantoms. Conclusions: Phantom studies are promising and demonstrate the potential to use dual energy quantitative CT to estimate the spatial distributions of red marrow and bone within the vertebral spongiosa. © 2014 American Association of Physicists in Medicine. bone marrow; phantom study; quantitative computed tomography; subregion analysis Bias atlases for segmentation-based pet attenuation correction using PET-CT and MR This study was to obtain voxel-wise PET accuracy and precision using tissue-segmentation for attenuation correction. We applied multiple thresholds to the CTs of 23 patients to classify tissues. For six of the 23 patients, MR images were also acquired. The MR fat/in-phase ratio images were used for fat segmentation. Segmented tissue classes were used to create attenuation maps, which were used for attenuation correction in PET reconstruction. PET bias images were then computed using the PET reconstructed with the original CT as the reference. We registered the CTs for all the patients and transformed the corresponding bias images accordingly. We then obtained the mean and standard deviation bias atlas using all the registered bias images. Our CT-based study shows that four-class segmentation (air, lungs, fat, other tissues), which is available on most PET-MR scanners, yields 15.1%, 4.1%, 6.6%, and 12.9% RMSE bias in lungs, fat, non-fat soft-tissues, and bones, respectively. An accurate fat identification is achievable using fat/in-phase MR images. Furthermore, we have found that three-class segmentation (air, lungs, other tissues) yields less than 5% standard deviation of bias within the heart, liver, and kidneys. This implies that three-class segmentation can be sufficient to achieve small variation of bias for imaging these three organs. Finally, we have found that inter- and intra-patient lung density variations contribute almost equally to the overall standard deviation of bias within the lungs. © 1963-2012 IEEE. Attenuation correction; PET-MR Post-reconstruction non-local means filtering methods using CT side information for quantitative SPECT Quantitative SPECT techniques are important for many applications including internal emitter therapy dosimetry where accurate estimation of total target activity and activity distribution within targets are both potentially important for dose-response evaluations. We investigated non-local means (NLM) post-reconstruction filtering for accurate I-131 SPECT estimation of both total target activity and the 3D activity distribution. We first investigated activity estimation versus number of ordered-subsets expectation-maximization (OSEM) iterations. We performed simulations using the XCAT phantom with tumors containing a uniform and a non-uniform activity distribution, and measured the recovery coefficient (RC) and the root mean squared error (RMSE) to quantify total target activity and activity distribution, respectively. We observed that using more OSEM iterations is essential for accurate estimation of RC, but may or may not improve RMSE. We then investigated various post-reconstruction filtering methods to suppress noise at high iteration while preserving image details so that both RC and RMSE can be improved. Recently, NLM filtering methods have shown promising results for noise reduction. Moreover, NLM methods using high-quality side information can improve image quality further. We investigated several NLM methods with and without CT side information for I-131 SPECT imaging and compared them to conventional Gaussian filtering and to unfiltered methods. We studied four different ways of incorporating CT information in the NLM methods: two known (NLM CT-B and NLM CT-M) and two newly considered (NLM CT-S and NLM CT-H). We also evaluated the robustness of NLM filtering using CT information to erroneous CT. NLM CT-S and NLM CT-H yielded comparable RC values to unfiltered images while substantially reducing RMSE. NLM CT-S achieved -2.7 to 2.6% increase of RC compared to no filtering and NLM CT-H yielded up to 6% decrease in RC while other methods yielded lower RCs than them: Gaussian filtering (up to 11.8% decrease in RC), NLM method without CT (up to 9.5% decrease in RC), and NLM CT-M and NLM CT-B (up to 19.4% decrease in RC). NLM CT-S and NLM CT-H achieved 8.2 to 33.9% and -0.9 to 36% decreased RMSE on tumors compared to no filtering respectively while other methods yielded less reduced or increased RMSE: Gaussian filtering (up to 7.9% increase in RMSE), NLM method without CT (up to 18.3% increase in RMSE), and NLM CT-M and NLM CT-B (up to 31.5% increase in RMSE). NLM CT-S and NLM CT-H also yielded images with tumor shapes that better-matched the true shapes than other methods. All NLM methods using CT information were robust to small misregistration between SPECT and CT, but NLM CT-S and NLM CT-H were more sensitive than NLM CT-M and NLM CT-B to missing CT information. © 2013 Institute of Physics and Engineering in Medicine. nan Cardiac motion compensation and resolution modeling in simultaneous PET-MR: A cardiac lesion detection study Cardiac motion and partial volume effects (PVE) are two of the main causes of image degradation in cardiac PET. Motion generates artifacts and blurring while PVE lead to erroneous myocardial activity measurements. Newly available simultaneous PET-MR scanners offer new possibilities in cardiac imaging as MRI can assess wall contractility while collecting PET perfusion data. In this perspective, we develop a list-mode iterative reconstruction framework incorporating both tagged-MR derived non-rigid myocardial wall motion and position dependent detector point spread function (PSF) directly into the PET system matrix. In this manner, our algorithm performs both motion \\'deblurring\\' and PSF deconvolution while reconstructing images with all available PET counts. The proposed methods are evaluated in a beating non-rigid cardiac phantom whose hot myocardial compartment contains small transmural and non-transmural cold defects. In order to accelerate imaging time, we investigate collecting full and half k-space tagged MR data to obtain tagged volumes that are registered using non-rigid B-spline registration to yield wall motion information. Our experimental results show that tagged-MR based motion correction yielded an improvement in defect/myocardium contrast recovery of 34-206% as compared to motion uncorrected studies. Likewise, lesion detectability improved by respectively 115-136% and 62-235% with MR-based motion compensation as compared to gating and no motion correction and made it possible to distinguish non-transmural from transmural defects, which has clinical significance given the inherent limitations of current single modality imaging in identifying the amount of residual ischemia. The incorporation of PSF modeling within the framework of MR-based motion compensation significantly improved defect/myocardium contrast recovery (5.1-8.5%, p < 0.01) and defect detectability (39-56%, p < 0.01). No statistical difference was found in PET contrast and lesion detectability based on motion fields obtained with half and full k-space tagged data. © 2013 Institute of Physics and Engineering in Medicine. nan Noise properties of motion-compensated tomographic image reconstruction methods Motion-compensated image reconstruction (MCIR) methods incorporate motion models to improve image quality in the presence of motion. MCIR methods differ in terms of how they use motion information and they have been well studied separately. However, there have been less theoretical comparisions of different MCIR methods. This paper compares the theoretical noise properties of three popular MCIR methods assuming known nonrigid motion. We show the relationship among three MCIR methods-motion-compensated temporal regularization (MTR), the parametric motion model (PMM), and post-reconstruction motion correction (PMC)-for penalized weighted least square cases. These analyses show that PMM and MTR are matrix-weighted sums of all registered image frames, while PMC is a scalar-weighted sum. We further investigate the noise properties of MCIR methods with Poisson models and quadratic regularizers by deriving accurate and fast variance prediction formulas using an \\'analytical approach.\\' These theoretical noise analyses show that the variances of PMM and MTR are lower than or comparable to the variance of PMC due to the statistical weighting. These analyses also facilitate comparisons of the noise properties of different MCIR methods, including the effects of different quadratic regularizers, the influence of the motion through its Jacobian determinant, and the effect of assuming that total activity is preserved. Two-dimensional positron emission tomography simulations demonstrate the theoretical results. © 2012 IEEE. Motion-compensated image reconstruction; noise properties; nonrigid motion; quadratic regularization Correction for collimator-detector response in SPECT using point spread function template Compensating for the collimator-detector response (CDR) in SPECT is important for accurate quantification. The CDR consists of both a geometric response and a septal penetration and collimator scatter response. The geometric response can be modeled analytically and is often used for modeling the whole CDR if the geometric response dominates. However, for radionuclides that emit medium or high-energy photons such as I-131, the septal penetration and collimator scatter response is significant and its modeling in the CDR correction is important for accurate quantification. There are two main methods for modeling the depth-dependent CDR so as to include both the geometric response and the septal penetration and collimator scatter response. One is to fit a Gaussian plus exponential function that is rotationally invariant to the measured point source response at several source-detector distances. However, a rotationally-invariant exponential function cannot represent the star-shaped septal penetration tails in detail. Another is to perform Monte-Carlo (MC) simulations to generate the depth-dependent point spread functions (PSFs) for all necessary distances. However, MC simulations, which require careful modeling of the SPECT detector components, can be challenging and accurate results may not be available for all of the different SPECT scanners in clinics. In this paper, we propose an alternative approach to CDR modeling. We use a Gaussian function plus a 2-D B-spline PSF template and fit the model to measurements of an I-131 point source at several distances. The proposed PSF-template-based approach is nearly non-parametric, captures the characteristics of the septal penetration tails, and minimizes the difference between the fitted and measured CDR at the distances of interest. The new model is applied to I-131 SPECT reconstructions of experimental phantom measurements, a patient study, and a MC patient simulation study employing the XCAT phantom. The proposed model yields up to a 16.5 and 10.8% higher recovery coefficient compared to the results with the conventional Gaussian model and the Gaussian plus exponential model, respectively. © 2012 IEEE. B-spline point spread function template; collimator-detector response; I-131 quantitative SPECT Investigation on parameter selection of non-local means filters using CT side information for multiple I-131 SPECT scans In our past studies, non-local means (NLM) filtering methods with CT side information for I-131 SPECT estimation have shown promising quantitative results. However, it is challenging to determine optimal filter parameters of these filters without knowing the true image or true dose distribution. Moreover, in SPECT-based dosimetry for I-131 radioimmunotherapy, several parameter optimization steps are necessary since multiple scans are obtained at different count levels to determine time-activity following the tracer and therapy administration. In this paper, we propose practical criteria for choosing filter parameters of NLM filters with CT side information for multiple I-131 SPECT scans without knowing the true activity distribution. We investigate the relationship between quantification and parameters empirically. XCAT simulation results show that our new criteria can determine filtering parameters without knowing the true activity distribution and at different count levels so that the NLM filtering method with CT side information decreased the root mean square error by up to 41% as compared to no filtering while yielding comparable recovery coefficient. © 2013 IEEE. nan Non-local means methods using CT side information for I-131 SPECT image reconstruction Recently, non-local means (NLM) methods for both image denoising and inverse problems have shown promising results in image processing and medical imaging. Moreover, some researchers have also shown that using additional information with low noise and/or high resolution for these problems can improve the image quality further. We investigated several NLM methods including NLM filters and NLM regularizers with and without CT side information for I-131 SPECT image reconstruction. We compared two different ways to incorporate CT side information in the NLM filtering methods.We also propose a new way of incorporating side information in the NLM reconstruction method. XCAT simulation results with two uniform tumors (72 cc, 11 cc) show that the NLM filtering method with CT side information decreased the root mean square error (RMSE) up to 18.6% as compared to unregularized method. Our proposed NLM-based regularizers in iterative image reconstructions with CT side information also yielded up to 29.2% better RMSE and up to 18.1% better recovery coefficient than unregularized reconstruction. © 2012 IEEE. nan MRI-based nonrigid motion correction in simultaneous PET/MRI Respiratory and cardiac motion is the most serious limitation to whole-body PET, resulting in spatial resolution close to 1 cm. Furthermore, motion-induced inconsistencies in the attenuation measurements often lead to significant artifacts in the reconstructed images. Gating can remove motion artifacts at the cost of increased noise. This paper presents an approach to respiratory motion correction using simultaneous PET/MRI to demonstrate initial results in phantoms, rabbits, and nonhuman primates and discusses the prospects for clinical application. Methods: Studies with a deformable phantom, a free-breathing primate, and rabbits implanted with radioactive beads were performed with simultaneous PET/MRI. Motion fields were estimated from concurrently acquired tagged MR images using 2 B-spline nonrigid image registration methods and incorporated into a PET list-mode ordered-subsets expectation maximization algorithm. Using the measured motion fields to transform both the emission data and the attenuation data, we could use all the coincidence data to reconstruct any phase of the respiratory cycle. We compared the resulting SNR and the channelized Hotelling observer (CHO) detection signal-to-noise ratio (SNR) in the motion-corrected reconstruction with the results obtained from standard gating and uncorrected studies. Results: Motion correction virtually eliminated motion blur without reducing SNR, yielding images with SNR comparable to those obtained by gating with 5-8 times longer acquisitions in all studies. The CHO study in dynamic phantoms demonstrated a significant improvement (166%-276%) in lesion detection SNR with MRI-based motion correction as compared with gating (P < 0.001). This improvement was 43%-92% for large motion compared with lesion detection without motion correction (P < 0.001). CHO SNR in the rabbit studies confirmed these results. Conclusion: Tagged MRI motion correction in simultaneous PET/MRI significantly improves lesion detection compared with respiratory gating and no motion correction while reducing radiation dose. In vivo primate and rabbit studies confirmed the improvement in PET image quality and provide the rationale for evaluation in simultaneous whole-body PET/MRI clinical studies. Copyright © 2012 by the Society of Nuclear Medicine and Molecular Imaging, Inc. Lesion detection; Motion correction; PET/MRI Spatial resolution properties of motion-compensated tomographic image reconstruction methods Many motion-compensated image reconstruction (MCIR) methods have been proposed to correct for subject motion in medical imaging. MCIR methods incorporate motion models to improve image quality by reducing motion artifacts and noise. This paper analyzes the spatial resolution properties of MCIR methods and shows that nonrigid local motion can lead to nonuniform and anisotropic spatial resolution for conventional quadratic regularizers. This undesirable property is akin to the known effects of interactions between heteroscedastic log-likelihoods (e.g., Poisson likelihood) and quadratic regularizers. This effect may lead to quantification errors in small or narrow structures (such as small lesions or rings) of reconstructed images. This paper proposes novel spatial regularization design methods for three different MCIR methods that account for known nonrigid motion. We develop MCIR regularization designs that provide approximately uniform and isotropic spatial resolution and that match a user-specified target spatial resolution. Two-dimensional PET simulations demonstrate the performance and benefits of the proposed spatial regularization design methods. © 2012 IEEE. Isotropic and uniform spatial resolution; motion-compensated image reconstruction; nonrigid motion; quadratic regularization; regularization design Regularization design for isotropic spatial resolution in motion-compensated image reconstruction Patient motion degrades image quality in medical imaging. Gating can reduce motion artifacts by using part of the acquired data, but can increase noise. Motion-compensated image reconstruction (MCIR) utilizes all collected data with motion information to reduce motion artifacts and noise. © 2011 IEEE. nan Nonrigid PET motion compensation in the lower abdomen using simultaneous tagged-MRI and PET imaging Purpose: We propose a novel approach for PET respiratory motion correction using tagged-MRI and simultaneous PET-MRI acquisitions.Methods: We use a tagged-MRI acquisition followed by motion tracking in the phase domain to estimate the nonrigid deformation of biological tissues during breathing. In order to accurately estimate motion even in the presence of noise and susceptibility artifacts, we regularize the traditional HARP tracking strategy using a quadratic roughness penalty on neighboring displacement vectors (R-HARP). We then incorporate the motion fields estimated with R-HARP in the system matrix of an MLEM PET reconstruction algorithm formulated both for sinogram and list-mode data representations. This approach allows reconstruction of all detected coincidences in a single image while modeling the effect of motion both in the emission and the attenuation maps. At present, tagged-MRI does not allow estimation of motion in the lungs and our approach is therefore limited to motion correction in soft tissues. Since it is difficult to assess the accuracy of motion correction approaches in vivo, we evaluated the proposed approach in numerical simulations of simultaneous PET-MRI acquisitions using the NCAT phantom. We also assessed its practical feasibility in PET-MRI acquisitions of a small deformable phantom that mimics the complex deformation pattern of a lung that we imaged on a combined PET-MRI brain scanner.Results: Simulations showed that the R-HARP tracking strategy accurately estimated realistic respiratory motion fields for different levels of noise in the tagged-MRI simulation. In simulations of tumors exhibiting increased uptake, contrast estimation was 20 more accurate with motion correction than without. Signal-to-noise ratio (SNR) was more than 100 greater when performing motion-corrected reconstruction which included all counts, compared to when reconstructing only coincidences detected in the first of eight gated frames. These results were confirmed in our proof-of-principle PET-MRI acquisitions, indicating that our motion correction strategy is accurate, practically feasible, and is therefore ready to be tested in vivo.Conclusions: This work shows that PET motion correction using motion fields measured with tagged-MRI in simultaneous PET-MRI acquisitions can be made practical for clinical application and that doing so has the potential to remove motion blur in whole-body PET studies of the torso. © 2011 American Association of Physicists in Medicine. fully 3D reconstruction; motion correction; simultaneous PET-MRI acquisitions; tagged-MRI Sufficient condition for local invertibility of spatio-temporal 4D b-spline deformations Recent advances in medical imaging technologies have made 4D image sequences available in clinical routine. As a consequence, image registration techniques are evolving from alignment of pairs of static volumetric images to spatiotemporal registration of dynamic (4D) images. Since the elastic image registration problem is ill-posed, additional prior information or constraints are usually required to regularize the problem. This work proposes to enforce local invertibility (diffeomorphism) of 4D deformations. A novel sufficient condition for local invertibility over continuous space and time is proposed and a practical regularization prior is designed from the theory. The method has been applied to an image registration (motion tracking) of a dynamic 4D CT image sequence. Results show that using proposed regularizer leads to deformations that are more plausible for respiratory motion than the standard approach without additional temporal regularization. ©2010 IEEE. 4D deformation; Diffeomorphism; Image registration; Local invertibility; Sufficient condition A simple penalty that encourages local invertibility and considers sliding effects for respiratory motion Nonrigid image registration is a key tool in medical imaging. Because of high degrees of freedom in nonrigid transforms, there have been many efforts to regularize the deformation based on some reasonable assumptions. Especially, motion invertibility and local tissue rigidity have been investigated as reasonable priors in image registration. There have been several papers on exploiting each constraint separately. These constraints are reasonable in respiratory motion estimation because breathing motion is invertible and there are some rigid structures such as bones. Using both constraints seems very attractive in respiratory motion registration since using invertibility prior alone usually causes bone warping in ribs. Using rigidity prior seems natural and straightforward. However, the \"sliding effect\" near the interface between rib cage and diaphragm makes problem harder because it is not locally invertible. In this area, invertibility and rigidity priors have opposite forces. Recently, we proposed a simple piecewise quadratic penalty that encourages the local invertibility of motions. In this work we relax this penalty function by using a Geman-type function that allows the deformation to be piecewise smooth instead of globally smooth. This allows the deformation to be discontinuous in the area of the interface between rib cage and diaphragm. With some small sacrifice of regularity, we could achieve more realistic discontinuous motion near diaphragm, better data fitting error as well as less bone warping. We applied this Geman-type function penalty only to the x- and y-direction partial derivatives of the z-direction deformation to address the sliding effect. 192 × 128 × 128 3D CT inhale and exhale images of a real patient were used to show the benefits of this new penalty method. © 2009 Copyright SPIE - The International Society for Optical Engineering. B-spline; Bone rigidity; Geman function; Nonrigid image registration; Piecewise smooth deformation; Regularization method Spatial resolution and noise properties of regularized motion-compensated image reconstruction Reducing motion artifacts is an important problem in medical image reconstruction. Using gating to partition data into separate rames can reduce motion artifacts but can increase noise in images reconstructed fromindividual frames. One can pool the frames to reduce noise by using motion-compensated image reconstruction (MCIR) methods. MCIR methods have been studied in many medical imaging modalities to reduce both noise and motion artifacts. However, there has been less analysis of the spatial resolution and noise properties of MCIR methods. This paper analyzes the spatial resolution and noise properties of MCIR methods based on a general parametric motion model. For simplicity we consider the motion to be given. We present a method to choose quadratic spatial regularization parameters to provide predictable resolution properties that are independent of the object and the motion. The noise analysis shows that the estimator variance depends on both the measurement covariance and the Jacobian determinant values of the motion. A 2D PET simulation demonstrates the theoretical results. © 2009 IEEE. Motion-compensated image reconstruction; Quadratic regularization parameter; Space-invariant tomographs; Spatial resolution and noise properties Joint image reconstruction and nonrigid motion estimation with a simple penalty that encourages local invertibility Motion artifacts are a significant issue in medical image reconstruction. There are many methods for incorporating motion information into image reconstruction. However, there are fewer studies that focus on deformation regularization in motioncompensated image reconstruction. The usual choice for deformation regularization has been penalty functions based on the assumption that tissues are elastic. In the image registration field, there have been some methods proposed that impose deformation invertibility using constraints or regularization, assuming that organ motions are invertible transformations. However, most of these methods require very high memory or computation complexity, making them poorly suited for dealing with multiple images simultaneously in motion-compensated image reconstruction. Recently we proposed an image registration method that uses a simple penalty function based on a sufficient condition for the local invertibility of deformations.1 That approach encourages local invertibility in a fast and memory-efficient way. This paper investigates the use of that regularization method for the more challenging problem of joint image reconstruction and nonrigid motion estimation. A 2D PET simulation (based on realistic motion from real patient CT data) demonstrates the benefits of such motion regularization for joint image reconstruction/ registration.©2009 SPIE. Alternating minimization; B-spline; Joint estimation; motion-compensated image reconstruction; PET; Statistical image reconstruction; Topology preserving deformation A simple regularizer for B-spline nonrigid image registration that encourages local invertibility Nonrigid image registration is an important task for many medical imaging applications. In particular, for radiation oncology it is desirable to track respiratory motion for thoracic cancer treatment. B-splines are convenient for modeling nonrigid deformations, but ensuring invertibility can be a challenge. This paper describes sufficient conditions for local invertibility of deformations based on B-spline bases. These sufficient conditions can be used with constrained optimization to enforce local invertibility. We also incorporate these conditions into nonrigid image registration methods based on a simple penalty approach that encourages diffeomorphic deformations. Traditional Jacobian penalty methods penalize negative Jacobian determinant values only at grid points. In contrast, our new method enforces a sufficient condition for invertibility directly on the deformation coefficients to encourage invertibility globally over a 3-D continuous domain. The proposed penalty approach requires substantially less compute time than Jacobian penalties per iteration. © 2009 IEEE. B-splines; Local invertibility sufficient conditions; Nonrigid image registration; Penalty method; Thorax CT images Detection of event-related spectral changes in electrocorticograms The University of Michigan Direct Brain Interface (UM-DBI) project seeks to detect voluntarily produced electrocortical activity (ECoG) related to actual or imagined movements in humans as the basis for a DBI. In past work we have used cross-correlation based template matching (CCTM) as the method for detecting event-related potentials (ERPs). That approach ignores event-related spectral changes in the ECoG signal. This paper discusses model-based signal detection methods that exploit event-related spectral changes. In particular we propose a quadratic detector based on a two-class hypothesis test with different covariances for the two classes. The covariance matrices are generated by fitting autoregressive (AR) models to training data. Preliminary results show that the quadratic detector yields more channels with good detection performance than the CCTM method, particularly when we impose constraints on detection delay. © 2005 IEEE. nan'"
      ]
     },
     "execution_count": 105,
     "metadata": {},
     "output_type": "execute_result"
    }
   ],
   "source": [
    "text[21]"
   ]
  },
  {
   "cell_type": "code",
   "execution_count": 106,
   "metadata": {},
   "outputs": [
    {
     "name": "stderr",
     "output_type": "stream",
     "text": [
      "/Users/seungheondoh/anaconda3/envs/python3.6/lib/python3.6/site-packages/ipykernel_launcher.py:1: SettingWithCopyWarning: \n",
      "A value is trying to be set on a copy of a slice from a DataFrame.\n",
      "Try using .loc[row_indexer,col_indexer] = value instead\n",
      "\n",
      "See the caveats in the documentation: http://pandas.pydata.org/pandas-docs/stable/indexing.html#indexing-view-versus-copy\n",
      "  \"\"\"Entry point for launching an IPython kernel.\n"
     ]
    },
    {
     "data": {
      "text/html": [
       "<div>\n",
       "<style scoped>\n",
       "    .dataframe tbody tr th:only-of-type {\n",
       "        vertical-align: middle;\n",
       "    }\n",
       "\n",
       "    .dataframe tbody tr th {\n",
       "        vertical-align: top;\n",
       "    }\n",
       "\n",
       "    .dataframe thead th {\n",
       "        text-align: right;\n",
       "    }\n",
       "</style>\n",
       "<table border=\"1\" class=\"dataframe\">\n",
       "  <thead>\n",
       "    <tr style=\"text-align: right;\">\n",
       "      <th></th>\n",
       "      <th>Title</th>\n",
       "      <th>Abstract</th>\n",
       "      <th>Author Keywords</th>\n",
       "      <th>filename</th>\n",
       "      <th>docs</th>\n",
       "      <th>text</th>\n",
       "    </tr>\n",
       "  </thead>\n",
       "  <tbody>\n",
       "    <tr>\n",
       "      <th>0</th>\n",
       "      <td>[Entrepreneurs' decisions to exploit opportuni...</td>\n",
       "      <td>[Entrepreneurs' decisions to exploit opportuni...</td>\n",
       "      <td>[nan, Behavioral decision-making; Business gro...</td>\n",
       "      <td>ChoiYoungRok</td>\n",
       "      <td>[[Entrepreneurs' decisions to exploit opportun...</td>\n",
       "      <td>Entrepreneurs' decisions to exploit opportuni...</td>\n",
       "    </tr>\n",
       "    <tr>\n",
       "      <th>1</th>\n",
       "      <td>[Putting the present value model into practice...</td>\n",
       "      <td>[A key issue around putting the present-value ...</td>\n",
       "      <td>[Present-value model; price–rent ratio; unobse...</td>\n",
       "      <td>ChungKeunsuk</td>\n",
       "      <td>[[Putting the present value model into practic...</td>\n",
       "      <td>Putting the present value model into practice...</td>\n",
       "    </tr>\n",
       "    <tr>\n",
       "      <th>2</th>\n",
       "      <td>[Explaining dyadic expertise use in knowledge ...</td>\n",
       "      <td>[Organizations use project teams to lower sear...</td>\n",
       "      <td>[expertise awareness; expertise use; knowledge...</td>\n",
       "      <td>HongWoonki</td>\n",
       "      <td>[[Explaining dyadic expertise use in knowledge...</td>\n",
       "      <td>Explaining dyadic expertise use in knowledge ...</td>\n",
       "    </tr>\n",
       "    <tr>\n",
       "      <th>3</th>\n",
       "      <td>[Trading behavior prior to public release of a...</td>\n",
       "      <td>[This paper investigates information leakage f...</td>\n",
       "      <td>[nan, nan, Business group; Chaebol; Control-ca...</td>\n",
       "      <td>JungKooyul</td>\n",
       "      <td>[[Trading behavior prior to public release of ...</td>\n",
       "      <td>Trading behavior prior to public release of a...</td>\n",
       "    </tr>\n",
       "    <tr>\n",
       "      <th>4</th>\n",
       "      <td>[CSR and Shareholder Value in the Restaurant I...</td>\n",
       "      <td>[Studies on the effects of corporate social re...</td>\n",
       "      <td>[annual reports; communication; corporate soci...</td>\n",
       "      <td>KimMinChung</td>\n",
       "      <td>[[CSR and Shareholder Value in the Restaurant ...</td>\n",
       "      <td>CSR and Shareholder Value in the Restaurant I...</td>\n",
       "    </tr>\n",
       "  </tbody>\n",
       "</table>\n",
       "</div>"
      ],
      "text/plain": [
       "                                               Title  \\\n",
       "0  [Entrepreneurs' decisions to exploit opportuni...   \n",
       "1  [Putting the present value model into practice...   \n",
       "2  [Explaining dyadic expertise use in knowledge ...   \n",
       "3  [Trading behavior prior to public release of a...   \n",
       "4  [CSR and Shareholder Value in the Restaurant I...   \n",
       "\n",
       "                                            Abstract  \\\n",
       "0  [Entrepreneurs' decisions to exploit opportuni...   \n",
       "1  [A key issue around putting the present-value ...   \n",
       "2  [Organizations use project teams to lower sear...   \n",
       "3  [This paper investigates information leakage f...   \n",
       "4  [Studies on the effects of corporate social re...   \n",
       "\n",
       "                                     Author Keywords      filename  \\\n",
       "0  [nan, Behavioral decision-making; Business gro...  ChoiYoungRok   \n",
       "1  [Present-value model; price–rent ratio; unobse...  ChungKeunsuk   \n",
       "2  [expertise awareness; expertise use; knowledge...    HongWoonki   \n",
       "3  [nan, nan, Business group; Chaebol; Control-ca...    JungKooyul   \n",
       "4  [annual reports; communication; corporate soci...   KimMinChung   \n",
       "\n",
       "                                                docs  \\\n",
       "0  [[Entrepreneurs' decisions to exploit opportun...   \n",
       "1  [[Putting the present value model into practic...   \n",
       "2  [[Explaining dyadic expertise use in knowledge...   \n",
       "3  [[Trading behavior prior to public release of ...   \n",
       "4  [[CSR and Shareholder Value in the Restaurant ...   \n",
       "\n",
       "                                                text  \n",
       "0   Entrepreneurs' decisions to exploit opportuni...  \n",
       "1   Putting the present value model into practice...  \n",
       "2   Explaining dyadic expertise use in knowledge ...  \n",
       "3   Trading behavior prior to public release of a...  \n",
       "4   CSR and Shareholder Value in the Restaurant I...  "
      ]
     },
     "execution_count": 106,
     "metadata": {},
     "output_type": "execute_result"
    }
   ],
   "source": [
    "df['text'] = text\n",
    "df.head()"
   ]
  },
  {
   "cell_type": "markdown",
   "metadata": {},
   "source": [
    "--------"
   ]
  },
  {
   "cell_type": "code",
   "execution_count": 107,
   "metadata": {},
   "outputs": [
    {
     "name": "stdout",
     "output_type": "stream",
     "text": [
      "[nltk_data] Downloading package punkt to\n",
      "[nltk_data]     /Users/seungheondoh/nltk_data...\n",
      "[nltk_data]   Package punkt is already up-to-date!\n"
     ]
    },
    {
     "data": {
      "text/plain": [
       "True"
      ]
     },
     "execution_count": 107,
     "metadata": {},
     "output_type": "execute_result"
    }
   ],
   "source": [
    "#Import all the dependencies\n",
    "from gensim.models.doc2vec import Doc2Vec, TaggedDocument\n",
    "from nltk.tokenize import word_tokenize\n",
    "import nltk\n",
    "nltk.download('punkt')"
   ]
  },
  {
   "cell_type": "code",
   "execution_count": 126,
   "metadata": {},
   "outputs": [],
   "source": [
    "for i,j in zip(df['filename'],df['text']):\n",
    "    documents = {}\n",
    "    documents['name'] = i\n",
    "    documents['text'] = j\n",
    "    db.Docdb.insert_one(documents)"
   ]
  },
  {
   "cell_type": "code",
   "execution_count": 108,
   "metadata": {},
   "outputs": [],
   "source": [
    "zipdata = zip(df['filename'],df['text'])"
   ]
  },
  {
   "cell_type": "code",
   "execution_count": 109,
   "metadata": {},
   "outputs": [],
   "source": [
    "tagged_data = [TaggedDocument(words=word_tokenize(_d.lower()), tags=[str(i)]) for i, _d in zipdata]"
   ]
  },
  {
   "cell_type": "code",
   "execution_count": 110,
   "metadata": {},
   "outputs": [
    {
     "data": {
      "text/plain": [
       "TaggedDocument(words=['entrepreneurs', \"'\", 'decisions', 'to', 'exploit', 'opportunities', 'entrepreneurs', \"'\", 'decisions', 'to', 'exploit', 'opportunities', 'nan', 'family', 'ownership', 'and', 'r', '&', 'd', 'investment', ':', 'the', 'role', 'of', 'growth', 'opportunities', 'and', 'business', 'group', 'membership', 'this', 'study', 'examines', 'whether', 'the', 'influence', 'of', 'family', 'ownership', 'on', 'r', '&', 'd', 'investment', 'varies', 'depending', 'on', 'growth', 'opportunities', 'and', 'business', 'group', 'membership', '.', 'using', 'data', 'on', 'korean', 'firms', 'over', 'ten', 'years', '(', '1998-2007', ')', ',', 'the', 'study', 'shows', 'that', 'family', 'ownership', 'is', 'negatively', 'related', 'to', 'r', '&', 'd', 'investment', ',', 'but', 'the', 'relationship', 'becomes', 'positive', 'when', 'growth', 'opportunities', 'are', 'present', '.', 'the', 'moderating', 'effect', ',', 'however', ',', 'differs', 'between', 'independent', 'family', 'firms', 'and', 'family', 'business', 'groups', '.', 'the', 'positive', 'influence', 'that', 'growth', 'opportunities', 'have', 'on', 'promoting', 'r', '&', 'd', 'investment', 'is', 'diminished', 'for', 'affiliates', 'of', 'family', 'business', 'groups', '.', 'these', 'findings', 'imply', 'that', 'family', 'owners', 'invest', 'more', 'in', 'r', '&', 'd', 'when', 'their', 'family', 'control', 'goals', 'are', 'threatened', 'by', 'the', 'loss', 'of', 'growth', 'potential', '.', 'the', 'empirical', 'results', 'of', 'this', 'study', 'and', 'its', 'behavioral', 'decision-making', 'model', 'help', 'to', 'bridge', 'the', 'gap', 'between', 'the', 'predictions', 'of', 'the', 'family', 'control', 'perspective', 'and', 'agency', 'theory', 'in', 'explaining', 'r', '&', 'd', 'investment', 'by', 'family', 'firms', 'in', 'an', 'emerging', 'economy', '.', '©', '2014', 'elsevier', 'inc.', 'behavioral', 'decision-making', ';', 'business', 'groups', ';', 'family', 'ownership', ';', 'growth', 'opportunities', ';', 'r', '&', 'd', 'investment', 'entrepreneurs', \"'\", 'decisions', 'to', 'exploit', 'opportunities', 'opportunity', 'exploitation', 'is', 'a', 'necessary', 'step', 'in', 'creating', 'a', 'successful', 'business', 'in', 'the', 'en-', 'trepreneurial', 'process', ',', 'yet', 'there', 'has', 'been', 'little', 'conceptual', 'and', 'empirical', 'development', 'of', 'this', 'issue', 'in', 'the', 'literature', '.', 'this', 'study', 'examines', 'the', 'decisions', 'of', 'entrepreneurs', 'to', 'begin', 'exploiting', 'business', 'opportunities', 'from', 'a', 'resource-based', 'view', '.', 'our', 'analysis', 'of', 'a', 'sample', 'of', 'entrepreneurs', 'whose', 'businesses', 'are', 'located', 'in', 'incubators', 'suggests', 'that', 'entrepreneurs', 'are', 'more', 'likely', 'to', 'exploit', 'opportunities', 'when', 'they', 'perceive', 'more', 'knowledge', 'of', 'customer', 'demand', 'for', 'the', 'new', 'product', ',', 'more', 'fully', 'developed', 'necessary', 'technologies', ',', 'greater', 'managerial', 'capability', ',', 'and', 'greater', 'stakeholder', 'support', '.', 'moreover', ',', 'the', 'findings', 'of', 'this', 'study', 'shed', 'a', 'light', 'on', 'a', 'less', 'empha-', 'sized', 'aspect', 'of', 'the', 'resource-based', 'view', ':', 'the', 'new', 'product', \"'s\", 'anticipated', 'lead', 'time', 'acts', 'as', 'an', 'enhancing', 'moderator', 'in', 'entrepreneurs', \"'\", 'exploitation', 'decision', 'policies', '.', 'implications', 'for', 'future', 'research', 'on', 'opportunity', 'exploitation', 'are', 'discussed', '.', '©', 'dean', 'a.', 'shepherd', '2014.', 'all', 'rights', 'reserved', '.', 'nan', 'when', 'should', 'entrepreneurs', 'expedite', 'or', 'delay', 'opportunity', 'exploitation', '?', 'we', 'theorize', 'on', 'the', 'performance', 'implications', 'of', 'the', 'timing', 'at', 'which', 'entrepreneurs', 'stop', 'exploring', 'their', 'business', 'opportunities', 'and', 'start', 'exploiting', 'them', '.', 'using', 'an', 'optimal-stopping', 'approach', ',', 'wc', 'characterize', 'the', 'time', 'when', 'exploitation', 'should', 'begin', 'based', 'primarily', 'on', 'when', 'an', 'entrepreneur', \"'s\", 'ignorance', 'has', 'been', 'sufficiently', 'reduced', 'through', 'knowledge', 'accumulation', '.', 'this', '``', 'ignorance', 'threshold', \"''\", 'captures', 'a', 'tradeoff', 'between', 'the', 'time', 'needed', 'to', 'increase', 'legitimacy', 'and', 'the', 'necessity', 'to', 'act', 'now', 'to', 'minimize', 'competition', '.', 'changes', 'in', 'legitimacy', 'and', 'competition', 'arc', 'based', 'on', 'how', 'entrepreneurs', 'manage', 'their', 'knowledge', '(', 'tacit', 'versus', 'explicit', ')', 'under', 'differing', 'degrees', 'of', 'novelty', 'for', 'the', 'business', 'opportunity', '.', 'these', 'changes', ',', 'in', 'turn', ',', 'impact', 'the', 'performance', 'and', 'timing', 'of', 'opportunity', 'exploitation', '.', '©', 'dean', 'a.', 'shepherd', '2014.', 'all', 'rights', 'reserved', '.', 'ignorance', 'reduction', ';', 'knowledge', 'management', ';', 'opportunity', 'exploitation', ';', 'optimal', 'stopping', ';', 'timing', 'of', 'exploitation', 'exploration', ',', 'exploitation', ',', 'and', 'growth', 'through', 'new', 'product', 'development', ':', 'the', 'moderating', 'effects', 'of', 'firm', 'age', 'and', 'environmental', 'adversity', 'this', 'study', 'investigates', 'how', 'firm', 'age', 'and', 'environmental', 'adversity', 'influence', 'exploration', 'and', 'exploitation', 'and', 'whether', 'the', 'balance', 'between', 'them', 'increases', 'new', 'product', 'development', '.', 'we', 'also', 'examine', 'if', 'new', 'product', 'development', 'in', 'new', 'and', 'mature', 'firms', 'leads', 'to', 'equivalent', 'growth', 'rates', '.', 'empirical', 'results', 'obtained', 'from', 'a', 'survey', 'of', 'small-', 'and', 'medium-sized', 'technology-based', 'manufacturing', 'firms', 'in', 'korea', 'show', 'that', 'while', 'relative', 'exploration', 'generally', 'remains', 'lower', 'in', 'mature', 'firms', 'than', 'in', 'new', 'firms', ',', 'it', 'more', 'rapidly', 'increases', 'in', 'mature', 'firms', 'when', 'they', 'operate', 'in', 'adverse', 'environments', '.', 'interestingly', ',', 'our', 'results', 'show', 'that', 'mature', 'firms', 'achieve', 'lower', 'growth', 'rates', 'through', 'new', 'product', 'development', 'than', 'new', 'firms', 'in', 'adverse', 'environments', '.', 'these', 'empirical', 'findings', 'advance', 'our', 'understanding', 'of', 'the', 'age-dependent', 'antecedents', 'and', 'consequences', 'of', 'new', 'product', 'development', '.', '©', '1988-2012', 'ieee', '.', 'adverse', 'environments', ';', 'exploitation', ';', 'exploration', ';', 'firm', 'age', ';', 'firm', 'growth', ';', 'new', 'product', 'development', 'market-oriented', 'institutional', 'change', 'and', 'r', '&', 'd', 'investments', ':', 'do', 'business', 'groups', 'enhance', 'advantage', '?', 'emerging', 'market', 'firms', '(', 'emfs', ')', 'are', 'increasingly', 'relying', 'on', 'innovation', 'to', 'find', 'their', 'competitive', 'advantage', ',', 'but', 'our', 'understanding', 'of', 'how', 'institutional', 'change', 'affects', 'firm', 'innovation', 'has', 'been', 'limited', '.', 'we', 'analyzed', 'korean', 'manufacturing', 'firms', 'from', '1994', 'to', '2006', 'to', 'test', 'the', 'proposition', 'that', 'market-oriented', 'institutional', 'change', 'in', 'an', 'emerging', 'economy', 'alleviates', 'firms', \"'\", 'financing', 'constraints', 'and', 'monitoring', 'problems', 'and', 'improves', 'the', 'effectiveness', 'of', 'their', 'innovation', 'activities', '.', 'institutional', 'evolution', 'in', 'the', 'economy', 'was', 'found', 'to', 'affect', 'korean', 'business', 'groups', 'and', 'independent', 'firms', 'differently', '.', 'institutional', 'change', 'reduced', 'the', 'financing', 'constraints', 'on', 'independent', 'firms', 'more', 'than', 'for', 'business', 'group', 'affiliates', 'in', 'r', '&', 'd', 'investment', '.', 'independent', 'firms', ',', 'however', ',', 'appeared', 'less', 'capable', 'than', 'group', 'affiliates', 'of', 'translating', 'the', 'benefits', 'of', 'improved', 'institutional', 'environments', 'into', 'efficient', 'r', '&', 'd', 'investment', '.', 'this', 'asymmetry', 'may', 'lead', 'to', 'a', 'wider', 'gap', 'in', 'the', 'efficiency', 'of', 'r', '&', 'd', 'investment', 'between', 'business', 'group', 'affiliates', 'and', 'independent', 'firms', '.', '©', '2013', 'elsevier', 'inc.', 'business', 'groups', ';', 'financing', 'constraints', ';', 'governance', 'reforms', ';', 'institutional', 'change', ';', 'research', 'and', 'development', 'ownership', 'structure', ',', 'business', 'group', 'affiliation', 'and', 'r', '&', 'd', 'investments', 'existing', 'governance', 'theories', 'offer', 'contrasting', 'views', 'on', 'the', 'potential', 'effect', 'that', 'controlling', 'owners', 'have', 'on', 'a', 'firm', \"'s\", 'innovation', 'investment', 'decisions', ':', 'the', 'stewardship', 'perspective', 'suggests', 'a', 'positive', 'influence', ',', 'whereas', 'the', 'principal-principal', '(', 'pp', ')', 'conflict', 'perspective', 'posits', 'a', 'negative', 'influence', '.', 'in', 'this', 'study', ',', 'we', 'attempt', 'to', 'reconcile', 'these', 'views', '.', 'we', 'propose', 'that', 'business', 'group', 'affiliation', 'determines', 'the', 'extent', 'to', 'which', 'the', 'interests', 'of', 'controlling', 'owners', 'and', 'affiliated', 'firms', 'are', 'congruent', ',', 'and', 'may', 'motivate', 'controlling', 'owners', 'to', 'behave', 'opportunistically', '.', 'our', 'analysis', 'of', 'korean', 'companies', 'shows', 'that', 'controlling', 'owners', 'of', 'independent', 'firms', 'significantly', 'promote', 'r', '&', 'd', 'investments', ',', 'particularly', 'when', 'growth', 'opportunities', 'are', 'plentiful', '.', 'however', ',', 'the', 'relationship', 'becomes', 'much', 'weaker', 'for', 'business', 'group', 'affiliates', '.', '©', '2012', 'ieee', '.', 'business', 'group', ';', 'controlling', 'ownership', ';', 'r', '&', 'd', 'investments', 'when', 'should', 'entrepreneurs', 'expedite', 'or', 'delay', 'opportunity', 'exploitation', '?', 'we', 'theorize', 'on', 'the', 'performance', 'implications', 'of', 'the', 'timing', 'at', 'which', 'entrepreneurs', 'stop', 'exploring', 'their', 'business', 'opportunities', 'and', 'start', 'exploiting', 'them', '.', 'using', 'an', 'optimal-stopping', 'approach', ',', 'we', 'characterize', 'the', 'time', 'when', 'exploitation', 'should', 'begin', 'based', 'primarily', 'on', 'when', 'an', 'entrepreneur', \"'s\", 'ignorance', 'has', 'been', 'sufficiently', 'reduced', 'through', 'knowledge', 'accumulation', '.', 'this', '``', 'ignorance', 'threshold', \"''\", 'captures', 'a', 'tradeoff', 'between', 'the', 'time', 'needed', 'to', 'increase', 'legitimacy', 'and', 'the', 'necessity', 'to', 'act', 'now', 'to', 'minimize', 'competition', '.', 'changes', 'in', 'legitimacy', 'and', 'competition', 'are', 'based', 'on', 'how', 'entrepreneurs', 'manage', 'their', 'knowledge', '(', 'tacit', 'versus', 'explicit', ')', 'under', 'differing', 'degrees', 'of', 'novelty', 'for', 'the', 'business', 'opportunity', '.', 'these', 'changes', ',', 'in', 'turn', ',', 'impact', 'the', 'performance', 'and', 'timing', 'of', 'opportunity', 'exploitation', '.', '©', '2006', 'elsevier', 'inc.', 'all', 'rights', 'reserved', '.', 'ignorance', 'reduction', ';', 'knowledge', 'management', ';', 'opportunity', 'exploitation', ';', 'optimal', 'stopping', ';', 'timing', 'of', 'exploitation', 'the', 'influences', 'of', 'economic', 'and', 'technology', 'policy', 'on', 'the', 'dynamics', 'of', 'new', 'firm', 'formation', 'this', 'study', 'attempts', 'to', 'reveal', 'how', 'macroeconomic', 'and', 'technology', 'policies', 'that', 'encompass', 'the', 'opportunity', 'and', 'individual', 'drivers', 'of', 'entrepreneurship', 'explain', 'the', 'dynamics', 'of', 'new', 'firm', 'formation', 'in', 'a', 'country', '.', 'to', 'do', 'so', 'we', 'rely', 'on', 'the', 'schumpeterian', ',', 'industrial', 'organization', ',', 'and', 'labor', 'economics', 'traditions', 'of', 'entrepreneurship', ',', 'and', 'performed', 'an', 'exploratory', 'test', 'with', 'longitudinal', 'u.s.', 'data', 'from', '1968', 'to', '1993.', 'the', 'results', 'of', 'this', 'study', 'suggest', 'that', 'r', '&', 'd', 'investments', ',', 'patents', ',', 'economic', 'concentration', ',', 'pro-competition', 'policy', ',', 'and', 'labor', 'mobility', 'are', 'important', 'areas', 'in', 'which', 'government', 'policy', 'can', 'influence', 'the', 'intensity', 'of', 'new', 'firm', 'formation', '.', '©', 'springer', '2006.', 'entrepreneurial', 'policy', ';', 'government', ';', 'new', 'firm', 'formation', 'stakeholder', 'perceptions', 'of', 'age', 'and', 'other', 'dimensions', 'of', 'newness', 'using', 'verbal', 'protocol', 'and', 'conjoint', 'analyses', ',', 'this', 'study', 'examines', 'how', 'stakeholders', 'assess', 'an', 'organization', 'in', 'deciding', 'whether', 'to', 'provide', 'their', 'support', 'to', 'it', '.', 'the', 'authors', 'find', 'that', 'stakeholders', \"'\", 'support', 'depends', 'on', 'their', 'perceptions', 'of', 'an', 'organization', \"'s\", 'age', 'and', 'other', 'dimensions', 'of', 'newness', 'related', 'to', 'addressing', 'management', 'challenges', 'of', 'adaptation', '-', 'the', 'entrepreneurial', 'problem', ',', 'the', 'engineering', 'problem', ',', 'and', 'the', 'administrative', 'problem', '.', 'stakeholder', 'support', 'is', 'more', 'likely', 'for', 'those', 'organizations', 'that', 'are', 'old', ',', 'cognitively', 'legitimate', ',', 'affectively', 'congruent', ',', 'reliable', ',', 'accountable', ',', 'and', 'strategically', 'flexible', '.', 'the', 'authors', 'conclude', 'with', 'theoretical', 'implications', 'for', 'scholars', 'and', 'practical', 'implications', 'for', 'resource', 'acquisition', 'in', 'various', 'contexts', 'of', 'entrepreneurship', '.', '©', '2005', 'southern', 'management', 'association', '.', 'all', 'rights', 'reserved', '.', 'asset', 'of', 'newness', ';', 'entrepreneurship', ';', 'liability', 'of', 'newness', ';', 'stakeholder', 'theory', 'dynamics', 'of', 'new', 'firm', 'formation', ':', 'impacts', 'of', 'economic', 'and', 'technology', 'policy', 'this', 'study', 'investigates', 'how', 'entrepreneurial', 'policies', 'that', 'encompass', 'opportunity', ',', 'individual', ',', 'and', 'resource', 'aspects', 'of', 'entrepreneurship', 'explain', 'dynamics', 'of', 'new', 'firm', 'formation', 'in', 'a', 'country', '.', 'we', 'rely', 'on', 'the', 'schumpeterian', ',', 'industrial', 'organization', 'economics', ',', 'and', 'organizational', 'ecology', 'traditions', ',', 'and', 'performed', 'an', 'exploratory', 'test', 'with', 'a', 'longitudinal', 'u.s.', 'data', '(', '1968-1993', ')', '.', 'the', 'results', 'of', 'this', 'study', 'suggest', 'that', 'technological', 'knowledge', 'capital', ',', 'economic', 'opportunity', 'structure', ',', 'labor', 'mobility', ',', 'and', 'a', 'nation', \"'s\", 'carrying', 'capacity', 'for', 'entrepreneurial', 'activities', 'are', 'important', 'areas', 'in', 'which', 'government', 'policy', 'can', 'positively', 'influence', 'the', 'intensity', 'of', 'new', 'firm', 'formation', '.', '©', '2004', 'ieee', '.', 'entrepreneurship', ';', 'new', 'firm', ';', 'policy', 'entrepreneurs', \"'\", 'decisions', 'to', 'exploit', 'opportunities', 'opportunity', 'exploitation', 'is', 'a', 'necessary', 'step', 'in', 'creating', 'a', 'successful', 'business', 'in', 'the', 'entrepreneurial', 'process', ',', 'yet', 'there', 'has', 'been', 'little', 'conceptual', 'and', 'empirical', 'development', 'of', 'this', 'issue', 'in', 'the', 'literature', '.', 'this', 'study', 'examines', 'the', 'decisions', 'of', 'entrepreneurs', 'to', 'begin', 'exploiting', 'business', 'opportunities', 'from', 'a', 'resource-based', 'view', '.', 'our', 'analysis', 'of', 'a', 'sample', 'of', 'entrepreneurs', 'whose', 'businesses', 'are', 'located', 'in', 'incubators', 'suggests', 'that', 'entrepreneurs', 'are', 'more', 'likely', 'to', 'exploit', 'opportunities', 'when', 'they', 'perceive', 'more', 'knowledge', 'of', 'customer', 'demand', 'for', 'the', 'new', 'product', ',', 'more', 'fully', 'developed', 'necessary', 'technologies', ',', 'greater', 'managerial', 'capability', ',', 'and', 'greater', 'stakeholder', 'support', '.', 'moreover', ',', 'the', 'findings', 'of', 'this', 'study', 'shed', 'a', 'light', 'on', 'a', 'less', 'emphasized', 'aspect', 'of', 'the', 'resource-based', 'view', ':', 'the', 'new', 'product', \"'s\", 'anticipated', 'lead', 'time', 'acts', 'as', 'an', 'enhancing', 'moderator', 'in', 'entrepreneurs', \"'\", 'exploitation', 'decision', 'policies', '.', 'implications', 'for', 'future', 'research', 'on', 'opportunity', 'exploitation', 'are', 'discussed', '.', '©', '2003', 'elsevier', 'inc.', 'all', 'rights', 'reserved', '.', 'nan', 'strategic', 'types', 'and', 'performances', 'of', 'small', 'firms', 'in', 'korea', 'youngbae', 'kim', 'is', 'an', 'assistant', 'professor', 'of', 'management', 'and', 'policy', 'in', 'the', 'korea', 'advanced', 'institute', 'of', 'science', 'and', 'technology', ',', 'taejon', ',', 'south', 'korea', 'and', 'youngrok', 'choi', 'is', 'a', 'researcher', 'in', 'the', 'nuclear', 'policy', 'division', 'of', 'the', 'korea', 'atomic', 'energy', 'research', 'institute', ',', 'taejon', ',', 'korea', '.', 'this', 'study', 'attempts', 'to', 'identify', 'the', 'patterns', 'of', 'strategic', 'behaviour', 'of', 'small', 'firms', 'in', 'korea', 'in', 'conjunction', 'with', 'their', 'performance', '.', 'based', 'on', 'the', 'data', 'from', '79', 'small', 'firms', 'across', 'four', 'industries', ',', 'the', 'results', 'reveal', 'that', 'there', 'appear', 'to', 'be', 'four', 'common', 'strategic', 'attributes', 'cost', 'efficiency', ',', 'innovative', 'differentiation', ',', 'marketing', 'differentiation', ',', 'and', 'asset', 'parsimony', 'and', 'five', 'strategic', 'types', 'of', 'firms', 'which', 'have', 'distinct', 'combinations', 'of', 'these', 'strategic', 'attributes', 'innovative', ',', 'versatile', ',', 'marginal', ',', 'and', 'reactive', 'types', '.', 'each', 'type', 'of', 'firm', 'was', 'also', 'found', 'to', 'have', 'different', 'organisational', 'characteristics', 'and', 'performance', 'level', '.', 'finally', ',', 'this', 'study', 'discusses', 'the', 'comparative', 'management', 'issue', 'in', 'the', 'field', 'of', 'strategic', 'management', 'and', 'offers', 'some', 'practical', 'implications', 'for', 'managers', 'of', 'small', 'firms', '.', '©', '1994', ',', 'sage', 'publications', '.', 'all', 'rights', 'reserved', '.', 'nan'], tags=['ChoiYoungRok'])"
      ]
     },
     "execution_count": 110,
     "metadata": {},
     "output_type": "execute_result"
    }
   ],
   "source": [
    "tagged_data[0]"
   ]
  },
  {
   "cell_type": "code",
   "execution_count": 121,
   "metadata": {},
   "outputs": [
    {
     "name": "stderr",
     "output_type": "stream",
     "text": [
      "/Users/seungheondoh/anaconda3/envs/python3.6/lib/python3.6/site-packages/gensim/models/doc2vec.py:570: UserWarning: The parameter `size` is deprecated, will be removed in 4.0.0, use `vector_size` instead.\n",
      "  warnings.warn(\"The parameter `size` is deprecated, will be removed in 4.0.0, use `vector_size` instead.\")\n"
     ]
    }
   ],
   "source": [
    "max_epochs = 100\n",
    "vec_size = 5\n",
    "alpha = 0.025\n",
    "\n",
    "model = Doc2Vec(size=vec_size,\n",
    "                alpha=alpha, \n",
    "                min_alpha=0.00025,\n",
    "                min_count=1,\n",
    "                dm =1)\n",
    "  \n",
    "model.build_vocab(tagged_data)"
   ]
  },
  {
   "cell_type": "code",
   "execution_count": 124,
   "metadata": {},
   "outputs": [
    {
     "data": {
      "text/plain": [
       "['BackJoonsang']"
      ]
     },
     "execution_count": 124,
     "metadata": {},
     "output_type": "execute_result"
    }
   ],
   "source": [
    "tagged_data[150].tags"
   ]
  },
  {
   "cell_type": "code",
   "execution_count": 125,
   "metadata": {},
   "outputs": [
    {
     "name": "stderr",
     "output_type": "stream",
     "text": [
      "/Users/seungheondoh/anaconda3/envs/python3.6/lib/python3.6/site-packages/gensim/matutils.py:737: FutureWarning: Conversion of the second argument of issubdtype from `int` to `np.signedinteger` is deprecated. In future, it will be treated as `np.int64 == np.dtype(int).type`.\n",
      "  if np.issubdtype(vec.dtype, np.int):\n"
     ]
    },
    {
     "data": {
      "text/plain": [
       "[('KoSungahn', 0.9509088397026062),\n",
       " ('KwonYoungnam', 0.8869866132736206),\n",
       " ('BienFranklin', 0.8618996143341064),\n",
       " ('sonhungsun', 0.8045749068260193),\n",
       " ('leedeokjung', 0.7965001463890076),\n",
       " ('KimGuntae', 0.769905149936676),\n",
       " ('LeeMyongin', 0.750994861125946),\n",
       " ('ChoiJaehyouk', 0.7424142956733704),\n",
       " ('LeeSangYoung', 0.7418833374977112),\n",
       " ('JeongJoonwoo', 0.736617386341095)]"
      ]
     },
     "execution_count": 125,
     "metadata": {},
     "output_type": "execute_result"
    }
   ],
   "source": [
    "model.docvecs.most_similar('BackJoonsang')"
   ]
  },
  {
   "cell_type": "markdown",
   "metadata": {},
   "source": [
    "### 앞으로 할것\n",
    "\n",
    "- 단어 전처리  => 승헌\n",
    "- 모형 이해 및 파라미터 튜닝 => 승헌, 지훈\n",
    "---------\n",
    "- Keyword -> Professor 기능구현\n",
    "---------\n",
    "- word2vec, doc2vec, Evaluation을 어떻게 할것인가. = 지훈"
   ]
  },
  {
   "cell_type": "code",
   "execution_count": null,
   "metadata": {},
   "outputs": [],
   "source": []
  }
 ],
 "metadata": {
  "kernelspec": {
   "display_name": "Python 3",
   "language": "python",
   "name": "python3"
  },
  "language_info": {
   "codemirror_mode": {
    "name": "ipython",
    "version": 3
   },
   "file_extension": ".py",
   "mimetype": "text/x-python",
   "name": "python",
   "nbconvert_exporter": "python",
   "pygments_lexer": "ipython3",
   "version": "3.6.6"
  }
 },
 "nbformat": 4,
 "nbformat_minor": 2
}
